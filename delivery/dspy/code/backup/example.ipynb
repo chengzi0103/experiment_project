{
 "cells": [
  {
   "cell_type": "code",
   "id": "initial_id",
   "metadata": {
    "collapsed": true,
    "ExecuteTime": {
     "end_time": "2024-05-23T02:48:09.062228Z",
     "start_time": "2024-05-23T02:48:09.056385Z"
    }
   },
   "source": [
    "from experiment_project.utils.initial.util import init_sys_env\n",
    "from experiment_project.utils.files.read import read_yaml\n",
    "import dspy\n",
    "from dspy.teleprompt import BootstrapFewShot\n",
    "\n",
    "from dspy.datasets.gsm8k import GSM8K, gsm8k_metric\n",
    "init_sys_env()\n",
    "secret_env_file = '/mnt/d/project/dy/extra/autogen/env_secret_config.yaml'\n",
    "\n",
    "api_configs = read_yaml(secret_env_file)\n"
   ],
   "execution_count": 4,
   "outputs": []
  },
  {
   "metadata": {
    "ExecuteTime": {
     "end_time": "2024-05-23T02:48:22.812246Z",
     "start_time": "2024-05-23T02:48:10.104167Z"
    }
   },
   "cell_type": "code",
   "source": [
    "# Set up the LM\n",
    "model_config = api_configs.get('openai')\n",
    "turbo = dspy.OpenAI(model=model_config.get('model'), max_tokens=520,api_key=model_config.get('api_key'))\n",
    "dspy.settings.configure(lm=turbo)\n",
    "\n",
    "# Load math questions from the GSM8K dataset\n",
    "gsm8k = GSM8K() # GSM8K 数据集的训练部分，包含用于训练模型解决数学问题的数据。通过使用这个训练集，语言模型可以学习并提高在数学推理和问题解决方面的能力。\n",
    "gsm8k_trainset, gsm8k_devset = gsm8k.train[:10], gsm8k.dev[:10]\n",
    "gsm8k_trainset\n",
    "# gsm8k_trainset 和 gsm8k_devset 数据集包含一个示例列表，每个示例都有 question 和 answer 字段。\n",
    "\n"
   ],
   "id": "7ad0064a27abe60f",
   "execution_count": 5,
   "outputs": []
  },
  {
   "metadata": {
    "ExecuteTime": {
     "end_time": "2024-05-23T02:48:52.479072Z",
     "start_time": "2024-05-23T02:48:52.475776Z"
    }
   },
   "cell_type": "code",
   "source": "gsm8k_trainset[0]",
   "id": "8ca10a86cfab8c70",
   "execution_count": 7,
   "outputs": []
  },
  {
   "metadata": {
    "ExecuteTime": {
     "end_time": "2024-05-23T02:10:38.271979Z",
     "start_time": "2024-05-23T02:10:38.268882Z"
    }
   },
   "cell_type": "code",
   "source": [
    "# 环境设置完成后，让我们定义一个自定义程序，利用 ChainOfThought 模块执行逐步推理以生成答案：\n",
    "\n",
    "class CoT(dspy.Module):\n",
    "    def __init__(self):\n",
    "        super().__init__()\n",
    "        self.prog = dspy.ChainOfThought(\"question -> answer\")\n",
    "    \n",
    "    def forward(self, question):\n",
    "        return self.prog(question=question)\n"
   ],
   "id": "903ffaee895710de",
   "execution_count": 3,
   "outputs": []
  },
  {
   "metadata": {
    "ExecuteTime": {
     "end_time": "2024-05-21T05:37:09.647821Z",
     "start_time": "2024-05-21T05:37:09.502916Z"
    }
   },
   "cell_type": "code",
   "source": [
    "from dspy.teleprompt import BootstrapFewShot\n",
    "\n",
    "# 设置优化器：我们想要“引导”（即自生成）CoT 程序的 4 次示例。\n",
    "config = dict(max_bootstrapped_demos=4, max_labeled_demos=4)\n",
    "\n",
    "# 优化！在这里使用 `gsm8k_metric`。通常，度量标准会告诉优化器它的表现如何。\n",
    "teleprompter = BootstrapFewShot(metric=gsm8k_metric, **config)\n",
    "optimized_cot = teleprompter.compile(CoT(), trainset=gsm8k_trainset)\n"
   ],
   "id": "4ac8b27f5e36b942",
   "execution_count": 4,
   "outputs": []
  },
  {
   "metadata": {
    "ExecuteTime": {
     "end_time": "2024-05-21T05:47:46.811326Z",
     "start_time": "2024-05-21T05:47:46.787877Z"
    }
   },
   "cell_type": "code",
   "source": [
    "# 评估器（Evaluator）用于评估模型在特定数据集上的性能。通过设置评估器，可以多次评估模型，观察其在不同参数配置下的表现。\n",
    "from dspy.evaluate import Evaluate\n",
    "\n",
    "# evaluate = Evaluate(\n",
    "#     devset=gsm8k_devset,    # 评估数据集\n",
    "#     metric=gsm8k_metric,    # 评估指标\n",
    "#     num_threads=4,          # 使用的线程数\n",
    "#     display_progress=True,  # 是否显示进度\n",
    "#     display_table=0         # 是否显示评估结果表格\n",
    "# )\n",
    "# Set up the evaluator, which can be used multiple times.\n",
    "evaluate = Evaluate(devset=gsm8k_devset, metric=gsm8k_metric, num_threads=8, display_progress=True, display_table=0)\n",
    "\n",
    "# Evaluate our `optimized_cot` program.\n",
    "evaluate(optimized_cot)"
   ],
   "id": "437a5b43e0a152f7",
   "execution_count": 8,
   "outputs": []
  },
  {
   "metadata": {
    "ExecuteTime": {
     "end_time": "2024-05-21T05:49:12.428011Z",
     "start_time": "2024-05-21T05:49:12.423680Z"
    }
   },
   "cell_type": "code",
   "source": [
    "# 在 DSPy 中，turbo.inspect_history(n=1) 用于查看最近一次语言模型的生成记录。这个功能可以帮助您了解模型在生成过程中使用的提示和输出，从而有助于调试和优化提示。\n",
    "# 查看最近一次生成记录\n",
    "turbo.inspect_history(n=1)\n"
   ],
   "id": "df92b019d691a6a1",
   "execution_count": 9,
   "outputs": []
  },
  {
   "metadata": {
    "ExecuteTime": {
     "end_time": "2024-05-22T01:00:34.791081Z",
     "start_time": "2024-05-22T01:00:34.780083Z"
    }
   },
   "cell_type": "code",
   "source": "# Optimizers Evaluators",
   "id": "de8b2b10c843e1bb",
   "execution_count": 12,
   "outputs": []
  },
  {
   "metadata": {
    "ExecuteTime": {
     "end_time": "2024-05-21T05:51:18.846873Z",
     "start_time": "2024-05-21T05:51:17.132436Z"
    }
   },
   "cell_type": "code",
   "source": [
    "# 在 DSPy 中，通过提示器和自定义模块编译得到的 optimized_cot 程序可以直接用于生成答案。您可以向 optimized_cot 传递一个问题，并获取模型生成的答案。\n",
    "# 使用 optimized_cot 程序回答问题\n",
    "question = \"What is the sum of 15 and 27?\"\n",
    "answer = optimized_cot(question=question)\n",
    "answer\n"
   ],
   "id": "f865ac5811c46ef3",
   "execution_count": 10,
   "outputs": []
  },
  {
   "metadata": {},
   "cell_type": "code",
   "execution_count": null,
   "source": "",
   "id": "1dc6a1da2b0c7bbc",
   "outputs": []
  }
 ],
 "metadata": {
  "kernelspec": {
   "display_name": "Python 3",
   "language": "python",
   "name": "python3"
  },
  "language_info": {
   "codemirror_mode": {
    "name": "ipython",
    "version": 2
   },
   "file_extension": ".py",
   "mimetype": "text/x-python",
   "name": "python",
   "nbconvert_exporter": "python",
   "pygments_lexer": "ipython2",
   "version": "2.7.6"
  }
 },
 "nbformat": 4,
 "nbformat_minor": 5
}
