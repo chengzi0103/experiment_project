{
 "cells": [
  {
   "cell_type": "code",
   "id": "initial_id",
   "metadata": {
    "collapsed": true,
    "ExecuteTime": {
     "end_time": "2024-05-24T07:22:04.520617Z",
     "start_time": "2024-05-24T07:22:04.514059Z"
    }
   },
   "source": [
    "from experiment_project.utils.initial.util import init_sys_env\n",
    "from experiment_project.utils.files.read import read_yaml\n",
    "import dspy\n",
    "from dspy.teleprompt import BootstrapFewShot\n",
    "\n",
    "from dspy.datasets.gsm8k import GSM8K, gsm8k_metric\n",
    "secret_env_file = 'env_secret_config.yaml'\n",
    "\n",
    "api_configs = read_yaml(secret_env_file)\n",
    "model_config = api_configs.get('openai')\n",
    "turbo = dspy.OpenAI(model=model_config.get('model'), max_tokens=1024,api_key=model_config.get('api_key'))\n",
    "dspy.settings.configure(lm=turbo)\n"
   ],
   "outputs": [],
   "execution_count": 28
  },
  {
   "metadata": {
    "ExecuteTime": {
     "end_time": "2024-05-24T07:23:17.468823Z",
     "start_time": "2024-05-24T07:23:17.465072Z"
    }
   },
   "cell_type": "code",
   "source": [
    "# 构建训练数据集\n",
    "trainset = [\n",
    "    {\"question\": \"中国的首都是哪里？\", \"answer\": \"北京\"},\n",
    "    {\"question\": \"《红楼梦》的作者是谁？\", \"answer\": \"曹雪芹\"},\n",
    "    {\"question\": \"太阳系中最大的行星是什么？\", \"answer\": \"木星\"},\n",
    "    {\"question\": \"水的沸点是多少摄氏度？\", \"answer\": \"100度\"},\n",
    "    {\"question\": \"蒙娜丽莎的画家是谁？\", \"answer\": \"达芬奇\"},\n",
    "    {\"question\": \"最小的质数是什么？\", \"answer\": \"2\"},\n",
    "    {\"question\": \"金的化学符号是什么？\", \"answer\": \"Au\"},\n",
    "    {\"question\": \"特斯拉的CEO是谁？\", \"answer\": \"埃隆·马斯克\"},\n",
    "]\n",
    "\n",
    "# 构建验证数据集\n",
    "devset = [\n",
    "    {\"question\": \"德国的首都是哪里？\", \"answer\": \"柏林\"},\n",
    "    {\"question\": \"《1984》的作者是谁？\", \"answer\": \"乔治·奥威尔\"},\n",
    "    {\"question\": \"地球上最大的海洋是什么？\", \"answer\": \"太平洋\"},\n",
    "    {\"question\": \"水的冰点是多少摄氏度？\", \"answer\": \"0度\"},\n",
    "    {\"question\": \"《星夜》的画家是谁？\", \"answer\": \"梵高\"},\n",
    "]\n",
    "trainset = [dspy.Example(i).with_inputs('question') for i in trainset]\n",
    "devset = [dspy.Example(i).with_inputs('question') for i in devset]"
   ],
   "id": "9f97da1d690ab69",
   "outputs": [],
   "execution_count": 29
  },
  {
   "metadata": {
    "ExecuteTime": {
     "end_time": "2024-05-24T03:11:14.055644Z",
     "start_time": "2024-05-24T03:11:14.051961Z"
    }
   },
   "cell_type": "code",
   "source": [
    "# # 构建训练数据集\n",
    "# trainset = [\n",
    "#     {\n",
    "#         \"question\": \"为什么清王朝会灭亡？\",\n",
    "#         \"answer\": \"多种原因，包括内部腐败、外部侵略和农民起义。\",\n",
    "#         \"chain_of_thought\": \"清王朝在19世纪面临严重的内部腐败问题，官员贪污腐败导致国家治理能力下降。同时，外部列强的侵略使得清政府签订了一系列不平等条约，国力进一步衰弱。最后，农民起义如太平天国运动进一步动摇了清政府的统治基础，最终导致清王朝的灭亡。\"\n",
    "#     },\n",
    "#     {\n",
    "#         \"question\": \"为什么二战中德国没有胜利？\",\n",
    "#         \"answer\": \"多种原因，包括战略错误、资源不足和盟军的强大反攻。\",\n",
    "#         \"chain_of_thought\": \"德国在二战中犯了多次战略错误，如进攻苏联导致两线作战，严重消耗了德国的军力和资源。同时，德国的资源不足以支撑长期战争，特别是在盟军的海上封锁下，物资供应极为困难。最后，盟军的强大反攻，如诺曼底登陆和苏联的东线反攻，彻底击溃了德国的抵抗力量，导致德国的失败。\"\n",
    "#     },\n",
    "#     {\n",
    "#         \"question\": \"美国为什么能够赢得独立战争？\",\n",
    "#         \"answer\": \"多种原因，包括法国的支持、英国的战略失误和美国的顽强抵抗。\",\n",
    "#         \"chain_of_thought\": \"美国在独立战争中得到了法国的军事和经济支持，大大增强了其战斗力。英国在战争中的战略失误，如未能有效控制南方战场，导致其处于被动局面。同时，美国人民的顽强抵抗和对自由的渴望，使得他们在面对强敌时依然坚持不懈，最终赢得了独立战争的胜利。\"\n",
    "#     }\n",
    "# ]\n",
    "# \n",
    "# # 构建验证数据集\n",
    "# devset = [\n",
    "#     {\n",
    "#         \"question\": \"为什么法国大革命会爆发？\",\n",
    "#         \"answer\": \"多种原因，包括经济危机、社会不平等和启蒙思想的传播。\",\n",
    "#         \"chain_of_thought\": \"法国大革命的爆发有多种原因。首先，法国在18世纪末期面临严重的经济危机，政府财政赤字巨大，国家债务高企。其次，社会不平等现象严重，第三等级（包括农民和市民）承担了沉重的税负，而贵族和教士享有特权。最后，启蒙思想的传播激发了人民对自由和平等的向往，促使他们起来反抗旧制度，最终引发了法国大革命。\"\n",
    "#     },\n",
    "#     {\n",
    "#         \"question\": \"为什么罗马帝国会衰亡？\",\n",
    "#         \"answer\": \"多种原因，包括内部腐败、外部入侵和经济衰退。\",\n",
    "#         \"chain_of_thought\": \"罗马帝国的衰亡有多种原因。内部腐败是一个重要因素，官员的贪污腐败削弱了国家的治理能力。外部入侵，如日耳曼部落的入侵，加速了罗马帝国的崩溃。经济衰退也是一个重要原因，随着领土的扩张，维护庞大帝国的成本不断增加，而经济发展却停滞不前，最终导致罗马帝国的衰亡。\"\n",
    "#     }\n",
    "# ]\n",
    "# \n",
    "# trainset = [dspy.Example(i).with_inputs('question') for i in trainset]\n",
    "# devset = [dspy.Example(i).with_inputs('question') for i in devset]\n"
   ],
   "id": "22f9888690477e08",
   "outputs": [],
   "execution_count": 19
  },
  {
   "metadata": {
    "ExecuteTime": {
     "end_time": "2024-05-24T07:23:21.429078Z",
     "start_time": "2024-05-24T07:23:21.425363Z"
    }
   },
   "cell_type": "code",
   "source": "trainset[0]",
   "id": "6ca27a43898690d3",
   "outputs": [
    {
     "data": {
      "text/plain": [
       "Example({'question': '中国的首都是哪里？', 'answer': '北京'}) (input_keys={'question'})"
      ]
     },
     "execution_count": 30,
     "metadata": {},
     "output_type": "execute_result"
    }
   ],
   "execution_count": 30
  },
  {
   "metadata": {
    "ExecuteTime": {
     "end_time": "2024-05-24T07:30:43.564300Z",
     "start_time": "2024-05-24T07:30:43.561544Z"
    }
   },
   "cell_type": "code",
   "source": [
    "from dspy.evaluate import Evaluate\n",
    "\n",
    "def simple_metric(example, pred,*args,**kwargs):\n",
    "    return example['answer'].lower() == pred['answer'].lower()\n",
    "\n",
    "\n",
    "evaluate = Evaluate(devset=devset, metric=simple_metric, num_threads=8, display_progress=True, display_table=False)"
   ],
   "id": "2272c670e397d333",
   "outputs": [],
   "execution_count": 31
  },
  {
   "metadata": {
    "ExecuteTime": {
     "end_time": "2024-05-24T07:30:44.515128Z",
     "start_time": "2024-05-24T07:30:44.512182Z"
    }
   },
   "cell_type": "code",
   "source": [
    "# 环境设置完成后，让我们定义一个自定义程序，利用 ChainOfThought 模块执行逐步推理以生成答案：\n",
    "\n",
    "class CoT(dspy.Module):\n",
    "    def __init__(self):\n",
    "        super().__init__()\n",
    "        self.prog = dspy.ChainOfThought(\"question -> answer\")\n",
    "    \n",
    "    def forward(self, question):\n",
    "        return self.prog(question=question)\n"
   ],
   "id": "a9a32dce51c29b7c",
   "outputs": [],
   "execution_count": 32
  },
  {
   "metadata": {
    "ExecuteTime": {
     "end_time": "2024-05-24T07:34:12.912793Z",
     "start_time": "2024-05-24T07:34:12.901429Z"
    }
   },
   "cell_type": "code",
   "source": [
    "import dspy\n",
    "from dspy.evaluate import Evaluate\n",
    "from dspy.teleprompt import BootstrapFewShot\n",
    "\n",
    "# 使用 BootstrapFewShot 进行优化\n",
    "config = dict(max_bootstrapped_demos=4, max_labeled_demos=4)\n",
    "teleprompter = BootstrapFewShot(metric=simple_metric, **config)\n",
    "\n",
    "# 为每个训练样本设置输入值\n",
    "\n",
    "# 使用设置了输入值的训练集进行优化\n",
    "optimized_cot = teleprompter.compile(CoT(), trainset=trainset)\n",
    "optimized_cot.save('optimized_cot.json')\n",
    "\n"
   ],
   "id": "53ae472701c74fe6",
   "outputs": [
    {
     "name": "stderr",
     "output_type": "stream",
     "text": [
      " 62%|██████▎   | 5/8 [00:00<00:00, 3834.62it/s]\n"
     ]
    }
   ],
   "execution_count": 38
  },
  {
   "metadata": {
    "ExecuteTime": {
     "end_time": "2024-05-24T07:34:29.657709Z",
     "start_time": "2024-05-24T07:34:29.646298Z"
    }
   },
   "cell_type": "code",
   "source": "evaluate(optimized_cot)",
   "id": "db35429629c1703a",
   "outputs": [
    {
     "name": "stderr",
     "output_type": "stream",
     "text": [
      "Average Metric: 4 / 5  (80.0): 100%|██████████| 5/5 [00:00<00:00, 1912.41it/s]\n"
     ]
    },
    {
     "data": {
      "text/plain": [
       "80.0"
      ]
     },
     "execution_count": 39,
     "metadata": {},
     "output_type": "execute_result"
    }
   ],
   "execution_count": 39
  },
  {
   "metadata": {
    "ExecuteTime": {
     "end_time": "2024-05-24T07:34:58.797518Z",
     "start_time": "2024-05-24T07:34:58.794160Z"
    }
   },
   "cell_type": "code",
   "source": [
    "question = \"美国的金融中心是那个城市?\"\n",
    "result = optimized_cot(question=question)\n",
    "print(f\"问题: {question}\")\n",
    "print(f\"最终预测答案: {result.answer}\")\n",
    "\n"
   ],
   "id": "1f0b6a2da853c142",
   "outputs": [
    {
     "name": "stdout",
     "output_type": "stream",
     "text": [
      "问题: 美国的金融中心是那个城市?\n",
      "最终预测答案: 纽约市\n"
     ]
    }
   ],
   "execution_count": 40
  },
  {
   "metadata": {
    "ExecuteTime": {
     "end_time": "2024-05-24T09:02:20.203002Z",
     "start_time": "2024-05-24T09:02:20.199678Z"
    }
   },
   "cell_type": "code",
   "source": "turbo.history[-1]",
   "id": "e95adbdaba128f6e",
   "outputs": [
    {
     "data": {
      "text/plain": [
       "{'prompt': 'Given the fields `question`, produce the fields `answer`.\\n\\n---\\n\\nFollow the following format.\\n\\nQuestion: ${question}\\nReasoning: Let\\'s think step by step in order to ${produce the answer}. We ...\\nAnswer: ${answer}\\n\\n---\\n\\nQuestion: 中国的首都是哪里？\\nReasoning: Let\\'s think step by step in order to produce the answer. We need to identify the capital city of China. The capital city is the political, cultural, and historical center of the country. The capital of China is Beijing.\\nAnswer: 北京\\n\\n---\\n\\nQuestion: 《红楼梦》的作者是谁？\\nReasoning: Let\\'s think step by step in order to Reasoning: Let\\'s think step by step in order to produce the answer. We need to identify the author of the classic Chinese novel 《红楼梦》. This novel is one of the Four Great Classical Novels of Chinese literature and was written during the Qing dynasty. The author is widely recognized as Cao Xueqin.\\nAnswer: 曹雪芹\\n\\n---\\n\\nQuestion: 太阳系中最大的行星是什么？\\nReasoning: Let\\'s think step by step in order to produce the answer. We need to identify the largest planet in the solar system by its size and mass. The largest planet in the solar system is Jupiter, which is significantly larger than all the other planets.\\nAnswer: 木星\\n\\n---\\n\\nQuestion: 蒙娜丽莎的画家是谁？\\nReasoning: Let\\'s think step by step in order to produce the answer. We need to identify the artist who painted the famous artwork \"Mona Lisa.\" The \"Mona Lisa\" is a renowned portrait painting that was created during the Renaissance period. The artist who painted this masterpiece is Leonardo da Vinci.\\nAnswer: 达芬奇\\n\\n---\\n\\nQuestion: 美国的金融中心是那个城市?\\nReasoning: Let\\'s think step by step in order to',\n",
       " 'response': {'id': 'chatcmpl-9SJgtKJj07QPHgE3CjB2Fw4pTeUKV',\n",
       "  'choices': [{'finish_reason': 'stop',\n",
       "    'index': 0,\n",
       "    'logprobs': None,\n",
       "    'message': {'content': 'produce the answer. We need to identify the financial center of the United States. The city known as the financial hub of the U.S. is home to major financial institutions, stock exchanges, and corporate headquarters. This city is New York City, specifically the area known as Wall Street in Manhattan.\\nAnswer: 纽约市',\n",
       "     'role': 'assistant',\n",
       "     'function_call': None,\n",
       "     'tool_calls': None}}],\n",
       "  'created': 1716535903,\n",
       "  'model': 'gpt-4o-2024-05-13',\n",
       "  'object': 'chat.completion',\n",
       "  'system_fingerprint': 'fp_729ea513f7',\n",
       "  'usage': {'completion_tokens': 64,\n",
       "   'prompt_tokens': 380,\n",
       "   'total_tokens': 444}},\n",
       " 'kwargs': {'stringify_request': '{\"temperature\": 0.0, \"max_tokens\": 1024, \"top_p\": 1, \"frequency_penalty\": 0, \"presence_penalty\": 0, \"n\": 1, \"model\": \"gpt-4o\", \"messages\": [{\"role\": \"user\", \"content\": \"Given the fields `question`, produce the fields `answer`.\\\\n\\\\n---\\\\n\\\\nFollow the following format.\\\\n\\\\nQuestion: ${question}\\\\nReasoning: Let\\'s think step by step in order to ${produce the answer}. We ...\\\\nAnswer: ${answer}\\\\n\\\\n---\\\\n\\\\nQuestion: \\\\u4e2d\\\\u56fd\\\\u7684\\\\u9996\\\\u90fd\\\\u662f\\\\u54ea\\\\u91cc\\\\uff1f\\\\nReasoning: Let\\'s think step by step in order to produce the answer. We need to identify the capital city of China. The capital city is the political, cultural, and historical center of the country. The capital of China is Beijing.\\\\nAnswer: \\\\u5317\\\\u4eac\\\\n\\\\n---\\\\n\\\\nQuestion: \\\\u300a\\\\u7ea2\\\\u697c\\\\u68a6\\\\u300b\\\\u7684\\\\u4f5c\\\\u8005\\\\u662f\\\\u8c01\\\\uff1f\\\\nReasoning: Let\\'s think step by step in order to Reasoning: Let\\'s think step by step in order to produce the answer. We need to identify the author of the classic Chinese novel \\\\u300a\\\\u7ea2\\\\u697c\\\\u68a6\\\\u300b. This novel is one of the Four Great Classical Novels of Chinese literature and was written during the Qing dynasty. The author is widely recognized as Cao Xueqin.\\\\nAnswer: \\\\u66f9\\\\u96ea\\\\u82b9\\\\n\\\\n---\\\\n\\\\nQuestion: \\\\u592a\\\\u9633\\\\u7cfb\\\\u4e2d\\\\u6700\\\\u5927\\\\u7684\\\\u884c\\\\u661f\\\\u662f\\\\u4ec0\\\\u4e48\\\\uff1f\\\\nReasoning: Let\\'s think step by step in order to produce the answer. We need to identify the largest planet in the solar system by its size and mass. The largest planet in the solar system is Jupiter, which is significantly larger than all the other planets.\\\\nAnswer: \\\\u6728\\\\u661f\\\\n\\\\n---\\\\n\\\\nQuestion: \\\\u8499\\\\u5a1c\\\\u4e3d\\\\u838e\\\\u7684\\\\u753b\\\\u5bb6\\\\u662f\\\\u8c01\\\\uff1f\\\\nReasoning: Let\\'s think step by step in order to produce the answer. We need to identify the artist who painted the famous artwork \\\\\"Mona Lisa.\\\\\" The \\\\\"Mona Lisa\\\\\" is a renowned portrait painting that was created during the Renaissance period. The artist who painted this masterpiece is Leonardo da Vinci.\\\\nAnswer: \\\\u8fbe\\\\u82ac\\\\u5947\\\\n\\\\n---\\\\n\\\\nQuestion: \\\\u7f8e\\\\u56fd\\\\u7684\\\\u91d1\\\\u878d\\\\u4e2d\\\\u5fc3\\\\u662f\\\\u90a3\\\\u4e2a\\\\u57ce\\\\u5e02?\\\\nReasoning: Let\\'s think step by step in order to\"}]}'},\n",
       " 'raw_kwargs': {}}"
      ]
     },
     "execution_count": 43,
     "metadata": {},
     "output_type": "execute_result"
    }
   ],
   "execution_count": 43
  },
  {
   "metadata": {
    "ExecuteTime": {
     "end_time": "2024-05-24T09:02:25.556349Z",
     "start_time": "2024-05-24T09:02:25.552278Z"
    }
   },
   "cell_type": "code",
   "source": "turbo.inspect_history(n=1)",
   "id": "e20d43e0a0a2ca10",
   "outputs": [
    {
     "name": "stdout",
     "output_type": "stream",
     "text": [
      "\n",
      "\n",
      "\n",
      "Given the fields `question`, produce the fields `answer`.\n",
      "\n",
      "---\n",
      "\n",
      "Follow the following format.\n",
      "\n",
      "Question: ${question}\n",
      "Reasoning: Let's think step by step in order to ${produce the answer}. We ...\n",
      "Answer: ${answer}\n",
      "\n",
      "---\n",
      "\n",
      "Question: 中国的首都是哪里？\n",
      "Reasoning: Let's think step by step in order to produce the answer. We need to identify the capital city of China. The capital city is the political, cultural, and historical center of the country. The capital of China is Beijing.\n",
      "Answer: 北京\n",
      "\n",
      "---\n",
      "\n",
      "Question: 《红楼梦》的作者是谁？\n",
      "Reasoning: Let's think step by step in order to Reasoning: Let's think step by step in order to produce the answer. We need to identify the author of the classic Chinese novel 《红楼梦》. This novel is one of the Four Great Classical Novels of Chinese literature and was written during the Qing dynasty. The author is widely recognized as Cao Xueqin.\n",
      "Answer: 曹雪芹\n",
      "\n",
      "---\n",
      "\n",
      "Question: 太阳系中最大的行星是什么？\n",
      "Reasoning: Let's think step by step in order to produce the answer. We need to identify the largest planet in the solar system by its size and mass. The largest planet in the solar system is Jupiter, which is significantly larger than all the other planets.\n",
      "Answer: 木星\n",
      "\n",
      "---\n",
      "\n",
      "Question: 蒙娜丽莎的画家是谁？\n",
      "Reasoning: Let's think step by step in order to produce the answer. We need to identify the artist who painted the famous artwork \"Mona Lisa.\" The \"Mona Lisa\" is a renowned portrait painting that was created during the Renaissance period. The artist who painted this masterpiece is Leonardo da Vinci.\n",
      "Answer: 达芬奇\n",
      "\n",
      "---\n",
      "\n",
      "Question: 美国的金融中心是那个城市?\n",
      "Reasoning: Let's think step by step in order to\u001B[32m produce the answer. We need to identify the financial center of the United States. The city known as the financial hub of the U.S. is home to major financial institutions, stock exchanges, and corporate headquarters. This city is New York City, specifically the area known as Wall Street in Manhattan.\n",
      "Answer: 纽约市\u001B[0m\n",
      "\n",
      "\n",
      "\n"
     ]
    },
    {
     "data": {
      "text/plain": [
       "'\\n\\n\\nGiven the fields `question`, produce the fields `answer`.\\n\\n---\\n\\nFollow the following format.\\n\\nQuestion: ${question}\\nReasoning: Let\\'s think step by step in order to ${produce the answer}. We ...\\nAnswer: ${answer}\\n\\n---\\n\\nQuestion: 中国的首都是哪里？\\nReasoning: Let\\'s think step by step in order to produce the answer. We need to identify the capital city of China. The capital city is the political, cultural, and historical center of the country. The capital of China is Beijing.\\nAnswer: 北京\\n\\n---\\n\\nQuestion: 《红楼梦》的作者是谁？\\nReasoning: Let\\'s think step by step in order to Reasoning: Let\\'s think step by step in order to produce the answer. We need to identify the author of the classic Chinese novel 《红楼梦》. This novel is one of the Four Great Classical Novels of Chinese literature and was written during the Qing dynasty. The author is widely recognized as Cao Xueqin.\\nAnswer: 曹雪芹\\n\\n---\\n\\nQuestion: 太阳系中最大的行星是什么？\\nReasoning: Let\\'s think step by step in order to produce the answer. We need to identify the largest planet in the solar system by its size and mass. The largest planet in the solar system is Jupiter, which is significantly larger than all the other planets.\\nAnswer: 木星\\n\\n---\\n\\nQuestion: 蒙娜丽莎的画家是谁？\\nReasoning: Let\\'s think step by step in order to produce the answer. We need to identify the artist who painted the famous artwork \"Mona Lisa.\" The \"Mona Lisa\" is a renowned portrait painting that was created during the Renaissance period. The artist who painted this masterpiece is Leonardo da Vinci.\\nAnswer: 达芬奇\\n\\n---\\n\\nQuestion: 美国的金融中心是那个城市?\\nReasoning: Let\\'s think step by step in order to\\x1b[32m produce the answer. We need to identify the financial center of the United States. The city known as the financial hub of the U.S. is home to major financial institutions, stock exchanges, and corporate headquarters. This city is New York City, specifically the area known as Wall Street in Manhattan.\\nAnswer: 纽约市\\x1b[0m\\n\\n\\n'"
      ]
     },
     "execution_count": 44,
     "metadata": {},
     "output_type": "execute_result"
    }
   ],
   "execution_count": 44
  },
  {
   "metadata": {},
   "cell_type": "code",
   "source": "",
   "id": "e0d9b4e96cca2b69",
   "outputs": [],
   "execution_count": null
  }
 ],
 "metadata": {
  "kernelspec": {
   "display_name": "Python 3",
   "language": "python",
   "name": "python3"
  },
  "language_info": {
   "codemirror_mode": {
    "name": "ipython",
    "version": 2
   },
   "file_extension": ".py",
   "mimetype": "text/x-python",
   "name": "python",
   "nbconvert_exporter": "python",
   "pygments_lexer": "ipython2",
   "version": "2.7.6"
  }
 },
 "nbformat": 4,
 "nbformat_minor": 5
}
