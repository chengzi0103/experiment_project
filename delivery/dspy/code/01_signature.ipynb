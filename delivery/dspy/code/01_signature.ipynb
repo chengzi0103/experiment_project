{
 "cells": [
  {
   "cell_type": "code",
   "id": "initial_id",
   "metadata": {
    "collapsed": true,
    "ExecuteTime": {
     "end_time": "2024-05-29T06:36:22.094059Z",
     "start_time": "2024-05-29T06:36:22.087124Z"
    }
   },
   "source": "# pip install dspy-ai",
   "outputs": [],
   "execution_count": 2
  },
  {
   "metadata": {},
   "cell_type": "code",
   "outputs": [],
   "execution_count": null,
   "source": [
    "from experiment_project.utils.initial.util import init_sys_env\n",
    "from experiment_project.utils.files.read import read_yaml\n",
    "import dspy\n",
    "init_sys_env()\n",
    "secret_env_file = '/mnt/d/project/dy/extra/autogen/env_secret_config.yaml'\n",
    "\n",
    "api_configs = read_yaml(secret_env_file)\n",
    "model_config = api_configs.get('openai')\n",
    "turbo = dspy.OpenAI(model=model_config.get('model'), max_tokens=2048,api_key=model_config.get('api_key'))\n",
    "dspy.settings.configure(lm=turbo)"
   ],
   "id": "7fc8a12fa147dec7"
  },
  {
   "metadata": {
    "ExecuteTime": {
     "end_time": "2024-05-29T06:39:42.509663Z",
     "start_time": "2024-05-29T06:39:41.235918Z"
    }
   },
   "cell_type": "code",
   "source": [
    "# 最简单的提问回答案例 \n",
    "import dspy\n",
    "\n",
    "# 定义 Signature\n",
    "class BasicQA(dspy.Signature):\n",
    "    question = dspy.InputField()\n",
    "    answer = dspy.OutputField(desc=\"通常是 1 到 25 个词\", prefix=\"问题的答案是 :\")\n",
    "\n",
    "# 创建任务模块\n",
    "class QAModule(dspy.Module):\n",
    "    def __init__(self):\n",
    "        super().__init__()\n",
    "        # 使用 BasicQA Signature 定义任务\n",
    "        self.qa_task = dspy.Predict(BasicQA)\n",
    "\n",
    "    def forward(self, question):\n",
    "        # 执行任务并返回结果\n",
    "        return self.qa_task(question=question)\n",
    "\n",
    "\n",
    "# 创建 QAModule 实例\n",
    "qa_module = QAModule()\n",
    "# 定义问题\n",
    "question = \"成都最好吃的食物是什么？\"\n",
    "# 执行任务并获取答案\n",
    "response = qa_module.forward(question)\n",
    "print(response.answer)  # 输出答案，例如 \"问题的答案: 珠穆朗玛峰\"\n",
    "turbo.inspect_history(n=1)"
   ],
   "id": "1148cc3900d721ef",
   "outputs": [
    {
     "name": "stdout",
     "output_type": "stream",
     "text": [
      "问题的答案是 : 火锅和川菜。\n",
      "\n",
      "\n",
      "\n",
      "Given the fields `question`, produce the fields `answer`.\n",
      "\n",
      "---\n",
      "\n",
      "Follow the following format.\n",
      "\n",
      "Question: ${question}\n",
      "问题的答案是 : 通常是 1 到 25 个词\n",
      "\n",
      "---\n",
      "\n",
      "Question: 成都最好吃的食物是什么？\n",
      "问题的答案是 :\u001B[32m 问题的答案是 : 火锅和川菜。\u001B[0m\n",
      "\n",
      "\n",
      "\n"
     ]
    },
    {
     "data": {
      "text/plain": [
       "'\\n\\n\\nGiven the fields `question`, produce the fields `answer`.\\n\\n---\\n\\nFollow the following format.\\n\\nQuestion: ${question}\\n问题的答案是 : 通常是 1 到 25 个词\\n\\n---\\n\\nQuestion: 成都最好吃的食物是什么？\\n问题的答案是 :\\x1b[32m 问题的答案是 : 火锅和川菜。\\x1b[0m\\n\\n\\n'"
      ]
     },
     "execution_count": 3,
     "metadata": {},
     "output_type": "execute_result"
    }
   ],
   "execution_count": 3
  },
  {
   "metadata": {
    "ExecuteTime": {
     "end_time": "2024-05-29T06:46:50.631928Z",
     "start_time": "2024-05-29T06:46:49.238453Z"
    }
   },
   "cell_type": "code",
   "source": [
    "# 最简单的提问回答案例 \n",
    "import dspy\n",
    "\n",
    "# 定义 Signature\n",
    "class AddTwoNumbers(dspy.Signature):\n",
    "    a = dspy.InputField(desc=\"第一个数字\", type=str)\n",
    "    b = dspy.InputField(desc=\"第二个数字\", type=str)\n",
    "    sum = dspy.OutputField(desc=\"两个数字的和\", type=str)\n",
    "\n",
    "# 创建任务模块\n",
    "class SumTwoNumbersModule(dspy.Module):\n",
    "    def __init__(self):\n",
    "        super().__init__()\n",
    "        # 使用 BasicQA Signature 定义任务\n",
    "        self.sum_num = dspy.Predict(AddTwoNumbers)\n",
    "\n",
    "    def forward(self, a:str,b:str):\n",
    "        # 执行任务并返回结果\n",
    "        return self.sum_num(a=a,b=b)\n",
    "\n",
    "\n",
    "# 创建 QAModule 实例\n",
    "sum_nums_module = SumTwoNumbersModule()\n",
    "# 定义问题\n",
    "# 执行任务并获取答案\n",
    "response = sum_nums_module.forward(**{\"a\": str(10), \"b\": str(20)})\n",
    "print(response.sum) \n",
    "turbo.inspect_history(n=3)"
   ],
   "id": "756a5c96ed582f28",
   "outputs": [
    {
     "name": "stdout",
     "output_type": "stream",
     "text": [
      "A: 10\n",
      "B: 20\n",
      "Sum: 30\n",
      "\n",
      "\n",
      "\n",
      "Given the fields `question`, produce the fields `answer`.\n",
      "\n",
      "---\n",
      "\n",
      "Follow the following format.\n",
      "\n",
      "Question: ${question}\n",
      "问题的答案是 : 通常是 1 到 25 个词\n",
      "\n",
      "---\n",
      "\n",
      "Question: 成都最好吃的食物是什么？\n",
      "问题的答案是 :\u001B[32m 问题的答案是 : 火锅和川菜。\u001B[0m\n",
      "\n",
      "\n",
      "\n",
      "\n",
      "\n",
      "Given the fields `a`, `b`, produce the fields `sum`.\n",
      "\n",
      "---\n",
      "\n",
      "Follow the following format.\n",
      "\n",
      "A: 第一个数字\n",
      "B: 第二个数字\n",
      "Sum: 两个数字的和\n",
      "\n",
      "---\n",
      "\n",
      "A: 10\n",
      "B: 20\n",
      "Sum:\u001B[32m A: 10\n",
      "B: 20\n",
      "Sum: 30\u001B[0m\n",
      "\n",
      "\n",
      "\n"
     ]
    },
    {
     "data": {
      "text/plain": [
       "'\\n\\n\\nGiven the fields `question`, produce the fields `answer`.\\n\\n---\\n\\nFollow the following format.\\n\\nQuestion: ${question}\\n问题的答案是 : 通常是 1 到 25 个词\\n\\n---\\n\\nQuestion: 成都最好吃的食物是什么？\\n问题的答案是 :\\x1b[32m 问题的答案是 : 火锅和川菜。\\x1b[0m\\n\\n\\n\\n\\n\\nGiven the fields `a`, `b`, produce the fields `sum`.\\n\\n---\\n\\nFollow the following format.\\n\\nA: 第一个数字\\nB: 第二个数字\\nSum: 两个数字的和\\n\\n---\\n\\nA: 10\\nB: 20\\nSum:\\x1b[32m A: 10\\nB: 20\\nSum: 30\\x1b[0m\\n\\n\\n'"
      ]
     },
     "execution_count": 5,
     "metadata": {},
     "output_type": "execute_result"
    }
   ],
   "execution_count": 5
  },
  {
   "metadata": {},
   "cell_type": "code",
   "outputs": [],
   "execution_count": null,
   "source": "",
   "id": "b9d5bd97ba4458ce"
  }
 ],
 "metadata": {
  "kernelspec": {
   "display_name": "Python 3",
   "language": "python",
   "name": "python3"
  },
  "language_info": {
   "codemirror_mode": {
    "name": "ipython",
    "version": 2
   },
   "file_extension": ".py",
   "mimetype": "text/x-python",
   "name": "python",
   "nbconvert_exporter": "python",
   "pygments_lexer": "ipython2",
   "version": "2.7.6"
  }
 },
 "nbformat": 4,
 "nbformat_minor": 5
}
