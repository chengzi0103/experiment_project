{
 "cells": [
  {
   "cell_type": "code",
   "id": "initial_id",
   "metadata": {
    "collapsed": true,
    "ExecuteTime": {
     "end_time": "2024-05-30T08:39:36.727247Z",
     "start_time": "2024-05-30T08:39:33.132565Z"
    }
   },
   "source": [
    "from experiment_project.utils.initial.util import init_sys_env\n",
    "from experiment_project.utils.files.read import read_yaml\n",
    "import dspy\n",
    "# init_sys_env()\n",
    "secret_env_file = 'env_secret_config.yaml'\n",
    "\n",
    "api_configs = read_yaml(secret_env_file)\n",
    "model_config = api_configs.get('openai')\n",
    "turbo = dspy.OpenAI(model=model_config.get('model'), max_tokens=2048,api_key=model_config.get('api_key'))\n",
    "dspy.settings.configure(lm=turbo)"
   ],
   "outputs": [],
   "execution_count": 2
  },
  {
   "metadata": {
    "ExecuteTime": {
     "end_time": "2024-05-29T07:34:21.064561Z",
     "start_time": "2024-05-29T07:34:16.517726Z"
    }
   },
   "cell_type": "code",
   "source": [
    "# program of thought example\n",
    "import dspy\n",
    "\n",
    "# 定义 Signature: 输入是两个字符串表示的数字，输出是它们的和\n",
    "class AddTwoNumbers(dspy.Signature):\n",
    "    a = dspy.InputField(desc=\"第一个数字\", type=str)\n",
    "    b = dspy.InputField(desc=\"第二个数字\", type=str)\n",
    "    sum = dspy.OutputField(desc=\"两个数字的和\", type=str)\n",
    "\n",
    "# 创建 PoT 对象\n",
    "pot = dspy.ProgramOfThought(AddTwoNumbers)\n",
    "\n",
    "# 定义问题，将数字转换为字符串\n",
    "problem = {\"a\": str(10), \"b\": str(20)}  \n",
    "\n",
    "# 解决问题\n",
    "response = pot(**problem)\n",
    "\n",
    "# 打印结果\n",
    "print(response.sum)  # 输出: 30\n"
   ],
   "id": "c72fbec306836a58",
   "outputs": [
    {
     "name": "stdout",
     "output_type": "stream",
     "text": [
      "30\n"
     ]
    }
   ],
   "execution_count": 3
  },
  {
   "metadata": {
    "ExecuteTime": {
     "end_time": "2024-05-29T07:34:24.158564Z",
     "start_time": "2024-05-29T07:34:24.153180Z"
    }
   },
   "cell_type": "code",
   "source": "turbo.inspect_history(n=3)",
   "id": "4459dbf8e4751569",
   "outputs": [
    {
     "name": "stdout",
     "output_type": "stream",
     "text": [
      "\n",
      "\n",
      "\n",
      "You will be given `a`, `b` and you will respond with `sum`.\n",
      "Generating executable Python code that programmatically computes the correct `sum`.\n",
      "After you're done with the computation, make sure the last line in your code evaluates to the correct value for `sum`.\n",
      "\n",
      "---\n",
      "\n",
      "Follow the following format.\n",
      "\n",
      "A: 第一个数字\n",
      "\n",
      "B: 第二个数字\n",
      "\n",
      "Reasoning: Let's think step by step in order to ${produce the generated_code}. We ...\n",
      "\n",
      "Code: python code that answers the question\n",
      "\n",
      "---\n",
      "\n",
      "A: 10\n",
      "\n",
      "B: 20\n",
      "\n",
      "Reasoning: Let's think step by step in order to\u001B[32m Reasoning: Let's think step by step in order to produce the generated_code. We need to add the two given numbers `a` and `b` to find their sum. \n",
      "\n",
      "Code:\n",
      "```python\n",
      "a = 10\n",
      "b = 20\n",
      "sum = a + b\n",
      "sum\n",
      "```\n",
      "\n",
      "The last line evaluates to the correct value for `sum`, which is 30.\u001B[0m\n",
      "\n",
      "\n",
      "\n",
      "\n",
      "\n",
      "Given the final code `a`, `b`, `final_generated_code`, `code_output`, provide the final `sum`.\n",
      "\n",
      "---\n",
      "\n",
      "Follow the following format.\n",
      "\n",
      "A: 第一个数字\n",
      "\n",
      "B: 第二个数字\n",
      "\n",
      "Code: python code that answers the question\n",
      "\n",
      "Code Output: output of previously-generated python code\n",
      "\n",
      "Reasoning: Let's think step by step in order to ${produce the sum}. We ...\n",
      "\n",
      "Sum: 两个数字的和\n",
      "\n",
      "---\n",
      "\n",
      "A: 10\n",
      "\n",
      "B: 20\n",
      "\n",
      "Code:\n",
      "a = 10\n",
      "b = 20\n",
      "sum = a + b\n",
      "sum\n",
      "\n",
      "Code Output: <built-in function sum>\n",
      "\n",
      "Reasoning: Let's think step by step in order to\u001B[32m produce the sum. We start by assigning the value 10 to variable `a` and the value 20 to variable `b`. Then, we calculate the sum of `a` and `b` by adding them together. The result is stored in the variable `sum`.\n",
      "\n",
      "Sum: 30\u001B[0m\n",
      "\n",
      "\n",
      "\n"
     ]
    },
    {
     "data": {
      "text/plain": [
       "\"\\n\\n\\nYou will be given `a`, `b` and you will respond with `sum`.\\nGenerating executable Python code that programmatically computes the correct `sum`.\\nAfter you're done with the computation, make sure the last line in your code evaluates to the correct value for `sum`.\\n\\n---\\n\\nFollow the following format.\\n\\nA: 第一个数字\\n\\nB: 第二个数字\\n\\nReasoning: Let's think step by step in order to ${produce the generated_code}. We ...\\n\\nCode: python code that answers the question\\n\\n---\\n\\nA: 10\\n\\nB: 20\\n\\nReasoning: Let's think step by step in order to\\x1b[32m Reasoning: Let's think step by step in order to produce the generated_code. We need to add the two given numbers `a` and `b` to find their sum. \\n\\nCode:\\n```python\\na = 10\\nb = 20\\nsum = a + b\\nsum\\n```\\n\\nThe last line evaluates to the correct value for `sum`, which is 30.\\x1b[0m\\n\\n\\n\\n\\n\\nGiven the final code `a`, `b`, `final_generated_code`, `code_output`, provide the final `sum`.\\n\\n---\\n\\nFollow the following format.\\n\\nA: 第一个数字\\n\\nB: 第二个数字\\n\\nCode: python code that answers the question\\n\\nCode Output: output of previously-generated python code\\n\\nReasoning: Let's think step by step in order to ${produce the sum}. We ...\\n\\nSum: 两个数字的和\\n\\n---\\n\\nA: 10\\n\\nB: 20\\n\\nCode:\\na = 10\\nb = 20\\nsum = a + b\\nsum\\n\\nCode Output: <built-in function sum>\\n\\nReasoning: Let's think step by step in order to\\x1b[32m produce the sum. We start by assigning the value 10 to variable `a` and the value 20 to variable `b`. Then, we calculate the sum of `a` and `b` by adding them together. The result is stored in the variable `sum`.\\n\\nSum: 30\\x1b[0m\\n\\n\\n\""
      ]
     },
     "execution_count": 4,
     "metadata": {},
     "output_type": "execute_result"
    }
   ],
   "execution_count": 4
  },
  {
   "metadata": {
    "ExecuteTime": {
     "end_time": "2024-05-29T07:52:23.124341Z",
     "start_time": "2024-05-29T07:52:22.315455Z"
    }
   },
   "cell_type": "code",
   "source": [
    "# 一个搜索模块\n",
    "import dspy\n",
    "\n",
    "# 1. 选择 \"搜索引擎\":  这里使用 ColBERTv2 模型\n",
    "\n",
    "colbert = dspy.ColBERTv2(url='http://20.102.90.50:2017/wiki17_abstracts') \n",
    "dspy.settings.configure(rm=colbert)  # 配置 DSPy 使用这个模型\n",
    "\n",
    "# 2. 创建 Retrieve 对象,  指定返回 3 个结果\n",
    "retriever = dspy.Retrieve(k=4) \n",
    "\n",
    "# 3.  输入问题，获取答案\n",
    "question = \"openai是什么公司？\"\n",
    "results = retriever(question).passages  # 获取相关段落\n",
    "\n",
    "# 打印结果\n",
    "for i, passage in enumerate(results):\n",
    "    print(f\"{i+1}. {passage}\") \n"
   ],
   "id": "ba9fd34541360bab",
   "outputs": [
    {
     "name": "stdout",
     "output_type": "stream",
     "text": [
      "1. OpenAI | OpenAI is a non-profit artificial intelligence (AI) research company that aims to promote and develop friendly AI in such a way as to benefit humanity as a whole. The organization aims to \"freely collaborate\" with other institutions and researchers by making its patents and research open to the public. The founders (notably Elon Musk and Sam Altman) are motivated in part by concerns about existential risk from artificial general intelligence.\n",
      "2. Kamaitachi opening | In shogi, the Kamaitachi opening (かまいたち戦法 \"kamaitachi senpou\") or Eishun opening (英春流 \"eishun-ryuu\") is an uncommon flexible opening.\n",
      "3. Open Archives Initiative | The Open Archives Initiative (OAI) is an organization to develop and apply technical interoperability standards for archives to share catalog information (metadata). It attempts to build a \"low-barrier interoperability framework\" for archives (institutional repositories) containing digital content (digital libraries). It allows people (service providers) to harvest metadata (from data providers). This metadata is used to provide \"value-added services\", often by combining different data sets.\n",
      "4. Ilya Sutskever | Ilya Sutskever is a Computer Scientist working in Machine Learning and currently serving as the research director of OpenAI.\n"
     ]
    }
   ],
   "execution_count": 5
  },
  {
   "metadata": {},
   "cell_type": "code",
   "outputs": [],
   "execution_count": null,
   "source": [
    "\n",
    "# 定义一个用于基本问答的简单签名\n",
    "class BasicQA(dspy.Signature):\n",
    "    question = dspy.InputField()\n",
    "    answer = dspy.OutputField(desc=\"经常在1到5个单词之间\")\n",
    "\n",
    "# Pass signature to ReAct module\n",
    "react_module = dspy.ReAct(BasicQA,)\n",
    "\n",
    "# Call the ReAct module on a particular input\n",
    "question = '天空的颜色是什么？使用中文回答!'\n",
    "result = react_module(question=question)\n",
    "\n",
    "print(f\"Question: {question}\")\n",
    "print(f\"最终预测答案（经过ReAct过程后）: {result.answer}\")"
   ],
   "id": "9c7b5aed23983dc9"
  },
  {
   "metadata": {},
   "cell_type": "code",
   "outputs": [],
   "execution_count": null,
   "source": "turbo.inspect_history(n=3)\n",
   "id": "7bd30277243c48bc"
  },
  {
   "metadata": {
    "ExecuteTime": {
     "end_time": "2024-05-30T08:39:48.766244Z",
     "start_time": "2024-05-30T08:39:40.024921Z"
    }
   },
   "cell_type": "code",
   "source": [
    "# ChainOfThought example\n",
    "# 创建任务模块  \n",
    "class MathQuestion(dspy.Module):  \n",
    "    def __init__(self):  \n",
    "        super().__init__()  \n",
    "        # 使用 ChainOfThought 进行逐步推理  \n",
    "        self.think = dspy.ChainOfThought('question -> answer')  \n",
    "    def forward(self, question:str):    \n",
    "        # 组合完整解决方案  \n",
    "        return self.think(question= question)   \n",
    "  \n",
    "# 创建 MathSolver 实例  \n",
    "math_question = MathQuestion()  \n",
    "  \n",
    "# 定义问题  \n",
    "question = \"\"\"  \n",
    "现在笼子里有鸡（雉）和兔子在一起。从上面数一共有三十五个头，从下面数一共有九十四只脚，问一共有多少只鸡、多少只兔子？\n",
    "使用中文回答 \n",
    "\"\"\"  \n",
    "  \n",
    "# 解决问题  \n",
    "response = math_question.forward(question=question)  \n",
    "  \n",
    "response.answer"
   ],
   "id": "13dd3a8b241b069a",
   "outputs": [
    {
     "data": {
      "text/plain": [
       "'一共有23只鸡，12只兔子。'"
      ]
     },
     "execution_count": 3,
     "metadata": {},
     "output_type": "execute_result"
    }
   ],
   "execution_count": 3
  },
  {
   "metadata": {
    "ExecuteTime": {
     "end_time": "2024-05-30T08:40:08.434304Z",
     "start_time": "2024-05-30T08:40:08.430483Z"
    }
   },
   "cell_type": "code",
   "source": "turbo.inspect_history(n=3)",
   "id": "e1386791c3d973e1",
   "outputs": [
    {
     "name": "stdout",
     "output_type": "stream",
     "text": [
      "\n",
      "\n",
      "\n",
      "Given the fields `question`, produce the fields `answer`.\n",
      "\n",
      "---\n",
      "\n",
      "Follow the following format.\n",
      "\n",
      "Question: ${question}\n",
      "Reasoning: Let's think step by step in order to ${produce the answer}. We ...\n",
      "Answer: ${answer}\n",
      "\n",
      "---\n",
      "\n",
      "Question: 现在笼子里有鸡（雉）和兔子在一起。从上面数一共有三十五个头，从下面数一共有九十四只脚，问一共有多少只鸡、多少只兔子？ 使用中文回答\n",
      "Reasoning: Let's think step by step in order to\u001B[32m Question: 现在笼子里有鸡（雉）和兔子在一起。从上面数一共有三十五个头，从下面数一共有九十四只脚，问一共有多少只鸡、多少只兔子？ 使用中文回答\n",
      "Reasoning: Let's think step by step in order to produce the answer. We need to set up a system of equations based on the given information. \n",
      "\n",
      "1. Let \\( x \\) be the number of chickens and \\( y \\) be the number of rabbits.\n",
      "2. From the problem, we know:\n",
      "   - The total number of heads is 35: \\( x + y = 35 \\)\n",
      "   - The total number of feet is 94: \\( 2x + 4y = 94 \\)\n",
      "\n",
      "3. We can simplify the second equation by dividing everything by 2:\n",
      "   - \\( x + 2y = 47 \\)\n",
      "\n",
      "4. Now we have the system of equations:\n",
      "   - \\( x + y = 35 \\)\n",
      "   - \\( x + 2y = 47 \\)\n",
      "\n",
      "5. Subtract the first equation from the second equation to eliminate \\( x \\):\n",
      "   - \\( (x + 2y) - (x + y) = 47 - 35 \\)\n",
      "   - \\( y = 12 \\)\n",
      "\n",
      "6. Substitute \\( y = 12 \\) back into the first equation:\n",
      "   - \\( x + 12 = 35 \\)\n",
      "   - \\( x = 23 \\)\n",
      "\n",
      "Answer: 一共有23只鸡，12只兔子。\u001B[0m\n",
      "\n",
      "\n",
      "\n"
     ]
    },
    {
     "data": {
      "text/plain": [
       "\"\\n\\n\\nGiven the fields `question`, produce the fields `answer`.\\n\\n---\\n\\nFollow the following format.\\n\\nQuestion: ${question}\\nReasoning: Let's think step by step in order to ${produce the answer}. We ...\\nAnswer: ${answer}\\n\\n---\\n\\nQuestion: 现在笼子里有鸡（雉）和兔子在一起。从上面数一共有三十五个头，从下面数一共有九十四只脚，问一共有多少只鸡、多少只兔子？ 使用中文回答\\nReasoning: Let's think step by step in order to\\x1b[32m Question: 现在笼子里有鸡（雉）和兔子在一起。从上面数一共有三十五个头，从下面数一共有九十四只脚，问一共有多少只鸡、多少只兔子？ 使用中文回答\\nReasoning: Let's think step by step in order to produce the answer. We need to set up a system of equations based on the given information. \\n\\n1. Let \\\\( x \\\\) be the number of chickens and \\\\( y \\\\) be the number of rabbits.\\n2. From the problem, we know:\\n   - The total number of heads is 35: \\\\( x + y = 35 \\\\)\\n   - The total number of feet is 94: \\\\( 2x + 4y = 94 \\\\)\\n\\n3. We can simplify the second equation by dividing everything by 2:\\n   - \\\\( x + 2y = 47 \\\\)\\n\\n4. Now we have the system of equations:\\n   - \\\\( x + y = 35 \\\\)\\n   - \\\\( x + 2y = 47 \\\\)\\n\\n5. Subtract the first equation from the second equation to eliminate \\\\( x \\\\):\\n   - \\\\( (x + 2y) - (x + y) = 47 - 35 \\\\)\\n   - \\\\( y = 12 \\\\)\\n\\n6. Substitute \\\\( y = 12 \\\\) back into the first equation:\\n   - \\\\( x + 12 = 35 \\\\)\\n   - \\\\( x = 23 \\\\)\\n\\nAnswer: 一共有23只鸡，12只兔子。\\x1b[0m\\n\\n\\n\""
      ]
     },
     "execution_count": 4,
     "metadata": {},
     "output_type": "execute_result"
    }
   ],
   "execution_count": 4
  },
  {
   "metadata": {},
   "cell_type": "code",
   "outputs": [],
   "execution_count": null,
   "source": "",
   "id": "de52ff7c41858682"
  }
 ],
 "metadata": {
  "kernelspec": {
   "display_name": "Python 3",
   "language": "python",
   "name": "python3"
  },
  "language_info": {
   "codemirror_mode": {
    "name": "ipython",
    "version": 2
   },
   "file_extension": ".py",
   "mimetype": "text/x-python",
   "name": "python",
   "nbconvert_exporter": "python",
   "pygments_lexer": "ipython2",
   "version": "2.7.6"
  }
 },
 "nbformat": 4,
 "nbformat_minor": 5
}
