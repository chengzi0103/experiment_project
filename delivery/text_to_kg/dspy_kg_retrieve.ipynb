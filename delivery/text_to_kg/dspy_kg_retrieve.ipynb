{
 "cells": [
  {
   "cell_type": "code",
   "id": "initial_id",
   "metadata": {
    "collapsed": true,
    "ExecuteTime": {
     "end_time": "2024-06-04T02:42:34.579523Z",
     "start_time": "2024-06-04T02:42:32.045882Z"
    }
   },
   "source": [
    "import json\n",
    "\n",
    "from experiment_project.utils.initial.util import init_sys_env\n",
    "from experiment_project.utils.files.read import read_yaml\n",
    "from experiment_project.utils.knowledge_graph.conn import execute_cypher_statements\n",
    "from experiment_project.utils.files.split import split_txt_by_langchain\n",
    "import dspy\n",
    "from experiment_project.utils.knowledge_graph.util import generate_cypher_statements\n",
    "import os\n",
    "from dspy.teleprompt import BootstrapFewShot\n",
    "from dspy.retrieve.neo4j_rm import Neo4jRM\n",
    "import time\n",
    "from langchain.chains import GraphCypherQAChain\n",
    "from langchain.chat_models import ChatOpenAI"
   ],
   "outputs": [],
   "execution_count": 2
  },
  {
   "metadata": {
    "ExecuteTime": {
     "end_time": "2024-06-04T02:42:35.196762Z",
     "start_time": "2024-06-04T02:42:35.188084Z"
    }
   },
   "cell_type": "code",
   "source": [
    "init_sys_env(proxy_url='http://192.168.31.215:10890')\n",
    "secret_env_file = '/mnt/c/Users/chenzi/Desktop/project/env_secret_config.yaml'\n",
    "api_configs = read_yaml(secret_env_file)\n",
    "model_config = api_configs.get('openai')\n",
    "turbo = dspy.OpenAI(model=model_config.get('model'), max_tokens=3046,api_key=model_config.get('api_key'))\n",
    "# turbo = dspy.OllamaLocal(model='qwen:32b-text-v1.5-q4_0',base_url='http://192.168.0.75:11434')\n",
    "dspy.settings.configure(lm=turbo)\n",
    "\n",
    "uri = 'bolt://localhost:7687'\n",
    "user = 'cc'\n",
    "password = 'Tt66668888..'\n",
    "os.environ['NEO4J_URI'] = uri\n",
    "os.environ['NEO4J_USERNAME'] = user\n",
    "os.environ['NEO4J_PASSWORD'] = password\n",
    "os.environ['OPENAI_API_KEY'] = model_config.get('api_key')\n"
   ],
   "id": "702dc559ee8f9aa7",
   "outputs": [],
   "execution_count": 3
  },
  {
   "metadata": {
    "ExecuteTime": {
     "end_time": "2024-06-04T02:42:37.350374Z",
     "start_time": "2024-06-04T02:42:35.836555Z"
    }
   },
   "cell_type": "code",
   "source": "turbo('Hello?')",
   "id": "6a9e3e9863eb9ee8",
   "outputs": [
    {
     "data": {
      "text/plain": [
       "['Hello! How can I assist you today?']"
      ]
     },
     "execution_count": 4,
     "metadata": {},
     "output_type": "execute_result"
    }
   ],
   "execution_count": 4
  },
  {
   "metadata": {
    "ExecuteTime": {
     "end_time": "2024-06-04T02:24:46.051243Z",
     "start_time": "2024-06-04T02:24:46.047377Z"
    }
   },
   "cell_type": "code",
   "source": [
    "# retriever_model = Neo4jRM(\n",
    "#     index_name=\"test_index_book\",\n",
    "#     text_node_property=\"text\"\n",
    "# )\n",
    "# \n",
    "# results = retriever_model(\"汪淼是谁？\", k=3)\n",
    "# \n",
    "# for passage in results:\n",
    "#     print(\"Document:\", passage, \"\\n\")"
   ],
   "id": "a4291fb89ee7832e",
   "outputs": [],
   "execution_count": 3
  },
  {
   "metadata": {
    "ExecuteTime": {
     "end_time": "2024-06-04T02:42:40.397024Z",
     "start_time": "2024-06-04T02:42:40.338420Z"
    }
   },
   "cell_type": "code",
   "source": [
    "from langchain.graphs import Neo4jGraph\n",
    "\n",
    "\n",
    "\n",
    "graph = Neo4jGraph(\n",
    "    url=uri, \n",
    "    username=user, \n",
    "    password=password\n",
    ")"
   ],
   "id": "dcb74b469155b63f",
   "outputs": [],
   "execution_count": 5
  },
  {
   "metadata": {
    "ExecuteTime": {
     "end_time": "2024-06-04T02:42:46.437998Z",
     "start_time": "2024-06-04T02:42:46.158584Z"
    }
   },
   "cell_type": "code",
   "source": [
    "os.environ['OPENAI_API_KEY'] = model_config.get('api_key')\n",
    "\n",
    "# Set up the GraphCypherQAChain\n",
    "cypher_chain = GraphCypherQAChain.from_llm(\n",
    "    graph=graph,\n",
    "    cypher_llm=ChatOpenAI(temperature=0, model=model_config.get('model'), api_key=model_config.get('api_key')),\n",
    "    qa_llm=ChatOpenAI(temperature=0, model=model_config.get('model'),api_key=model_config.get('api_key')),\n",
    "    validate_cypher=True,\n",
    "    verbose=True\n",
    ")\n",
    "\n",
    "# Run the query\n",
    "\n"
   ],
   "id": "f63d43fdb7121dc2",
   "outputs": [
    {
     "name": "stderr",
     "output_type": "stream",
     "text": [
      "/home/cc/miniconda3/envs/py310/lib/python3.10/site-packages/langchain_core/_api/deprecation.py:119: LangChainDeprecationWarning: The class `ChatOpenAI` was deprecated in LangChain 0.0.10 and will be removed in 0.3.0. An updated version of the class exists in the langchain-openai package and should be used instead. To use it run `pip install -U langchain-openai` and import as `from langchain_openai import ChatOpenAI`.\n",
      "  warn_deprecated(\n"
     ]
    }
   ],
   "execution_count": 6
  },
  {
   "metadata": {
    "ExecuteTime": {
     "end_time": "2024-06-04T02:42:51.518015Z",
     "start_time": "2024-06-04T02:42:47.804656Z"
    }
   },
   "cell_type": "code",
   "source": "response = cypher_chain.run(\"汪淼是谁？\")\n",
   "id": "5aaf02df215addcb",
   "outputs": [
    {
     "name": "stderr",
     "output_type": "stream",
     "text": [
      "/home/cc/miniconda3/envs/py310/lib/python3.10/site-packages/langchain_core/_api/deprecation.py:119: LangChainDeprecationWarning: The method `Chain.run` was deprecated in langchain 0.1.0 and will be removed in 0.3.0. Use invoke instead.\n",
      "  warn_deprecated(\n"
     ]
    },
    {
     "name": "stdout",
     "output_type": "stream",
     "text": [
      "\n",
      "\n",
      "\u001B[1m> Entering new GraphCypherQAChain chain...\u001B[0m\n",
      "Generated Cypher:\n",
      "\u001B[32;1m\u001B[1;3mcypher\n",
      "MATCH (p:人物 {entity_name: '汪淼'})\n",
      "RETURN p\n",
      "\u001B[0m\n",
      "Full Context:\n",
      "\u001B[32;1m\u001B[1;3m[{'p': {'entity_type': '人物', 'entity_name': '汪淼', 'description': '科学家，故事的主要人物之一'}}, {'p': {'entity_type': '人物', 'entity_name': '汪淼', 'description': '一名著名学者，被警官询问。'}}, {'p': {'entity_type': '人物', 'entity_name': '汪淼', 'description': '被接到作战中心的一个人物。'}}, {'p': {'entity_type': '人物', 'entity_name': '汪淼', 'description': '与会者之一，研究纳米材料的教授'}}, {'p': {'entity_type': '人物', 'entity_name': '汪淼', 'description': '文本中的一个角色。'}}, {'p': {'entity_type': '人物', 'entity_name': '汪淼', 'description': '故事中的主要人物之一，对战区的术语感到迷惑。'}}]\u001B[0m\n",
      "\n",
      "\u001B[1m> Finished chain.\u001B[0m\n"
     ]
    }
   ],
   "execution_count": 7
  },
  {
   "metadata": {
    "ExecuteTime": {
     "end_time": "2024-06-04T02:43:05.124088Z",
     "start_time": "2024-06-04T02:43:05.118226Z"
    }
   },
   "cell_type": "code",
   "source": "dir(response)",
   "id": "30ea3ba9dda8a7f2",
   "outputs": [
    {
     "data": {
      "text/plain": [
       "['__add__',\n",
       " '__class__',\n",
       " '__contains__',\n",
       " '__delattr__',\n",
       " '__dir__',\n",
       " '__doc__',\n",
       " '__eq__',\n",
       " '__format__',\n",
       " '__ge__',\n",
       " '__getattribute__',\n",
       " '__getitem__',\n",
       " '__getnewargs__',\n",
       " '__gt__',\n",
       " '__hash__',\n",
       " '__init__',\n",
       " '__init_subclass__',\n",
       " '__iter__',\n",
       " '__le__',\n",
       " '__len__',\n",
       " '__lt__',\n",
       " '__mod__',\n",
       " '__mul__',\n",
       " '__ne__',\n",
       " '__new__',\n",
       " '__reduce__',\n",
       " '__reduce_ex__',\n",
       " '__repr__',\n",
       " '__rmod__',\n",
       " '__rmul__',\n",
       " '__setattr__',\n",
       " '__sizeof__',\n",
       " '__str__',\n",
       " '__subclasshook__',\n",
       " 'capitalize',\n",
       " 'casefold',\n",
       " 'center',\n",
       " 'count',\n",
       " 'encode',\n",
       " 'endswith',\n",
       " 'expandtabs',\n",
       " 'find',\n",
       " 'format',\n",
       " 'format_map',\n",
       " 'index',\n",
       " 'isalnum',\n",
       " 'isalpha',\n",
       " 'isascii',\n",
       " 'isdecimal',\n",
       " 'isdigit',\n",
       " 'isidentifier',\n",
       " 'islower',\n",
       " 'isnumeric',\n",
       " 'isprintable',\n",
       " 'isspace',\n",
       " 'istitle',\n",
       " 'isupper',\n",
       " 'join',\n",
       " 'ljust',\n",
       " 'lower',\n",
       " 'lstrip',\n",
       " 'maketrans',\n",
       " 'partition',\n",
       " 'removeprefix',\n",
       " 'removesuffix',\n",
       " 'replace',\n",
       " 'rfind',\n",
       " 'rindex',\n",
       " 'rjust',\n",
       " 'rpartition',\n",
       " 'rsplit',\n",
       " 'rstrip',\n",
       " 'split',\n",
       " 'splitlines',\n",
       " 'startswith',\n",
       " 'strip',\n",
       " 'swapcase',\n",
       " 'title',\n",
       " 'translate',\n",
       " 'upper',\n",
       " 'zfill']"
      ]
     },
     "execution_count": 8,
     "metadata": {},
     "output_type": "execute_result"
    }
   ],
   "execution_count": 8
  },
  {
   "metadata": {},
   "cell_type": "code",
   "outputs": [],
   "execution_count": null,
   "source": "",
   "id": "99c5aea4cfa95427"
  }
 ],
 "metadata": {
  "kernelspec": {
   "display_name": "Python 3",
   "language": "python",
   "name": "python3"
  },
  "language_info": {
   "codemirror_mode": {
    "name": "ipython",
    "version": 2
   },
   "file_extension": ".py",
   "mimetype": "text/x-python",
   "name": "python",
   "nbconvert_exporter": "python",
   "pygments_lexer": "ipython2",
   "version": "2.7.6"
  }
 },
 "nbformat": 4,
 "nbformat_minor": 5
}
