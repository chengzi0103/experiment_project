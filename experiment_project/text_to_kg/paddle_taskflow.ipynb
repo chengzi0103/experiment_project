{
 "cells": [
  {
   "cell_type": "code",
   "id": "initial_id",
   "metadata": {
    "collapsed": true
   },
   "source": [
    "# fast-tokenizer-python \n",
    "# python -m pip install paddlepaddle-gpu==2.6.1.post120 -f https://www.paddlepaddle.org.cn/whl/linux/mkl/avx/stable.html\n",
    "# conda install -c conda-forge gcc=12.1.0\n",
    "# paddlenlp"
   ],
   "outputs": [],
   "execution_count": null
  },
  {
   "metadata": {
    "jupyter": {
     "is_executing": true
    }
   },
   "cell_type": "code",
   "source": [
    "from pprint import pprint\n",
    "from paddlenlp import Taskflow\n",
    "import os\n",
    "os.environ['LD_LIBRARY_PATH'] ='/usr/local/lib'\n",
    "schema = [\n",
    "    \"Total GBP\",\n",
    "    \"No.\",\n",
    "    \"Date\",\n",
    "    \"Customer No.\",\n",
    "    \"Subtotal without VAT\",\n",
    "    {\n",
    "        \"Description\": [\n",
    "            \"Quantity\",\n",
    "            \"Amount\"\n",
    "        ]\n",
    "    }\n",
    "]\n",
    "ie = Taskflow('information_extraction', schema=schema,model='uie-x-base',use_fast=True)\n",
    "pprint(ie(\"2月8日上午北京冬奥会自由式滑雪女子大跳台决赛中中国选手谷爱凌以188.25分获得金牌！\")) # Better print results using pprint\n"
   ],
   "id": "f888e527fc612c66",
   "outputs": [],
   "execution_count": null
  },
  {
   "metadata": {
    "jupyter": {
     "is_executing": true
    }
   },
   "cell_type": "code",
   "source": "",
   "id": "aedd8810c66e3a4b",
   "outputs": [],
   "execution_count": null
  },
  {
   "metadata": {
    "jupyter": {
     "is_executing": true
    }
   },
   "cell_type": "code",
   "source": "",
   "id": "90deb5ba8e871910",
   "outputs": [],
   "execution_count": null
  }
 ],
 "metadata": {
  "kernelspec": {
   "display_name": "Python 3",
   "language": "python",
   "name": "python3"
  },
  "language_info": {
   "codemirror_mode": {
    "name": "ipython",
    "version": 2
   },
   "file_extension": ".py",
   "mimetype": "text/x-python",
   "name": "python",
   "nbconvert_exporter": "python",
   "pygments_lexer": "ipython2",
   "version": "2.7.6"
  }
 },
 "nbformat": 4,
 "nbformat_minor": 5
}
