{
 "cells": [
  {
   "cell_type": "markdown",
   "metadata": {},
   "source": [
    "<img src=\"../../docs/images/DSPy8.png\" alt=\"DSPy7 Image\" height=\"120\"/>\n",
    "\n",
    "### Multi-Agent DSPy Programs: Bootstrapping & Aggregating Multiple `ReAct` Agents\n",
    "\n",
    "This is a quick (somewhat advanced) example of DSPy. You're given a hard QA task and an agent architecture (`dspy.ReAct`), how do you get high scores without tinkering with prompts?\n",
    "\n",
    "There are many ways, but this notebook shows one complex strategy that DSPy makes near-trivial to achieve: we'll automatically bootstrap five different highly-effective prompts for ReAct, then optimize an aggregator that combines their powers.\n",
    "\n",
    "As is usually the case with DSPy, the code to do this is probably shorter than describing it in English, so let's jump right into that."
   ]
  },
  {
   "cell_type": "markdown",
   "metadata": {},
   "source": [
    "### 0) TLDR.\n",
    "\n",
    "We'll build a ReAct agent in DSPy that scores 30% accuracy on a retrieval-based question answering task.\n",
    "\n",
    "Then, we'll optimize it with `BootstrapFewShotWithRandomSearch` to get 46% accuracy.\n",
    "\n",
    "Then, we'll build a multi-agent aggregator over five different optimized versions of the agent.\n",
    "\n",
    "Our unoptimized aggregator will score 26%. It doesn't understand the task. Hence, we'll optimize the aggregator too.\n",
    "\n",
    "We'll end up with an optimized multi-agent system that scores a whopping 60% accuracy on the same task.\n",
    "\n",
    "The core portion of the code to do this can be fit into 10 lines of DSPy, but we'll sprinkle some short explanations below."
   ]
  },
  {
   "cell_type": "markdown",
   "metadata": {},
   "source": [
    "### 1) Setting Up.\n",
    "\n",
    "We'll configure the language model (GPT-3.5) and the retrieval model (ColBERTv2 over Wikipedia)."
   ]
  },
  {
   "cell_type": "code",
   "metadata": {
    "ExecuteTime": {
     "end_time": "2024-05-29T15:10:43.795059Z",
     "start_time": "2024-05-29T15:10:41.129996Z"
    }
   },
   "source": [
    "from dspy.evaluate import Evaluate\n",
    "from dspy.datasets.hotpotqa import HotPotQA\n",
    "from dspy.teleprompt import BootstrapFewShotWithRandomSearch\n",
    "from experiment_project.utils.initial.util import init_sys_env\n",
    "from experiment_project.utils.files.read import read_yaml\n",
    "import dspy\n",
    "\n",
    "init_sys_env(proxy_url='http://192.168.31.215:10890')\n",
    "secret_env_file = '/mnt/c/Users/chenzi/Desktop/project/experiment_project/env_secret_config.yaml'\n",
    "\n",
    "api_configs = read_yaml(secret_env_file)\n",
    "model_config = api_configs.get('openai')\n",
    "\n",
    "turbo = dspy.OpenAI(model=model_config.get('model'), max_tokens=520,api_key=model_config.get('api_key'))\n",
    "colbert = dspy.ColBERTv2(url='http://20.102.90.50:2017/wiki17_abstracts')\n",
    "dspy.configure(lm=turbo, rm=colbert)"
   ],
   "outputs": [],
   "execution_count": 1
  },
  {
   "cell_type": "markdown",
   "metadata": {},
   "source": [
    "### 2) Loading some data.\n",
    "We'll load 150 examples for training (`trainset`), 50 examples for validation & optimization (`valset`), and 300 examples for evaluation (`devset`)."
   ]
  },
  {
   "cell_type": "code",
   "metadata": {
    "ExecuteTime": {
     "end_time": "2024-05-29T15:16:19.071823Z",
     "start_time": "2024-05-29T15:10:48.087717Z"
    }
   },
   "source": [
    "dataset = HotPotQA(train_seed=1, train_size=200, eval_seed=2023, dev_size=300, test_size=0)\n",
    "trainset = [x.with_inputs('question') for x in dataset.train[0:150]]\n",
    "valset = [x.with_inputs('question') for x in dataset.train[150:200]]\n",
    "devset = [x.with_inputs('question') for x in dataset.dev]\n",
    "\n",
    "# show an example datapoint; it's just a question-answer pair\n",
    "trainset[0]\n",
    "# Example({'question': '《在我的窗前》是由哪位美国创作歌手发行的？', 'answer': '约翰·汤斯·范·赞德'}) (input_keys={'question'})"
   ],
   "outputs": [
    {
     "data": {
      "text/plain": [
       "Downloading builder script:   0%|          | 0.00/6.42k [00:00<?, ?B/s]"
      ],
      "application/vnd.jupyter.widget-view+json": {
       "version_major": 2,
       "version_minor": 0,
       "model_id": "bf1bec77bb9243c0a421ac20e7f28ac2"
      }
     },
     "metadata": {},
     "output_type": "display_data"
    },
    {
     "data": {
      "text/plain": [
       "Downloading readme:   0%|          | 0.00/9.19k [00:00<?, ?B/s]"
      ],
      "application/vnd.jupyter.widget-view+json": {
       "version_major": 2,
       "version_minor": 0,
       "model_id": "10cf74d61dfb45d08313e382f478e551"
      }
     },
     "metadata": {},
     "output_type": "display_data"
    },
    {
     "data": {
      "text/plain": [
       "Downloading data files:   0%|          | 0/3 [00:00<?, ?it/s]"
      ],
      "application/vnd.jupyter.widget-view+json": {
       "version_major": 2,
       "version_minor": 0,
       "model_id": "b92b2b21392c4d28a205d19e0a6f45fa"
      }
     },
     "metadata": {},
     "output_type": "display_data"
    },
    {
     "data": {
      "text/plain": [
       "Downloading data:   0%|          | 0.00/566M [00:00<?, ?B/s]"
      ],
      "application/vnd.jupyter.widget-view+json": {
       "version_major": 2,
       "version_minor": 0,
       "model_id": "17fc4e7364834f0aa903654244a65362"
      }
     },
     "metadata": {},
     "output_type": "display_data"
    },
    {
     "data": {
      "text/plain": [
       "Downloading data:   0%|          | 0.00/47.5M [00:00<?, ?B/s]"
      ],
      "application/vnd.jupyter.widget-view+json": {
       "version_major": 2,
       "version_minor": 0,
       "model_id": "78339c7e66544f1ba9ef740de989d63f"
      }
     },
     "metadata": {},
     "output_type": "display_data"
    },
    {
     "data": {
      "text/plain": [
       "Downloading data:   0%|          | 0.00/46.2M [00:00<?, ?B/s]"
      ],
      "application/vnd.jupyter.widget-view+json": {
       "version_major": 2,
       "version_minor": 0,
       "model_id": "c7b59cfcf8584b2a8c9c46551f8bca34"
      }
     },
     "metadata": {},
     "output_type": "display_data"
    },
    {
     "data": {
      "text/plain": [
       "Generating train split:   0%|          | 0/90447 [00:00<?, ? examples/s]"
      ],
      "application/vnd.jupyter.widget-view+json": {
       "version_major": 2,
       "version_minor": 0,
       "model_id": "884e2f0460a9418da25964be3aa7c7ce"
      }
     },
     "metadata": {},
     "output_type": "display_data"
    },
    {
     "data": {
      "text/plain": [
       "Generating validation split:   0%|          | 0/7405 [00:00<?, ? examples/s]"
      ],
      "application/vnd.jupyter.widget-view+json": {
       "version_major": 2,
       "version_minor": 0,
       "model_id": "30fbc80963a341db975431a2dfa0c674"
      }
     },
     "metadata": {},
     "output_type": "display_data"
    },
    {
     "data": {
      "text/plain": [
       "Generating test split:   0%|          | 0/7405 [00:00<?, ? examples/s]"
      ],
      "application/vnd.jupyter.widget-view+json": {
       "version_major": 2,
       "version_minor": 0,
       "model_id": "8284d4cd7cc34561a369c0aa2d2c7205"
      }
     },
     "metadata": {},
     "output_type": "display_data"
    },
    {
     "name": "stderr",
     "output_type": "stream",
     "text": [
      "/home/cc/miniconda3/envs/py310/lib/python3.10/site-packages/datasets/table.py:1421: FutureWarning: promote has been superseded by promote_options='default'.\n",
      "  table = cls._concat_blocks(blocks, axis=0)\n"
     ]
    },
    {
     "data": {
      "text/plain": [
       "Example({'question': 'At My Window was released by which American singer-songwriter?', 'answer': 'John Townes Van Zandt'}) (input_keys={'question'})"
      ]
     },
     "execution_count": 2,
     "metadata": {},
     "output_type": "execute_result"
    }
   ],
   "execution_count": 2
  },
  {
   "cell_type": "markdown",
   "metadata": {},
   "source": [
    "### 3) ReAct Agent.\n",
    "\n",
    "Our agent will just be a DSPy ReAct agent that takes a `question` and outputs the `answer` by using a ColBERTv2 retrieval tool.\n",
    "我们的代理将只是一个DSPy ReAct代理，它通过使用ColBERTv2检索工具获取 `question` 并输出 `answer`。"
   ]
  },
  {
   "cell_type": "code",
   "metadata": {
    "ExecuteTime": {
     "end_time": "2024-05-29T15:22:12.696125Z",
     "start_time": "2024-05-29T15:22:12.682690Z"
    }
   },
   "source": [
    "agent = dspy.ReAct(\"question -> answer\", tools=[dspy.Retrieve(k=1)])"
   ],
   "outputs": [],
   "execution_count": 3
  },
  {
   "cell_type": "markdown",
   "metadata": {},
   "source": [
    "Let's evaluate this **unoptimized** ReAct agent on the `devset`.\n",
    "---- 让我们在`devset`上评估这个未优化的ReAct代理。"
   ]
  },
  {
   "cell_type": "code",
   "metadata": {
    "ExecuteTime": {
     "end_time": "2024-05-29T15:28:34.497555Z",
     "start_time": "2024-05-29T15:28:26.164383Z"
    }
   },
   "source": [
    "# Set up an evaluator on the first 300 examples of the devset. 在开发集的前300个示例上设置评估器。\n",
    "config = dict(num_threads=10, display_progress=True, display_table=5)\n",
    "evaluate = Evaluate(devset=devset, metric=dspy.evaluate.answer_exact_match, **config)\n",
    "\n",
    "evaluate(agent)"
   ],
   "outputs": [
    {
     "name": "stdout",
     "output_type": "stream",
     "text": [
      "Error for example in dev set: \t\t not enough values to unpack (expected 2, got 1)\n",
      "Error for example in dev set: \t\t not enough values to unpack (expected 2, got 1)\n"
     ]
    },
    {
     "name": "stderr",
     "output_type": "stream",
     "text": [
      "Average Metric: 10.0 / 109  (9.2):  36%|███▋      | 109/300 [06:11<10:50,  3.40s/it]"
     ]
    },
    {
     "name": "stdout",
     "output_type": "stream",
     "text": [
      "Error for example in dev set: \t\t not enough values to unpack (expected 2, got 1)\n",
      "Error for example in dev set: \t\t not enough values to unpack (expected 2, got 1)\n"
     ]
    },
    {
     "name": "stderr",
     "output_type": "stream",
     "text": [
      "\n",
      "\n",
      "  0%|          | 0/300 [00:00<?, ?it/s]\u001B[A\n",
      "Average Metric: 0 / 1  (0.0):   0%|          | 0/300 [00:00<?, ?it/s]\u001B[A\n",
      "Average Metric: 0 / 2  (0.0):   0%|          | 1/300 [00:00<00:00, 415.28it/s]\u001B[A\n",
      "Average Metric: 0 / 3  (0.0):   1%|          | 2/300 [00:00<00:00, 518.17it/s]\u001B[A\n",
      "Average Metric: 0 / 4  (0.0):   1%|          | 3/300 [00:00<00:00, 565.57it/s]\u001B[A\n",
      "Average Metric: 0 / 5  (0.0):   1%|▏         | 4/300 [00:00<00:00, 585.37it/s]\u001B[A\n",
      "Average Metric: 0 / 6  (0.0):   2%|▏         | 5/300 [00:00<00:00, 579.85it/s]\u001B[A\n",
      "Average Metric: 0 / 7  (0.0):   2%|▏         | 6/300 [00:00<00:00, 592.74it/s]\u001B[A\n",
      "Average Metric: 0 / 8  (0.0):   2%|▏         | 7/300 [00:00<00:00, 602.33it/s]\u001B[A\n",
      "Average Metric: 0 / 9  (0.0):   3%|▎         | 8/300 [00:00<00:00, 603.61it/s]\u001B[A\n",
      "Average Metric: 1 / 10  (10.0):   3%|▎         | 9/300 [00:00<00:00, 617.46it/s]\u001B[A\n",
      "Average Metric: 1 / 11  (9.1):   3%|▎         | 10/300 [00:00<00:00, 625.20it/s]\u001B[A\n",
      "Average Metric: 1 / 12  (8.3):   4%|▎         | 11/300 [00:00<00:00, 446.30it/s]\u001B[A\n",
      "Average Metric: 2 / 13  (15.4):   4%|▍         | 12/300 [00:00<00:00, 456.43it/s]\u001B[A\n",
      "Average Metric: 2 / 14  (14.3):   4%|▍         | 13/300 [00:00<00:00, 445.11it/s]\u001B[A\n",
      "Average Metric: 2 / 15  (13.3):   5%|▍         | 14/300 [00:00<00:00, 457.70it/s]\u001B[A\n",
      "Average Metric: 2 / 16  (12.5):   5%|▌         | 15/300 [00:00<00:00, 465.41it/s]\u001B[A\n",
      "Average Metric: 2 / 17  (11.8):   5%|▌         | 16/300 [00:00<00:00, 474.16it/s]\u001B[A\n",
      "Average Metric: 2 / 18  (11.1):   6%|▌         | 17/300 [00:00<00:00, 482.24it/s]\u001B[A\n",
      "Average Metric: 2 / 19  (10.5):   6%|▌         | 18/300 [00:00<00:00, 489.99it/s]\u001B[A\n",
      "Average Metric: 3 / 20  (15.0):   6%|▋         | 19/300 [00:00<00:00, 496.39it/s]\u001B[A\n",
      "Average Metric: 3 / 21  (14.3):   7%|▋         | 20/300 [00:00<00:00, 500.33it/s]\u001B[A\n",
      "Average Metric: 3 / 22  (13.6):   7%|▋         | 21/300 [00:00<00:00, 503.06it/s]\u001B[A\n",
      "Average Metric: 3 / 23  (13.0):   7%|▋         | 22/300 [00:00<00:00, 507.56it/s]\u001B[A\n",
      "Average Metric: 3 / 24  (12.5):   8%|▊         | 23/300 [00:00<00:00, 512.29it/s]\u001B[A\n",
      "Average Metric: 3 / 25  (12.0):   8%|▊         | 24/300 [00:00<00:00, 515.83it/s]\u001B[A\n",
      "Average Metric: 3 / 26  (11.5):   8%|▊         | 25/300 [00:00<00:00, 516.32it/s]\u001B[A\n",
      "Average Metric: 3 / 27  (11.1):   9%|▊         | 26/300 [00:00<00:00, 519.70it/s]\u001B[A\n",
      "Average Metric: 3 / 28  (10.7):   9%|▉         | 27/300 [00:00<00:00, 489.83it/s]\u001B[A\n",
      "Average Metric: 3 / 29  (10.3):   9%|▉         | 28/300 [00:00<00:00, 494.40it/s]\u001B[A"
     ]
    },
    {
     "ename": "ValueError",
     "evalue": "not enough values to unpack (expected 2, got 1)",
     "output_type": "error",
     "traceback": [
      "\u001B[0;31m---------------------------------------------------------------------------\u001B[0m",
      "\u001B[0;31mValueError\u001B[0m                                Traceback (most recent call last)",
      "Cell \u001B[0;32mIn[5], line 5\u001B[0m\n\u001B[1;32m      2\u001B[0m config \u001B[38;5;241m=\u001B[39m \u001B[38;5;28mdict\u001B[39m(num_threads\u001B[38;5;241m=\u001B[39m\u001B[38;5;241m10\u001B[39m, display_progress\u001B[38;5;241m=\u001B[39m\u001B[38;5;28;01mTrue\u001B[39;00m, display_table\u001B[38;5;241m=\u001B[39m\u001B[38;5;241m5\u001B[39m)\n\u001B[1;32m      3\u001B[0m evaluate \u001B[38;5;241m=\u001B[39m Evaluate(devset\u001B[38;5;241m=\u001B[39mdevset, metric\u001B[38;5;241m=\u001B[39mdspy\u001B[38;5;241m.\u001B[39mevaluate\u001B[38;5;241m.\u001B[39manswer_exact_match, \u001B[38;5;241m*\u001B[39m\u001B[38;5;241m*\u001B[39mconfig)\n\u001B[0;32m----> 5\u001B[0m \u001B[43mevaluate\u001B[49m\u001B[43m(\u001B[49m\u001B[43magent\u001B[49m\u001B[43m)\u001B[49m\n",
      "File \u001B[0;32m~/miniconda3/envs/py310/lib/python3.10/site-packages/dspy/evaluate/evaluate.py:163\u001B[0m, in \u001B[0;36mEvaluate.__call__\u001B[0;34m(self, program, metric, devset, num_threads, display_progress, display_table, display, return_all_scores, return_outputs)\u001B[0m\n\u001B[1;32m    160\u001B[0m     reordered_devset, ncorrect, ntotal \u001B[38;5;241m=\u001B[39m \u001B[38;5;28mself\u001B[39m\u001B[38;5;241m.\u001B[39m_execute_single_thread(\n\u001B[1;32m    161\u001B[0m         wrapped_program, devset, display_progress)\n\u001B[1;32m    162\u001B[0m \u001B[38;5;28;01melse\u001B[39;00m:\n\u001B[0;32m--> 163\u001B[0m     reordered_devset, ncorrect, ntotal \u001B[38;5;241m=\u001B[39m \u001B[38;5;28;43mself\u001B[39;49m\u001B[38;5;241;43m.\u001B[39;49m\u001B[43m_execute_multi_thread\u001B[49m\u001B[43m(\u001B[49m\n\u001B[1;32m    164\u001B[0m \u001B[43m        \u001B[49m\u001B[43mwrapped_program\u001B[49m\u001B[43m,\u001B[49m\n\u001B[1;32m    165\u001B[0m \u001B[43m        \u001B[49m\u001B[43mdevset\u001B[49m\u001B[43m,\u001B[49m\n\u001B[1;32m    166\u001B[0m \u001B[43m        \u001B[49m\u001B[43mnum_threads\u001B[49m\u001B[43m,\u001B[49m\n\u001B[1;32m    167\u001B[0m \u001B[43m        \u001B[49m\u001B[43mdisplay_progress\u001B[49m\u001B[43m,\u001B[49m\n\u001B[1;32m    168\u001B[0m \u001B[43m    \u001B[49m\u001B[43m)\u001B[49m\n\u001B[1;32m    169\u001B[0m \u001B[38;5;28;01mif\u001B[39;00m return_outputs:  \u001B[38;5;66;03m# Handle the return_outputs logic\u001B[39;00m\n\u001B[1;32m    170\u001B[0m     results \u001B[38;5;241m=\u001B[39m [(example, prediction, score)\n\u001B[1;32m    171\u001B[0m                \u001B[38;5;28;01mfor\u001B[39;00m _, example, prediction, score \u001B[38;5;129;01min\u001B[39;00m reordered_devset]\n",
      "File \u001B[0;32m~/miniconda3/envs/py310/lib/python3.10/site-packages/dspy/evaluate/evaluate.py:82\u001B[0m, in \u001B[0;36mEvaluate._execute_multi_thread\u001B[0;34m(self, wrapped_program, devset, num_threads, display_progress)\u001B[0m\n\u001B[1;32m     78\u001B[0m pbar \u001B[38;5;241m=\u001B[39m tqdm\u001B[38;5;241m.\u001B[39mtqdm(total\u001B[38;5;241m=\u001B[39m\u001B[38;5;28mlen\u001B[39m(devset), dynamic_ncols\u001B[38;5;241m=\u001B[39m\u001B[38;5;28;01mTrue\u001B[39;00m,\n\u001B[1;32m     79\u001B[0m                  disable\u001B[38;5;241m=\u001B[39m\u001B[38;5;129;01mnot\u001B[39;00m display_progress)\n\u001B[1;32m     81\u001B[0m \u001B[38;5;28;01mfor\u001B[39;00m future \u001B[38;5;129;01min\u001B[39;00m as_completed(futures):\n\u001B[0;32m---> 82\u001B[0m     example_idx, example, prediction, score \u001B[38;5;241m=\u001B[39m \u001B[43mfuture\u001B[49m\u001B[38;5;241;43m.\u001B[39;49m\u001B[43mresult\u001B[49m\u001B[43m(\u001B[49m\u001B[43m)\u001B[49m\n\u001B[1;32m     83\u001B[0m     reordered_devset\u001B[38;5;241m.\u001B[39mappend(\n\u001B[1;32m     84\u001B[0m         (example_idx, example, prediction, score))\n\u001B[1;32m     85\u001B[0m     ncorrect \u001B[38;5;241m+\u001B[39m\u001B[38;5;241m=\u001B[39m score\n",
      "File \u001B[0;32m~/miniconda3/envs/py310/lib/python3.10/concurrent/futures/_base.py:451\u001B[0m, in \u001B[0;36mFuture.result\u001B[0;34m(self, timeout)\u001B[0m\n\u001B[1;32m    449\u001B[0m     \u001B[38;5;28;01mraise\u001B[39;00m CancelledError()\n\u001B[1;32m    450\u001B[0m \u001B[38;5;28;01melif\u001B[39;00m \u001B[38;5;28mself\u001B[39m\u001B[38;5;241m.\u001B[39m_state \u001B[38;5;241m==\u001B[39m FINISHED:\n\u001B[0;32m--> 451\u001B[0m     \u001B[38;5;28;01mreturn\u001B[39;00m \u001B[38;5;28;43mself\u001B[39;49m\u001B[38;5;241;43m.\u001B[39;49m\u001B[43m__get_result\u001B[49m\u001B[43m(\u001B[49m\u001B[43m)\u001B[49m\n\u001B[1;32m    453\u001B[0m \u001B[38;5;28mself\u001B[39m\u001B[38;5;241m.\u001B[39m_condition\u001B[38;5;241m.\u001B[39mwait(timeout)\n\u001B[1;32m    455\u001B[0m \u001B[38;5;28;01mif\u001B[39;00m \u001B[38;5;28mself\u001B[39m\u001B[38;5;241m.\u001B[39m_state \u001B[38;5;129;01min\u001B[39;00m [CANCELLED, CANCELLED_AND_NOTIFIED]:\n",
      "File \u001B[0;32m~/miniconda3/envs/py310/lib/python3.10/concurrent/futures/_base.py:403\u001B[0m, in \u001B[0;36mFuture.__get_result\u001B[0;34m(self)\u001B[0m\n\u001B[1;32m    401\u001B[0m \u001B[38;5;28;01mif\u001B[39;00m \u001B[38;5;28mself\u001B[39m\u001B[38;5;241m.\u001B[39m_exception:\n\u001B[1;32m    402\u001B[0m     \u001B[38;5;28;01mtry\u001B[39;00m:\n\u001B[0;32m--> 403\u001B[0m         \u001B[38;5;28;01mraise\u001B[39;00m \u001B[38;5;28mself\u001B[39m\u001B[38;5;241m.\u001B[39m_exception\n\u001B[1;32m    404\u001B[0m     \u001B[38;5;28;01mfinally\u001B[39;00m:\n\u001B[1;32m    405\u001B[0m         \u001B[38;5;66;03m# Break a reference cycle with the exception in self._exception\u001B[39;00m\n\u001B[1;32m    406\u001B[0m         \u001B[38;5;28mself\u001B[39m \u001B[38;5;241m=\u001B[39m \u001B[38;5;28;01mNone\u001B[39;00m\n",
      "File \u001B[0;32m~/miniconda3/envs/py310/lib/python3.10/concurrent/futures/thread.py:58\u001B[0m, in \u001B[0;36m_WorkItem.run\u001B[0;34m(self)\u001B[0m\n\u001B[1;32m     55\u001B[0m     \u001B[38;5;28;01mreturn\u001B[39;00m\n\u001B[1;32m     57\u001B[0m \u001B[38;5;28;01mtry\u001B[39;00m:\n\u001B[0;32m---> 58\u001B[0m     result \u001B[38;5;241m=\u001B[39m \u001B[38;5;28;43mself\u001B[39;49m\u001B[38;5;241;43m.\u001B[39;49m\u001B[43mfn\u001B[49m\u001B[43m(\u001B[49m\u001B[38;5;241;43m*\u001B[39;49m\u001B[38;5;28;43mself\u001B[39;49m\u001B[38;5;241;43m.\u001B[39;49m\u001B[43margs\u001B[49m\u001B[43m,\u001B[49m\u001B[43m \u001B[49m\u001B[38;5;241;43m*\u001B[39;49m\u001B[38;5;241;43m*\u001B[39;49m\u001B[38;5;28;43mself\u001B[39;49m\u001B[38;5;241;43m.\u001B[39;49m\u001B[43mkwargs\u001B[49m\u001B[43m)\u001B[49m\n\u001B[1;32m     59\u001B[0m \u001B[38;5;28;01mexcept\u001B[39;00m \u001B[38;5;167;01mBaseException\u001B[39;00m \u001B[38;5;28;01mas\u001B[39;00m exc:\n\u001B[1;32m     60\u001B[0m     \u001B[38;5;28mself\u001B[39m\u001B[38;5;241m.\u001B[39mfuture\u001B[38;5;241m.\u001B[39mset_exception(exc)\n",
      "File \u001B[0;32m~/miniconda3/envs/py310/lib/python3.10/site-packages/dspy/evaluate/evaluate.py:150\u001B[0m, in \u001B[0;36mEvaluate.__call__.<locals>.wrapped_program\u001B[0;34m(example_idx, example)\u001B[0m\n\u001B[1;32m    148\u001B[0m     current_error_count \u001B[38;5;241m=\u001B[39m \u001B[38;5;28mself\u001B[39m\u001B[38;5;241m.\u001B[39merror_count\n\u001B[1;32m    149\u001B[0m \u001B[38;5;28;01mif\u001B[39;00m current_error_count \u001B[38;5;241m>\u001B[39m\u001B[38;5;241m=\u001B[39m \u001B[38;5;28mself\u001B[39m\u001B[38;5;241m.\u001B[39mmax_errors:\n\u001B[0;32m--> 150\u001B[0m     \u001B[38;5;28;01mraise\u001B[39;00m e\n\u001B[1;32m    151\u001B[0m \u001B[38;5;28mprint\u001B[39m(\u001B[38;5;124mf\u001B[39m\u001B[38;5;124m\"\u001B[39m\u001B[38;5;124mError for example in dev set: \u001B[39m\u001B[38;5;130;01m\\t\u001B[39;00m\u001B[38;5;130;01m\\t\u001B[39;00m\u001B[38;5;124m \u001B[39m\u001B[38;5;132;01m{\u001B[39;00me\u001B[38;5;132;01m}\u001B[39;00m\u001B[38;5;124m\"\u001B[39m)\n\u001B[1;32m    152\u001B[0m \u001B[38;5;28;01mreturn\u001B[39;00m example_idx, example, \u001B[38;5;28mdict\u001B[39m(), \u001B[38;5;241m0.0\u001B[39m\n",
      "File \u001B[0;32m~/miniconda3/envs/py310/lib/python3.10/site-packages/dspy/evaluate/evaluate.py:132\u001B[0m, in \u001B[0;36mEvaluate.__call__.<locals>.wrapped_program\u001B[0;34m(example_idx, example)\u001B[0m\n\u001B[1;32m    127\u001B[0m     \u001B[38;5;66;03m# print(threading.get_ident(), dsp.settings.stack_by_thread[threading.get_ident()])\u001B[39;00m\n\u001B[1;32m    128\u001B[0m \n\u001B[1;32m    129\u001B[0m \u001B[38;5;66;03m# print(type(example), example)\u001B[39;00m\n\u001B[1;32m    131\u001B[0m \u001B[38;5;28;01mtry\u001B[39;00m:\n\u001B[0;32m--> 132\u001B[0m     prediction \u001B[38;5;241m=\u001B[39m \u001B[43mprogram\u001B[49m\u001B[43m(\u001B[49m\u001B[38;5;241;43m*\u001B[39;49m\u001B[38;5;241;43m*\u001B[39;49m\u001B[43mexample\u001B[49m\u001B[38;5;241;43m.\u001B[39;49m\u001B[43minputs\u001B[49m\u001B[43m(\u001B[49m\u001B[43m)\u001B[49m\u001B[43m)\u001B[49m\n\u001B[1;32m    133\u001B[0m     score \u001B[38;5;241m=\u001B[39m metric(\n\u001B[1;32m    134\u001B[0m         example,\n\u001B[1;32m    135\u001B[0m         prediction,\n\u001B[1;32m    136\u001B[0m     )  \u001B[38;5;66;03m# FIXME: TODO: What's the right order? Maybe force name-based kwargs!\u001B[39;00m\n\u001B[1;32m    138\u001B[0m     \u001B[38;5;66;03m# increment assert and suggest failures to program's attributes\u001B[39;00m\n",
      "File \u001B[0;32m~/miniconda3/envs/py310/lib/python3.10/site-packages/dspy/primitives/program.py:26\u001B[0m, in \u001B[0;36mModule.__call__\u001B[0;34m(self, *args, **kwargs)\u001B[0m\n\u001B[1;32m     25\u001B[0m \u001B[38;5;28;01mdef\u001B[39;00m \u001B[38;5;21m__call__\u001B[39m(\u001B[38;5;28mself\u001B[39m, \u001B[38;5;241m*\u001B[39margs, \u001B[38;5;241m*\u001B[39m\u001B[38;5;241m*\u001B[39mkwargs):\n\u001B[0;32m---> 26\u001B[0m     \u001B[38;5;28;01mreturn\u001B[39;00m \u001B[38;5;28;43mself\u001B[39;49m\u001B[38;5;241;43m.\u001B[39;49m\u001B[43mforward\u001B[49m\u001B[43m(\u001B[49m\u001B[38;5;241;43m*\u001B[39;49m\u001B[43margs\u001B[49m\u001B[43m,\u001B[49m\u001B[43m \u001B[49m\u001B[38;5;241;43m*\u001B[39;49m\u001B[38;5;241;43m*\u001B[39;49m\u001B[43mkwargs\u001B[49m\u001B[43m)\u001B[49m\n",
      "File \u001B[0;32m~/miniconda3/envs/py310/lib/python3.10/site-packages/dspy/predict/react.py:114\u001B[0m, in \u001B[0;36mReAct.forward\u001B[0;34m(self, **kwargs)\u001B[0m\n\u001B[1;32m    110\u001B[0m \u001B[38;5;28;01mfor\u001B[39;00m hop \u001B[38;5;129;01min\u001B[39;00m \u001B[38;5;28mrange\u001B[39m(\u001B[38;5;28mself\u001B[39m\u001B[38;5;241m.\u001B[39mmax_iters):\n\u001B[1;32m    111\u001B[0m     \u001B[38;5;66;03m# with dspy.settings.context(show_guidelines=(i <= 2)):\u001B[39;00m\n\u001B[1;32m    112\u001B[0m     output \u001B[38;5;241m=\u001B[39m \u001B[38;5;28mself\u001B[39m\u001B[38;5;241m.\u001B[39mreact[hop](\u001B[38;5;241m*\u001B[39m\u001B[38;5;241m*\u001B[39margs)\n\u001B[0;32m--> 114\u001B[0m     \u001B[38;5;28;01mif\u001B[39;00m action_val \u001B[38;5;241m:=\u001B[39m \u001B[38;5;28;43mself\u001B[39;49m\u001B[38;5;241;43m.\u001B[39;49m\u001B[43mact\u001B[49m\u001B[43m(\u001B[49m\u001B[43moutput\u001B[49m\u001B[43m,\u001B[49m\u001B[43m \u001B[49m\u001B[43mhop\u001B[49m\u001B[43m)\u001B[49m:\n\u001B[1;32m    115\u001B[0m         \u001B[38;5;28;01mbreak\u001B[39;00m\n\u001B[1;32m    116\u001B[0m     args\u001B[38;5;241m.\u001B[39mupdate(output)\n",
      "File \u001B[0;32m~/miniconda3/envs/py310/lib/python3.10/site-packages/dspy/predict/react.py:105\u001B[0m, in \u001B[0;36mReAct.act\u001B[0;34m(self, output, hop)\u001B[0m\n\u001B[1;32m    101\u001B[0m \u001B[38;5;28;01mexcept\u001B[39;00m \u001B[38;5;167;01mException\u001B[39;00m \u001B[38;5;28;01mas\u001B[39;00m e:\n\u001B[1;32m    102\u001B[0m     output[\u001B[38;5;124mf\u001B[39m\u001B[38;5;124m\"\u001B[39m\u001B[38;5;124mObservation_\u001B[39m\u001B[38;5;132;01m{\u001B[39;00mhop\u001B[38;5;241m+\u001B[39m\u001B[38;5;241m1\u001B[39m\u001B[38;5;132;01m}\u001B[39;00m\u001B[38;5;124m\"\u001B[39m] \u001B[38;5;241m=\u001B[39m (\n\u001B[1;32m    103\u001B[0m         \u001B[38;5;124m\"\u001B[39m\u001B[38;5;124mFailed to parse action. Bad formatting or incorrect action name.\u001B[39m\u001B[38;5;124m\"\u001B[39m\n\u001B[1;32m    104\u001B[0m     )\n\u001B[0;32m--> 105\u001B[0m     \u001B[38;5;28;01mraise\u001B[39;00m e\n",
      "File \u001B[0;32m~/miniconda3/envs/py310/lib/python3.10/site-packages/dspy/predict/react.py:88\u001B[0m, in \u001B[0;36mReAct.act\u001B[0;34m(self, output, hop)\u001B[0m\n\u001B[1;32m     86\u001B[0m \u001B[38;5;28;01mtry\u001B[39;00m:\n\u001B[1;32m     87\u001B[0m     action \u001B[38;5;241m=\u001B[39m output[\u001B[38;5;124mf\u001B[39m\u001B[38;5;124m\"\u001B[39m\u001B[38;5;124mAction_\u001B[39m\u001B[38;5;132;01m{\u001B[39;00mhop\u001B[38;5;241m+\u001B[39m\u001B[38;5;241m1\u001B[39m\u001B[38;5;132;01m}\u001B[39;00m\u001B[38;5;124m\"\u001B[39m]\n\u001B[0;32m---> 88\u001B[0m     action_name, action_val \u001B[38;5;241m=\u001B[39m action\u001B[38;5;241m.\u001B[39mstrip()\u001B[38;5;241m.\u001B[39msplit(\u001B[38;5;124m\"\u001B[39m\u001B[38;5;130;01m\\n\u001B[39;00m\u001B[38;5;124m\"\u001B[39m)[\u001B[38;5;241m0\u001B[39m]\u001B[38;5;241m.\u001B[39msplit(\u001B[38;5;124m\"\u001B[39m\u001B[38;5;124m[\u001B[39m\u001B[38;5;124m\"\u001B[39m, \u001B[38;5;241m1\u001B[39m)\n\u001B[1;32m     89\u001B[0m     action_val \u001B[38;5;241m=\u001B[39m action_val\u001B[38;5;241m.\u001B[39mrsplit(\u001B[38;5;124m\"\u001B[39m\u001B[38;5;124m]\u001B[39m\u001B[38;5;124m\"\u001B[39m, \u001B[38;5;241m1\u001B[39m)[\u001B[38;5;241m0\u001B[39m]\n\u001B[1;32m     91\u001B[0m     \u001B[38;5;28;01mif\u001B[39;00m action_name \u001B[38;5;241m==\u001B[39m \u001B[38;5;124m\"\u001B[39m\u001B[38;5;124mFinish\u001B[39m\u001B[38;5;124m\"\u001B[39m:\n",
      "\u001B[0;31mValueError\u001B[0m: not enough values to unpack (expected 2, got 1)"
     ]
    }
   ],
   "execution_count": 5
  },
  {
   "cell_type": "markdown",
   "metadata": {},
   "source": [
    "### 4) Optimized ReAct.\n",
    "\n",
    "Let's use DSPy's simple `BootstrapFewShotWithRandomSearch` optimizer to create successful examples of the ReAct program and attempt to optimize the prompts using those constructed examples. In the future, we could try more sophisticated DSPy optimizers too, like `MIPRO`.\n",
    "\n",
    "We'll bootstrap 20 programs that way. Examples will be bootstrapped starting from the `trainset` and optimized over our tiny `valset`. We'll evaluate later on the `devset`.\n",
    "\n",
    "让我们使用DSPy的简单优化器`BootstrapFewShotWithRandomSearch`来创建ReAct程序的成功示例，并尝试使用这些构建的示例来优化提示。将来，我们还可以尝试更复杂的DSPy优化器，如`MIPRO`。我们将以这种方式引导20个程序。这些示例将从`trainset`开始引导，并在我们的小型`valset`上进行优化。稍后我们将在`devset`上进行评估"
   ]
  },
  {
   "cell_type": "code",
   "metadata": {
    "ExecuteTime": {
     "end_time": "2024-05-29T16:20:52.245716Z",
     "start_time": "2024-05-29T15:41:59.268867Z"
    }
   },
   "source": [
    "# 构造函数初始化 BootstrapFewShotWithRandomSearch 类并设置其属性。它继承自 BootstrapFewShot 类，并为随机搜索过程引入了附加属性。\n",
    "# max_bootstrapped_demos=2：在少样本学习中最多使用2个引导样本。 max_labeled_demos=0：不使用任何标记样本。 num_candidate_programs=20：在随机搜索中一共会评估20个候选程序。\n",
    "\n",
    "\n",
    "\n",
    "\n",
    "config = dict(max_bootstrapped_demos=2, max_labeled_demos=0, num_candidate_programs=20, num_threads=32)\n",
    "\n",
    "tp = BootstrapFewShotWithRandomSearch(metric=dspy.evaluate.answer_exact_match, **config)\n",
    "optimized_react = tp.compile(agent, trainset=trainset, valset=valset)"
   ],
   "outputs": [
    {
     "name": "stdout",
     "output_type": "stream",
     "text": [
      "Going to sample between 1 and 2 traces per predictor.\n",
      "Will attempt to train 20 candidate sets.\n",
      "Error for example in dev set: \t\t not enough values to unpack (expected 2, got 1)\n",
      "Error for example in dev set: \t\t not enough values to unpack (expected 2, got 1)\n"
     ]
    },
    {
     "name": "stderr",
     "output_type": "stream",
     "text": [
      "\n",
      "  0%|          | 0/50 [00:00<?, ?it/s]\u001B[A\n",
      "Average Metric: 0.0 / 1  (0.0):   0%|          | 0/50 [00:00<?, ?it/s]\u001B[A\n",
      "Average Metric: 0.0 / 2  (0.0):   2%|▏         | 1/50 [00:00<00:00, 441.88it/s]\u001B[A\n",
      "Average Metric: 0.0 / 3  (0.0):   4%|▍         | 2/50 [00:00<00:00, 506.86it/s]\u001B[A\n",
      "Average Metric: 0.0 / 4  (0.0):   6%|▌         | 3/50 [00:00<00:00, 519.12it/s]\u001B[A\n",
      "Average Metric: 1.0 / 5  (20.0):   8%|▊         | 4/50 [00:00<00:00, 528.77it/s]\u001B[A\n",
      "Average Metric: 1.0 / 6  (16.7):  10%|█         | 5/50 [00:00<00:00, 414.26it/s]\u001B[A\n",
      "Average Metric: 1.0 / 7  (14.3):  12%|█▏        | 6/50 [00:00<00:00, 404.65it/s]\u001B[A\n",
      "Average Metric: 1.0 / 8  (12.5):  14%|█▍        | 7/50 [00:00<00:00, 430.40it/s]\u001B[A\n",
      "Average Metric: 1.0 / 9  (11.1):  16%|█▌        | 8/50 [00:00<00:00, 422.67it/s]\u001B[A\n",
      "Average Metric: 1.0 / 10  (10.0):  18%|█▊        | 9/50 [00:00<00:00, 414.52it/s]\u001B[A\n",
      "Average Metric: 2.0 / 11  (18.2):  20%|██        | 10/50 [00:00<00:00, 413.68it/s]\u001B[A\n",
      "Average Metric: 2.0 / 12  (16.7):  22%|██▏       | 11/50 [00:00<00:00, 426.70it/s]\u001B[A\n",
      "Average Metric: 2.0 / 13  (15.4):  24%|██▍       | 12/50 [00:00<00:00, 438.24it/s]\u001B[A\n",
      "Average Metric: 2.0 / 14  (14.3):  26%|██▌       | 13/50 [00:00<00:00, 448.48it/s]\u001B[A\n",
      "Average Metric: 2.0 / 15  (13.3):  28%|██▊       | 14/50 [00:00<00:00, 455.53it/s]\u001B[A\n",
      "Average Metric: 2.0 / 16  (12.5):  30%|███       | 15/50 [00:00<00:00, 421.26it/s]\u001B[A\n",
      "Average Metric: 2.0 / 17  (11.8):  32%|███▏      | 16/50 [00:00<00:00, 428.77it/s]\u001B[A\n",
      "Average Metric: 2.0 / 18  (11.1):  34%|███▍      | 17/50 [00:00<00:00, 420.98it/s]\u001B[A\n",
      "Average Metric: 2.0 / 19  (10.5):  36%|███▌      | 18/50 [00:00<00:00, 426.63it/s]\u001B[A\n",
      "Average Metric: 2.0 / 20  (10.0):  38%|███▊      | 19/50 [00:00<00:00, 429.13it/s]\u001B[A\n",
      "Average Metric: 2.0 / 21  (9.5):  40%|████      | 20/50 [00:00<00:00, 427.83it/s] \u001B[A\n",
      "Average Metric: 2.0 / 22  (9.1):  42%|████▏     | 21/50 [00:00<00:00, 430.55it/s]\u001B[A\n",
      "Average Metric: 2.0 / 23  (8.7):  44%|████▍     | 22/50 [00:00<00:00, 438.49it/s]\u001B[A\n",
      "Average Metric: 3.0 / 24  (12.5):  46%|████▌     | 23/50 [00:00<00:00, 442.38it/s]\u001B[A\n",
      "Average Metric: 3.0 / 25  (12.0):  48%|████▊     | 24/50 [00:00<00:00, 447.28it/s]\u001B[A\n",
      "Average Metric: 3.0 / 26  (11.5):  50%|█████     | 25/50 [00:00<00:00, 451.11it/s]\u001B[A\n",
      "Average Metric: 3.0 / 27  (11.1):  52%|█████▏    | 26/50 [00:00<00:00, 428.20it/s]\u001B[A\n",
      "Average Metric: 4.0 / 28  (14.3):  54%|█████▍    | 27/50 [00:00<00:00, 431.32it/s]\u001B[A\n",
      "Average Metric: 4.0 / 29  (13.8):  56%|█████▌    | 28/50 [00:00<00:00, 426.88it/s]\u001B[A\n",
      "Average Metric: 4.0 / 30  (13.3):  58%|█████▊    | 29/50 [00:00<00:00, 431.47it/s]\u001B[A\n",
      "Average Metric: 4.0 / 31  (12.9):  60%|██████    | 30/50 [00:00<00:00, 424.33it/s]\u001B[A\n",
      "Average Metric: 4.0 / 32  (12.5):  62%|██████▏   | 31/50 [00:00<00:00, 428.21it/s]\u001B[A\n",
      "Average Metric: 4.0 / 33  (12.1):  64%|██████▍   | 32/50 [00:00<00:00, 431.73it/s]\u001B[A\n",
      "Average Metric: 4.0 / 34  (11.8):  66%|██████▌   | 33/50 [00:00<00:00, 435.67it/s]\u001B[A\n",
      "Average Metric: 5.0 / 35  (14.3):  68%|██████▊   | 34/50 [00:00<00:00, 427.70it/s]\u001B[A\n",
      "Average Metric: 5.0 / 36  (13.9):  70%|███████   | 35/50 [00:00<00:00, 430.37it/s]\u001B[A\n",
      "Average Metric: 5.0 / 37  (13.5):  72%|███████▏  | 36/50 [00:00<00:00, 433.48it/s]\u001B[A\n",
      "Average Metric: 5.0 / 38  (13.2):  74%|███████▍  | 37/50 [00:00<00:00, 436.23it/s]\u001B[A\n",
      "Average Metric: 6.0 / 39  (15.4):  76%|███████▌  | 38/50 [00:00<00:00, 438.26it/s]\u001B[A\n",
      "Average Metric: 6.0 / 40  (15.0):  78%|███████▊  | 39/50 [00:00<00:00, 440.96it/s]\u001B[A\n",
      "Average Metric: 6.0 / 41  (14.6):  80%|████████  | 40/50 [00:00<00:00, 444.06it/s]\u001B[A\n",
      "Average Metric: 7.0 / 42  (16.7):  82%|████████▏ | 41/50 [00:00<00:00, 448.22it/s]\u001B[A\n",
      "Average Metric: 8.0 / 43  (18.6):  84%|████████▍ | 42/50 [00:00<00:00, 452.28it/s]\u001B[A\n",
      "Average Metric: 8.0 / 44  (18.2):  86%|████████▌ | 43/50 [00:00<00:00, 455.63it/s]\u001B[A\n",
      "Average Metric: 8.0 / 44  (18.2):  88%|████████▊ | 44/50 [00:00<00:00, 439.49it/s]\u001B[A\n",
      "Average Metric: 8.0 / 45  (17.8):  88%|████████▊ | 44/50 [00:00<00:00, 439.49it/s]\u001B[A\n",
      "Average Metric: 8.0 / 46  (17.4):  90%|█████████ | 45/50 [00:00<00:00, 439.49it/s]\u001B[A\n",
      "Average Metric: 8.0 / 47  (17.0):  92%|█████████▏| 46/50 [00:00<00:00, 439.49it/s]\u001B[A\n",
      "Average Metric: 8.0 / 48  (16.7):  94%|█████████▍| 47/50 [00:00<00:00, 439.49it/s]\u001B[A\n",
      "Average Metric: 8.0 / 49  (16.3):  96%|█████████▌| 48/50 [00:00<00:00, 439.49it/s]\u001B[A\n",
      "Average Metric: 8.0 / 50  (16.0): 100%|██████████| 50/50 [00:00<00:00, 447.27it/s]\u001B[A\n"
     ]
    },
    {
     "name": "stdout",
     "output_type": "stream",
     "text": [
      "Average Metric: 8.0 / 50  (16.0%)\n",
      "Score: 16.0 for set: [0, 0, 0, 0, 0]\n",
      "New best score: 16.0 for seed -3\n",
      "Scores so far: [16.0]\n",
      "Best score: 16.0\n",
      "Error for example in dev set: \t\t not enough values to unpack (expected 2, got 1)\n",
      "Error for example in dev set: \t\t not enough values to unpack (expected 2, got 1)\n"
     ]
    },
    {
     "name": "stderr",
     "output_type": "stream",
     "text": [
      "\n",
      "  0%|          | 0/50 [00:00<?, ?it/s]\u001B[A\n",
      "Average Metric: 0 / 1  (0.0):   0%|          | 0/50 [00:00<?, ?it/s]\u001B[A\n",
      "Average Metric: 0 / 2  (0.0):   2%|▏         | 1/50 [00:00<00:00, 294.01it/s]\u001B[A\n",
      "Average Metric: 0 / 3  (0.0):   4%|▍         | 2/50 [00:00<00:00, 389.84it/s]\u001B[A\n",
      "Average Metric: 0 / 4  (0.0):   6%|▌         | 3/50 [00:00<00:00, 436.27it/s]\u001B[A\n",
      "Average Metric: 0 / 5  (0.0):   8%|▊         | 4/50 [00:00<00:00, 440.84it/s]\u001B[A\n",
      "Average Metric: 1 / 6  (16.7):  10%|█         | 5/50 [00:00<00:00, 469.52it/s]\u001B[A\n",
      "Average Metric: 1 / 7  (14.3):  12%|█▏        | 6/50 [00:00<00:00, 491.42it/s]\u001B[A\n",
      "Average Metric: 1 / 8  (12.5):  14%|█▍        | 7/50 [00:00<00:00, 512.83it/s]\u001B[A\n",
      "Average Metric: 1 / 9  (11.1):  16%|█▌        | 8/50 [00:00<00:00, 421.70it/s]\u001B[A\n",
      "Average Metric: 1 / 10  (10.0):  18%|█▊        | 9/50 [00:00<00:00, 419.37it/s]\u001B[A\n",
      "Average Metric: 1 / 11  (9.1):  20%|██        | 10/50 [00:00<00:00, 437.24it/s]\u001B[A\n",
      "Average Metric: 1.0 / 12  (8.3):  22%|██▏       | 11/50 [00:00<00:00, 445.97it/s]\u001B[A\n",
      "Average Metric: 1.0 / 13  (7.7):  24%|██▍       | 12/50 [00:00<00:00, 459.24it/s]\u001B[A\n",
      "Average Metric: 1.0 / 14  (7.1):  26%|██▌       | 13/50 [00:00<00:00, 439.81it/s]\u001B[A\n",
      "Average Metric: 1.0 / 15  (6.7):  28%|██▊       | 14/50 [00:00<00:00, 448.65it/s]\u001B[A\n",
      "Average Metric: 1.0 / 16  (6.2):  30%|███       | 15/50 [00:00<00:00, 457.41it/s]\u001B[A\n",
      "Average Metric: 1.0 / 17  (5.9):  32%|███▏      | 16/50 [00:00<00:00, 442.25it/s]\u001B[A\n",
      "Average Metric: 2.0 / 18  (11.1):  34%|███▍      | 17/50 [00:00<00:00, 450.25it/s]\u001B[A\n",
      "Average Metric: 2.0 / 19  (10.5):  36%|███▌      | 18/50 [00:00<00:00, 457.50it/s]\u001B[A\n",
      "Average Metric: 2.0 / 20  (10.0):  38%|███▊      | 19/50 [00:00<00:00, 464.46it/s]\u001B[A\n",
      "Average Metric: 2.0 / 21  (9.5):  40%|████      | 20/50 [00:00<00:00, 443.99it/s] \u001B[A\n",
      "Average Metric: 2.0 / 22  (9.1):  42%|████▏     | 21/50 [00:00<00:00, 447.49it/s]\u001B[A\n",
      "Average Metric: 2.0 / 23  (8.7):  44%|████▍     | 22/50 [00:00<00:00, 454.62it/s]\u001B[A\n",
      "Average Metric: 2.0 / 24  (8.3):  46%|████▌     | 23/50 [00:00<00:00, 460.22it/s]\u001B[A\n",
      "Average Metric: 2.0 / 25  (8.0):  48%|████▊     | 24/50 [00:00<00:00, 466.56it/s]\u001B[A\n",
      "Average Metric: 3.0 / 26  (11.5):  50%|█████     | 25/50 [00:00<00:00, 471.72it/s]\u001B[A\n",
      "Average Metric: 3.0 / 27  (11.1):  52%|█████▏    | 26/50 [00:00<00:00, 478.11it/s]\u001B[A\n",
      "Average Metric: 3.0 / 28  (10.7):  54%|█████▍    | 27/50 [00:00<00:00, 482.92it/s]\u001B[A\n",
      "Average Metric: 3.0 / 29  (10.3):  56%|█████▌    | 28/50 [00:00<00:00, 480.61it/s]\u001B[A\n",
      "Average Metric: 4.0 / 30  (13.3):  58%|█████▊    | 29/50 [00:00<00:00, 486.94it/s]\u001B[A\n",
      "Average Metric: 4.0 / 31  (12.9):  60%|██████    | 30/50 [00:00<00:00, 491.56it/s]\u001B[A\n",
      "Average Metric: 4.0 / 32  (12.5):  62%|██████▏   | 31/50 [00:00<00:00, 497.15it/s]\u001B[A\n",
      "Average Metric: 4.0 / 33  (12.1):  64%|██████▍   | 32/50 [00:00<00:00, 501.81it/s]\u001B[A\n",
      "Average Metric: 4.0 / 34  (11.8):  66%|██████▌   | 33/50 [00:00<00:00, 503.72it/s]\u001B[A\n",
      "Average Metric: 4.0 / 35  (11.4):  68%|██████▊   | 34/50 [00:00<00:00, 508.69it/s]\u001B[A\n",
      "Average Metric: 4.0 / 36  (11.1):  70%|███████   | 35/50 [00:00<00:00, 511.57it/s]\u001B[A\n",
      "Average Metric: 4.0 / 37  (10.8):  72%|███████▏  | 36/50 [00:00<00:00, 515.20it/s]\u001B[A\n",
      "Average Metric: 4.0 / 38  (10.5):  74%|███████▍  | 37/50 [00:00<00:00, 514.87it/s]\u001B[A\n",
      "Average Metric: 4.0 / 39  (10.3):  76%|███████▌  | 38/50 [00:00<00:00, 517.99it/s]\u001B[A\n",
      "Average Metric: 5.0 / 40  (12.5):  78%|███████▊  | 39/50 [00:00<00:00, 522.68it/s]\u001B[A\n",
      "Average Metric: 5.0 / 41  (12.2):  80%|████████  | 40/50 [00:00<00:00, 523.94it/s]\u001B[A\n",
      "Average Metric: 5.0 / 42  (11.9):  82%|████████▏ | 41/50 [00:00<00:00, 527.43it/s]\u001B[A\n",
      "Average Metric: 5.0 / 43  (11.6):  84%|████████▍ | 42/50 [00:00<00:00, 529.43it/s]\u001B[A\n",
      "Average Metric: 6.0 / 44  (13.6):  86%|████████▌ | 43/50 [00:00<00:00, 532.05it/s]\u001B[A\n",
      "Average Metric: 6.0 / 45  (13.3):  88%|████████▊ | 44/50 [00:00<00:00, 533.71it/s]\u001B[A\n",
      "Average Metric: 6.0 / 46  (13.0):  90%|█████████ | 45/50 [00:00<00:00, 536.41it/s]\u001B[A\n",
      "Average Metric: 6.0 / 47  (12.8):  92%|█████████▏| 46/50 [00:00<00:00, 514.37it/s]\u001B[A\n",
      "Average Metric: 7.0 / 48  (14.6):  94%|█████████▍| 47/50 [00:00<00:00, 512.94it/s]\u001B[A\n",
      "Average Metric: 7.0 / 49  (14.3):  96%|█████████▌| 48/50 [00:00<00:00, 516.31it/s]\u001B[A\n",
      "Average Metric: 8.0 / 50  (16.0): 100%|██████████| 50/50 [00:00<00:00, 521.17it/s]\u001B[A\n"
     ]
    },
    {
     "name": "stdout",
     "output_type": "stream",
     "text": [
      "Average Metric: 8.0 / 50  (16.0%)\n",
      "Score: 16.0 for set: [0, 0, 0, 0, 0]\n",
      "Scores so far: [16.0, 16.0]\n",
      "Best score: 16.0\n"
     ]
    },
    {
     "name": "stderr",
     "output_type": "stream",
     "text": [
      "\n",
      "  7%|▋         | 11/150 [00:00<00:00, 1279.21it/s]\n"
     ]
    },
    {
     "name": "stdout",
     "output_type": "stream",
     "text": [
      "Bootstrapped 2 full traces after 12 examples in round 0.\n"
     ]
    },
    {
     "name": "stderr",
     "output_type": "stream",
     "text": [
      "\n",
      "  0%|          | 0/50 [00:00<?, ?it/s]\u001B[A\n",
      "Average Metric: 0 / 1  (0.0):   0%|          | 0/50 [00:00<?, ?it/s]\u001B[A\n",
      "Average Metric: 1 / 2  (50.0):   2%|▏         | 1/50 [00:00<00:00, 287.50it/s]\u001B[A\n",
      "Average Metric: 1 / 3  (33.3):   4%|▍         | 2/50 [00:00<00:00, 382.01it/s]\u001B[A\n",
      "Average Metric: 2 / 4  (50.0):   6%|▌         | 3/50 [00:00<00:00, 432.61it/s]\u001B[A\n",
      "Average Metric: 2 / 5  (40.0):   8%|▊         | 4/50 [00:00<00:00, 471.84it/s]\u001B[A\n",
      "Average Metric: 2 / 6  (33.3):  10%|█         | 5/50 [00:00<00:00, 489.20it/s]\u001B[A\n",
      "Average Metric: 2 / 7  (28.6):  12%|█▏        | 6/50 [00:00<00:00, 504.47it/s]\u001B[A\n",
      "Average Metric: 3 / 8  (37.5):  14%|█▍        | 7/50 [00:00<00:00, 514.18it/s]\u001B[A\n",
      "Average Metric: 3 / 9  (33.3):  16%|█▌        | 8/50 [00:00<00:00, 518.80it/s]\u001B[A\n",
      "Average Metric: 4 / 10  (40.0):  18%|█▊        | 9/50 [00:00<00:00, 517.23it/s]\u001B[A\n",
      "Average Metric: 4 / 11  (36.4):  20%|██        | 10/50 [00:00<00:00, 515.49it/s]\u001B[A\n",
      "Average Metric: 4 / 12  (33.3):  22%|██▏       | 11/50 [00:00<00:00, 526.00it/s]\u001B[A\n",
      "Average Metric: 5 / 13  (38.5):  24%|██▍       | 12/50 [00:00<00:00, 511.39it/s]\u001B[A\n",
      "Average Metric: 6 / 14  (42.9):  26%|██▌       | 13/50 [00:00<00:00, 524.76it/s]\u001B[A\n",
      "Average Metric: 6 / 15  (40.0):  28%|██▊       | 14/50 [00:00<00:00, 534.68it/s]\u001B[A\n",
      "Average Metric: 7 / 16  (43.8):  30%|███       | 15/50 [00:00<00:00, 546.18it/s]\u001B[A\n",
      "Average Metric: 8 / 17  (47.1):  32%|███▏      | 16/50 [00:00<00:00, 556.56it/s]\u001B[A\n",
      "Average Metric: 8 / 18  (44.4):  34%|███▍      | 17/50 [00:00<00:00, 560.30it/s]\u001B[A\n",
      "Average Metric: 9 / 19  (47.4):  36%|███▌      | 18/50 [00:00<00:00, 444.65it/s]\u001B[A\n",
      "Average Metric: 10 / 20  (50.0):  38%|███▊      | 19/50 [00:00<00:00, 454.68it/s]\u001B[A\n",
      "Average Metric: 10 / 21  (47.6):  40%|████      | 20/50 [00:00<00:00, 462.66it/s]\u001B[A\n",
      "Average Metric: 10 / 22  (45.5):  42%|████▏     | 21/50 [00:00<00:00, 469.56it/s]\u001B[A\n",
      "Average Metric: 10 / 23  (43.5):  44%|████▍     | 22/50 [00:00<00:00, 474.32it/s]\u001B[A\n",
      "Average Metric: 10 / 24  (41.7):  46%|████▌     | 23/50 [00:00<00:00, 454.44it/s]\u001B[A\n",
      "Average Metric: 10 / 25  (40.0):  48%|████▊     | 24/50 [00:00<00:00, 457.18it/s]\u001B[A\n",
      "Average Metric: 11 / 26  (42.3):  50%|█████     | 25/50 [00:00<00:00, 460.76it/s]\u001B[A\n",
      "Average Metric: 12 / 27  (44.4):  52%|█████▏    | 26/50 [00:00<00:00, 464.11it/s]\u001B[A\n",
      "Average Metric: 12 / 28  (42.9):  54%|█████▍    | 27/50 [00:00<00:00, 468.50it/s]\u001B[A\n",
      "Average Metric: 13 / 29  (44.8):  56%|█████▌    | 28/50 [00:00<00:00, 473.33it/s]\u001B[A\n",
      "Average Metric: 14 / 30  (46.7):  58%|█████▊    | 29/50 [00:00<00:00, 475.35it/s]\u001B[A\n",
      "Average Metric: 14 / 31  (45.2):  60%|██████    | 30/50 [00:00<00:00, 480.66it/s]\u001B[A\n",
      "Average Metric: 14 / 32  (43.8):  62%|██████▏   | 31/50 [00:00<00:00, 484.04it/s]\u001B[A\n",
      "Average Metric: 14 / 33  (42.4):  64%|██████▍   | 32/50 [00:00<00:00, 488.07it/s]\u001B[A\n",
      "Average Metric: 14 / 34  (41.2):  66%|██████▌   | 33/50 [00:00<00:00, 491.30it/s]\u001B[A\n",
      "Average Metric: 14 / 35  (40.0):  68%|██████▊   | 34/50 [00:00<00:00, 494.28it/s]\u001B[A\n",
      "Average Metric: 14 / 36  (38.9):  70%|███████   | 35/50 [00:00<00:00, 497.19it/s]\u001B[A\n",
      "Average Metric: 14 / 37  (37.8):  72%|███████▏  | 36/50 [00:00<00:00, 500.97it/s]\u001B[A\n",
      "Average Metric: 15 / 38  (39.5):  74%|███████▍  | 37/50 [00:00<00:00, 503.55it/s]\u001B[A\n",
      "Average Metric: 16 / 39  (41.0):  76%|███████▌  | 38/50 [00:00<00:00, 506.21it/s]\u001B[A\n",
      "Average Metric: 16 / 40  (40.0):  78%|███████▊  | 39/50 [00:00<00:00, 510.72it/s]\u001B[A\n",
      "Average Metric: 16 / 41  (39.0):  80%|████████  | 40/50 [00:00<00:00, 513.82it/s]\u001B[A\n",
      "Average Metric: 16 / 42  (38.1):  82%|████████▏ | 41/50 [00:00<00:00, 516.67it/s]\u001B[A\n",
      "Average Metric: 17 / 43  (39.5):  84%|████████▍ | 42/50 [00:00<00:00, 517.44it/s]\u001B[A\n",
      "Average Metric: 18 / 44  (40.9):  86%|████████▌ | 43/50 [00:00<00:00, 522.50it/s]\u001B[A\n",
      "Average Metric: 19 / 45  (42.2):  88%|████████▊ | 44/50 [00:00<00:00, 524.48it/s]\u001B[A\n",
      "Average Metric: 20 / 46  (43.5):  90%|█████████ | 45/50 [00:00<00:00, 451.22it/s]\u001B[A\n",
      "Average Metric: 20 / 46  (43.5):  92%|█████████▏| 46/50 [00:00<00:00, 456.13it/s]\u001B[A\n",
      "Average Metric: 21 / 47  (44.7):  92%|█████████▏| 46/50 [00:00<00:00, 456.13it/s]\u001B[A\n",
      "Average Metric: 22 / 48  (45.8):  94%|█████████▍| 47/50 [00:00<00:00, 456.13it/s]\u001B[A\n",
      "Average Metric: 22 / 49  (44.9):  96%|█████████▌| 48/50 [00:00<00:00, 456.13it/s]\u001B[A\n",
      "Average Metric: 22 / 50  (44.0): 100%|██████████| 50/50 [00:06<00:00,  7.53it/s] \u001B[A\n"
     ]
    },
    {
     "name": "stdout",
     "output_type": "stream",
     "text": [
      "Average Metric: 22 / 50  (44.0%)\n",
      "Score: 44.0 for set: [2, 2, 1, 1, 1]\n",
      "New best score: 44.0 for seed -1\n",
      "Scores so far: [16.0, 16.0, 44.0]\n",
      "Best score: 44.0\n",
      "Average of max per entry across top 1 scores: 0.44\n",
      "Average of max per entry across top 2 scores: 0.56\n",
      "Average of max per entry across top 3 scores: 0.64\n",
      "Average of max per entry across top 5 scores: 0.64\n",
      "Average of max per entry across top 8 scores: 0.64\n",
      "Average of max per entry across top 9999 scores: 0.64\n"
     ]
    },
    {
     "name": "stderr",
     "output_type": "stream",
     "text": [
      "\n",
      "  7%|▋         | 10/150 [00:00<00:00, 1268.08it/s]\n"
     ]
    },
    {
     "name": "stdout",
     "output_type": "stream",
     "text": [
      "Bootstrapped 2 full traces after 11 examples in round 0.\n",
      "Error for example in dev set: \t\t not enough values to unpack (expected 2, got 1)\n"
     ]
    },
    {
     "name": "stderr",
     "output_type": "stream",
     "text": [
      "\n",
      "  0%|          | 0/50 [00:00<?, ?it/s]\u001B[A\n",
      "Average Metric: 1 / 1  (100.0):   0%|          | 0/50 [00:00<?, ?it/s]\u001B[A\n",
      "Average Metric: 1.0 / 2  (50.0):   2%|▏         | 1/50 [00:00<00:00, 481.33it/s]\u001B[A\n",
      "Average Metric: 1.0 / 3  (33.3):   4%|▍         | 2/50 [00:00<00:00, 530.79it/s]\u001B[A\n",
      "Average Metric: 1.0 / 4  (25.0):   6%|▌         | 3/50 [00:00<00:00, 569.00it/s]\u001B[A\n",
      "Average Metric: 2.0 / 5  (40.0):   8%|▊         | 4/50 [00:00<00:00, 576.54it/s]\u001B[A\n",
      "Average Metric: 3.0 / 6  (50.0):  10%|█         | 5/50 [00:00<00:00, 605.55it/s]\u001B[A\n",
      "Average Metric: 4.0 / 7  (57.1):  12%|█▏        | 6/50 [00:00<00:00, 450.22it/s]\u001B[A\n",
      "Average Metric: 5.0 / 8  (62.5):  14%|█▍        | 7/50 [00:00<00:00, 453.45it/s]\u001B[A\n",
      "Average Metric: 6.0 / 9  (66.7):  16%|█▌        | 8/50 [00:00<00:00, 472.48it/s]\u001B[A\n",
      "Average Metric: 6.0 / 10  (60.0):  18%|█▊        | 9/50 [00:00<00:00, 483.59it/s]\u001B[A\n",
      "Average Metric: 6.0 / 11  (54.5):  20%|██        | 10/50 [00:00<00:00, 496.54it/s]\u001B[A\n",
      "Average Metric: 7.0 / 12  (58.3):  22%|██▏       | 11/50 [00:00<00:00, 502.67it/s]\u001B[A\n",
      "Average Metric: 8.0 / 13  (61.5):  24%|██▍       | 12/50 [00:00<00:00, 511.04it/s]\u001B[A\n",
      "Average Metric: 8.0 / 14  (57.1):  26%|██▌       | 13/50 [00:00<00:00, 521.29it/s]\u001B[A\n",
      "Average Metric: 9.0 / 15  (60.0):  28%|██▊       | 14/50 [00:00<00:00, 488.70it/s]\u001B[A\n",
      "Average Metric: 9.0 / 16  (56.2):  30%|███       | 15/50 [00:00<00:00, 457.89it/s]\u001B[A\n",
      "Average Metric: 10.0 / 17  (58.8):  32%|███▏      | 16/50 [00:00<00:00, 454.50it/s]\u001B[A\n",
      "Average Metric: 10.0 / 18  (55.6):  34%|███▍      | 17/50 [00:00<00:00, 459.72it/s]\u001B[A\n",
      "Average Metric: 10.0 / 19  (52.6):  36%|███▌      | 18/50 [00:00<00:00, 466.17it/s]\u001B[A\n",
      "Average Metric: 10.0 / 20  (50.0):  38%|███▊      | 19/50 [00:00<00:00, 470.65it/s]\u001B[A\n",
      "Average Metric: 10.0 / 21  (47.6):  40%|████      | 20/50 [00:00<00:00, 457.46it/s]\u001B[A\n",
      "Average Metric: 10.0 / 22  (45.5):  42%|████▏     | 21/50 [00:00<00:00, 462.59it/s]\u001B[A\n",
      "Average Metric: 10.0 / 23  (43.5):  44%|████▍     | 22/50 [00:00<00:00, 467.82it/s]\u001B[A\n",
      "Average Metric: 10.0 / 24  (41.7):  46%|████▌     | 23/50 [00:00<00:00, 472.64it/s]\u001B[A\n",
      "Average Metric: 11.0 / 25  (44.0):  48%|████▊     | 24/50 [00:00<00:00, 476.89it/s]\u001B[A\n",
      "Average Metric: 12.0 / 26  (46.2):  50%|█████     | 25/50 [00:00<00:00, 481.45it/s]\u001B[A\n",
      "Average Metric: 12.0 / 27  (44.4):  52%|█████▏    | 26/50 [00:00<00:00, 487.43it/s]\u001B[A\n",
      "Average Metric: 13.0 / 28  (46.4):  54%|█████▍    | 27/50 [00:00<00:00, 476.42it/s]\u001B[A\n",
      "Average Metric: 14.0 / 29  (48.3):  56%|█████▌    | 28/50 [00:00<00:00, 461.05it/s]\u001B[A\n",
      "Average Metric: 14.0 / 30  (46.7):  58%|█████▊    | 29/50 [00:00<00:00, 465.22it/s]\u001B[A\n",
      "Average Metric: 15.0 / 31  (48.4):  60%|██████    | 30/50 [00:00<00:00, 469.20it/s]\u001B[A\n",
      "Average Metric: 15.0 / 32  (46.9):  62%|██████▏   | 31/50 [00:00<00:00, 470.91it/s]\u001B[A\n",
      "Average Metric: 15.0 / 33  (45.5):  64%|██████▍   | 32/50 [00:00<00:00, 473.72it/s]\u001B[A\n",
      "Average Metric: 16.0 / 34  (47.1):  66%|██████▌   | 33/50 [00:00<00:00, 468.81it/s]\u001B[A\n",
      "Average Metric: 17.0 / 35  (48.6):  68%|██████▊   | 34/50 [00:00<00:00, 470.83it/s]\u001B[A\n",
      "Average Metric: 17.0 / 36  (47.2):  70%|███████   | 35/50 [00:00<00:00, 473.93it/s]\u001B[A\n",
      "Average Metric: 18.0 / 37  (48.6):  72%|███████▏  | 36/50 [00:00<00:00, 477.33it/s]\u001B[A\n",
      "Average Metric: 18.0 / 38  (47.4):  74%|███████▍  | 37/50 [00:00<00:00, 480.52it/s]\u001B[A\n",
      "Average Metric: 19.0 / 39  (48.7):  76%|███████▌  | 38/50 [00:00<00:00, 484.93it/s]\u001B[A\n",
      "Average Metric: 19.0 / 40  (47.5):  78%|███████▊  | 39/50 [00:00<00:00, 487.31it/s]\u001B[A\n",
      "Average Metric: 19.0 / 41  (46.3):  80%|████████  | 40/50 [00:00<00:00, 457.58it/s]\u001B[A\n",
      "Average Metric: 20.0 / 42  (47.6):  82%|████████▏ | 41/50 [00:00<00:00, 461.24it/s]\u001B[A\n",
      "Average Metric: 21.0 / 43  (48.8):  84%|████████▍ | 42/50 [00:00<00:00, 462.95it/s]\u001B[A\n",
      "Average Metric: 21.0 / 44  (47.7):  86%|████████▌ | 43/50 [00:00<00:00, 456.13it/s]\u001B[A\n",
      "Average Metric: 21.0 / 45  (46.7):  88%|████████▊ | 44/50 [00:00<00:00, 459.93it/s]\u001B[A\n",
      "Average Metric: 22.0 / 46  (47.8):  90%|█████████ | 45/50 [00:00<00:00, 462.67it/s]\u001B[A\n",
      "Average Metric: 22.0 / 46  (47.8):  92%|█████████▏| 46/50 [00:00<00:00, 458.57it/s]\u001B[A\n",
      "Average Metric: 23.0 / 47  (48.9):  92%|█████████▏| 46/50 [00:01<00:00, 458.57it/s]\u001B[A\n",
      "Average Metric: 24.0 / 48  (50.0):  94%|█████████▍| 47/50 [00:01<00:00, 458.57it/s]\u001B[A\n",
      "Average Metric: 24.0 / 49  (49.0):  96%|█████████▌| 48/50 [00:01<00:00, 458.57it/s]\u001B[A\n",
      "Average Metric: 24.0 / 49  (49.0):  98%|█████████▊| 49/50 [00:14<00:00, 458.57it/s]\u001B[A\n",
      "Average Metric: 24.0 / 50  (48.0):  98%|█████████▊| 49/50 [00:36<00:00, 458.57it/s]\u001B[A\n",
      "Average Metric: 24.0 / 50  (48.0): 100%|██████████| 50/50 [00:36<00:00,  1.36it/s] \u001B[A\n"
     ]
    },
    {
     "name": "stdout",
     "output_type": "stream",
     "text": [
      "Error for example in dev set: \t\t not enough values to unpack (expected 2, got 1)\n",
      "Average Metric: 24.0 / 50  (48.0%)\n",
      "Score: 48.0 for set: [2, 2, 0, 0, 0]\n",
      "New best score: 48.0 for seed 0\n",
      "Scores so far: [16.0, 16.0, 44.0, 48.0]\n",
      "Best score: 48.0\n",
      "Average of max per entry across top 1 scores: 0.48\n",
      "Average of max per entry across top 2 scores: 0.72\n",
      "Average of max per entry across top 3 scores: 0.76\n",
      "Average of max per entry across top 5 scores: 0.82\n",
      "Average of max per entry across top 8 scores: 0.82\n",
      "Average of max per entry across top 9999 scores: 0.82\n"
     ]
    },
    {
     "name": "stderr",
     "output_type": "stream",
     "text": [
      "\n",
      "  3%|▎         | 4/150 [00:00<00:00, 1127.35it/s]\n"
     ]
    },
    {
     "name": "stdout",
     "output_type": "stream",
     "text": [
      "Bootstrapped 1 full traces after 5 examples in round 0.\n"
     ]
    },
    {
     "name": "stderr",
     "output_type": "stream",
     "text": [
      "\n",
      "  0%|          | 0/50 [00:00<?, ?it/s]\u001B[A\n",
      "Average Metric: 0 / 1  (0.0):   0%|          | 0/50 [00:00<?, ?it/s]\u001B[A\n",
      "Average Metric: 1 / 2  (50.0):   2%|▏         | 1/50 [00:00<00:00, 401.52it/s]\u001B[A\n",
      "Average Metric: 1 / 3  (33.3):   4%|▍         | 2/50 [00:00<00:00, 526.26it/s]\u001B[A\n",
      "Average Metric: 1 / 4  (25.0):   6%|▌         | 3/50 [00:00<00:00, 578.31it/s]\u001B[A\n",
      "Average Metric: 2 / 5  (40.0):   8%|▊         | 4/50 [00:00<00:00, 617.20it/s]\u001B[A\n",
      "Average Metric: 2 / 6  (33.3):  10%|█         | 5/50 [00:00<00:00, 607.24it/s]\u001B[A\n",
      "Average Metric: 3 / 7  (42.9):  12%|█▏        | 6/50 [00:00<00:00, 620.83it/s]\u001B[A\n",
      "Average Metric: 3 / 8  (37.5):  14%|█▍        | 7/50 [00:00<00:00, 630.87it/s]\u001B[A\n",
      "Average Metric: 3 / 9  (33.3):  16%|█▌        | 8/50 [00:00<00:00, 575.59it/s]\u001B[A\n",
      "Average Metric: 4 / 10  (40.0):  18%|█▊        | 9/50 [00:00<00:00, 575.79it/s]\u001B[A\n",
      "Average Metric: 4 / 11  (36.4):  20%|██        | 10/50 [00:00<00:00, 475.76it/s]\u001B[A\n",
      "Average Metric: 5 / 12  (41.7):  22%|██▏       | 11/50 [00:00<00:00, 482.14it/s]\u001B[A\n",
      "Average Metric: 5 / 13  (38.5):  24%|██▍       | 12/50 [00:00<00:00, 495.09it/s]\u001B[A\n",
      "Average Metric: 6 / 14  (42.9):  26%|██▌       | 13/50 [00:00<00:00, 497.85it/s]\u001B[A\n",
      "Average Metric: 7 / 15  (46.7):  28%|██▊       | 14/50 [00:00<00:00, 503.47it/s]\u001B[A\n",
      "Average Metric: 8 / 16  (50.0):  30%|███       | 15/50 [00:00<00:00, 509.38it/s]\u001B[A\n",
      "Average Metric: 8 / 17  (47.1):  32%|███▏      | 16/50 [00:00<00:00, 513.03it/s]\u001B[A\n",
      "Average Metric: 9 / 18  (50.0):  34%|███▍      | 17/50 [00:00<00:00, 516.40it/s]\u001B[A\n",
      "Average Metric: 9 / 19  (47.4):  36%|███▌      | 18/50 [00:00<00:00, 521.06it/s]\u001B[A\n",
      "Average Metric: 10 / 20  (50.0):  38%|███▊      | 19/50 [00:00<00:00, 526.76it/s]\u001B[A\n",
      "Average Metric: 10 / 21  (47.6):  40%|████      | 20/50 [00:00<00:00, 528.42it/s]\u001B[A\n",
      "Average Metric: 10 / 22  (45.5):  42%|████▏     | 21/50 [00:03<00:05,  5.67it/s] \u001B[A\n",
      "Average Metric: 10 / 22  (45.5):  44%|████▍     | 22/50 [00:03<00:04,  5.94it/s]\u001B[A\n",
      "Average Metric: 11 / 23  (47.8):  44%|████▍     | 22/50 [00:03<00:04,  5.94it/s]\u001B[A\n",
      "Average Metric: 11 / 24  (45.8):  46%|████▌     | 23/50 [00:03<00:04,  5.94it/s]\u001B[A\n",
      "Average Metric: 12 / 25  (48.0):  48%|████▊     | 24/50 [00:03<00:04,  5.94it/s]\u001B[A\n",
      "Average Metric: 13 / 26  (50.0):  50%|█████     | 25/50 [00:03<00:04,  5.94it/s]\u001B[A\n",
      "Average Metric: 13 / 27  (48.1):  52%|█████▏    | 26/50 [00:03<00:04,  5.94it/s]\u001B[A\n",
      "Average Metric: 13 / 28  (46.4):  54%|█████▍    | 27/50 [00:03<00:03,  5.94it/s]\u001B[A\n",
      "Average Metric: 14 / 29  (48.3):  56%|█████▌    | 28/50 [00:03<00:03,  5.94it/s]\u001B[A\n",
      "Average Metric: 15 / 30  (50.0):  58%|█████▊    | 29/50 [00:03<00:03,  5.94it/s]\u001B[A\n",
      "Average Metric: 15 / 31  (48.4):  60%|██████    | 30/50 [00:03<00:03,  5.94it/s]\u001B[A\n",
      "Average Metric: 16 / 32  (50.0):  62%|██████▏   | 31/50 [00:03<00:03,  5.94it/s]\u001B[A\n",
      "Average Metric: 17 / 33  (51.5):  64%|██████▍   | 32/50 [00:03<00:03,  5.94it/s]\u001B[A\n",
      "Average Metric: 17 / 34  (50.0):  66%|██████▌   | 33/50 [00:03<00:02,  5.94it/s]\u001B[A\n",
      "Average Metric: 18 / 35  (51.4):  68%|██████▊   | 34/50 [00:03<00:02,  5.94it/s]\u001B[A\n",
      "Average Metric: 18 / 36  (50.0):  70%|███████   | 35/50 [00:04<00:02,  5.94it/s]\u001B[A\n",
      "Average Metric: 18 / 36  (50.0):  72%|███████▏  | 36/50 [00:04<00:01,  8.52it/s]\u001B[A\n",
      "Average Metric: 19 / 37  (51.4):  72%|███████▏  | 36/50 [00:05<00:01,  8.52it/s]\u001B[A\n",
      "Average Metric: 19 / 38  (50.0):  74%|███████▍  | 37/50 [00:06<00:01,  8.52it/s]\u001B[A\n",
      "Average Metric: 19 / 38  (50.0):  76%|███████▌  | 38/50 [00:06<00:02,  5.18it/s]\u001B[A\n",
      "Average Metric: 20 / 39  (51.3):  76%|███████▌  | 38/50 [00:09<00:02,  5.18it/s]\u001B[A\n",
      "Average Metric: 20 / 39  (51.3):  78%|███████▊  | 39/50 [00:09<00:04,  2.59it/s]\u001B[A\n",
      "Average Metric: 20 / 40  (50.0):  78%|███████▊  | 39/50 [00:10<00:04,  2.59it/s]\u001B[A\n",
      "Average Metric: 20 / 40  (50.0):  80%|████████  | 40/50 [00:10<00:03,  2.72it/s]\u001B[A\n",
      "Average Metric: 20 / 41  (48.8):  80%|████████  | 40/50 [00:10<00:03,  2.72it/s]\u001B[A\n",
      "Average Metric: 20 / 41  (48.8):  82%|████████▏ | 41/50 [00:10<00:03,  2.38it/s]\u001B[A\n",
      "Average Metric: 21 / 42  (50.0):  82%|████████▏ | 41/50 [00:13<00:03,  2.38it/s]\u001B[A\n",
      "Average Metric: 21 / 42  (50.0):  84%|████████▍ | 42/50 [00:13<00:05,  1.54it/s]\u001B[A\n",
      "Average Metric: 21 / 43  (48.8):  84%|████████▍ | 42/50 [00:18<00:05,  1.54it/s]\u001B[A\n",
      "Average Metric: 21 / 43  (48.8):  86%|████████▌ | 43/50 [00:18<00:09,  1.33s/it]\u001B[A\n",
      "Average Metric: 21 / 44  (47.7):  86%|████████▌ | 43/50 [00:20<00:09,  1.33s/it]\u001B[A\n",
      "Average Metric: 21 / 44  (47.7):  88%|████████▊ | 44/50 [00:20<00:08,  1.46s/it]\u001B[A\n",
      "Average Metric: 21.0 / 45  (46.7):  88%|████████▊ | 44/50 [00:27<00:08,  1.46s/it]\u001B[A\n",
      "Average Metric: 21.0 / 45  (46.7):  90%|█████████ | 45/50 [00:27<00:13,  2.63s/it]\u001B[A"
     ]
    },
    {
     "name": "stdout",
     "output_type": "stream",
     "text": [
      "Error for example in dev set: \t\t HTTPConnectionPool(host='192.168.31.215', port=10890): Read timed out. (read timeout=10)\n"
     ]
    },
    {
     "name": "stderr",
     "output_type": "stream",
     "text": [
      "\n",
      "Average Metric: 21.0 / 46  (45.7):  90%|█████████ | 45/50 [00:27<00:13,  2.63s/it]\u001B[A\n",
      "Average Metric: 21.0 / 46  (45.7):  92%|█████████▏| 46/50 [00:27<00:08,  2.09s/it]\u001B[A\n",
      "Average Metric: 21.0 / 47  (44.7):  92%|█████████▏| 46/50 [00:31<00:08,  2.09s/it]\u001B[A\n",
      "Average Metric: 21.0 / 47  (44.7):  94%|█████████▍| 47/50 [00:31<00:07,  2.44s/it]\u001B[A\n",
      "Average Metric: 22.0 / 48  (45.8):  94%|█████████▍| 47/50 [00:33<00:07,  2.44s/it]\u001B[A\n",
      "Average Metric: 22.0 / 48  (45.8):  96%|█████████▌| 48/50 [00:33<00:04,  2.46s/it]\u001B[A\n",
      "Average Metric: 22.0 / 49  (44.9):  96%|█████████▌| 48/50 [00:40<00:04,  2.46s/it]\u001B[A\n",
      "Average Metric: 22.0 / 49  (44.9):  98%|█████████▊| 49/50 [00:40<00:03,  3.62s/it]\u001B[A\n",
      "Average Metric: 22.0 / 50  (44.0):  98%|█████████▊| 49/50 [00:59<00:03,  3.62s/it]\u001B[A\n",
      "Average Metric: 22.0 / 50  (44.0): 100%|██████████| 50/50 [00:59<00:00,  1.18s/it]\u001B[A\n"
     ]
    },
    {
     "name": "stdout",
     "output_type": "stream",
     "text": [
      "Average Metric: 22.0 / 50  (44.0%)\n",
      "Score: 44.0 for set: [1, 1, 1, 0, 0]\n",
      "Scores so far: [16.0, 16.0, 44.0, 48.0, 44.0]\n",
      "Best score: 48.0\n",
      "Average of max per entry across top 1 scores: 0.48\n",
      "Average of max per entry across top 2 scores: 0.72\n",
      "Average of max per entry across top 3 scores: 0.8\n",
      "Average of max per entry across top 5 scores: 0.88\n",
      "Average of max per entry across top 8 scores: 0.88\n",
      "Average of max per entry across top 9999 scores: 0.88\n"
     ]
    },
    {
     "name": "stderr",
     "output_type": "stream",
     "text": [
      "\n",
      "  0%|          | 0/150 [00:00<?, ?it/s]\u001B[A\n",
      "  1%|▏         | 2/150 [00:06<08:03,  3.27s/it]\u001B[A\n",
      "  2%|▏         | 3/150 [00:13<12:04,  4.93s/it]\u001B[A\n",
      "  3%|▎         | 4/150 [00:18<11:47,  4.85s/it]\u001B[A\n",
      "  3%|▎         | 5/150 [00:25<13:43,  5.68s/it]\u001B[A\n",
      "  5%|▍         | 7/150 [00:29<10:03,  4.22s/it]\u001B[A\n"
     ]
    },
    {
     "name": "stdout",
     "output_type": "stream",
     "text": [
      "Bootstrapped 1 full traces after 8 examples in round 0.\n"
     ]
    },
    {
     "name": "stderr",
     "output_type": "stream",
     "text": [
      "\n",
      "  0%|          | 0/50 [00:00<?, ?it/s]\u001B[A\n",
      "Average Metric: 1 / 1  (100.0):   0%|          | 0/50 [00:02<?, ?it/s]\u001B[A\n",
      "Average Metric: 1 / 1  (100.0):   2%|▏         | 1/50 [00:02<02:12,  2.69s/it]\u001B[A\n",
      "Average Metric: 1 / 2  (50.0):   2%|▏         | 1/50 [00:02<02:12,  2.69s/it] \u001B[A\n",
      "Average Metric: 2 / 3  (66.7):   4%|▍         | 2/50 [00:02<02:09,  2.69s/it]\u001B[A\n",
      "Average Metric: 2 / 3  (66.7):   6%|▌         | 3/50 [00:02<00:34,  1.35it/s]\u001B[A\n",
      "Average Metric: 2 / 4  (50.0):   6%|▌         | 3/50 [00:03<00:34,  1.35it/s]\u001B[A\n",
      "Average Metric: 2 / 5  (40.0):   8%|▊         | 4/50 [00:03<00:34,  1.35it/s]\u001B[A\n",
      "Average Metric: 2 / 5  (40.0):  10%|█         | 5/50 [00:03<00:23,  1.89it/s]\u001B[A\n",
      "Average Metric: 3 / 6  (50.0):  10%|█         | 5/50 [00:03<00:23,  1.89it/s]\u001B[A\n",
      "Average Metric: 3 / 7  (42.9):  12%|█▏        | 6/50 [00:03<00:23,  1.89it/s]\u001B[A\n",
      "Average Metric: 3 / 7  (42.9):  14%|█▍        | 7/50 [00:03<00:14,  2.96it/s]\u001B[A\n",
      "Average Metric: 4 / 8  (50.0):  14%|█▍        | 7/50 [00:03<00:14,  2.96it/s]\u001B[A\n",
      "Average Metric: 5 / 9  (55.6):  16%|█▌        | 8/50 [00:03<00:14,  2.96it/s]\u001B[A\n",
      "Average Metric: 5 / 9  (55.6):  18%|█▊        | 9/50 [00:03<00:10,  3.91it/s]\u001B[A\n",
      "Average Metric: 5 / 10  (50.0):  18%|█▊        | 9/50 [00:04<00:10,  3.91it/s]\u001B[A\n",
      "Average Metric: 5 / 10  (50.0):  20%|██        | 10/50 [00:04<00:11,  3.46it/s]\u001B[A\n",
      "Average Metric: 6 / 11  (54.5):  20%|██        | 10/50 [00:04<00:11,  3.46it/s]\u001B[A\n",
      "Average Metric: 6 / 11  (54.5):  22%|██▏       | 11/50 [00:04<00:10,  3.79it/s]\u001B[A\n",
      "Average Metric: 6 / 12  (50.0):  22%|██▏       | 11/50 [00:04<00:10,  3.79it/s]\u001B[A\n",
      "Average Metric: 6 / 12  (50.0):  24%|██▍       | 12/50 [00:04<00:12,  3.14it/s]\u001B[A\n",
      "Average Metric: 7 / 13  (53.8):  24%|██▍       | 12/50 [00:05<00:12,  3.14it/s]\u001B[A\n",
      "Average Metric: 7 / 13  (53.8):  26%|██▌       | 13/50 [00:05<00:15,  2.34it/s]\u001B[A\n",
      "Average Metric: 8 / 14  (57.1):  26%|██▌       | 13/50 [00:06<00:15,  2.34it/s]\u001B[A\n",
      "Average Metric: 8 / 14  (57.1):  28%|██▊       | 14/50 [00:06<00:20,  1.75it/s]\u001B[A\n",
      "Average Metric: 8 / 15  (53.3):  28%|██▊       | 14/50 [00:06<00:20,  1.75it/s]\u001B[A\n",
      "Average Metric: 8 / 15  (53.3):  30%|███       | 15/50 [00:06<00:16,  2.18it/s]\u001B[A\n",
      "Average Metric: 8 / 16  (50.0):  30%|███       | 15/50 [00:07<00:16,  2.18it/s]\u001B[A\n",
      "Average Metric: 8 / 16  (50.0):  32%|███▏      | 16/50 [00:07<00:13,  2.52it/s]\u001B[A\n",
      "Average Metric: 9 / 17  (52.9):  32%|███▏      | 16/50 [00:07<00:13,  2.52it/s]\u001B[A\n",
      "Average Metric: 9 / 17  (52.9):  34%|███▍      | 17/50 [00:07<00:15,  2.19it/s]\u001B[A\n",
      "Average Metric: 10 / 18  (55.6):  34%|███▍      | 17/50 [00:08<00:15,  2.19it/s]\u001B[A\n",
      "Average Metric: 10 / 18  (55.6):  36%|███▌      | 18/50 [00:08<00:20,  1.59it/s]\u001B[A\n",
      "Average Metric: 11 / 19  (57.9):  36%|███▌      | 18/50 [00:08<00:20,  1.59it/s]\u001B[A\n",
      "Average Metric: 12 / 20  (60.0):  38%|███▊      | 19/50 [00:08<00:19,  1.59it/s]\u001B[A\n",
      "Average Metric: 12 / 21  (57.1):  40%|████      | 20/50 [00:08<00:18,  1.59it/s]\u001B[A\n",
      "Average Metric: 12 / 21  (57.1):  42%|████▏     | 21/50 [00:08<00:08,  3.26it/s]\u001B[A\n",
      "Average Metric: 12 / 22  (54.5):  42%|████▏     | 21/50 [00:10<00:08,  3.26it/s]\u001B[A\n",
      "Average Metric: 12 / 22  (54.5):  44%|████▍     | 22/50 [00:10<00:14,  1.99it/s]\u001B[A\n",
      "Average Metric: 12 / 23  (52.2):  44%|████▍     | 22/50 [00:10<00:14,  1.99it/s]\u001B[A\n",
      "Average Metric: 12 / 23  (52.2):  46%|████▌     | 23/50 [00:10<00:16,  1.67it/s]\u001B[A\n",
      "Average Metric: 13 / 24  (54.2):  46%|████▌     | 23/50 [00:11<00:16,  1.67it/s]\u001B[A\n",
      "Average Metric: 13 / 24  (54.2):  48%|████▊     | 24/50 [00:11<00:15,  1.70it/s]\u001B[A\n",
      "Average Metric: 13 / 25  (52.0):  48%|████▊     | 24/50 [00:11<00:15,  1.70it/s]\u001B[A\n",
      "Average Metric: 13 / 25  (52.0):  50%|█████     | 25/50 [00:11<00:13,  1.90it/s]\u001B[A\n",
      "Average Metric: 13 / 26  (50.0):  50%|█████     | 25/50 [00:12<00:13,  1.90it/s]\u001B[A\n",
      "Average Metric: 13 / 26  (50.0):  52%|█████▏    | 26/50 [00:12<00:11,  2.12it/s]\u001B[A\n",
      "Average Metric: 13 / 27  (48.1):  52%|█████▏    | 26/50 [00:12<00:11,  2.12it/s]\u001B[A\n",
      "Average Metric: 13 / 27  (48.1):  54%|█████▍    | 27/50 [00:12<00:08,  2.61it/s]\u001B[A\n",
      "Average Metric: 13 / 28  (46.4):  54%|█████▍    | 27/50 [00:13<00:08,  2.61it/s]\u001B[A\n",
      "Average Metric: 13 / 28  (46.4):  56%|█████▌    | 28/50 [00:13<00:10,  2.18it/s]\u001B[A\n",
      "Average Metric: 14 / 29  (48.3):  56%|█████▌    | 28/50 [00:14<00:10,  2.18it/s]\u001B[A\n",
      "Average Metric: 14 / 29  (48.3):  58%|█████▊    | 29/50 [00:14<00:15,  1.35it/s]\u001B[A\n",
      "Average Metric: 14 / 30  (46.7):  58%|█████▊    | 29/50 [00:15<00:15,  1.35it/s]\u001B[A\n",
      "Average Metric: 14 / 30  (46.7):  60%|██████    | 30/50 [00:15<00:14,  1.40it/s]\u001B[A\n",
      "Average Metric: 15 / 31  (48.4):  60%|██████    | 30/50 [00:15<00:14,  1.40it/s]\u001B[A\n",
      "Average Metric: 15 / 31  (48.4):  62%|██████▏   | 31/50 [00:15<00:10,  1.85it/s]\u001B[A\n",
      "Average Metric: 16 / 32  (50.0):  62%|██████▏   | 31/50 [00:15<00:10,  1.85it/s]\u001B[A\n",
      "Average Metric: 16 / 33  (48.5):  64%|██████▍   | 32/50 [00:17<00:09,  1.85it/s]\u001B[A\n",
      "Average Metric: 16 / 33  (48.5):  66%|██████▌   | 33/50 [00:17<00:12,  1.34it/s]\u001B[A\n",
      "Average Metric: 17 / 34  (50.0):  66%|██████▌   | 33/50 [00:17<00:12,  1.34it/s]\u001B[A\n",
      "Average Metric: 17 / 34  (50.0):  68%|██████▊   | 34/50 [00:17<00:10,  1.51it/s]\u001B[A\n",
      "Average Metric: 18 / 35  (51.4):  68%|██████▊   | 34/50 [00:17<00:10,  1.51it/s]\u001B[A\n",
      "Average Metric: 18 / 36  (50.0):  70%|███████   | 35/50 [00:17<00:09,  1.51it/s]\u001B[A\n",
      "Average Metric: 19 / 37  (51.4):  72%|███████▏  | 36/50 [00:18<00:09,  1.51it/s]\u001B[A\n",
      "Average Metric: 19 / 37  (51.4):  74%|███████▍  | 37/50 [00:18<00:05,  2.41it/s]\u001B[A\n",
      "Average Metric: 20 / 38  (52.6):  74%|███████▍  | 37/50 [00:18<00:05,  2.41it/s]\u001B[A\n",
      "Average Metric: 21 / 39  (53.8):  76%|███████▌  | 38/50 [00:18<00:04,  2.41it/s]\u001B[A\n",
      "Average Metric: 21 / 39  (53.8):  78%|███████▊  | 39/50 [00:18<00:04,  2.63it/s]\u001B[A\n",
      "Average Metric: 21 / 40  (52.5):  78%|███████▊  | 39/50 [00:18<00:04,  2.63it/s]\u001B[A\n",
      "Average Metric: 21 / 40  (52.5):  80%|████████  | 40/50 [00:18<00:03,  3.04it/s]\u001B[A\n",
      "Average Metric: 21 / 41  (51.2):  80%|████████  | 40/50 [00:19<00:03,  3.04it/s]\u001B[A\n",
      "Average Metric: 21 / 41  (51.2):  82%|████████▏ | 41/50 [00:19<00:03,  2.52it/s]\u001B[A\n",
      "Average Metric: 21 / 42  (50.0):  82%|████████▏ | 41/50 [00:20<00:03,  2.52it/s]\u001B[A\n",
      "Average Metric: 21 / 42  (50.0):  84%|████████▍ | 42/50 [00:20<00:03,  2.17it/s]\u001B[A\n",
      "Average Metric: 22 / 43  (51.2):  84%|████████▍ | 42/50 [00:20<00:03,  2.17it/s]\u001B[A\n",
      "Average Metric: 22 / 43  (51.2):  86%|████████▌ | 43/50 [00:20<00:02,  2.53it/s]\u001B[A\n",
      "Average Metric: 22 / 44  (50.0):  86%|████████▌ | 43/50 [00:20<00:02,  2.53it/s]\u001B[A\n",
      "Average Metric: 22 / 44  (50.0):  88%|████████▊ | 44/50 [00:20<00:02,  2.42it/s]\u001B[A\n",
      "Average Metric: 23 / 45  (51.1):  88%|████████▊ | 44/50 [00:21<00:02,  2.42it/s]\u001B[A\n",
      "Average Metric: 23 / 45  (51.1):  90%|█████████ | 45/50 [00:21<00:02,  2.18it/s]\u001B[A\n",
      "Average Metric: 23 / 46  (50.0):  90%|█████████ | 45/50 [00:21<00:02,  2.18it/s]\u001B[A\n",
      "Average Metric: 23 / 46  (50.0):  92%|█████████▏| 46/50 [00:21<00:01,  2.47it/s]\u001B[A\n",
      "Average Metric: 23 / 47  (48.9):  92%|█████████▏| 46/50 [00:22<00:01,  2.47it/s]\u001B[A\n",
      "Average Metric: 23 / 47  (48.9):  94%|█████████▍| 47/50 [00:22<00:01,  1.57it/s]\u001B[A\n",
      "Average Metric: 24 / 48  (50.0):  94%|█████████▍| 47/50 [00:23<00:01,  1.57it/s]\u001B[A\n",
      "Average Metric: 24 / 48  (50.0):  96%|█████████▌| 48/50 [00:23<00:01,  1.44it/s]\u001B[A\n",
      "Average Metric: 25 / 49  (51.0):  96%|█████████▌| 48/50 [00:24<00:01,  1.44it/s]\u001B[A\n",
      "Average Metric: 25 / 49  (51.0):  98%|█████████▊| 49/50 [00:24<00:00,  1.57it/s]\u001B[A\n",
      "Average Metric: 25 / 50  (50.0):  98%|█████████▊| 49/50 [00:40<00:00,  1.57it/s]\u001B[A\n",
      "Average Metric: 25 / 50  (50.0): 100%|██████████| 50/50 [00:40<00:00,  1.22it/s]\u001B[A\n"
     ]
    },
    {
     "name": "stdout",
     "output_type": "stream",
     "text": [
      "Average Metric: 25 / 50  (50.0%)\n",
      "Score: 50.0 for set: [1, 1, 0, 0, 0]\n",
      "New best score: 50.0 for seed 2\n",
      "Scores so far: [16.0, 16.0, 44.0, 48.0, 44.0, 50.0]\n",
      "Best score: 50.0\n",
      "Average of max per entry across top 1 scores: 0.5\n",
      "Average of max per entry across top 2 scores: 0.7\n",
      "Average of max per entry across top 3 scores: 0.84\n",
      "Average of max per entry across top 5 scores: 0.88\n",
      "Average of max per entry across top 8 scores: 0.92\n",
      "Average of max per entry across top 9999 scores: 0.92\n"
     ]
    },
    {
     "name": "stderr",
     "output_type": "stream",
     "text": [
      "\n",
      "  0%|          | 0/150 [00:00<?, ?it/s]\u001B[A\n",
      "  1%|          | 1/150 [00:32<1:19:43, 32.10s/it]\u001B[A\n",
      "  1%|▏         | 2/150 [00:57<1:09:47, 28.29s/it]\u001B[A\n",
      "  2%|▏         | 3/150 [01:07<48:14, 19.69s/it]  \u001B[A\n",
      "  3%|▎         | 5/150 [01:13<25:04, 10.37s/it]\u001B[A\n",
      "  4%|▍         | 6/150 [01:21<32:46, 13.65s/it]\u001B[A\n"
     ]
    },
    {
     "name": "stdout",
     "output_type": "stream",
     "text": [
      "Bootstrapped 1 full traces after 7 examples in round 0.\n"
     ]
    },
    {
     "name": "stderr",
     "output_type": "stream",
     "text": [
      "\n",
      "  0%|          | 0/50 [00:00<?, ?it/s]\u001B[A\n",
      "Average Metric: 0 / 1  (0.0):   0%|          | 0/50 [00:02<?, ?it/s]\u001B[A\n",
      "Average Metric: 0 / 1  (0.0):   2%|▏         | 1/50 [00:02<02:08,  2.62s/it]\u001B[A\n",
      "Average Metric: 1 / 2  (50.0):   2%|▏         | 1/50 [00:03<02:08,  2.62s/it]\u001B[A\n",
      "Average Metric: 1 / 2  (50.0):   4%|▍         | 2/50 [00:03<01:03,  1.33s/it]\u001B[A\n",
      "Average Metric: 2 / 3  (66.7):   4%|▍         | 2/50 [00:03<01:03,  1.33s/it]\u001B[A\n",
      "Average Metric: 2 / 3  (66.7):   6%|▌         | 3/50 [00:03<00:44,  1.05it/s]\u001B[A\n",
      "Average Metric: 2 / 4  (50.0):   6%|▌         | 3/50 [00:04<00:44,  1.05it/s]\u001B[A\n",
      "Average Metric: 2 / 4  (50.0):   8%|▊         | 4/50 [00:04<00:38,  1.20it/s]\u001B[A\n",
      "Average Metric: 3 / 5  (60.0):   8%|▊         | 4/50 [00:04<00:38,  1.20it/s]\u001B[A\n",
      "Average Metric: 3 / 6  (50.0):  10%|█         | 5/50 [00:04<00:37,  1.20it/s]\u001B[A\n",
      "Average Metric: 3 / 6  (50.0):  12%|█▏        | 6/50 [00:04<00:18,  2.37it/s]\u001B[A\n",
      "Average Metric: 3 / 7  (42.9):  12%|█▏        | 6/50 [00:04<00:18,  2.37it/s]\u001B[A\n",
      "Average Metric: 3 / 7  (42.9):  14%|█▍        | 7/50 [00:04<00:16,  2.62it/s]\u001B[A\n",
      "Average Metric: 3 / 8  (37.5):  14%|█▍        | 7/50 [00:05<00:16,  2.62it/s]\u001B[A\n",
      "Average Metric: 3 / 8  (37.5):  16%|█▌        | 8/50 [00:05<00:27,  1.55it/s]\u001B[A\n",
      "Average Metric: 3 / 9  (33.3):  16%|█▌        | 8/50 [00:05<00:27,  1.55it/s]\u001B[A\n",
      "Average Metric: 4 / 10  (40.0):  18%|█▊        | 9/50 [00:05<00:26,  1.55it/s]\u001B[A\n",
      "Average Metric: 5 / 11  (45.5):  20%|██        | 10/50 [00:06<00:25,  1.55it/s]\u001B[A\n",
      "Average Metric: 5 / 11  (45.5):  22%|██▏       | 11/50 [00:06<00:15,  2.57it/s]\u001B[A\n",
      "Average Metric: 6 / 12  (50.0):  22%|██▏       | 11/50 [00:06<00:15,  2.57it/s]\u001B[A\n",
      "Average Metric: 7 / 13  (53.8):  24%|██▍       | 12/50 [00:06<00:14,  2.57it/s]\u001B[A\n",
      "Average Metric: 7 / 13  (53.8):  26%|██▌       | 13/50 [00:06<00:12,  2.89it/s]\u001B[A\n",
      "Average Metric: 7 / 14  (50.0):  26%|██▌       | 13/50 [00:07<00:12,  2.89it/s]\u001B[A\n",
      "Average Metric: 7 / 14  (50.0):  28%|██▊       | 14/50 [00:07<00:11,  3.16it/s]\u001B[A\n",
      "Average Metric: 8 / 15  (53.3):  28%|██▊       | 14/50 [00:07<00:11,  3.16it/s]\u001B[A\n",
      "Average Metric: 8 / 15  (53.3):  30%|███       | 15/50 [00:07<00:11,  3.05it/s]\u001B[A\n",
      "Average Metric: 9 / 16  (56.2):  30%|███       | 15/50 [00:07<00:11,  3.05it/s]\u001B[A\n",
      "Average Metric: 9 / 16  (56.2):  32%|███▏      | 16/50 [00:07<00:12,  2.81it/s]\u001B[A\n",
      "Average Metric: 10 / 17  (58.8):  32%|███▏      | 16/50 [00:08<00:12,  2.81it/s]\u001B[A\n",
      "Average Metric: 10 / 17  (58.8):  34%|███▍      | 17/50 [00:08<00:14,  2.25it/s]\u001B[A\n",
      "Average Metric: 10 / 18  (55.6):  34%|███▍      | 17/50 [00:09<00:14,  2.25it/s]\u001B[A\n",
      "Average Metric: 10 / 18  (55.6):  36%|███▌      | 18/50 [00:09<00:14,  2.14it/s]\u001B[A\n",
      "Average Metric: 10 / 19  (52.6):  36%|███▌      | 18/50 [00:09<00:14,  2.14it/s]\u001B[A\n",
      "Average Metric: 11 / 20  (55.0):  38%|███▊      | 19/50 [00:10<00:14,  2.14it/s]\u001B[A\n",
      "Average Metric: 11 / 20  (55.0):  40%|████      | 20/50 [00:10<00:16,  1.84it/s]\u001B[A\n",
      "Average Metric: 11 / 21  (52.4):  40%|████      | 20/50 [00:11<00:16,  1.84it/s]\u001B[A\n",
      "Average Metric: 11 / 21  (52.4):  42%|████▏     | 21/50 [00:11<00:15,  1.85it/s]\u001B[A\n",
      "Average Metric: 11 / 22  (50.0):  42%|████▏     | 21/50 [00:11<00:15,  1.85it/s]\u001B[A\n",
      "Average Metric: 11 / 23  (47.8):  44%|████▍     | 22/50 [00:11<00:15,  1.85it/s]\u001B[A\n",
      "Average Metric: 11 / 23  (47.8):  46%|████▌     | 23/50 [00:11<00:10,  2.62it/s]\u001B[A\n",
      "Average Metric: 11 / 24  (45.8):  46%|████▌     | 23/50 [00:12<00:10,  2.62it/s]\u001B[A\n",
      "Average Metric: 11 / 24  (45.8):  48%|████▊     | 24/50 [00:12<00:13,  1.98it/s]\u001B[A\n",
      "Average Metric: 11 / 25  (44.0):  48%|████▊     | 24/50 [00:12<00:13,  1.98it/s]\u001B[A\n",
      "Average Metric: 11 / 25  (44.0):  50%|█████     | 25/50 [00:12<00:12,  2.00it/s]\u001B[A\n",
      "Average Metric: 11 / 26  (42.3):  50%|█████     | 25/50 [00:13<00:12,  2.00it/s]\u001B[A\n",
      "Average Metric: 11 / 26  (42.3):  52%|█████▏    | 26/50 [00:13<00:13,  1.79it/s]\u001B[A\n",
      "Average Metric: 11 / 27  (40.7):  52%|█████▏    | 26/50 [00:13<00:13,  1.79it/s]\u001B[A\n",
      "Average Metric: 11 / 27  (40.7):  54%|█████▍    | 27/50 [00:13<00:10,  2.16it/s]\u001B[A\n",
      "Average Metric: 11 / 28  (39.3):  54%|█████▍    | 27/50 [00:14<00:10,  2.16it/s]\u001B[A\n",
      "Average Metric: 11 / 28  (39.3):  56%|█████▌    | 28/50 [00:14<00:10,  2.03it/s]\u001B[A\n",
      "Average Metric: 11 / 29  (37.9):  56%|█████▌    | 28/50 [00:16<00:10,  2.03it/s]\u001B[A\n",
      "Average Metric: 11 / 29  (37.9):  58%|█████▊    | 29/50 [00:16<00:22,  1.07s/it]\u001B[A\n",
      "Average Metric: 11 / 30  (36.7):  58%|█████▊    | 29/50 [00:16<00:22,  1.07s/it]\u001B[A\n",
      "Average Metric: 11 / 30  (36.7):  60%|██████    | 30/50 [00:16<00:16,  1.22it/s]\u001B[A\n",
      "Average Metric: 12 / 31  (38.7):  60%|██████    | 30/50 [00:17<00:16,  1.22it/s]\u001B[A\n",
      "Average Metric: 12 / 31  (38.7):  62%|██████▏   | 31/50 [00:17<00:12,  1.58it/s]\u001B[A\n",
      "Average Metric: 13 / 32  (40.6):  62%|██████▏   | 31/50 [00:18<00:12,  1.58it/s]\u001B[A\n",
      "Average Metric: 13 / 32  (40.6):  64%|██████▍   | 32/50 [00:18<00:13,  1.34it/s]\u001B[A\n",
      "Average Metric: 14 / 33  (42.4):  64%|██████▍   | 32/50 [00:18<00:13,  1.34it/s]\u001B[A\n",
      "Average Metric: 15 / 34  (44.1):  66%|██████▌   | 33/50 [00:18<00:12,  1.34it/s]\u001B[A\n",
      "Average Metric: 15 / 34  (44.1):  68%|██████▊   | 34/50 [00:18<00:08,  1.97it/s]\u001B[A\n",
      "Average Metric: 15 / 35  (42.9):  68%|██████▊   | 34/50 [00:18<00:08,  1.97it/s]\u001B[A\n",
      "Average Metric: 15 / 35  (42.9):  70%|███████   | 35/50 [00:18<00:06,  2.37it/s]\u001B[A\n",
      "Average Metric: 16 / 36  (44.4):  70%|███████   | 35/50 [00:18<00:06,  2.37it/s]\u001B[A\n",
      "Average Metric: 17 / 37  (45.9):  72%|███████▏  | 36/50 [00:19<00:05,  2.37it/s]\u001B[A\n",
      "Average Metric: 17 / 37  (45.9):  74%|███████▍  | 37/50 [00:19<00:04,  2.80it/s]\u001B[A\n",
      "Average Metric: 17 / 38  (44.7):  74%|███████▍  | 37/50 [00:19<00:04,  2.80it/s]\u001B[A\n",
      "Average Metric: 17 / 38  (44.7):  76%|███████▌  | 38/50 [00:19<00:04,  2.46it/s]\u001B[A\n",
      "Average Metric: 17 / 39  (43.6):  76%|███████▌  | 38/50 [00:20<00:04,  2.46it/s]\u001B[A\n",
      "Average Metric: 17 / 39  (43.6):  78%|███████▊  | 39/50 [00:20<00:03,  2.94it/s]\u001B[A\n",
      "Average Metric: 17.0 / 40  (42.5):  78%|███████▊  | 39/50 [00:21<00:03,  2.94it/s]\u001B[A\n",
      "Average Metric: 17.0 / 40  (42.5):  80%|████████  | 40/50 [00:21<00:07,  1.32it/s]\u001B[A"
     ]
    },
    {
     "name": "stdout",
     "output_type": "stream",
     "text": [
      "Error for example in dev set: \t\t not enough values to unpack (expected 2, got 1)\n"
     ]
    },
    {
     "name": "stderr",
     "output_type": "stream",
     "text": [
      "\n",
      "Average Metric: 18.0 / 41  (43.9):  80%|████████  | 40/50 [00:22<00:07,  1.32it/s]\u001B[A\n",
      "Average Metric: 18.0 / 41  (43.9):  82%|████████▏ | 41/50 [00:22<00:06,  1.34it/s]\u001B[A\n",
      "Average Metric: 18.0 / 42  (42.9):  82%|████████▏ | 41/50 [00:22<00:06,  1.34it/s]\u001B[A\n",
      "Average Metric: 18.0 / 43  (41.9):  84%|████████▍ | 42/50 [00:23<00:05,  1.34it/s]\u001B[A\n",
      "Average Metric: 18.0 / 43  (41.9):  86%|████████▌ | 43/50 [00:23<00:03,  1.78it/s]\u001B[A\n",
      "Average Metric: 18.0 / 44  (40.9):  86%|████████▌ | 43/50 [00:23<00:03,  1.78it/s]\u001B[A\n",
      "Average Metric: 18.0 / 44  (40.9):  88%|████████▊ | 44/50 [00:23<00:02,  2.11it/s]\u001B[A\n",
      "Average Metric: 18.0 / 45  (40.0):  88%|████████▊ | 44/50 [00:24<00:02,  2.11it/s]\u001B[A\n",
      "Average Metric: 18.0 / 45  (40.0):  90%|█████████ | 45/50 [00:24<00:02,  2.08it/s]\u001B[A\n",
      "Average Metric: 18.0 / 46  (39.1):  90%|█████████ | 45/50 [00:24<00:02,  2.08it/s]\u001B[A\n",
      "Average Metric: 18.0 / 46  (39.1):  92%|█████████▏| 46/50 [00:24<00:01,  2.34it/s]\u001B[A\n",
      "Average Metric: 18.0 / 47  (38.3):  92%|█████████▏| 46/50 [00:25<00:01,  2.34it/s]\u001B[A\n",
      "Average Metric: 18.0 / 47  (38.3):  94%|█████████▍| 47/50 [00:25<00:02,  1.45it/s]\u001B[A\n",
      "Average Metric: 19.0 / 48  (39.6):  94%|█████████▍| 47/50 [00:26<00:02,  1.45it/s]\u001B[A\n",
      "Average Metric: 19.0 / 48  (39.6):  96%|█████████▌| 48/50 [00:26<00:01,  1.24it/s]\u001B[A\n",
      "Average Metric: 20.0 / 49  (40.8):  96%|█████████▌| 48/50 [00:30<00:01,  1.24it/s]\u001B[A\n",
      "Average Metric: 20.0 / 49  (40.8):  98%|█████████▊| 49/50 [00:30<00:01,  1.54s/it]\u001B[A\n",
      "Average Metric: 20.0 / 50  (40.0):  98%|█████████▊| 49/50 [00:30<00:01,  1.54s/it]\u001B[A\n",
      "Average Metric: 20.0 / 50  (40.0): 100%|██████████| 50/50 [00:30<00:00,  1.62it/s]\u001B[A\n"
     ]
    },
    {
     "name": "stdout",
     "output_type": "stream",
     "text": [
      "Average Metric: 20.0 / 50  (40.0%)\n",
      "Score: 40.0 for set: [1, 1, 1, 0, 0]\n",
      "Scores so far: [16.0, 16.0, 44.0, 48.0, 44.0, 50.0, 40.0]\n",
      "Best score: 50.0\n",
      "Average of max per entry across top 1 scores: 0.5\n",
      "Average of max per entry across top 2 scores: 0.7\n",
      "Average of max per entry across top 3 scores: 0.84\n",
      "Average of max per entry across top 5 scores: 0.92\n",
      "Average of max per entry across top 8 scores: 0.96\n",
      "Average of max per entry across top 9999 scores: 0.96\n"
     ]
    },
    {
     "name": "stderr",
     "output_type": "stream",
     "text": [
      "\n",
      "  0%|          | 0/150 [00:00<?, ?it/s]\u001B[A\n",
      "  1%|          | 1/150 [00:20<51:28, 20.73s/it]\u001B[A\n",
      "  1%|▏         | 2/150 [00:40<50:24, 20.44s/it]\u001B[A\n",
      "  2%|▏         | 3/150 [00:42<29:19, 11.97s/it]\u001B[A\n",
      "  3%|▎         | 4/150 [00:50<24:33, 10.09s/it]\u001B[A\n",
      "  3%|▎         | 5/150 [01:18<40:18, 16.68s/it]\u001B[A\n",
      "  4%|▍         | 6/150 [01:23<30:34, 12.74s/it]\u001B[A\n",
      "  5%|▍         | 7/150 [01:33<27:50, 11.68s/it]\u001B[A\n",
      "  5%|▌         | 8/150 [01:47<29:59, 12.67s/it]\u001B[A\n",
      "  7%|▋         | 10/150 [01:51<17:29,  7.50s/it]\u001B[A\n",
      "  7%|▋         | 11/150 [02:01<25:40, 11.08s/it]\u001B[A\n"
     ]
    },
    {
     "name": "stdout",
     "output_type": "stream",
     "text": [
      "Bootstrapped 1 full traces after 12 examples in round 0.\n"
     ]
    },
    {
     "name": "stderr",
     "output_type": "stream",
     "text": [
      "\n",
      "  0%|          | 0/50 [00:00<?, ?it/s]\u001B[A\n",
      "Average Metric: 1 / 1  (100.0):   0%|          | 0/50 [00:03<?, ?it/s]\u001B[A\n",
      "Average Metric: 1 / 1  (100.0):   2%|▏         | 1/50 [00:03<02:36,  3.20s/it]\u001B[A\n",
      "Average Metric: 2 / 2  (100.0):   2%|▏         | 1/50 [00:03<02:36,  3.20s/it]\u001B[A\n",
      "Average Metric: 2 / 3  (66.7):   4%|▍         | 2/50 [00:03<02:33,  3.20s/it] \u001B[A\n",
      "Average Metric: 2 / 3  (66.7):   6%|▌         | 3/50 [00:03<00:42,  1.11it/s]\u001B[A\n",
      "Average Metric: 2 / 4  (50.0):   6%|▌         | 3/50 [00:03<00:42,  1.11it/s]\u001B[A\n",
      "Average Metric: 2 / 4  (50.0):   8%|▊         | 4/50 [00:03<00:31,  1.46it/s]\u001B[A\n",
      "Average Metric: 3 / 5  (60.0):   8%|▊         | 4/50 [00:03<00:31,  1.46it/s]\u001B[A\n",
      "Average Metric: 3 / 5  (60.0):  10%|█         | 5/50 [00:03<00:24,  1.80it/s]\u001B[A\n",
      "Average Metric: 4 / 6  (66.7):  10%|█         | 5/50 [00:04<00:24,  1.80it/s]\u001B[A\n",
      "Average Metric: 4 / 6  (66.7):  12%|█▏        | 6/50 [00:04<00:19,  2.20it/s]\u001B[A\n",
      "Average Metric: 5 / 7  (71.4):  12%|█▏        | 6/50 [00:05<00:19,  2.20it/s]\u001B[A\n",
      "Average Metric: 5 / 7  (71.4):  14%|█▍        | 7/50 [00:05<00:34,  1.26it/s]\u001B[A\n",
      "Average Metric: 5 / 8  (62.5):  14%|█▍        | 7/50 [00:06<00:34,  1.26it/s]\u001B[A\n",
      "Average Metric: 5 / 8  (62.5):  16%|█▌        | 8/50 [00:06<00:27,  1.50it/s]\u001B[A\n",
      "Average Metric: 5 / 9  (55.6):  16%|█▌        | 8/50 [00:06<00:27,  1.50it/s]\u001B[A\n",
      "Average Metric: 5 / 9  (55.6):  18%|█▊        | 9/50 [00:06<00:23,  1.75it/s]\u001B[A\n",
      "Average Metric: 5 / 10  (50.0):  18%|█▊        | 9/50 [00:07<00:23,  1.75it/s]\u001B[A\n",
      "Average Metric: 5 / 10  (50.0):  20%|██        | 10/50 [00:07<00:22,  1.78it/s]\u001B[A\n",
      "Average Metric: 6 / 11  (54.5):  20%|██        | 10/50 [00:07<00:22,  1.78it/s]\u001B[A\n",
      "Average Metric: 6 / 11  (54.5):  22%|██▏       | 11/50 [00:07<00:17,  2.20it/s]\u001B[A\n",
      "Average Metric: 7 / 12  (58.3):  22%|██▏       | 11/50 [00:07<00:17,  2.20it/s]\u001B[A\n",
      "Average Metric: 7 / 12  (58.3):  24%|██▍       | 12/50 [00:07<00:13,  2.73it/s]\u001B[A\n",
      "Average Metric: 8 / 13  (61.5):  24%|██▍       | 12/50 [00:08<00:13,  2.73it/s]\u001B[A\n",
      "Average Metric: 8 / 13  (61.5):  26%|██▌       | 13/50 [00:08<00:16,  2.25it/s]\u001B[A\n",
      "Average Metric: 9 / 14  (64.3):  26%|██▌       | 13/50 [00:08<00:16,  2.25it/s]\u001B[A\n",
      "Average Metric: 9 / 14  (64.3):  28%|██▊       | 14/50 [00:08<00:12,  2.79it/s]\u001B[A\n",
      "Average Metric: 9.0 / 15  (60.0):  28%|██▊       | 14/50 [00:15<00:12,  2.79it/s]\u001B[A\n",
      "Average Metric: 9.0 / 15  (60.0):  30%|███       | 15/50 [00:15<01:22,  2.36s/it]\u001B[A"
     ]
    },
    {
     "name": "stdout",
     "output_type": "stream",
     "text": [
      "Error for example in dev set: \t\t HTTPConnectionPool(host='192.168.31.215', port=10890): Read timed out. (read timeout=10)\n"
     ]
    },
    {
     "name": "stderr",
     "output_type": "stream",
     "text": [
      "\n",
      "Average Metric: 9.0 / 16  (56.2):  30%|███       | 15/50 [00:18<01:22,  2.36s/it]\u001B[A\n",
      "Average Metric: 9.0 / 16  (56.2):  32%|███▏      | 16/50 [00:18<01:27,  2.58s/it]\u001B[A"
     ]
    },
    {
     "name": "stdout",
     "output_type": "stream",
     "text": [
      "Error for example in dev set: \t\t HTTPConnectionPool(host='192.168.31.215', port=10890): Read timed out. (read timeout=10)\n"
     ]
    },
    {
     "name": "stderr",
     "output_type": "stream",
     "text": [
      "\n",
      "Average Metric: 9.0 / 17  (52.9):  32%|███▏      | 16/50 [00:28<01:27,  2.58s/it]\u001B[A\n",
      "Average Metric: 9.0 / 17  (52.9):  34%|███▍      | 17/50 [00:28<02:37,  4.77s/it]\u001B[A"
     ]
    },
    {
     "name": "stdout",
     "output_type": "stream",
     "text": [
      "Error for example in dev set: \t\t HTTPConnectionPool(host='192.168.31.215', port=10890): Read timed out. (read timeout=10)\n"
     ]
    },
    {
     "name": "stderr",
     "output_type": "stream",
     "text": [
      "\n",
      "Average Metric: 9.0 / 18  (50.0):  34%|███▍      | 17/50 [00:31<02:37,  4.77s/it]\u001B[A\n",
      "Average Metric: 9.0 / 18  (50.0):  36%|███▌      | 18/50 [00:31<02:17,  4.29s/it]\u001B[A\n",
      "Average Metric: 9.0 / 19  (47.4):  36%|███▌      | 18/50 [00:34<02:17,  4.29s/it]\u001B[A\n",
      "Average Metric: 9.0 / 19  (47.4):  38%|███▊      | 19/50 [00:34<02:05,  4.04s/it]\u001B[A\n",
      "Average Metric: 10.0 / 20  (50.0):  38%|███▊      | 19/50 [00:35<02:05,  4.04s/it]\u001B[A\n",
      "Average Metric: 10.0 / 20  (50.0):  40%|████      | 20/50 [00:35<01:33,  3.13s/it]\u001B[A\n",
      "Average Metric: 10.0 / 21  (47.6):  40%|████      | 20/50 [00:38<01:33,  3.13s/it]\u001B[A\n",
      "Average Metric: 10.0 / 21  (47.6):  42%|████▏     | 21/50 [00:38<01:26,  3.00s/it]\u001B[A\n",
      "Average Metric: 11.0 / 22  (50.0):  42%|████▏     | 21/50 [00:40<01:26,  3.00s/it]\u001B[A\n",
      "Average Metric: 11.0 / 22  (50.0):  44%|████▍     | 22/50 [00:40<01:19,  2.84s/it]\u001B[A\n",
      "Average Metric: 11.0 / 23  (47.8):  44%|████▍     | 22/50 [00:41<01:19,  2.84s/it]\u001B[A\n",
      "Average Metric: 11.0 / 23  (47.8):  46%|████▌     | 23/50 [00:41<01:00,  2.26s/it]\u001B[A\n",
      "Average Metric: 11.0 / 24  (45.8):  46%|████▌     | 23/50 [00:41<01:00,  2.26s/it]\u001B[A\n",
      "Average Metric: 11.0 / 24  (45.8):  48%|████▊     | 24/50 [00:41<00:42,  1.62s/it]\u001B[A\n",
      "Average Metric: 11.0 / 25  (44.0):  48%|████▊     | 24/50 [00:42<00:42,  1.62s/it]\u001B[A\n",
      "Average Metric: 11.0 / 25  (44.0):  50%|█████     | 25/50 [00:42<00:34,  1.39s/it]\u001B[A\n",
      "Average Metric: 11.0 / 26  (42.3):  50%|█████     | 25/50 [00:45<00:34,  1.39s/it]\u001B[A\n",
      "Average Metric: 11.0 / 26  (42.3):  52%|█████▏    | 26/50 [00:45<00:39,  1.66s/it]\u001B[A\n",
      "Average Metric: 11.0 / 27  (40.7):  52%|█████▏    | 26/50 [00:45<00:39,  1.66s/it]\u001B[A\n",
      "Average Metric: 11.0 / 27  (40.7):  54%|█████▍    | 27/50 [00:45<00:29,  1.29s/it]\u001B[A"
     ]
    },
    {
     "name": "stdout",
     "output_type": "stream",
     "text": [
      "Error for example in dev set: \t\t Request timed out.\n"
     ]
    },
    {
     "name": "stderr",
     "output_type": "stream",
     "text": [
      "\n",
      "Average Metric: 11.0 / 28  (39.3):  54%|█████▍    | 27/50 [00:46<00:29,  1.29s/it]\u001B[A\n",
      "Average Metric: 11.0 / 28  (39.3):  56%|█████▌    | 28/50 [00:46<00:24,  1.13s/it]\u001B[A"
     ]
    },
    {
     "name": "stdout",
     "output_type": "stream",
     "text": [
      "Error for example in dev set: \t\t HTTPConnectionPool(host='192.168.31.215', port=10890): Read timed out. (read timeout=10)\n"
     ]
    },
    {
     "name": "stderr",
     "output_type": "stream",
     "text": [
      "\n",
      "Average Metric: 11.0 / 29  (37.9):  56%|█████▌    | 28/50 [00:49<00:24,  1.13s/it]\u001B[A\n",
      "Average Metric: 11.0 / 29  (37.9):  58%|█████▊    | 29/50 [00:49<00:34,  1.62s/it]\u001B[A\n",
      "Average Metric: 12.0 / 30  (40.0):  58%|█████▊    | 29/50 [00:50<00:34,  1.62s/it]\u001B[A\n",
      "Average Metric: 12.0 / 30  (40.0):  60%|██████    | 30/50 [00:50<00:32,  1.64s/it]\u001B[A\n",
      "Average Metric: 13.0 / 31  (41.9):  60%|██████    | 30/50 [00:51<00:32,  1.64s/it]\u001B[A\n",
      "Average Metric: 13.0 / 31  (41.9):  62%|██████▏   | 31/50 [00:51<00:27,  1.43s/it]\u001B[A\n",
      "Average Metric: 14.0 / 32  (43.8):  62%|██████▏   | 31/50 [00:53<00:27,  1.43s/it]\u001B[A\n",
      "Average Metric: 14.0 / 32  (43.8):  64%|██████▍   | 32/50 [00:53<00:26,  1.50s/it]\u001B[A\n",
      "Average Metric: 14.0 / 33  (42.4):  64%|██████▍   | 32/50 [00:54<00:26,  1.50s/it]\u001B[A\n",
      "Average Metric: 14.0 / 33  (42.4):  66%|██████▌   | 33/50 [00:54<00:25,  1.51s/it]\u001B[A\n",
      "Average Metric: 14.0 / 34  (41.2):  66%|██████▌   | 33/50 [00:54<00:25,  1.51s/it]\u001B[A\n",
      "Average Metric: 14.0 / 35  (40.0):  68%|██████▊   | 34/50 [00:55<00:24,  1.51s/it]\u001B[A\n",
      "Average Metric: 14.0 / 35  (40.0):  70%|███████   | 35/50 [00:55<00:15,  1.01s/it]\u001B[A\n",
      "Average Metric: 14.0 / 36  (38.9):  70%|███████   | 35/50 [00:56<00:15,  1.01s/it]\u001B[A\n",
      "Average Metric: 14.0 / 36  (38.9):  72%|███████▏  | 36/50 [00:56<00:14,  1.02s/it]\u001B[A\n",
      "Average Metric: 15.0 / 37  (40.5):  72%|███████▏  | 36/50 [00:57<00:14,  1.02s/it]\u001B[A\n",
      "Average Metric: 15.0 / 37  (40.5):  74%|███████▍  | 37/50 [00:57<00:11,  1.18it/s]\u001B[A\n",
      "Average Metric: 16.0 / 38  (42.1):  74%|███████▍  | 37/50 [00:57<00:11,  1.18it/s]\u001B[A\n",
      "Average Metric: 16.0 / 38  (42.1):  76%|███████▌  | 38/50 [00:57<00:09,  1.31it/s]\u001B[A\n",
      "Average Metric: 16.0 / 39  (41.0):  76%|███████▌  | 38/50 [00:58<00:09,  1.31it/s]\u001B[A\n",
      "Average Metric: 16.0 / 39  (41.0):  78%|███████▊  | 39/50 [00:58<00:07,  1.46it/s]\u001B[A\n",
      "Average Metric: 17.0 / 40  (42.5):  78%|███████▊  | 39/50 [01:02<00:07,  1.46it/s]\u001B[A\n",
      "Average Metric: 17.0 / 40  (42.5):  80%|████████  | 40/50 [01:02<00:15,  1.60s/it]\u001B[A\n",
      "Average Metric: 18.0 / 41  (43.9):  80%|████████  | 40/50 [01:02<00:15,  1.60s/it]\u001B[A\n",
      "Average Metric: 18.0 / 41  (43.9):  82%|████████▏ | 41/50 [01:02<00:11,  1.27s/it]\u001B[A\n",
      "Average Metric: 18.0 / 42  (42.9):  82%|████████▏ | 41/50 [01:02<00:11,  1.27s/it]\u001B[A\n",
      "Average Metric: 18.0 / 42  (42.9):  84%|████████▍ | 42/50 [01:02<00:07,  1.06it/s]\u001B[A"
     ]
    },
    {
     "name": "stdout",
     "output_type": "stream",
     "text": [
      "Error for example in dev set: \t\t Connection error.\n"
     ]
    },
    {
     "name": "stderr",
     "output_type": "stream",
     "text": [
      "\n",
      "Average Metric: 18.0 / 43  (41.9):  84%|████████▍ | 42/50 [01:03<00:07,  1.06it/s]\u001B[A\n",
      "Average Metric: 18.0 / 43  (41.9):  86%|████████▌ | 43/50 [01:03<00:06,  1.14it/s]\u001B[A\n",
      "Average Metric: 19.0 / 44  (43.2):  86%|████████▌ | 43/50 [01:03<00:06,  1.14it/s]\u001B[A\n",
      "Average Metric: 19.0 / 44  (43.2):  88%|████████▊ | 44/50 [01:03<00:04,  1.50it/s]\u001B[A\n",
      "Average Metric: 19.0 / 45  (42.2):  88%|████████▊ | 44/50 [01:06<00:04,  1.50it/s]\u001B[A\n",
      "Average Metric: 19.0 / 45  (42.2):  90%|█████████ | 45/50 [01:06<00:07,  1.45s/it]\u001B[A\n",
      "Average Metric: 19.0 / 46  (41.3):  90%|█████████ | 45/50 [01:06<00:07,  1.45s/it]\u001B[A\n",
      "Average Metric: 19.0 / 47  (40.4):  92%|█████████▏| 46/50 [01:06<00:05,  1.45s/it]\u001B[A\n",
      "Average Metric: 19.0 / 47  (40.4):  94%|█████████▍| 47/50 [01:06<00:02,  1.23it/s]\u001B[A"
     ]
    },
    {
     "name": "stdout",
     "output_type": "stream",
     "text": [
      "Error for example in dev set: \t\t Connection error.\n"
     ]
    },
    {
     "name": "stderr",
     "output_type": "stream",
     "text": [
      "\n",
      "Average Metric: 19.0 / 48  (39.6):  94%|█████████▍| 47/50 [01:09<00:02,  1.23it/s]\u001B[A\n",
      "Average Metric: 19.0 / 48  (39.6):  96%|█████████▌| 48/50 [01:09<00:02,  1.35s/it]\u001B[A\n",
      "Average Metric: 20.0 / 49  (40.8):  96%|█████████▌| 48/50 [01:12<00:02,  1.35s/it]\u001B[A\n",
      "Average Metric: 20.0 / 49  (40.8):  98%|█████████▊| 49/50 [01:12<00:01,  1.55s/it]\u001B[A\n",
      "Average Metric: 21.0 / 50  (42.0):  98%|█████████▊| 49/50 [01:14<00:01,  1.55s/it]\u001B[A\n",
      "Average Metric: 21.0 / 50  (42.0): 100%|██████████| 50/50 [01:14<00:00,  1.50s/it]\u001B[A\n"
     ]
    },
    {
     "name": "stdout",
     "output_type": "stream",
     "text": [
      "Average Metric: 21.0 / 50  (42.0%)\n",
      "Score: 42.0 for set: [1, 1, 1, 0, 0]\n",
      "Scores so far: [16.0, 16.0, 44.0, 48.0, 44.0, 50.0, 40.0, 42.0]\n",
      "Best score: 50.0\n",
      "Average of max per entry across top 1 scores: 0.5\n",
      "Average of max per entry across top 2 scores: 0.7\n",
      "Average of max per entry across top 3 scores: 0.84\n",
      "Average of max per entry across top 5 scores: 0.96\n",
      "Average of max per entry across top 8 scores: 0.98\n",
      "Average of max per entry across top 9999 scores: 0.98\n"
     ]
    },
    {
     "name": "stderr",
     "output_type": "stream",
     "text": [
      "\n",
      "  0%|          | 0/150 [00:00<?, ?it/s]\u001B[A\n",
      "  1%|          | 1/150 [00:05<12:58,  5.22s/it]\u001B[A\n",
      "  2%|▏         | 3/150 [00:10<07:45,  3.17s/it]\u001B[A\n",
      "  3%|▎         | 5/150 [00:22<11:12,  4.64s/it]\u001B[A\n",
      "  4%|▍         | 6/150 [00:28<12:11,  5.08s/it]\u001B[A\n",
      "  5%|▍         | 7/150 [00:40<16:23,  6.88s/it]\u001B[A\n",
      "  5%|▌         | 8/150 [00:44<14:42,  6.22s/it]\u001B[A\n",
      "  6%|▌         | 9/150 [00:48<12:52,  5.48s/it]\u001B[A\n",
      "  7%|▋         | 11/150 [00:59<12:41,  5.48s/it]\u001B[A\n",
      "  8%|▊         | 12/150 [01:15<18:50,  8.19s/it]\u001B[A\n",
      "  9%|▊         | 13/150 [01:21<17:12,  7.54s/it]\u001B[A\n",
      "  9%|▉         | 14/150 [01:38<22:38,  9.99s/it]\u001B[A\n",
      " 10%|█         | 15/150 [02:07<34:38, 15.40s/it]\u001B[A"
     ]
    },
    {
     "name": "stdout",
     "output_type": "stream",
     "text": [
      "Failed to run or to evaluate example Example({'question': 'What ride at Disney was inspired by an old TV show and also inspired a made for TV movie on the Disney channel?', 'answer': 'The Twilight Zone Tower of Terror'}) (input_keys={'question'}) with <function answer_exact_match at 0x7fa075303eb0> due to HTTPConnectionPool(host='192.168.31.215', port=10890): Read timed out. (read timeout=10).\n"
     ]
    },
    {
     "name": "stderr",
     "output_type": "stream",
     "text": [
      "\n",
      " 11%|█         | 16/150 [02:36<42:57, 19.24s/it]\u001B[A\n",
      " 11%|█▏        | 17/150 [02:59<45:03, 20.33s/it]\u001B[A\n",
      " 13%|█▎        | 19/150 [03:08<21:37,  9.90s/it]\u001B[A\n"
     ]
    },
    {
     "name": "stdout",
     "output_type": "stream",
     "text": [
      "Bootstrapped 2 full traces after 20 examples in round 0.\n"
     ]
    },
    {
     "name": "stderr",
     "output_type": "stream",
     "text": [
      "\n",
      "  0%|          | 0/50 [00:00<?, ?it/s]\u001B[A\n",
      "Average Metric: 1 / 1  (100.0):   0%|          | 0/50 [00:02<?, ?it/s]\u001B[A\n",
      "Average Metric: 1 / 1  (100.0):   2%|▏         | 1/50 [00:02<02:14,  2.75s/it]\u001B[A\n",
      "Average Metric: 1 / 2  (50.0):   2%|▏         | 1/50 [00:03<02:14,  2.75s/it] \u001B[A\n",
      "Average Metric: 1 / 2  (50.0):   4%|▍         | 2/50 [00:03<01:03,  1.33s/it]\u001B[A\n",
      "Average Metric: 1 / 3  (33.3):   4%|▍         | 2/50 [00:03<01:03,  1.33s/it]\u001B[A\n",
      "Average Metric: 1 / 3  (33.3):   6%|▌         | 3/50 [00:03<00:40,  1.17it/s]\u001B[A\n",
      "Average Metric: 2 / 4  (50.0):   6%|▌         | 3/50 [00:03<00:40,  1.17it/s]\u001B[A\n",
      "Average Metric: 3 / 5  (60.0):   8%|▊         | 4/50 [00:03<00:39,  1.17it/s]\u001B[A\n",
      "Average Metric: 4 / 6  (66.7):  10%|█         | 5/50 [00:03<00:38,  1.17it/s]\u001B[A\n",
      "Average Metric: 4 / 6  (66.7):  12%|█▏        | 6/50 [00:03<00:15,  2.78it/s]\u001B[A\n",
      "Average Metric: 4 / 7  (57.1):  12%|█▏        | 6/50 [00:03<00:15,  2.78it/s]\u001B[A\n",
      "Average Metric: 4 / 7  (57.1):  14%|█▍        | 7/50 [00:03<00:12,  3.31it/s]\u001B[A\n",
      "Average Metric: 4 / 8  (50.0):  14%|█▍        | 7/50 [00:04<00:12,  3.31it/s]\u001B[A\n",
      "Average Metric: 4 / 8  (50.0):  16%|█▌        | 8/50 [00:04<00:12,  3.49it/s]\u001B[A\n",
      "Average Metric: 4 / 9  (44.4):  16%|█▌        | 8/50 [00:05<00:12,  3.49it/s]\u001B[A\n",
      "Average Metric: 4 / 9  (44.4):  18%|█▊        | 9/50 [00:05<00:23,  1.74it/s]\u001B[A\n",
      "Average Metric: 5 / 10  (50.0):  18%|█▊        | 9/50 [00:05<00:23,  1.74it/s]\u001B[A\n",
      "Average Metric: 5 / 10  (50.0):  20%|██        | 10/50 [00:05<00:18,  2.20it/s]\u001B[A\n",
      "Average Metric: 5 / 11  (45.5):  20%|██        | 10/50 [00:06<00:18,  2.20it/s]\u001B[A\n",
      "Average Metric: 5 / 11  (45.5):  22%|██▏       | 11/50 [00:06<00:23,  1.66it/s]\u001B[A\n",
      "Average Metric: 6 / 12  (50.0):  22%|██▏       | 11/50 [00:06<00:23,  1.66it/s]\u001B[A\n",
      "Average Metric: 7 / 13  (53.8):  24%|██▍       | 12/50 [00:07<00:22,  1.66it/s]\u001B[A\n",
      "Average Metric: 7 / 13  (53.8):  26%|██▌       | 13/50 [00:07<00:19,  1.90it/s]\u001B[A\n",
      "Average Metric: 8 / 14  (57.1):  26%|██▌       | 13/50 [00:07<00:19,  1.90it/s]\u001B[A\n",
      "Average Metric: 9 / 15  (60.0):  28%|██▊       | 14/50 [00:07<00:18,  1.90it/s]\u001B[A\n",
      "Average Metric: 9 / 15  (60.0):  30%|███       | 15/50 [00:07<00:12,  2.75it/s]\u001B[A\n",
      "Average Metric: 10 / 16  (62.5):  30%|███       | 15/50 [00:08<00:12,  2.75it/s]\u001B[A\n",
      "Average Metric: 10 / 16  (62.5):  32%|███▏      | 16/50 [00:08<00:17,  1.99it/s]\u001B[A\n",
      "Average Metric: 10 / 17  (58.8):  32%|███▏      | 16/50 [00:08<00:17,  1.99it/s]\u001B[A\n",
      "Average Metric: 11 / 18  (61.1):  34%|███▍      | 17/50 [00:10<00:16,  1.99it/s]\u001B[A\n",
      "Average Metric: 11 / 18  (61.1):  36%|███▌      | 18/50 [00:10<00:18,  1.69it/s]\u001B[A\n",
      "Average Metric: 11 / 19  (57.9):  36%|███▌      | 18/50 [00:10<00:18,  1.69it/s]\u001B[A\n",
      "Average Metric: 11 / 19  (57.9):  38%|███▊      | 19/50 [00:10<00:17,  1.75it/s]\u001B[A\n",
      "Average Metric: 12 / 20  (60.0):  38%|███▊      | 19/50 [00:11<00:17,  1.75it/s]\u001B[A\n",
      "Average Metric: 12 / 20  (60.0):  40%|████      | 20/50 [00:11<00:19,  1.56it/s]\u001B[A\n",
      "Average Metric: 12 / 21  (57.1):  40%|████      | 20/50 [00:12<00:19,  1.56it/s]\u001B[A\n",
      "Average Metric: 12 / 21  (57.1):  42%|████▏     | 21/50 [00:12<00:21,  1.34it/s]\u001B[A\n",
      "Average Metric: 12 / 22  (54.5):  42%|████▏     | 21/50 [00:12<00:21,  1.34it/s]\u001B[A\n",
      "Average Metric: 12 / 22  (54.5):  44%|████▍     | 22/50 [00:12<00:17,  1.59it/s]\u001B[A\n",
      "Average Metric: 12 / 23  (52.2):  44%|████▍     | 22/50 [00:13<00:17,  1.59it/s]\u001B[A\n",
      "Average Metric: 12 / 23  (52.2):  46%|████▌     | 23/50 [00:13<00:14,  1.86it/s]\u001B[A\n",
      "Average Metric: 12 / 24  (50.0):  46%|████▌     | 23/50 [00:13<00:14,  1.86it/s]\u001B[A\n",
      "Average Metric: 12 / 25  (48.0):  48%|████▊     | 24/50 [00:13<00:13,  1.86it/s]\u001B[A\n",
      "Average Metric: 12 / 25  (48.0):  50%|█████     | 25/50 [00:13<00:08,  2.80it/s]\u001B[A\n",
      "Average Metric: 13 / 26  (50.0):  50%|█████     | 25/50 [00:14<00:08,  2.80it/s]\u001B[A\n",
      "Average Metric: 13 / 26  (50.0):  52%|█████▏    | 26/50 [00:14<00:10,  2.32it/s]\u001B[A\n",
      "Average Metric: 14 / 27  (51.9):  52%|█████▏    | 26/50 [00:14<00:10,  2.32it/s]\u001B[A\n",
      "Average Metric: 14 / 27  (51.9):  54%|█████▍    | 27/50 [00:14<00:10,  2.11it/s]\u001B[A\n",
      "Average Metric: 14 / 28  (50.0):  54%|█████▍    | 27/50 [00:15<00:10,  2.11it/s]\u001B[A\n",
      "Average Metric: 14 / 28  (50.0):  56%|█████▌    | 28/50 [00:15<00:10,  2.05it/s]\u001B[A\n",
      "Average Metric: 15 / 29  (51.7):  56%|█████▌    | 28/50 [00:15<00:10,  2.05it/s]\u001B[A\n",
      "Average Metric: 15 / 29  (51.7):  58%|█████▊    | 29/50 [00:15<00:08,  2.51it/s]\u001B[A\n",
      "Average Metric: 15 / 30  (50.0):  58%|█████▊    | 29/50 [00:16<00:08,  2.51it/s]\u001B[A\n",
      "Average Metric: 15 / 30  (50.0):  60%|██████    | 30/50 [00:16<00:10,  1.96it/s]\u001B[A\n",
      "Average Metric: 16 / 31  (51.6):  60%|██████    | 30/50 [00:16<00:10,  1.96it/s]\u001B[A\n",
      "Average Metric: 16 / 31  (51.6):  62%|██████▏   | 31/50 [00:16<00:08,  2.31it/s]\u001B[A\n",
      "Average Metric: 17 / 32  (53.1):  62%|██████▏   | 31/50 [00:16<00:08,  2.31it/s]\u001B[A\n",
      "Average Metric: 17 / 32  (53.1):  64%|██████▍   | 32/50 [00:16<00:07,  2.39it/s]\u001B[A\n",
      "Average Metric: 18 / 33  (54.5):  64%|██████▍   | 32/50 [00:17<00:07,  2.39it/s]\u001B[A\n",
      "Average Metric: 18 / 33  (54.5):  66%|██████▌   | 33/50 [00:17<00:08,  2.04it/s]\u001B[A\n",
      "Average Metric: 19 / 34  (55.9):  66%|██████▌   | 33/50 [00:17<00:08,  2.04it/s]\u001B[A\n",
      "Average Metric: 19 / 35  (54.3):  68%|██████▊   | 34/50 [00:18<00:07,  2.04it/s]\u001B[A\n",
      "Average Metric: 19 / 35  (54.3):  70%|███████   | 35/50 [00:18<00:07,  1.88it/s]\u001B[A\n",
      "Average Metric: 20 / 36  (55.6):  70%|███████   | 35/50 [00:19<00:07,  1.88it/s]\u001B[A\n",
      "Average Metric: 20 / 36  (55.6):  72%|███████▏  | 36/50 [00:19<00:09,  1.48it/s]\u001B[A\n",
      "Average Metric: 20 / 37  (54.1):  72%|███████▏  | 36/50 [00:20<00:09,  1.48it/s]\u001B[A\n",
      "Average Metric: 20 / 37  (54.1):  74%|███████▍  | 37/50 [00:20<00:07,  1.66it/s]\u001B[A\n",
      "Average Metric: 21 / 38  (55.3):  74%|███████▍  | 37/50 [00:20<00:07,  1.66it/s]\u001B[A\n",
      "Average Metric: 21 / 38  (55.3):  76%|███████▌  | 38/50 [00:20<00:05,  2.12it/s]\u001B[A\n",
      "Average Metric: 21 / 39  (53.8):  76%|███████▌  | 38/50 [00:20<00:05,  2.12it/s]\u001B[A\n",
      "Average Metric: 21 / 39  (53.8):  78%|███████▊  | 39/50 [00:20<00:04,  2.66it/s]\u001B[A\n",
      "Average Metric: 21 / 40  (52.5):  78%|███████▊  | 39/50 [00:20<00:04,  2.66it/s]\u001B[A\n",
      "Average Metric: 21 / 40  (52.5):  80%|████████  | 40/50 [00:20<00:03,  2.69it/s]\u001B[A\n",
      "Average Metric: 21 / 41  (51.2):  80%|████████  | 40/50 [00:21<00:03,  2.69it/s]\u001B[A\n",
      "Average Metric: 21 / 41  (51.2):  82%|████████▏ | 41/50 [00:21<00:04,  1.94it/s]\u001B[A\n",
      "Average Metric: 21 / 42  (50.0):  82%|████████▏ | 41/50 [00:21<00:04,  1.94it/s]\u001B[A\n",
      "Average Metric: 21 / 42  (50.0):  84%|████████▍ | 42/50 [00:21<00:03,  2.25it/s]\u001B[A\n",
      "Average Metric: 22 / 43  (51.2):  84%|████████▍ | 42/50 [00:22<00:03,  2.25it/s]\u001B[A\n",
      "Average Metric: 22 / 43  (51.2):  86%|████████▌ | 43/50 [00:22<00:03,  2.24it/s]\u001B[A\n",
      "Average Metric: 22 / 44  (50.0):  86%|████████▌ | 43/50 [00:22<00:03,  2.24it/s]\u001B[A\n",
      "Average Metric: 22 / 44  (50.0):  88%|████████▊ | 44/50 [00:22<00:02,  2.63it/s]\u001B[A\n",
      "Average Metric: 23 / 45  (51.1):  88%|████████▊ | 44/50 [00:22<00:02,  2.63it/s]\u001B[A\n",
      "Average Metric: 23 / 45  (51.1):  90%|█████████ | 45/50 [00:22<00:01,  3.35it/s]\u001B[A\n",
      "Average Metric: 23 / 46  (50.0):  90%|█████████ | 45/50 [00:23<00:01,  3.35it/s]\u001B[A\n",
      "Average Metric: 23 / 46  (50.0):  92%|█████████▏| 46/50 [00:23<00:01,  2.00it/s]\u001B[A\n",
      "Average Metric: 24 / 47  (51.1):  92%|█████████▏| 46/50 [00:24<00:01,  2.00it/s]\u001B[A\n",
      "Average Metric: 24 / 47  (51.1):  94%|█████████▍| 47/50 [00:24<00:02,  1.41it/s]\u001B[A\n",
      "Average Metric: 24 / 48  (50.0):  94%|█████████▍| 47/50 [00:25<00:02,  1.41it/s]\u001B[A\n",
      "Average Metric: 24 / 48  (50.0):  96%|█████████▌| 48/50 [00:25<00:01,  1.41it/s]\u001B[A\n",
      "Average Metric: 25 / 49  (51.0):  96%|█████████▌| 48/50 [00:35<00:01,  1.41it/s]\u001B[A\n",
      "Average Metric: 25 / 49  (51.0):  98%|█████████▊| 49/50 [00:35<00:03,  3.64s/it]\u001B[A\n",
      "Average Metric: 25.0 / 50  (50.0):  98%|█████████▊| 49/50 [00:49<00:03,  3.64s/it]\u001B[A\n",
      "Average Metric: 25.0 / 50  (50.0): 100%|██████████| 50/50 [00:49<00:00,  1.01it/s]\u001B[A\n"
     ]
    },
    {
     "name": "stdout",
     "output_type": "stream",
     "text": [
      "Error for example in dev set: \t\t not enough values to unpack (expected 2, got 1)\n",
      "Average Metric: 25.0 / 50  (50.0%)\n",
      "Score: 50.0 for set: [2, 2, 1, 0, 0]\n",
      "Scores so far: [16.0, 16.0, 44.0, 48.0, 44.0, 50.0, 40.0, 42.0, 50.0]\n",
      "Best score: 50.0\n",
      "Average of max per entry across top 1 scores: 0.5\n",
      "Average of max per entry across top 2 scores: 0.72\n",
      "Average of max per entry across top 3 scores: 0.82\n",
      "Average of max per entry across top 5 scores: 0.9\n",
      "Average of max per entry across top 8 scores: 0.98\n",
      "Average of max per entry across top 9999 scores: 0.98\n"
     ]
    },
    {
     "name": "stderr",
     "output_type": "stream",
     "text": [
      "\n",
      "  0%|          | 0/150 [00:00<?, ?it/s]\u001B[A\n",
      "  1%|          | 1/150 [00:03<09:48,  3.95s/it]\u001B[A\n",
      "  1%|▏         | 2/150 [00:22<30:57, 12.55s/it]\u001B[A\n",
      "  3%|▎         | 4/150 [00:45<28:41, 11.79s/it]\u001B[A\n",
      "  5%|▍         | 7/150 [00:56<19:11,  8.05s/it]\u001B[A\n"
     ]
    },
    {
     "name": "stdout",
     "output_type": "stream",
     "text": [
      "Bootstrapped 1 full traces after 8 examples in round 0.\n"
     ]
    },
    {
     "name": "stderr",
     "output_type": "stream",
     "text": [
      "\n",
      "  0%|          | 0/50 [00:00<?, ?it/s]\u001B[A\n",
      "Average Metric: 1 / 1  (100.0):   0%|          | 0/50 [00:03<?, ?it/s]\u001B[A\n",
      "Average Metric: 1 / 1  (100.0):   2%|▏         | 1/50 [00:03<02:29,  3.05s/it]\u001B[A\n",
      "Average Metric: 2 / 2  (100.0):   2%|▏         | 1/50 [00:03<02:29,  3.05s/it]\u001B[A\n",
      "Average Metric: 2 / 2  (100.0):   4%|▍         | 2/50 [00:03<01:07,  1.40s/it]\u001B[A\n",
      "Average Metric: 2 / 3  (66.7):   4%|▍         | 2/50 [00:03<01:07,  1.40s/it] \u001B[A\n",
      "Average Metric: 2 / 3  (66.7):   6%|▌         | 3/50 [00:03<00:40,  1.17it/s]\u001B[A\n",
      "Average Metric: 2 / 4  (50.0):   6%|▌         | 3/50 [00:03<00:40,  1.17it/s]\u001B[A\n",
      "Average Metric: 2 / 4  (50.0):   8%|▊         | 4/50 [00:03<00:30,  1.52it/s]\u001B[A\n",
      "Average Metric: 3 / 5  (60.0):   8%|▊         | 4/50 [00:04<00:30,  1.52it/s]\u001B[A\n",
      "Average Metric: 3 / 5  (60.0):  10%|█         | 5/50 [00:04<00:32,  1.38it/s]\u001B[A\n",
      "Average Metric: 3 / 6  (50.0):  10%|█         | 5/50 [00:04<00:32,  1.38it/s]\u001B[A\n",
      "Average Metric: 3 / 6  (50.0):  12%|█▏        | 6/50 [00:05<00:25,  1.72it/s]\u001B[A\n",
      "Average Metric: 4 / 7  (57.1):  12%|█▏        | 6/50 [00:05<00:25,  1.72it/s]\u001B[A\n",
      "Average Metric: 4 / 7  (57.1):  14%|█▍        | 7/50 [00:05<00:23,  1.79it/s]\u001B[A\n",
      "Average Metric: 4 / 8  (50.0):  14%|█▍        | 7/50 [00:05<00:23,  1.79it/s]\u001B[A\n",
      "Average Metric: 4 / 8  (50.0):  16%|█▌        | 8/50 [00:05<00:18,  2.24it/s]\u001B[A\n",
      "Average Metric: 4 / 9  (44.4):  16%|█▌        | 8/50 [00:05<00:18,  2.24it/s]\u001B[A\n",
      "Average Metric: 4 / 9  (44.4):  18%|█▊        | 9/50 [00:05<00:14,  2.87it/s]\u001B[A\n",
      "Average Metric: 4 / 10  (40.0):  18%|█▊        | 9/50 [00:06<00:14,  2.87it/s]\u001B[A\n",
      "Average Metric: 4 / 10  (40.0):  20%|██        | 10/50 [00:06<00:11,  3.35it/s]\u001B[A\n",
      "Average Metric: 5 / 11  (45.5):  20%|██        | 10/50 [00:06<00:11,  3.35it/s]\u001B[A\n",
      "Average Metric: 5 / 11  (45.5):  22%|██▏       | 11/50 [00:06<00:13,  2.97it/s]\u001B[A\n",
      "Average Metric: 6 / 12  (50.0):  22%|██▏       | 11/50 [00:06<00:13,  2.97it/s]\u001B[A\n",
      "Average Metric: 7 / 13  (53.8):  24%|██▍       | 12/50 [00:06<00:12,  2.97it/s]\u001B[A\n",
      "Average Metric: 7 / 13  (53.8):  26%|██▌       | 13/50 [00:06<00:08,  4.26it/s]\u001B[A\n",
      "Average Metric: 8 / 14  (57.1):  26%|██▌       | 13/50 [00:06<00:08,  4.26it/s]\u001B[A\n",
      "Average Metric: 8 / 14  (57.1):  28%|██▊       | 14/50 [00:06<00:08,  4.06it/s]\u001B[A\n",
      "Average Metric: 9 / 15  (60.0):  28%|██▊       | 14/50 [00:07<00:08,  4.06it/s]\u001B[A\n",
      "Average Metric: 10 / 16  (62.5):  30%|███       | 15/50 [00:07<00:08,  4.06it/s]\u001B[A\n",
      "Average Metric: 10 / 16  (62.5):  32%|███▏      | 16/50 [00:07<00:10,  3.29it/s]\u001B[A\n",
      "Average Metric: 11 / 17  (64.7):  32%|███▏      | 16/50 [00:08<00:10,  3.29it/s]\u001B[A\n",
      "Average Metric: 11 / 17  (64.7):  34%|███▍      | 17/50 [00:08<00:11,  2.93it/s]\u001B[A\n",
      "Average Metric: 11 / 18  (61.1):  34%|███▍      | 17/50 [00:09<00:11,  2.93it/s]\u001B[A\n",
      "Average Metric: 11 / 18  (61.1):  36%|███▌      | 18/50 [00:09<00:20,  1.53it/s]\u001B[A\n",
      "Average Metric: 11 / 19  (57.9):  36%|███▌      | 18/50 [00:10<00:20,  1.53it/s]\u001B[A\n",
      "Average Metric: 11 / 19  (57.9):  38%|███▊      | 19/50 [00:10<00:19,  1.55it/s]\u001B[A\n",
      "Average Metric: 11 / 20  (55.0):  38%|███▊      | 19/50 [00:10<00:19,  1.55it/s]\u001B[A\n",
      "Average Metric: 11 / 20  (55.0):  40%|████      | 20/50 [00:10<00:15,  1.98it/s]\u001B[A\n",
      "Average Metric: 12 / 21  (57.1):  40%|████      | 20/50 [00:11<00:15,  1.98it/s]\u001B[A\n",
      "Average Metric: 12 / 21  (57.1):  42%|████▏     | 21/50 [00:11<00:15,  1.82it/s]\u001B[A\n",
      "Average Metric: 13 / 22  (59.1):  42%|████▏     | 21/50 [00:12<00:15,  1.82it/s]\u001B[A\n",
      "Average Metric: 13 / 22  (59.1):  44%|████▍     | 22/50 [00:12<00:18,  1.53it/s]\u001B[A\n",
      "Average Metric: 13 / 23  (56.5):  44%|████▍     | 22/50 [00:12<00:18,  1.53it/s]\u001B[A\n",
      "Average Metric: 13 / 23  (56.5):  46%|████▌     | 23/50 [00:12<00:13,  2.01it/s]\u001B[A\n",
      "Average Metric: 13 / 24  (54.2):  46%|████▌     | 23/50 [00:13<00:13,  2.01it/s]\u001B[A\n",
      "Average Metric: 13 / 24  (54.2):  48%|████▊     | 24/50 [00:13<00:20,  1.27it/s]\u001B[A\n",
      "Average Metric: 13 / 25  (52.0):  48%|████▊     | 24/50 [00:14<00:20,  1.27it/s]\u001B[A\n",
      "Average Metric: 13 / 25  (52.0):  50%|█████     | 25/50 [00:14<00:17,  1.46it/s]\u001B[A\n",
      "Average Metric: 13 / 26  (50.0):  50%|█████     | 25/50 [00:15<00:17,  1.46it/s]\u001B[A\n",
      "Average Metric: 13 / 26  (50.0):  52%|█████▏    | 26/50 [00:15<00:19,  1.21it/s]\u001B[A\n",
      "Average Metric: 13 / 27  (48.1):  52%|█████▏    | 26/50 [00:15<00:19,  1.21it/s]\u001B[A\n",
      "Average Metric: 13 / 27  (48.1):  54%|█████▍    | 27/50 [00:15<00:14,  1.64it/s]\u001B[A\n",
      "Average Metric: 14 / 28  (50.0):  54%|█████▍    | 27/50 [00:16<00:14,  1.64it/s]\u001B[A\n",
      "Average Metric: 14 / 28  (50.0):  56%|█████▌    | 28/50 [00:16<00:18,  1.22it/s]\u001B[A\n",
      "Average Metric: 14 / 29  (48.3):  56%|█████▌    | 28/50 [00:17<00:18,  1.22it/s]\u001B[A\n",
      "Average Metric: 14 / 29  (48.3):  58%|█████▊    | 29/50 [00:17<00:13,  1.52it/s]\u001B[A\n",
      "Average Metric: 14 / 30  (46.7):  58%|█████▊    | 29/50 [00:18<00:13,  1.52it/s]\u001B[A\n",
      "Average Metric: 14 / 30  (46.7):  60%|██████    | 30/50 [00:18<00:20,  1.01s/it]\u001B[A\n",
      "Average Metric: 15 / 31  (48.4):  60%|██████    | 30/50 [00:19<00:20,  1.01s/it]\u001B[A\n",
      "Average Metric: 15 / 31  (48.4):  62%|██████▏   | 31/50 [00:19<00:14,  1.29it/s]\u001B[A\n",
      "Average Metric: 15 / 32  (46.9):  62%|██████▏   | 31/50 [00:19<00:14,  1.29it/s]\u001B[A\n",
      "Average Metric: 15 / 32  (46.9):  64%|██████▍   | 32/50 [00:19<00:10,  1.64it/s]\u001B[A\n",
      "Average Metric: 16 / 33  (48.5):  64%|██████▍   | 32/50 [00:19<00:10,  1.64it/s]\u001B[A\n",
      "Average Metric: 17 / 34  (50.0):  66%|██████▌   | 33/50 [00:19<00:10,  1.64it/s]\u001B[A\n",
      "Average Metric: 17 / 35  (48.6):  68%|██████▊   | 34/50 [00:19<00:09,  1.64it/s]\u001B[A\n",
      "Average Metric: 17 / 35  (48.6):  70%|███████   | 35/50 [00:19<00:04,  3.19it/s]\u001B[A\n",
      "Average Metric: 18 / 36  (50.0):  70%|███████   | 35/50 [00:20<00:04,  3.19it/s]\u001B[A\n",
      "Average Metric: 18 / 36  (50.0):  72%|███████▏  | 36/50 [00:20<00:06,  2.32it/s]\u001B[A\n",
      "Average Metric: 19 / 37  (51.4):  72%|███████▏  | 36/50 [00:20<00:06,  2.32it/s]\u001B[A\n",
      "Average Metric: 19 / 37  (51.4):  74%|███████▍  | 37/50 [00:20<00:05,  2.37it/s]\u001B[A\n",
      "Average Metric: 19 / 38  (50.0):  74%|███████▍  | 37/50 [00:22<00:05,  2.37it/s]\u001B[A\n",
      "Average Metric: 19 / 38  (50.0):  76%|███████▌  | 38/50 [00:22<00:08,  1.34it/s]\u001B[A\n",
      "Average Metric: 20 / 39  (51.3):  76%|███████▌  | 38/50 [00:22<00:08,  1.34it/s]\u001B[A\n",
      "Average Metric: 21 / 40  (52.5):  78%|███████▊  | 39/50 [00:22<00:08,  1.34it/s]\u001B[A\n",
      "Average Metric: 21 / 40  (52.5):  80%|████████  | 40/50 [00:22<00:04,  2.17it/s]\u001B[A\n",
      "Average Metric: 21 / 41  (51.2):  80%|████████  | 40/50 [00:23<00:04,  2.17it/s]\u001B[A\n",
      "Average Metric: 21 / 41  (51.2):  82%|████████▏ | 41/50 [00:23<00:04,  1.95it/s]\u001B[A\n",
      "Average Metric: 22 / 42  (52.4):  82%|████████▏ | 41/50 [00:24<00:04,  1.95it/s]\u001B[A\n",
      "Average Metric: 22 / 42  (52.4):  84%|████████▍ | 42/50 [00:24<00:05,  1.35it/s]\u001B[A\n",
      "Average Metric: 23 / 43  (53.5):  84%|████████▍ | 42/50 [00:25<00:05,  1.35it/s]\u001B[A\n",
      "Average Metric: 23 / 43  (53.5):  86%|████████▌ | 43/50 [00:25<00:04,  1.53it/s]\u001B[A\n",
      "Average Metric: 23 / 44  (52.3):  86%|████████▌ | 43/50 [00:25<00:04,  1.53it/s]\u001B[A\n",
      "Average Metric: 23 / 44  (52.3):  88%|████████▊ | 44/50 [00:25<00:03,  1.65it/s]\u001B[A\n",
      "Average Metric: 23 / 45  (51.1):  88%|████████▊ | 44/50 [00:26<00:03,  1.65it/s]\u001B[A\n",
      "Average Metric: 23 / 45  (51.1):  90%|█████████ | 45/50 [00:26<00:02,  1.84it/s]\u001B[A\n",
      "Average Metric: 23 / 46  (50.0):  90%|█████████ | 45/50 [00:26<00:02,  1.84it/s]\u001B[A\n",
      "Average Metric: 24 / 47  (51.1):  92%|█████████▏| 46/50 [00:27<00:02,  1.84it/s]\u001B[A\n",
      "Average Metric: 24 / 47  (51.1):  94%|█████████▍| 47/50 [00:27<00:01,  1.86it/s]\u001B[A\n",
      "Average Metric: 24 / 48  (50.0):  94%|█████████▍| 47/50 [00:28<00:01,  1.86it/s]\u001B[A\n",
      "Average Metric: 24 / 48  (50.0):  96%|█████████▌| 48/50 [00:28<00:01,  1.26it/s]\u001B[A\n",
      "Average Metric: 25 / 49  (51.0):  96%|█████████▌| 48/50 [00:29<00:01,  1.26it/s]\u001B[A\n",
      "Average Metric: 25 / 49  (51.0):  98%|█████████▊| 49/50 [00:29<00:00,  1.29it/s]\u001B[A\n",
      "Average Metric: 25.0 / 50  (50.0):  98%|█████████▊| 49/50 [00:32<00:00,  1.29it/s]\u001B[A\n",
      "Average Metric: 25.0 / 50  (50.0): 100%|██████████| 50/50 [00:32<00:00,  1.55it/s]\u001B[A\n"
     ]
    },
    {
     "name": "stdout",
     "output_type": "stream",
     "text": [
      "Error for example in dev set: \t\t not enough values to unpack (expected 2, got 1)\n",
      "Average Metric: 25.0 / 50  (50.0%)\n",
      "Score: 50.0 for set: [1, 1, 0, 0, 0]\n",
      "Scores so far: [16.0, 16.0, 44.0, 48.0, 44.0, 50.0, 40.0, 42.0, 50.0, 50.0]\n",
      "Best score: 50.0\n",
      "Average of max per entry across top 1 scores: 0.5\n",
      "Average of max per entry across top 2 scores: 0.72\n",
      "Average of max per entry across top 3 scores: 0.86\n",
      "Average of max per entry across top 5 scores: 0.94\n",
      "Average of max per entry across top 8 scores: 1.0\n",
      "Average of max per entry across top 9999 scores: 1.0\n"
     ]
    },
    {
     "name": "stderr",
     "output_type": "stream",
     "text": [
      "\n",
      "  0%|          | 0/150 [00:00<?, ?it/s]\u001B[A\n",
      "  1%|▏         | 2/150 [00:29<35:53, 14.55s/it]\u001B[A"
     ]
    },
    {
     "name": "stdout",
     "output_type": "stream",
     "text": [
      "Failed to run or to evaluate example Example({'question': 'Are both Ralph Saenz and Roddy Woomble credited as writers?', 'answer': 'no'}) (input_keys={'question'}) with <function answer_exact_match at 0x7fa075303eb0> due to not enough values to unpack (expected 2, got 1).\n"
     ]
    },
    {
     "name": "stderr",
     "output_type": "stream",
     "text": [
      "\n",
      "  3%|▎         | 4/150 [00:38<21:25,  8.81s/it]\u001B[A\n",
      "  3%|▎         | 5/150 [00:58<29:14, 12.10s/it]\u001B[A\n",
      "  4%|▍         | 6/150 [01:06<25:45, 10.73s/it]\u001B[A\n",
      "  5%|▍         | 7/150 [01:38<40:53, 17.16s/it]\u001B[A\n",
      "  5%|▌         | 8/150 [01:50<36:46, 15.54s/it]\u001B[A"
     ]
    },
    {
     "name": "stdout",
     "output_type": "stream",
     "text": [
      "Failed to run or to evaluate example Example({'question': 'Was The Devil and Max Devlin or Do Dooni Chaar released first?', 'answer': 'The Devil and Max Devlin'}) (input_keys={'question'}) with <function answer_exact_match at 0x7fa075303eb0> due to HTTPConnectionPool(host='192.168.31.215', port=10890): Read timed out. (read timeout=10).\n"
     ]
    },
    {
     "name": "stderr",
     "output_type": "stream",
     "text": [
      "\n",
      "  6%|▌         | 9/150 [02:27<51:41, 22.00s/it]\u001B[A\n",
      "  7%|▋         | 10/150 [02:39<44:50, 19.22s/it]\u001B[A\n",
      "  8%|▊         | 12/150 [02:49<28:44, 12.50s/it]\u001B[A\n",
      " 10%|█         | 15/150 [03:21<26:04, 11.59s/it]\u001B[A\n",
      " 11%|█▏        | 17/150 [03:27<19:36,  8.84s/it]\u001B[A\n",
      " 12%|█▏        | 18/150 [03:37<19:54,  9.05s/it]\u001B[A\n",
      " 14%|█▍        | 21/150 [03:46<13:46,  6.41s/it]\u001B[A\n",
      " 15%|█▌        | 23/150 [03:51<21:20, 10.09s/it]\u001B[A\n"
     ]
    },
    {
     "name": "stdout",
     "output_type": "stream",
     "text": [
      "Bootstrapped 2 full traces after 24 examples in round 0.\n"
     ]
    },
    {
     "name": "stderr",
     "output_type": "stream",
     "text": [
      "\n",
      "  0%|          | 0/50 [00:00<?, ?it/s]\u001B[A\n",
      "Average Metric: 1 / 1  (100.0):   0%|          | 0/50 [00:03<?, ?it/s]\u001B[A\n",
      "Average Metric: 1 / 1  (100.0):   2%|▏         | 1/50 [00:03<02:56,  3.60s/it]\u001B[A\n",
      "Average Metric: 2 / 2  (100.0):   2%|▏         | 1/50 [00:03<02:56,  3.60s/it]\u001B[A\n",
      "Average Metric: 2 / 2  (100.0):   4%|▍         | 2/50 [00:03<01:14,  1.55s/it]\u001B[A\n",
      "Average Metric: 2 / 3  (66.7):   4%|▍         | 2/50 [00:03<01:14,  1.55s/it] \u001B[A\n",
      "Average Metric: 2 / 3  (66.7):   6%|▌         | 3/50 [00:03<00:41,  1.12it/s]\u001B[A\n",
      "Average Metric: 3 / 4  (75.0):   6%|▌         | 3/50 [00:03<00:41,  1.12it/s]\u001B[A\n",
      "Average Metric: 4 / 5  (80.0):   8%|▊         | 4/50 [00:04<00:41,  1.12it/s]\u001B[A\n",
      "Average Metric: 4 / 5  (80.0):  10%|█         | 5/50 [00:04<00:22,  2.04it/s]\u001B[A\n",
      "Average Metric: 4 / 6  (66.7):  10%|█         | 5/50 [00:04<00:22,  2.04it/s]\u001B[A\n",
      "Average Metric: 4 / 6  (66.7):  12%|█▏        | 6/50 [00:04<00:21,  2.01it/s]\u001B[A\n",
      "Average Metric: 4 / 7  (57.1):  12%|█▏        | 6/50 [00:04<00:21,  2.01it/s]\u001B[A\n",
      "Average Metric: 4 / 8  (50.0):  14%|█▍        | 7/50 [00:05<00:21,  2.01it/s]\u001B[A\n",
      "Average Metric: 4 / 8  (50.0):  16%|█▌        | 8/50 [00:05<00:21,  2.00it/s]\u001B[A\n",
      "Average Metric: 4 / 9  (44.4):  16%|█▌        | 8/50 [00:06<00:21,  2.00it/s]\u001B[A\n",
      "Average Metric: 4 / 9  (44.4):  18%|█▊        | 9/50 [00:06<00:25,  1.62it/s]\u001B[A\n",
      "Average Metric: 5 / 10  (50.0):  18%|█▊        | 9/50 [00:06<00:25,  1.62it/s]\u001B[A\n",
      "Average Metric: 6 / 11  (54.5):  20%|██        | 10/50 [00:06<00:24,  1.62it/s]\u001B[A\n",
      "Average Metric: 6 / 11  (54.5):  22%|██▏       | 11/50 [00:06<00:15,  2.45it/s]\u001B[A\n",
      "Average Metric: 7 / 12  (58.3):  22%|██▏       | 11/50 [00:07<00:15,  2.45it/s]\u001B[A\n",
      "Average Metric: 7 / 12  (58.3):  24%|██▍       | 12/50 [00:07<00:13,  2.81it/s]\u001B[A\n",
      "Average Metric: 7 / 13  (53.8):  24%|██▍       | 12/50 [00:07<00:13,  2.81it/s]\u001B[A\n",
      "Average Metric: 8 / 14  (57.1):  26%|██▌       | 13/50 [00:07<00:13,  2.81it/s]\u001B[A\n",
      "Average Metric: 8 / 14  (57.1):  28%|██▊       | 14/50 [00:07<00:08,  4.14it/s]\u001B[A\n",
      "Average Metric: 9 / 15  (60.0):  28%|██▊       | 14/50 [00:07<00:08,  4.14it/s]\u001B[A\n",
      "Average Metric: 9 / 15  (60.0):  30%|███       | 15/50 [00:07<00:07,  4.65it/s]\u001B[A\n",
      "Average Metric: 10 / 16  (62.5):  30%|███       | 15/50 [00:07<00:07,  4.65it/s]\u001B[A\n",
      "Average Metric: 11 / 17  (64.7):  32%|███▏      | 16/50 [00:07<00:07,  4.65it/s]\u001B[A\n",
      "Average Metric: 11 / 17  (64.7):  34%|███▍      | 17/50 [00:07<00:05,  5.55it/s]\u001B[A\n",
      "Average Metric: 12 / 18  (66.7):  34%|███▍      | 17/50 [00:08<00:05,  5.55it/s]\u001B[A\n",
      "Average Metric: 12 / 18  (66.7):  36%|███▌      | 18/50 [00:08<00:09,  3.28it/s]\u001B[A\n",
      "Average Metric: 12 / 19  (63.2):  36%|███▌      | 18/50 [00:09<00:09,  3.28it/s]\u001B[A\n",
      "Average Metric: 12 / 19  (63.2):  38%|███▊      | 19/50 [00:09<00:13,  2.34it/s]\u001B[A\n",
      "Average Metric: 12 / 20  (60.0):  38%|███▊      | 19/50 [00:10<00:13,  2.34it/s]\u001B[A\n",
      "Average Metric: 12 / 20  (60.0):  40%|████      | 20/50 [00:10<00:19,  1.52it/s]\u001B[A\n",
      "Average Metric: 12 / 21  (57.1):  40%|████      | 20/50 [00:11<00:19,  1.52it/s]\u001B[A\n",
      "Average Metric: 12 / 21  (57.1):  42%|████▏     | 21/50 [00:11<00:20,  1.39it/s]\u001B[A\n",
      "Average Metric: 12 / 22  (54.5):  42%|████▏     | 21/50 [00:11<00:20,  1.39it/s]\u001B[A\n",
      "Average Metric: 12 / 22  (54.5):  44%|████▍     | 22/50 [00:11<00:15,  1.81it/s]\u001B[A\n",
      "Average Metric: 12 / 23  (52.2):  44%|████▍     | 22/50 [00:11<00:15,  1.81it/s]\u001B[A\n",
      "Average Metric: 12 / 23  (52.2):  46%|████▌     | 23/50 [00:11<00:11,  2.26it/s]\u001B[A\n",
      "Average Metric: 12 / 24  (50.0):  46%|████▌     | 23/50 [00:11<00:11,  2.26it/s]\u001B[A\n",
      "Average Metric: 12 / 24  (50.0):  48%|████▊     | 24/50 [00:11<00:09,  2.68it/s]\u001B[A\n",
      "Average Metric: 12 / 25  (48.0):  48%|████▊     | 24/50 [00:12<00:09,  2.68it/s]\u001B[A\n",
      "Average Metric: 12 / 25  (48.0):  50%|█████     | 25/50 [00:12<00:08,  2.98it/s]\u001B[A\n",
      "Average Metric: 13 / 26  (50.0):  50%|█████     | 25/50 [00:13<00:08,  2.98it/s]\u001B[A\n",
      "Average Metric: 13 / 26  (50.0):  52%|█████▏    | 26/50 [00:13<00:13,  1.78it/s]\u001B[A\n",
      "Average Metric: 14 / 27  (51.9):  52%|█████▏    | 26/50 [00:14<00:13,  1.78it/s]\u001B[A\n",
      "Average Metric: 14 / 27  (51.9):  54%|█████▍    | 27/50 [00:14<00:16,  1.42it/s]\u001B[A\n",
      "Average Metric: 14 / 28  (50.0):  54%|█████▍    | 27/50 [00:14<00:16,  1.42it/s]\u001B[A\n",
      "Average Metric: 14 / 28  (50.0):  56%|█████▌    | 28/50 [00:14<00:12,  1.79it/s]\u001B[A\n",
      "Average Metric: 15 / 29  (51.7):  56%|█████▌    | 28/50 [00:15<00:12,  1.79it/s]\u001B[A\n",
      "Average Metric: 15 / 29  (51.7):  58%|█████▊    | 29/50 [00:15<00:11,  1.83it/s]\u001B[A\n",
      "Average Metric: 15 / 30  (50.0):  58%|█████▊    | 29/50 [00:15<00:11,  1.83it/s]\u001B[A\n",
      "Average Metric: 15 / 31  (48.4):  60%|██████    | 30/50 [00:15<00:10,  1.83it/s]\u001B[A\n",
      "Average Metric: 15 / 31  (48.4):  62%|██████▏   | 31/50 [00:15<00:07,  2.67it/s]\u001B[A\n",
      "Average Metric: 15 / 32  (46.9):  62%|██████▏   | 31/50 [00:16<00:07,  2.67it/s]\u001B[A\n",
      "Average Metric: 15 / 32  (46.9):  64%|██████▍   | 32/50 [00:16<00:08,  2.10it/s]\u001B[A\n",
      "Average Metric: 16 / 33  (48.5):  64%|██████▍   | 32/50 [00:16<00:08,  2.10it/s]\u001B[A\n",
      "Average Metric: 16 / 33  (48.5):  66%|██████▌   | 33/50 [00:16<00:09,  1.79it/s]\u001B[A\n",
      "Average Metric: 17 / 34  (50.0):  66%|██████▌   | 33/50 [00:17<00:09,  1.79it/s]\u001B[A\n",
      "Average Metric: 17 / 34  (50.0):  68%|██████▊   | 34/50 [00:17<00:07,  2.24it/s]\u001B[A\n",
      "Average Metric: 18 / 35  (51.4):  68%|██████▊   | 34/50 [00:17<00:07,  2.24it/s]\u001B[A\n",
      "Average Metric: 18 / 35  (51.4):  70%|███████   | 35/50 [00:17<00:07,  1.96it/s]\u001B[A\n",
      "Average Metric: 19 / 36  (52.8):  70%|███████   | 35/50 [00:18<00:07,  1.96it/s]\u001B[A\n",
      "Average Metric: 19 / 36  (52.8):  72%|███████▏  | 36/50 [00:18<00:06,  2.24it/s]\u001B[A\n",
      "Average Metric: 19 / 37  (51.4):  72%|███████▏  | 36/50 [00:18<00:06,  2.24it/s]\u001B[A\n",
      "Average Metric: 19 / 37  (51.4):  74%|███████▍  | 37/50 [00:18<00:05,  2.42it/s]\u001B[A\n",
      "Average Metric: 20 / 38  (52.6):  74%|███████▍  | 37/50 [00:18<00:05,  2.42it/s]\u001B[A\n",
      "Average Metric: 20 / 38  (52.6):  76%|███████▌  | 38/50 [00:18<00:04,  2.44it/s]\u001B[A\n",
      "Average Metric: 21 / 39  (53.8):  76%|███████▌  | 38/50 [00:20<00:04,  2.44it/s]\u001B[A\n",
      "Average Metric: 21 / 39  (53.8):  78%|███████▊  | 39/50 [00:20<00:08,  1.25it/s]\u001B[A\n",
      "Average Metric: 21 / 40  (52.5):  78%|███████▊  | 39/50 [00:20<00:08,  1.25it/s]\u001B[A\n",
      "Average Metric: 21 / 40  (52.5):  80%|████████  | 40/50 [00:20<00:06,  1.51it/s]\u001B[A\n",
      "Average Metric: 22 / 41  (53.7):  80%|████████  | 40/50 [00:21<00:06,  1.51it/s]\u001B[A\n",
      "Average Metric: 22 / 41  (53.7):  82%|████████▏ | 41/50 [00:21<00:04,  1.82it/s]\u001B[A\n",
      "Average Metric: 22 / 42  (52.4):  82%|████████▏ | 41/50 [00:21<00:04,  1.82it/s]\u001B[A\n",
      "Average Metric: 22 / 42  (52.4):  84%|████████▍ | 42/50 [00:21<00:05,  1.60it/s]\u001B[A\n",
      "Average Metric: 22 / 43  (51.2):  84%|████████▍ | 42/50 [00:22<00:05,  1.60it/s]\u001B[A\n",
      "Average Metric: 22 / 43  (51.2):  86%|████████▌ | 43/50 [00:22<00:03,  1.81it/s]\u001B[A\n",
      "Average Metric: 23 / 44  (52.3):  86%|████████▌ | 43/50 [00:22<00:03,  1.81it/s]\u001B[A\n",
      "Average Metric: 23 / 45  (51.1):  88%|████████▊ | 44/50 [00:23<00:03,  1.81it/s]\u001B[A\n",
      "Average Metric: 23 / 45  (51.1):  90%|█████████ | 45/50 [00:23<00:03,  1.46it/s]\u001B[A\n",
      "Average Metric: 24 / 46  (52.2):  90%|█████████ | 45/50 [00:24<00:03,  1.46it/s]\u001B[A\n",
      "Average Metric: 24 / 46  (52.2):  92%|█████████▏| 46/50 [00:24<00:02,  1.58it/s]\u001B[A\n",
      "Average Metric: 25 / 47  (53.2):  92%|█████████▏| 46/50 [00:24<00:02,  1.58it/s]\u001B[A\n",
      "Average Metric: 25 / 47  (53.2):  94%|█████████▍| 47/50 [00:24<00:01,  1.85it/s]\u001B[A\n",
      "Average Metric: 26 / 48  (54.2):  94%|█████████▍| 47/50 [00:26<00:01,  1.85it/s]\u001B[A\n",
      "Average Metric: 26 / 48  (54.2):  96%|█████████▌| 48/50 [00:26<00:01,  1.18it/s]\u001B[A\n",
      "Average Metric: 26 / 49  (53.1):  96%|█████████▌| 48/50 [00:31<00:01,  1.18it/s]\u001B[A\n",
      "Average Metric: 26 / 49  (53.1):  98%|█████████▊| 49/50 [00:31<00:02,  2.15s/it]\u001B[A\n",
      "Average Metric: 26 / 50  (52.0):  98%|█████████▊| 49/50 [00:40<00:02,  2.15s/it]\u001B[A\n",
      "Average Metric: 26 / 50  (52.0): 100%|██████████| 50/50 [00:40<00:00,  1.24it/s]\u001B[A\n"
     ]
    },
    {
     "name": "stdout",
     "output_type": "stream",
     "text": [
      "Average Metric: 26 / 50  (52.0%)\n",
      "Score: 52.0 for set: [2, 2, 1, 0, 0]\n",
      "New best score: 52.0 for seed 7\n",
      "Scores so far: [16.0, 16.0, 44.0, 48.0, 44.0, 50.0, 40.0, 42.0, 50.0, 50.0, 52.0]\n",
      "Best score: 52.0\n",
      "Average of max per entry across top 1 scores: 0.52\n",
      "Average of max per entry across top 2 scores: 0.8\n",
      "Average of max per entry across top 3 scores: 0.8\n",
      "Average of max per entry across top 5 scores: 0.94\n",
      "Average of max per entry across top 8 scores: 1.0\n",
      "Average of max per entry across top 9999 scores: 1.0\n"
     ]
    },
    {
     "name": "stderr",
     "output_type": "stream",
     "text": [
      "\n",
      "  0%|          | 0/150 [00:00<?, ?it/s]\u001B[A\n",
      "  3%|▎         | 4/150 [00:36<22:09,  9.11s/it]\u001B[A\n",
      "  3%|▎         | 5/150 [00:41<19:17,  7.99s/it]\u001B[A\n",
      "  4%|▍         | 6/150 [00:54<21:45,  9.06s/it]\u001B[A\n"
     ]
    },
    {
     "name": "stdout",
     "output_type": "stream",
     "text": [
      "Bootstrapped 1 full traces after 7 examples in round 0.\n"
     ]
    },
    {
     "name": "stderr",
     "output_type": "stream",
     "text": [
      "\n",
      "  0%|          | 0/50 [00:00<?, ?it/s]\u001B[A\n",
      "Average Metric: 1 / 1  (100.0):   0%|          | 0/50 [00:03<?, ?it/s]\u001B[A\n",
      "Average Metric: 1 / 1  (100.0):   2%|▏         | 1/50 [00:03<02:37,  3.22s/it]\u001B[A\n",
      "Average Metric: 2 / 2  (100.0):   2%|▏         | 1/50 [00:03<02:37,  3.22s/it]\u001B[A\n",
      "Average Metric: 2 / 2  (100.0):   4%|▍         | 2/50 [00:03<01:09,  1.45s/it]\u001B[A\n",
      "Average Metric: 3 / 3  (100.0):   4%|▍         | 2/50 [00:03<01:09,  1.45s/it]\u001B[A\n",
      "Average Metric: 3 / 3  (100.0):   6%|▌         | 3/50 [00:03<00:39,  1.20it/s]\u001B[A\n",
      "Average Metric: 3 / 4  (75.0):   6%|▌         | 3/50 [00:04<00:39,  1.20it/s] \u001B[A\n",
      "Average Metric: 3 / 4  (75.0):   8%|▊         | 4/50 [00:04<00:31,  1.45it/s]\u001B[A\n",
      "Average Metric: 3 / 5  (60.0):   8%|▊         | 4/50 [00:04<00:31,  1.45it/s]\u001B[A\n",
      "Average Metric: 3 / 5  (60.0):  10%|█         | 5/50 [00:04<00:25,  1.76it/s]\u001B[A\n",
      "Average Metric: 3 / 6  (50.0):  10%|█         | 5/50 [00:04<00:25,  1.76it/s]\u001B[A\n",
      "Average Metric: 3 / 6  (50.0):  12%|█▏        | 6/50 [00:04<00:18,  2.37it/s]\u001B[A\n",
      "Average Metric: 4 / 7  (57.1):  12%|█▏        | 6/50 [00:04<00:18,  2.37it/s]\u001B[A\n",
      "Average Metric: 5 / 8  (62.5):  14%|█▍        | 7/50 [00:04<00:18,  2.37it/s]\u001B[A\n",
      "Average Metric: 5 / 9  (55.6):  16%|█▌        | 8/50 [00:05<00:17,  2.37it/s]\u001B[A\n",
      "Average Metric: 5 / 9  (55.6):  18%|█▊        | 9/50 [00:05<00:11,  3.61it/s]\u001B[A\n",
      "Average Metric: 6 / 10  (60.0):  18%|█▊        | 9/50 [00:07<00:11,  3.61it/s]\u001B[A\n",
      "Average Metric: 6 / 10  (60.0):  20%|██        | 10/50 [00:07<00:26,  1.51it/s]\u001B[A\n",
      "Average Metric: 7 / 11  (63.6):  20%|██        | 10/50 [00:07<00:26,  1.51it/s]\u001B[A\n",
      "Average Metric: 7 / 12  (58.3):  22%|██▏       | 11/50 [00:07<00:25,  1.51it/s]\u001B[A\n",
      "Average Metric: 7 / 12  (58.3):  24%|██▍       | 12/50 [00:07<00:18,  2.10it/s]\u001B[A\n",
      "Average Metric: 7 / 13  (53.8):  24%|██▍       | 12/50 [00:08<00:18,  2.10it/s]\u001B[A\n",
      "Average Metric: 7 / 13  (53.8):  26%|██▌       | 13/50 [00:08<00:21,  1.72it/s]\u001B[A\n",
      "Average Metric: 7 / 14  (50.0):  26%|██▌       | 13/50 [00:08<00:21,  1.72it/s]\u001B[A\n",
      "Average Metric: 7 / 14  (50.0):  28%|██▊       | 14/50 [00:08<00:16,  2.13it/s]\u001B[A\n",
      "Average Metric: 7 / 15  (46.7):  28%|██▊       | 14/50 [00:09<00:16,  2.13it/s]\u001B[A\n",
      "Average Metric: 7 / 15  (46.7):  30%|███       | 15/50 [00:09<00:19,  1.82it/s]\u001B[A\n",
      "Average Metric: 7 / 16  (43.8):  30%|███       | 15/50 [00:09<00:19,  1.82it/s]\u001B[A\n",
      "Average Metric: 8 / 17  (47.1):  32%|███▏      | 16/50 [00:09<00:18,  1.82it/s]\u001B[A\n",
      "Average Metric: 8 / 17  (47.1):  34%|███▍      | 17/50 [00:09<00:12,  2.64it/s]\u001B[A\n",
      "Average Metric: 9 / 18  (50.0):  34%|███▍      | 17/50 [00:11<00:12,  2.64it/s]\u001B[A\n",
      "Average Metric: 9 / 18  (50.0):  36%|███▌      | 18/50 [00:11<00:20,  1.57it/s]\u001B[A\n",
      "Average Metric: 9 / 19  (47.4):  36%|███▌      | 18/50 [00:11<00:20,  1.57it/s]\u001B[A\n",
      "Average Metric: 9 / 20  (45.0):  38%|███▊      | 19/50 [00:11<00:19,  1.57it/s]\u001B[A\n",
      "Average Metric: 9 / 20  (45.0):  40%|████      | 20/50 [00:11<00:14,  2.12it/s]\u001B[A\n",
      "Average Metric: 9 / 21  (42.9):  40%|████      | 20/50 [00:13<00:14,  2.12it/s]\u001B[A\n",
      "Average Metric: 9 / 21  (42.9):  42%|████▏     | 21/50 [00:13<00:23,  1.26it/s]\u001B[A\n",
      "Average Metric: 9 / 22  (40.9):  42%|████▏     | 21/50 [00:14<00:23,  1.26it/s]\u001B[A\n",
      "Average Metric: 9 / 22  (40.9):  44%|████▍     | 22/50 [00:14<00:23,  1.19it/s]\u001B[A\n",
      "Average Metric: 9 / 23  (39.1):  44%|████▍     | 22/50 [00:14<00:23,  1.19it/s]\u001B[A\n",
      "Average Metric: 9 / 23  (39.1):  46%|████▌     | 23/50 [00:14<00:19,  1.38it/s]\u001B[A\n",
      "Average Metric: 9 / 24  (37.5):  46%|████▌     | 23/50 [00:14<00:19,  1.38it/s]\u001B[A\n",
      "Average Metric: 9 / 24  (37.5):  48%|████▊     | 24/50 [00:14<00:14,  1.77it/s]\u001B[A\n",
      "Average Metric: 10 / 25  (40.0):  48%|████▊     | 24/50 [00:15<00:14,  1.77it/s]\u001B[A\n",
      "Average Metric: 10 / 25  (40.0):  50%|█████     | 25/50 [00:15<00:12,  1.98it/s]\u001B[A\n",
      "Average Metric: 10 / 26  (38.5):  50%|█████     | 25/50 [00:15<00:12,  1.98it/s]\u001B[A\n",
      "Average Metric: 10 / 26  (38.5):  52%|█████▏    | 26/50 [00:15<00:10,  2.39it/s]\u001B[A\n",
      "Average Metric: 10 / 27  (37.0):  52%|█████▏    | 26/50 [00:16<00:10,  2.39it/s]\u001B[A\n",
      "Average Metric: 10 / 27  (37.0):  54%|█████▍    | 27/50 [00:16<00:14,  1.59it/s]\u001B[A\n",
      "Average Metric: 11 / 28  (39.3):  54%|█████▍    | 27/50 [00:16<00:14,  1.59it/s]\u001B[A\n",
      "Average Metric: 11 / 28  (39.3):  56%|█████▌    | 28/50 [00:16<00:11,  1.84it/s]\u001B[A\n",
      "Average Metric: 11 / 29  (37.9):  56%|█████▌    | 28/50 [00:17<00:11,  1.84it/s]\u001B[A\n",
      "Average Metric: 11 / 29  (37.9):  58%|█████▊    | 29/50 [00:17<00:13,  1.61it/s]\u001B[A\n",
      "Average Metric: 11 / 30  (36.7):  58%|█████▊    | 29/50 [00:18<00:13,  1.61it/s]\u001B[A\n",
      "Average Metric: 11 / 30  (36.7):  60%|██████    | 30/50 [00:18<00:10,  1.83it/s]\u001B[A\n",
      "Average Metric: 11 / 31  (35.5):  60%|██████    | 30/50 [00:18<00:10,  1.83it/s]\u001B[A\n",
      "Average Metric: 11 / 31  (35.5):  62%|██████▏   | 31/50 [00:18<00:08,  2.25it/s]\u001B[A\n",
      "Average Metric: 12 / 32  (37.5):  62%|██████▏   | 31/50 [00:21<00:08,  2.25it/s]\u001B[A\n",
      "Average Metric: 12 / 32  (37.5):  64%|██████▍   | 32/50 [00:21<00:22,  1.24s/it]\u001B[A\n",
      "Average Metric: 13 / 33  (39.4):  64%|██████▍   | 32/50 [00:21<00:22,  1.24s/it]\u001B[A\n",
      "Average Metric: 13 / 33  (39.4):  66%|██████▌   | 33/50 [00:21<00:16,  1.06it/s]\u001B[A\n",
      "Average Metric: 14 / 34  (41.2):  66%|██████▌   | 33/50 [00:22<00:16,  1.06it/s]\u001B[A\n",
      "Average Metric: 14 / 34  (41.2):  68%|██████▊   | 34/50 [00:22<00:12,  1.25it/s]\u001B[A\n",
      "Average Metric: 15 / 35  (42.9):  68%|██████▊   | 34/50 [00:22<00:12,  1.25it/s]\u001B[A\n",
      "Average Metric: 15 / 35  (42.9):  70%|███████   | 35/50 [00:22<00:10,  1.43it/s]\u001B[A\n",
      "Average Metric: 15 / 36  (41.7):  70%|███████   | 35/50 [00:22<00:10,  1.43it/s]\u001B[A\n",
      "Average Metric: 15 / 37  (40.5):  72%|███████▏  | 36/50 [00:23<00:09,  1.43it/s]\u001B[A\n",
      "Average Metric: 15 / 37  (40.5):  74%|███████▍  | 37/50 [00:23<00:07,  1.78it/s]\u001B[A\n",
      "Average Metric: 15 / 38  (39.5):  74%|███████▍  | 37/50 [00:23<00:07,  1.78it/s]\u001B[A\n",
      "Average Metric: 15 / 38  (39.5):  76%|███████▌  | 38/50 [00:23<00:05,  2.09it/s]\u001B[A\n",
      "Average Metric: 15 / 39  (38.5):  76%|███████▌  | 38/50 [00:24<00:05,  2.09it/s]\u001B[A\n",
      "Average Metric: 15 / 39  (38.5):  78%|███████▊  | 39/50 [00:24<00:06,  1.70it/s]\u001B[A\n",
      "Average Metric: 16 / 40  (40.0):  78%|███████▊  | 39/50 [00:25<00:06,  1.70it/s]\u001B[A\n",
      "Average Metric: 16 / 40  (40.0):  80%|████████  | 40/50 [00:25<00:07,  1.42it/s]\u001B[A\n",
      "Average Metric: 16 / 41  (39.0):  80%|████████  | 40/50 [00:28<00:07,  1.42it/s]\u001B[A\n",
      "Average Metric: 16 / 41  (39.0):  82%|████████▏ | 41/50 [00:28<00:11,  1.26s/it]\u001B[A\n",
      "Average Metric: 16 / 42  (38.1):  82%|████████▏ | 41/50 [00:30<00:11,  1.26s/it]\u001B[A\n",
      "Average Metric: 16 / 42  (38.1):  84%|████████▍ | 42/50 [00:30<00:11,  1.42s/it]\u001B[A\n",
      "Average Metric: 17 / 43  (39.5):  84%|████████▍ | 42/50 [00:31<00:11,  1.42s/it]\u001B[A\n",
      "Average Metric: 17 / 43  (39.5):  86%|████████▌ | 43/50 [00:31<00:10,  1.49s/it]\u001B[A\n",
      "Average Metric: 17 / 44  (38.6):  86%|████████▌ | 43/50 [00:32<00:10,  1.49s/it]\u001B[A\n",
      "Average Metric: 17 / 44  (38.6):  88%|████████▊ | 44/50 [00:32<00:08,  1.41s/it]\u001B[A\n",
      "Average Metric: 17 / 45  (37.8):  88%|████████▊ | 44/50 [00:38<00:08,  1.41s/it]\u001B[A\n",
      "Average Metric: 17 / 45  (37.8):  90%|█████████ | 45/50 [00:38<00:13,  2.67s/it]\u001B[A\n",
      "Average Metric: 17 / 46  (37.0):  90%|█████████ | 45/50 [00:46<00:13,  2.67s/it]\u001B[A\n",
      "Average Metric: 17 / 46  (37.0):  92%|█████████▏| 46/50 [00:46<00:16,  4.23s/it]\u001B[A\n",
      "Average Metric: 17 / 47  (36.2):  92%|█████████▏| 46/50 [00:49<00:16,  4.23s/it]\u001B[A\n",
      "Average Metric: 17 / 47  (36.2):  94%|█████████▍| 47/50 [00:49<00:11,  3.91s/it]\u001B[A\n",
      "Average Metric: 17 / 48  (35.4):  94%|█████████▍| 47/50 [00:54<00:11,  3.91s/it]\u001B[A\n",
      "Average Metric: 17 / 48  (35.4):  96%|█████████▌| 48/50 [00:54<00:08,  4.02s/it]\u001B[A\n",
      "Average Metric: 17 / 49  (34.7):  96%|█████████▌| 48/50 [00:56<00:08,  4.02s/it]\u001B[A\n",
      "Average Metric: 17 / 49  (34.7):  98%|█████████▊| 49/50 [00:56<00:03,  3.44s/it]\u001B[A\n",
      "Average Metric: 17 / 50  (34.0):  98%|█████████▊| 49/50 [00:57<00:03,  3.44s/it]\u001B[A\n",
      "Average Metric: 17 / 50  (34.0): 100%|██████████| 50/50 [00:57<00:00,  1.15s/it]\u001B[A\n"
     ]
    },
    {
     "name": "stdout",
     "output_type": "stream",
     "text": [
      "Average Metric: 17 / 50  (34.0%)\n",
      "Score: 34.0 for set: [1, 1, 1, 0, 0]\n",
      "Scores so far: [16.0, 16.0, 44.0, 48.0, 44.0, 50.0, 40.0, 42.0, 50.0, 50.0, 52.0, 34.0]\n",
      "Best score: 52.0\n",
      "Average of max per entry across top 1 scores: 0.52\n",
      "Average of max per entry across top 2 scores: 0.8\n",
      "Average of max per entry across top 3 scores: 0.8\n",
      "Average of max per entry across top 5 scores: 0.94\n",
      "Average of max per entry across top 8 scores: 1.0\n",
      "Average of max per entry across top 9999 scores: 1.0\n"
     ]
    },
    {
     "name": "stderr",
     "output_type": "stream",
     "text": [
      "\n",
      "  0%|          | 0/150 [00:00<?, ?it/s]\u001B[A\n",
      "  1%|          | 1/150 [00:17<43:26, 17.50s/it]\u001B[A\n",
      "  3%|▎         | 4/150 [00:20<10:06,  4.16s/it]\u001B[A\n",
      "  3%|▎         | 5/150 [00:31<14:50,  6.14s/it]\u001B[A\n",
      "  4%|▍         | 6/150 [00:35<13:18,  5.55s/it]\u001B[A\n",
      "  5%|▍         | 7/150 [00:44<15:33,  6.53s/it]\u001B[A\n",
      "  5%|▌         | 8/150 [02:12<1:11:51, 30.36s/it]\u001B[A\n",
      "  6%|▌         | 9/150 [02:37<1:07:15, 28.62s/it]\u001B[A\n",
      "  7%|▋         | 11/150 [02:45<34:46, 15.01s/it] \u001B[A\n"
     ]
    },
    {
     "name": "stdout",
     "output_type": "stream",
     "text": [
      "Bootstrapped 2 full traces after 12 examples in round 0.\n"
     ]
    },
    {
     "name": "stderr",
     "output_type": "stream",
     "text": [
      "\n",
      "  0%|          | 0/50 [00:00<?, ?it/s]\u001B[A\n",
      "Average Metric: 0 / 1  (0.0):   0%|          | 0/50 [00:03<?, ?it/s]\u001B[A\n",
      "Average Metric: 0 / 1  (0.0):   2%|▏         | 1/50 [00:03<02:35,  3.18s/it]\u001B[A\n",
      "Average Metric: 1 / 2  (50.0):   2%|▏         | 1/50 [00:03<02:35,  3.18s/it]\u001B[A\n",
      "Average Metric: 1 / 2  (50.0):   4%|▍         | 2/50 [00:03<01:07,  1.40s/it]\u001B[A\n",
      "Average Metric: 1 / 3  (33.3):   4%|▍         | 2/50 [00:03<01:07,  1.40s/it]\u001B[A\n",
      "Average Metric: 1 / 3  (33.3):   6%|▌         | 3/50 [00:03<00:38,  1.22it/s]\u001B[A\n",
      "Average Metric: 2 / 4  (50.0):   6%|▌         | 3/50 [00:03<00:38,  1.22it/s]\u001B[A\n",
      "Average Metric: 2 / 4  (50.0):   8%|▊         | 4/50 [00:03<00:28,  1.62it/s]\u001B[A\n",
      "Average Metric: 2 / 5  (40.0):   8%|▊         | 4/50 [00:05<00:28,  1.62it/s]\u001B[A\n",
      "Average Metric: 2 / 5  (40.0):  10%|█         | 5/50 [00:05<00:38,  1.17it/s]\u001B[A\n",
      "Average Metric: 2 / 6  (33.3):  10%|█         | 5/50 [00:05<00:38,  1.17it/s]\u001B[A\n",
      "Average Metric: 2 / 6  (33.3):  12%|█▏        | 6/50 [00:05<00:27,  1.62it/s]\u001B[A\n",
      "Average Metric: 2 / 7  (28.6):  12%|█▏        | 6/50 [00:05<00:27,  1.62it/s]\u001B[A\n",
      "Average Metric: 2 / 7  (28.6):  14%|█▍        | 7/50 [00:05<00:23,  1.83it/s]\u001B[A\n",
      "Average Metric: 3 / 8  (37.5):  14%|█▍        | 7/50 [00:05<00:23,  1.83it/s]\u001B[A\n",
      "Average Metric: 3 / 8  (37.5):  16%|█▌        | 8/50 [00:05<00:20,  2.07it/s]\u001B[A\n",
      "Average Metric: 4 / 9  (44.4):  16%|█▌        | 8/50 [00:06<00:20,  2.07it/s]\u001B[A\n",
      "Average Metric: 4 / 9  (44.4):  18%|█▊        | 9/50 [00:06<00:18,  2.20it/s]\u001B[A\n",
      "Average Metric: 5 / 10  (50.0):  18%|█▊        | 9/50 [00:07<00:18,  2.20it/s]\u001B[A\n",
      "Average Metric: 5 / 10  (50.0):  20%|██        | 10/50 [00:07<00:26,  1.52it/s]\u001B[A\n",
      "Average Metric: 6 / 11  (54.5):  20%|██        | 10/50 [00:08<00:26,  1.52it/s]\u001B[A\n",
      "Average Metric: 6 / 11  (54.5):  22%|██▏       | 11/50 [00:08<00:24,  1.59it/s]\u001B[A\n",
      "Average Metric: 6 / 12  (50.0):  22%|██▏       | 11/50 [00:08<00:24,  1.59it/s]\u001B[A\n",
      "Average Metric: 7 / 13  (53.8):  24%|██▍       | 12/50 [00:08<00:23,  1.59it/s]\u001B[A\n",
      "Average Metric: 7 / 13  (53.8):  26%|██▌       | 13/50 [00:08<00:13,  2.68it/s]\u001B[A\n",
      "Average Metric: 8 / 14  (57.1):  26%|██▌       | 13/50 [00:09<00:13,  2.68it/s]\u001B[A\n",
      "Average Metric: 8 / 14  (57.1):  28%|██▊       | 14/50 [00:09<00:21,  1.65it/s]\u001B[A\n",
      "Average Metric: 9 / 15  (60.0):  28%|██▊       | 14/50 [00:11<00:21,  1.65it/s]\u001B[A\n",
      "Average Metric: 9 / 15  (60.0):  30%|███       | 15/50 [00:11<00:37,  1.08s/it]\u001B[A\n",
      "Average Metric: 9 / 16  (56.2):  30%|███       | 15/50 [00:12<00:37,  1.08s/it]\u001B[A\n",
      "Average Metric: 9 / 16  (56.2):  32%|███▏      | 16/50 [00:12<00:28,  1.18it/s]\u001B[A\n",
      "Average Metric: 10 / 17  (58.8):  32%|███▏      | 16/50 [00:13<00:28,  1.18it/s]\u001B[A\n",
      "Average Metric: 10 / 17  (58.8):  34%|███▍      | 17/50 [00:13<00:34,  1.05s/it]\u001B[A\n",
      "Average Metric: 11 / 18  (61.1):  34%|███▍      | 17/50 [00:13<00:34,  1.05s/it]\u001B[A\n",
      "Average Metric: 11 / 18  (61.1):  36%|███▌      | 18/50 [00:13<00:25,  1.26it/s]\u001B[A\n",
      "Average Metric: 12 / 19  (63.2):  36%|███▌      | 18/50 [00:14<00:25,  1.26it/s]\u001B[A\n",
      "Average Metric: 12 / 19  (63.2):  38%|███▊      | 19/50 [00:14<00:26,  1.18it/s]\u001B[A\n",
      "Average Metric: 12 / 20  (60.0):  38%|███▊      | 19/50 [00:15<00:26,  1.18it/s]\u001B[A\n",
      "Average Metric: 12 / 20  (60.0):  40%|████      | 20/50 [00:15<00:20,  1.44it/s]\u001B[A\n",
      "Average Metric: 12 / 21  (57.1):  40%|████      | 20/50 [00:16<00:20,  1.44it/s]\u001B[A\n",
      "Average Metric: 12 / 21  (57.1):  42%|████▏     | 21/50 [00:16<00:22,  1.30it/s]\u001B[A\n",
      "Average Metric: 12 / 22  (54.5):  42%|████▏     | 21/50 [00:16<00:22,  1.30it/s]\u001B[A\n",
      "Average Metric: 12 / 22  (54.5):  44%|████▍     | 22/50 [00:16<00:17,  1.60it/s]\u001B[A\n",
      "Average Metric: 12 / 23  (52.2):  44%|████▍     | 22/50 [00:17<00:17,  1.60it/s]\u001B[A\n",
      "Average Metric: 12 / 23  (52.2):  46%|████▌     | 23/50 [00:17<00:19,  1.37it/s]\u001B[A\n",
      "Average Metric: 12 / 24  (50.0):  46%|████▌     | 23/50 [00:17<00:19,  1.37it/s]\u001B[A\n",
      "Average Metric: 12.0 / 33  (36.4):  66%|██████▌   | 33/50 [29:24<15:09, 53.48s/it]A\n",
      "\n",
      "Average Metric: 13 / 25  (52.0):  48%|████▊     | 24/50 [00:18<00:16,  1.60it/s]\u001B[A\n",
      "Average Metric: 13 / 25  (52.0):  50%|█████     | 25/50 [00:18<00:19,  1.31it/s]\u001B[A\n",
      "Average Metric: 13 / 26  (50.0):  50%|█████     | 25/50 [00:19<00:19,  1.31it/s]\u001B[A\n",
      "Average Metric: 13 / 26  (50.0):  52%|█████▏    | 26/50 [00:19<00:15,  1.56it/s]\u001B[A\n",
      "Average Metric: 14 / 27  (51.9):  52%|█████▏    | 26/50 [00:19<00:15,  1.56it/s]\u001B[A\n",
      "Average Metric: 14 / 28  (50.0):  54%|█████▍    | 27/50 [00:20<00:14,  1.56it/s]\u001B[A\n",
      "Average Metric: 14 / 28  (50.0):  56%|█████▌    | 28/50 [00:20<00:12,  1.76it/s]\u001B[A\n",
      "Average Metric: 14 / 29  (48.3):  56%|█████▌    | 28/50 [00:20<00:12,  1.76it/s]\u001B[A\n",
      "Average Metric: 14 / 29  (48.3):  58%|█████▊    | 29/50 [00:20<00:11,  1.91it/s]\u001B[A\n",
      "Average Metric: 14 / 30  (46.7):  58%|█████▊    | 29/50 [00:22<00:11,  1.91it/s]\u001B[A\n",
      "Average Metric: 14 / 30  (46.7):  60%|██████    | 30/50 [00:22<00:17,  1.13it/s]\u001B[A\n",
      "Average Metric: 15 / 31  (48.4):  60%|██████    | 30/50 [00:22<00:17,  1.13it/s]\u001B[A\n",
      "Average Metric: 15 / 31  (48.4):  62%|██████▏   | 31/50 [00:22<00:13,  1.43it/s]\u001B[A\n",
      "Average Metric: 16 / 32  (50.0):  62%|██████▏   | 31/50 [00:22<00:13,  1.43it/s]\u001B[A\n",
      "Average Metric: 17 / 33  (51.5):  64%|██████▍   | 32/50 [00:23<00:12,  1.43it/s]\u001B[A\n",
      "Average Metric: 17 / 33  (51.5):  66%|██████▌   | 33/50 [00:23<00:09,  1.87it/s]\u001B[A\n",
      "Average Metric: 17 / 34  (50.0):  66%|██████▌   | 33/50 [00:23<00:09,  1.87it/s]\u001B[A\n",
      "Average Metric: 17 / 34  (50.0):  68%|██████▊   | 34/50 [00:23<00:07,  2.19it/s]\u001B[A\n",
      "Average Metric: 17 / 35  (48.6):  68%|██████▊   | 34/50 [00:24<00:07,  2.19it/s]\u001B[A\n",
      "Average Metric: 17 / 35  (48.6):  70%|███████   | 35/50 [00:24<00:07,  2.06it/s]\u001B[A\n",
      "Average Metric: 18 / 36  (50.0):  70%|███████   | 35/50 [00:24<00:07,  2.06it/s]\u001B[A\n",
      "Average Metric: 18 / 36  (50.0):  72%|███████▏  | 36/50 [00:24<00:07,  1.92it/s]\u001B[A\n",
      "Average Metric: 19 / 37  (51.4):  72%|███████▏  | 36/50 [00:24<00:07,  1.92it/s]\u001B[A\n",
      "Average Metric: 19 / 38  (50.0):  74%|███████▍  | 37/50 [00:25<00:06,  1.92it/s]\u001B[A\n",
      "Average Metric: 19 / 38  (50.0):  76%|███████▌  | 38/50 [00:25<00:05,  2.09it/s]\u001B[A\n",
      "Average Metric: 20 / 39  (51.3):  76%|███████▌  | 38/50 [00:25<00:05,  2.09it/s]\u001B[A\n",
      "Average Metric: 20 / 39  (51.3):  78%|███████▊  | 39/50 [00:25<00:05,  2.20it/s]\u001B[A\n",
      "Average Metric: 21 / 40  (52.5):  78%|███████▊  | 39/50 [00:26<00:05,  2.20it/s]\u001B[A\n",
      "Average Metric: 21 / 40  (52.5):  80%|████████  | 40/50 [00:26<00:04,  2.19it/s]\u001B[A\n",
      "Average Metric: 21 / 41  (51.2):  80%|████████  | 40/50 [00:26<00:04,  2.19it/s]\u001B[A\n",
      "Average Metric: 21 / 41  (51.2):  82%|████████▏ | 41/50 [00:26<00:03,  2.49it/s]\u001B[A\n",
      "Average Metric: 21 / 42  (50.0):  82%|████████▏ | 41/50 [00:27<00:03,  2.49it/s]\u001B[A\n",
      "Average Metric: 21 / 42  (50.0):  84%|████████▍ | 42/50 [00:27<00:05,  1.54it/s]\u001B[A\n",
      "Average Metric: 21 / 43  (48.8):  84%|████████▍ | 42/50 [00:30<00:05,  1.54it/s]\u001B[A\n",
      "Average Metric: 21 / 43  (48.8):  86%|████████▌ | 43/50 [00:30<00:07,  1.08s/it]\u001B[A\n",
      "Average Metric: 22 / 44  (50.0):  86%|████████▌ | 43/50 [00:31<00:07,  1.08s/it]\u001B[A\n",
      "Average Metric: 22 / 44  (50.0):  88%|████████▊ | 44/50 [00:31<00:06,  1.15s/it]\u001B[A\n",
      "Average Metric: 23 / 45  (51.1):  88%|████████▊ | 44/50 [00:32<00:06,  1.15s/it]\u001B[A\n",
      "Average Metric: 23 / 45  (51.1):  90%|█████████ | 45/50 [00:32<00:06,  1.26s/it]\u001B[A\n",
      "Average Metric: 24 / 46  (52.2):  90%|█████████ | 45/50 [00:36<00:06,  1.26s/it]\u001B[A\n",
      "Average Metric: 24 / 46  (52.2):  92%|█████████▏| 46/50 [00:36<00:07,  1.98s/it]\u001B[A\n",
      "Average Metric: 24 / 47  (51.1):  92%|█████████▏| 46/50 [00:37<00:07,  1.98s/it]\u001B[A\n",
      "Average Metric: 24 / 47  (51.1):  94%|█████████▍| 47/50 [00:37<00:04,  1.52s/it]\u001B[A\n",
      "Average Metric: 25 / 48  (52.1):  94%|█████████▍| 47/50 [00:39<00:04,  1.52s/it]\u001B[A\n",
      "Average Metric: 25 / 48  (52.1):  96%|█████████▌| 48/50 [00:39<00:03,  1.66s/it]\u001B[A\n",
      "Average Metric: 26 / 49  (53.1):  96%|█████████▌| 48/50 [00:41<00:03,  1.66s/it]\u001B[A\n",
      "Average Metric: 26 / 49  (53.1):  98%|█████████▊| 49/50 [00:41<00:02,  2.03s/it]\u001B[A\n",
      "Average Metric: 26 / 50  (52.0):  98%|█████████▊| 49/50 [01:03<00:02,  2.03s/it]\u001B[A\n",
      "Average Metric: 26 / 50  (52.0): 100%|██████████| 50/50 [01:03<00:00,  1.27s/it]\u001B[A\n"
     ]
    },
    {
     "name": "stdout",
     "output_type": "stream",
     "text": [
      "Average Metric: 26 / 50  (52.0%)\n",
      "Score: 52.0 for set: [2, 2, 2, 0, 0]\n",
      "Scores so far: [16.0, 16.0, 44.0, 48.0, 44.0, 50.0, 40.0, 42.0, 50.0, 50.0, 52.0, 34.0, 52.0]\n",
      "Best score: 52.0\n",
      "Average of max per entry across top 1 scores: 0.52\n",
      "Average of max per entry across top 2 scores: 0.74\n",
      "Average of max per entry across top 3 scores: 0.84\n",
      "Average of max per entry across top 5 scores: 0.94\n",
      "Average of max per entry across top 8 scores: 0.98\n",
      "Average of max per entry across top 9999 scores: 1.0\n"
     ]
    },
    {
     "name": "stderr",
     "output_type": "stream",
     "text": [
      "  4%|▍         | 6/150 [00:22<09:04,  3.78s/it]\n"
     ]
    },
    {
     "name": "stdout",
     "output_type": "stream",
     "text": [
      "Bootstrapped 1 full traces after 7 examples in round 0.\n"
     ]
    },
    {
     "name": "stderr",
     "output_type": "stream",
     "text": [
      "Average Metric: 21.0 / 48  (43.8):  94%|█████████▍| 47/50 [00:36<00:06,  2.13s/it]"
     ]
    },
    {
     "name": "stdout",
     "output_type": "stream",
     "text": [
      "Error for example in dev set: \t\t not enough values to unpack (expected 2, got 1)\n"
     ]
    },
    {
     "name": "stderr",
     "output_type": "stream",
     "text": [
      "Average Metric: 21.0 / 50  (42.0): 100%|██████████| 50/50 [00:47<00:00,  1.06it/s]\n"
     ]
    },
    {
     "name": "stdout",
     "output_type": "stream",
     "text": [
      "Average Metric: 21.0 / 50  (42.0%)\n",
      "Score: 42.0 for set: [1, 1, 1, 0, 0]\n",
      "Scores so far: [16.0, 16.0, 44.0, 48.0, 44.0, 50.0, 40.0, 42.0, 50.0, 50.0, 52.0, 34.0, 52.0, 42.0]\n",
      "Best score: 52.0\n",
      "Average of max per entry across top 1 scores: 0.52\n",
      "Average of max per entry across top 2 scores: 0.74\n",
      "Average of max per entry across top 3 scores: 0.84\n",
      "Average of max per entry across top 5 scores: 0.94\n",
      "Average of max per entry across top 8 scores: 0.98\n",
      "Average of max per entry across top 9999 scores: 1.0\n"
     ]
    },
    {
     "name": "stderr",
     "output_type": "stream",
     "text": [
      "  2%|▏         | 3/150 [00:15<12:24,  5.06s/it]\n"
     ]
    },
    {
     "name": "stdout",
     "output_type": "stream",
     "text": [
      "Bootstrapped 2 full traces after 4 examples in round 0.\n"
     ]
    },
    {
     "name": "stderr",
     "output_type": "stream",
     "text": [
      "Average Metric: 12.0 / 28  (42.9):  56%|█████▌    | 28/50 [00:29<00:14,  1.48it/s]"
     ]
    },
    {
     "name": "stdout",
     "output_type": "stream",
     "text": [
      "Error for example in dev set: \t\t HTTPConnectionPool(host='192.168.31.215', port=10890): Read timed out. (read timeout=10)\n"
     ]
    },
    {
     "name": "stderr",
     "output_type": "stream",
     "text": [
      "Average Metric: 14.0 / 32  (43.8):  64%|██████▍   | 32/50 [00:34<00:19,  1.09s/it]"
     ]
    },
    {
     "name": "stdout",
     "output_type": "stream",
     "text": [
      "Error for example in dev set: \t\t not enough values to unpack (expected 2, got 1)\n"
     ]
    },
    {
     "name": "stderr",
     "output_type": "stream",
     "text": [
      "Average Metric: 14.0 / 37  (37.8):  74%|███████▍  | 37/50 [00:39<00:08,  1.46it/s]"
     ]
    },
    {
     "name": "stdout",
     "output_type": "stream",
     "text": [
      "Error for example in dev set: \t\t HTTPConnectionPool(host='192.168.31.215', port=10890): Read timed out. (read timeout=10)\n"
     ]
    },
    {
     "name": "stderr",
     "output_type": "stream",
     "text": [
      "Average Metric: 20.0 / 50  (40.0): 100%|██████████| 50/50 [00:59<00:00,  1.19s/it]\n"
     ]
    },
    {
     "name": "stdout",
     "output_type": "stream",
     "text": [
      "Average Metric: 20.0 / 50  (40.0%)\n",
      "Score: 40.0 for set: [2, 2, 2, 0, 0]\n",
      "Scores so far: [16.0, 16.0, 44.0, 48.0, 44.0, 50.0, 40.0, 42.0, 50.0, 50.0, 52.0, 34.0, 52.0, 42.0, 40.0]\n",
      "Best score: 52.0\n",
      "Average of max per entry across top 1 scores: 0.52\n",
      "Average of max per entry across top 2 scores: 0.74\n",
      "Average of max per entry across top 3 scores: 0.84\n",
      "Average of max per entry across top 5 scores: 0.94\n",
      "Average of max per entry across top 8 scores: 0.98\n",
      "Average of max per entry across top 9999 scores: 1.0\n"
     ]
    },
    {
     "name": "stderr",
     "output_type": "stream",
     "text": [
      " 19%|█▉        | 29/150 [02:39<12:50,  6.37s/it]"
     ]
    },
    {
     "name": "stdout",
     "output_type": "stream",
     "text": [
      "Failed to run or to evaluate example Example({'question': 'Who supervises the subordinate that occupies the majority of Chatan, Japan?', 'answer': 'United States Pacific Command'}) (input_keys={'question'}) with <function answer_exact_match at 0x7fa075303eb0> due to HTTPConnectionPool(host='192.168.31.215', port=10890): Read timed out. (read timeout=10).\n"
     ]
    },
    {
     "name": "stderr",
     "output_type": "stream",
     "text": [
      " 25%|██▌       | 38/150 [03:15<09:35,  5.14s/it]\n"
     ]
    },
    {
     "name": "stdout",
     "output_type": "stream",
     "text": [
      "Bootstrapped 2 full traces after 39 examples in round 0.\n"
     ]
    },
    {
     "name": "stderr",
     "output_type": "stream",
     "text": [
      "Average Metric: 26 / 50  (52.0): 100%|██████████| 50/50 [00:54<00:00,  1.09s/it]\n"
     ]
    },
    {
     "name": "stdout",
     "output_type": "stream",
     "text": [
      "Average Metric: 26 / 50  (52.0%)\n",
      "Score: 52.0 for set: [2, 2, 1, 0, 0]\n",
      "Scores so far: [16.0, 16.0, 44.0, 48.0, 44.0, 50.0, 40.0, 42.0, 50.0, 50.0, 52.0, 34.0, 52.0, 42.0, 40.0, 52.0]\n",
      "Best score: 52.0\n",
      "Average of max per entry across top 1 scores: 0.52\n",
      "Average of max per entry across top 2 scores: 0.74\n",
      "Average of max per entry across top 3 scores: 0.86\n",
      "Average of max per entry across top 5 scores: 0.88\n",
      "Average of max per entry across top 8 scores: 0.96\n",
      "Average of max per entry across top 9999 scores: 1.0\n"
     ]
    },
    {
     "name": "stderr",
     "output_type": "stream",
     "text": [
      "  0%|          | 0/150 [00:00<?, ?it/s]"
     ]
    },
    {
     "name": "stdout",
     "output_type": "stream",
     "text": [
      "Failed to run or to evaluate example Example({'question': 'Are both Ralph Saenz and Roddy Woomble credited as writers?', 'answer': 'no'}) (input_keys={'question'}) with <function answer_exact_match at 0x7fa075303eb0> due to not enough values to unpack (expected 2, got 1).\n"
     ]
    },
    {
     "name": "stderr",
     "output_type": "stream",
     "text": [
      "  9%|▉         | 14/150 [01:18<12:43,  5.61s/it]\n"
     ]
    },
    {
     "name": "stdout",
     "output_type": "stream",
     "text": [
      "Bootstrapped 2 full traces after 15 examples in round 0.\n"
     ]
    },
    {
     "name": "stderr",
     "output_type": "stream",
     "text": [
      "Average Metric: 23 / 50  (46.0): 100%|██████████| 50/50 [00:31<00:00,  1.56it/s]\n"
     ]
    },
    {
     "name": "stdout",
     "output_type": "stream",
     "text": [
      "Average Metric: 23 / 50  (46.0%)\n",
      "Score: 46.0 for set: [2, 2, 1, 0, 0]\n",
      "Scores so far: [16.0, 16.0, 44.0, 48.0, 44.0, 50.0, 40.0, 42.0, 50.0, 50.0, 52.0, 34.0, 52.0, 42.0, 40.0, 52.0, 46.0]\n",
      "Best score: 52.0\n",
      "Average of max per entry across top 1 scores: 0.52\n",
      "Average of max per entry across top 2 scores: 0.74\n",
      "Average of max per entry across top 3 scores: 0.86\n",
      "Average of max per entry across top 5 scores: 0.88\n",
      "Average of max per entry across top 8 scores: 0.98\n",
      "Average of max per entry across top 9999 scores: 1.0\n"
     ]
    },
    {
     "name": "stderr",
     "output_type": "stream",
     "text": [
      "  2%|▏         | 3/150 [00:07<06:07,  2.50s/it]\n"
     ]
    },
    {
     "name": "stdout",
     "output_type": "stream",
     "text": [
      "Bootstrapped 1 full traces after 4 examples in round 0.\n",
      "Error for example in dev set: \t\t not enough values to unpack (expected 2, got 1)\n"
     ]
    },
    {
     "name": "stderr",
     "output_type": "stream",
     "text": [
      "Average Metric: 25.0 / 50  (50.0): 100%|██████████| 50/50 [00:00<00:00, 1551.33it/s]\n"
     ]
    },
    {
     "name": "stdout",
     "output_type": "stream",
     "text": [
      "Average Metric: 25.0 / 50  (50.0%)\n",
      "Score: 50.0 for set: [1, 1, 0, 0, 0]\n",
      "Scores so far: [16.0, 16.0, 44.0, 48.0, 44.0, 50.0, 40.0, 42.0, 50.0, 50.0, 52.0, 34.0, 52.0, 42.0, 40.0, 52.0, 46.0, 50.0]\n",
      "Best score: 52.0\n",
      "Average of max per entry across top 1 scores: 0.52\n",
      "Average of max per entry across top 2 scores: 0.74\n",
      "Average of max per entry across top 3 scores: 0.86\n",
      "Average of max per entry across top 5 scores: 0.88\n",
      "Average of max per entry across top 8 scores: 0.98\n",
      "Average of max per entry across top 9999 scores: 1.0\n"
     ]
    },
    {
     "name": "stderr",
     "output_type": "stream",
     "text": [
      "  1%|          | 1/150 [00:09<24:08,  9.72s/it]"
     ]
    },
    {
     "name": "stdout",
     "output_type": "stream",
     "text": [
      "Failed to run or to evaluate example Example({'question': 'Are both Ralph Saenz and Roddy Woomble credited as writers?', 'answer': 'no'}) (input_keys={'question'}) with <function answer_exact_match at 0x7fa075303eb0> due to not enough values to unpack (expected 2, got 1).\n"
     ]
    },
    {
     "name": "stderr",
     "output_type": "stream",
     "text": [
      " 14%|█▍        | 21/150 [00:24<02:28,  1.15s/it]\n"
     ]
    },
    {
     "name": "stdout",
     "output_type": "stream",
     "text": [
      "Bootstrapped 1 full traces after 22 examples in round 0.\n"
     ]
    },
    {
     "name": "stderr",
     "output_type": "stream",
     "text": [
      "Average Metric: 24 / 50  (48.0): 100%|██████████| 50/50 [00:47<00:00,  1.05it/s]\n"
     ]
    },
    {
     "name": "stdout",
     "output_type": "stream",
     "text": [
      "Average Metric: 24 / 50  (48.0%)\n",
      "Score: 48.0 for set: [1, 1, 0, 0, 0]\n",
      "Scores so far: [16.0, 16.0, 44.0, 48.0, 44.0, 50.0, 40.0, 42.0, 50.0, 50.0, 52.0, 34.0, 52.0, 42.0, 40.0, 52.0, 46.0, 50.0, 48.0]\n",
      "Best score: 52.0\n",
      "Average of max per entry across top 1 scores: 0.52\n",
      "Average of max per entry across top 2 scores: 0.74\n",
      "Average of max per entry across top 3 scores: 0.86\n",
      "Average of max per entry across top 5 scores: 0.88\n",
      "Average of max per entry across top 8 scores: 0.98\n",
      "Average of max per entry across top 9999 scores: 1.0\n"
     ]
    },
    {
     "name": "stderr",
     "output_type": "stream",
     "text": [
      " 11%|█▏        | 17/150 [01:03<09:10,  4.14s/it]"
     ]
    },
    {
     "name": "stdout",
     "output_type": "stream",
     "text": [
      "Failed to run or to evaluate example Example({'question': 'The Mercurial Vapor is a football boot  endorsed by many players such as a Brazilian professional footballer who plays for what national team? ', 'answer': 'Brazil'}) (input_keys={'question'}) with <function answer_exact_match at 0x7fa075303eb0> due to HTTPConnectionPool(host='192.168.31.215', port=10890): Read timed out. (read timeout=10).\n"
     ]
    },
    {
     "name": "stderr",
     "output_type": "stream",
     "text": [
      " 19%|█▉        | 29/150 [01:43<08:10,  4.05s/it]"
     ]
    },
    {
     "name": "stdout",
     "output_type": "stream",
     "text": [
      "Failed to run or to evaluate example Example({'question': 'Are both Ralph Saenz and Roddy Woomble credited as writers?', 'answer': 'no'}) (input_keys={'question'}) with <function answer_exact_match at 0x7fa075303eb0> due to not enough values to unpack (expected 2, got 1).\n"
     ]
    },
    {
     "name": "stderr",
     "output_type": "stream",
     "text": [
      " 36%|███▌      | 54/150 [02:31<04:29,  2.80s/it]\n"
     ]
    },
    {
     "name": "stdout",
     "output_type": "stream",
     "text": [
      "Bootstrapped 2 full traces after 55 examples in round 0.\n"
     ]
    },
    {
     "name": "stderr",
     "output_type": "stream",
     "text": [
      "Average Metric: 21 / 50  (42.0): 100%|██████████| 50/50 [00:43<00:00,  1.16it/s]\n"
     ]
    },
    {
     "name": "stdout",
     "output_type": "stream",
     "text": [
      "Average Metric: 21 / 50  (42.0%)\n",
      "Score: 42.0 for set: [2, 2, 2, 0, 0]\n",
      "Scores so far: [16.0, 16.0, 44.0, 48.0, 44.0, 50.0, 40.0, 42.0, 50.0, 50.0, 52.0, 34.0, 52.0, 42.0, 40.0, 52.0, 46.0, 50.0, 48.0, 42.0]\n",
      "Best score: 52.0\n",
      "Average of max per entry across top 1 scores: 0.52\n",
      "Average of max per entry across top 2 scores: 0.74\n",
      "Average of max per entry across top 3 scores: 0.86\n",
      "Average of max per entry across top 5 scores: 0.88\n",
      "Average of max per entry across top 8 scores: 0.98\n",
      "Average of max per entry across top 9999 scores: 1.0\n"
     ]
    },
    {
     "name": "stderr",
     "output_type": "stream",
     "text": [
      "  3%|▎         | 5/150 [00:12<06:05,  2.52s/it]\n"
     ]
    },
    {
     "name": "stdout",
     "output_type": "stream",
     "text": [
      "Bootstrapped 2 full traces after 6 examples in round 0.\n"
     ]
    },
    {
     "name": "stderr",
     "output_type": "stream",
     "text": [
      "Average Metric: 7.0 / 15  (46.7):  28%|██▊       | 14/50 [00:40<01:46,  2.96s/it]"
     ]
    },
    {
     "name": "stdout",
     "output_type": "stream",
     "text": [
      "Error for example in dev set: \t\t Request timed out.\n",
      "Error for example in dev set: \t\t Request timed out.\n"
     ]
    },
    {
     "name": "stderr",
     "output_type": "stream",
     "text": [
      "Average Metric: 7.0 / 16  (43.8):  32%|███▏      | 16/50 [00:42<01:09,  2.03s/it]"
     ]
    },
    {
     "name": "stdout",
     "output_type": "stream",
     "text": [
      "Error for example in dev set: \t\t Request timed out.\n"
     ]
    },
    {
     "name": "stderr",
     "output_type": "stream",
     "text": [
      "Average Metric: 7.0 / 20  (35.0):  40%|████      | 20/50 [00:53<01:17,  2.57s/it]"
     ]
    },
    {
     "name": "stdout",
     "output_type": "stream",
     "text": [
      "Error for example in dev set: \t\t Connection error.\n"
     ]
    },
    {
     "name": "stderr",
     "output_type": "stream",
     "text": [
      "Average Metric: 7.0 / 21  (33.3):  42%|████▏     | 21/50 [00:55<01:08,  2.36s/it]"
     ]
    },
    {
     "name": "stdout",
     "output_type": "stream",
     "text": [
      "Error for example in dev set: \t\t Connection error.\n"
     ]
    },
    {
     "name": "stderr",
     "output_type": "stream",
     "text": [
      "Average Metric: 7.0 / 22  (31.8):  44%|████▍     | 22/50 [00:58<01:08,  2.45s/it]"
     ]
    },
    {
     "name": "stdout",
     "output_type": "stream",
     "text": [
      "Error for example in dev set: \t\t Request timed out.\n"
     ]
    },
    {
     "name": "stderr",
     "output_type": "stream",
     "text": [
      "Average Metric: 8.0 / 25  (32.0):  48%|████▊     | 24/50 [00:59<00:52,  2.02s/it]"
     ]
    },
    {
     "name": "stdout",
     "output_type": "stream",
     "text": [
      "Error for example in dev set: \t\t Request timed out.\n",
      "Error for example in dev set: \t\t Request timed out.\n"
     ]
    },
    {
     "name": "stderr",
     "output_type": "stream",
     "text": [
      "Average Metric: 8.0 / 26  (30.8):  52%|█████▏    | 26/50 [00:59<00:22,  1.06it/s]"
     ]
    },
    {
     "name": "stdout",
     "output_type": "stream",
     "text": [
      "Error for example in dev set: \t\t Request timed out.\n"
     ]
    },
    {
     "ename": "APITimeoutError",
     "evalue": "Request timed out.",
     "output_type": "error",
     "traceback": [
      "\u001B[0;31m---------------------------------------------------------------------------\u001B[0m",
      "\u001B[0;31mConnectTimeout\u001B[0m                            Traceback (most recent call last)",
      "File \u001B[0;32m~/miniconda3/envs/py310/lib/python3.10/site-packages/httpx/_transports/default.py:69\u001B[0m, in \u001B[0;36mmap_httpcore_exceptions\u001B[0;34m()\u001B[0m\n\u001B[1;32m     68\u001B[0m \u001B[38;5;28;01mtry\u001B[39;00m:\n\u001B[0;32m---> 69\u001B[0m     \u001B[38;5;28;01myield\u001B[39;00m\n\u001B[1;32m     70\u001B[0m \u001B[38;5;28;01mexcept\u001B[39;00m \u001B[38;5;167;01mException\u001B[39;00m \u001B[38;5;28;01mas\u001B[39;00m exc:\n",
      "File \u001B[0;32m~/miniconda3/envs/py310/lib/python3.10/site-packages/httpx/_transports/default.py:233\u001B[0m, in \u001B[0;36mHTTPTransport.handle_request\u001B[0;34m(self, request)\u001B[0m\n\u001B[1;32m    232\u001B[0m \u001B[38;5;28;01mwith\u001B[39;00m map_httpcore_exceptions():\n\u001B[0;32m--> 233\u001B[0m     resp \u001B[38;5;241m=\u001B[39m \u001B[38;5;28;43mself\u001B[39;49m\u001B[38;5;241;43m.\u001B[39;49m\u001B[43m_pool\u001B[49m\u001B[38;5;241;43m.\u001B[39;49m\u001B[43mhandle_request\u001B[49m\u001B[43m(\u001B[49m\u001B[43mreq\u001B[49m\u001B[43m)\u001B[49m\n\u001B[1;32m    235\u001B[0m \u001B[38;5;28;01massert\u001B[39;00m \u001B[38;5;28misinstance\u001B[39m(resp\u001B[38;5;241m.\u001B[39mstream, typing\u001B[38;5;241m.\u001B[39mIterable)\n",
      "File \u001B[0;32m~/miniconda3/envs/py310/lib/python3.10/site-packages/httpcore/_sync/connection_pool.py:216\u001B[0m, in \u001B[0;36mConnectionPool.handle_request\u001B[0;34m(self, request)\u001B[0m\n\u001B[1;32m    215\u001B[0m     \u001B[38;5;28mself\u001B[39m\u001B[38;5;241m.\u001B[39m_close_connections(closing)\n\u001B[0;32m--> 216\u001B[0m     \u001B[38;5;28;01mraise\u001B[39;00m exc \u001B[38;5;28;01mfrom\u001B[39;00m \u001B[38;5;28;01mNone\u001B[39;00m\n\u001B[1;32m    218\u001B[0m \u001B[38;5;66;03m# Return the response. Note that in this case we still have to manage\u001B[39;00m\n\u001B[1;32m    219\u001B[0m \u001B[38;5;66;03m# the point at which the response is closed.\u001B[39;00m\n",
      "File \u001B[0;32m~/miniconda3/envs/py310/lib/python3.10/site-packages/httpcore/_sync/connection_pool.py:196\u001B[0m, in \u001B[0;36mConnectionPool.handle_request\u001B[0;34m(self, request)\u001B[0m\n\u001B[1;32m    194\u001B[0m \u001B[38;5;28;01mtry\u001B[39;00m:\n\u001B[1;32m    195\u001B[0m     \u001B[38;5;66;03m# Send the request on the assigned connection.\u001B[39;00m\n\u001B[0;32m--> 196\u001B[0m     response \u001B[38;5;241m=\u001B[39m \u001B[43mconnection\u001B[49m\u001B[38;5;241;43m.\u001B[39;49m\u001B[43mhandle_request\u001B[49m\u001B[43m(\u001B[49m\n\u001B[1;32m    197\u001B[0m \u001B[43m        \u001B[49m\u001B[43mpool_request\u001B[49m\u001B[38;5;241;43m.\u001B[39;49m\u001B[43mrequest\u001B[49m\n\u001B[1;32m    198\u001B[0m \u001B[43m    \u001B[49m\u001B[43m)\u001B[49m\n\u001B[1;32m    199\u001B[0m \u001B[38;5;28;01mexcept\u001B[39;00m ConnectionNotAvailable:\n\u001B[1;32m    200\u001B[0m     \u001B[38;5;66;03m# In some cases a connection may initially be available to\u001B[39;00m\n\u001B[1;32m    201\u001B[0m     \u001B[38;5;66;03m# handle a request, but then become unavailable.\u001B[39;00m\n\u001B[1;32m    202\u001B[0m     \u001B[38;5;66;03m#\u001B[39;00m\n\u001B[1;32m    203\u001B[0m     \u001B[38;5;66;03m# In this case we clear the connection and try again.\u001B[39;00m\n",
      "File \u001B[0;32m~/miniconda3/envs/py310/lib/python3.10/site-packages/httpcore/_sync/http_proxy.py:317\u001B[0m, in \u001B[0;36mTunnelHTTPConnection.handle_request\u001B[0;34m(self, request)\u001B[0m\n\u001B[1;32m    316\u001B[0m \u001B[38;5;28;01mwith\u001B[39;00m Trace(\u001B[38;5;124m\"\u001B[39m\u001B[38;5;124mstart_tls\u001B[39m\u001B[38;5;124m\"\u001B[39m, logger, request, kwargs) \u001B[38;5;28;01mas\u001B[39;00m trace:\n\u001B[0;32m--> 317\u001B[0m     stream \u001B[38;5;241m=\u001B[39m \u001B[43mstream\u001B[49m\u001B[38;5;241;43m.\u001B[39;49m\u001B[43mstart_tls\u001B[49m\u001B[43m(\u001B[49m\u001B[38;5;241;43m*\u001B[39;49m\u001B[38;5;241;43m*\u001B[39;49m\u001B[43mkwargs\u001B[49m\u001B[43m)\u001B[49m\n\u001B[1;32m    318\u001B[0m     trace\u001B[38;5;241m.\u001B[39mreturn_value \u001B[38;5;241m=\u001B[39m stream\n",
      "File \u001B[0;32m~/miniconda3/envs/py310/lib/python3.10/site-packages/httpcore/_sync/http11.py:383\u001B[0m, in \u001B[0;36mHTTP11UpgradeStream.start_tls\u001B[0;34m(self, ssl_context, server_hostname, timeout)\u001B[0m\n\u001B[1;32m    377\u001B[0m \u001B[38;5;28;01mdef\u001B[39;00m \u001B[38;5;21mstart_tls\u001B[39m(\n\u001B[1;32m    378\u001B[0m     \u001B[38;5;28mself\u001B[39m,\n\u001B[1;32m    379\u001B[0m     ssl_context: ssl\u001B[38;5;241m.\u001B[39mSSLContext,\n\u001B[1;32m    380\u001B[0m     server_hostname: Optional[\u001B[38;5;28mstr\u001B[39m] \u001B[38;5;241m=\u001B[39m \u001B[38;5;28;01mNone\u001B[39;00m,\n\u001B[1;32m    381\u001B[0m     timeout: Optional[\u001B[38;5;28mfloat\u001B[39m] \u001B[38;5;241m=\u001B[39m \u001B[38;5;28;01mNone\u001B[39;00m,\n\u001B[1;32m    382\u001B[0m ) \u001B[38;5;241m-\u001B[39m\u001B[38;5;241m>\u001B[39m NetworkStream:\n\u001B[0;32m--> 383\u001B[0m     \u001B[38;5;28;01mreturn\u001B[39;00m \u001B[38;5;28;43mself\u001B[39;49m\u001B[38;5;241;43m.\u001B[39;49m\u001B[43m_stream\u001B[49m\u001B[38;5;241;43m.\u001B[39;49m\u001B[43mstart_tls\u001B[49m\u001B[43m(\u001B[49m\u001B[43mssl_context\u001B[49m\u001B[43m,\u001B[49m\u001B[43m \u001B[49m\u001B[43mserver_hostname\u001B[49m\u001B[43m,\u001B[49m\u001B[43m \u001B[49m\u001B[43mtimeout\u001B[49m\u001B[43m)\u001B[49m\n",
      "File \u001B[0;32m~/miniconda3/envs/py310/lib/python3.10/site-packages/httpcore/_backends/sync.py:152\u001B[0m, in \u001B[0;36mSyncStream.start_tls\u001B[0;34m(self, ssl_context, server_hostname, timeout)\u001B[0m\n\u001B[1;32m    148\u001B[0m exc_map: ExceptionMapping \u001B[38;5;241m=\u001B[39m {\n\u001B[1;32m    149\u001B[0m     socket\u001B[38;5;241m.\u001B[39mtimeout: ConnectTimeout,\n\u001B[1;32m    150\u001B[0m     \u001B[38;5;167;01mOSError\u001B[39;00m: ConnectError,\n\u001B[1;32m    151\u001B[0m }\n\u001B[0;32m--> 152\u001B[0m \u001B[38;5;28;01mwith\u001B[39;00m map_exceptions(exc_map):\n\u001B[1;32m    153\u001B[0m     \u001B[38;5;28;01mtry\u001B[39;00m:\n",
      "File \u001B[0;32m~/miniconda3/envs/py310/lib/python3.10/contextlib.py:153\u001B[0m, in \u001B[0;36m_GeneratorContextManager.__exit__\u001B[0;34m(self, typ, value, traceback)\u001B[0m\n\u001B[1;32m    152\u001B[0m \u001B[38;5;28;01mtry\u001B[39;00m:\n\u001B[0;32m--> 153\u001B[0m     \u001B[38;5;28;43mself\u001B[39;49m\u001B[38;5;241;43m.\u001B[39;49m\u001B[43mgen\u001B[49m\u001B[38;5;241;43m.\u001B[39;49m\u001B[43mthrow\u001B[49m\u001B[43m(\u001B[49m\u001B[43mtyp\u001B[49m\u001B[43m,\u001B[49m\u001B[43m \u001B[49m\u001B[43mvalue\u001B[49m\u001B[43m,\u001B[49m\u001B[43m \u001B[49m\u001B[43mtraceback\u001B[49m\u001B[43m)\u001B[49m\n\u001B[1;32m    154\u001B[0m \u001B[38;5;28;01mexcept\u001B[39;00m \u001B[38;5;167;01mStopIteration\u001B[39;00m \u001B[38;5;28;01mas\u001B[39;00m exc:\n\u001B[1;32m    155\u001B[0m     \u001B[38;5;66;03m# Suppress StopIteration *unless* it's the same exception that\u001B[39;00m\n\u001B[1;32m    156\u001B[0m     \u001B[38;5;66;03m# was passed to throw().  This prevents a StopIteration\u001B[39;00m\n\u001B[1;32m    157\u001B[0m     \u001B[38;5;66;03m# raised inside the \"with\" statement from being suppressed.\u001B[39;00m\n",
      "File \u001B[0;32m~/miniconda3/envs/py310/lib/python3.10/site-packages/httpcore/_exceptions.py:14\u001B[0m, in \u001B[0;36mmap_exceptions\u001B[0;34m(map)\u001B[0m\n\u001B[1;32m     13\u001B[0m     \u001B[38;5;28;01mif\u001B[39;00m \u001B[38;5;28misinstance\u001B[39m(exc, from_exc):\n\u001B[0;32m---> 14\u001B[0m         \u001B[38;5;28;01mraise\u001B[39;00m to_exc(exc) \u001B[38;5;28;01mfrom\u001B[39;00m \u001B[38;5;21;01mexc\u001B[39;00m\n\u001B[1;32m     15\u001B[0m \u001B[38;5;28;01mraise\u001B[39;00m\n",
      "\u001B[0;31mConnectTimeout\u001B[0m: _ssl.c:990: The handshake operation timed out",
      "\nThe above exception was the direct cause of the following exception:\n",
      "\u001B[0;31mConnectTimeout\u001B[0m                            Traceback (most recent call last)",
      "File \u001B[0;32m~/miniconda3/envs/py310/lib/python3.10/site-packages/openai/_base_client.py:931\u001B[0m, in \u001B[0;36mSyncAPIClient._request\u001B[0;34m(self, cast_to, options, remaining_retries, stream, stream_cls)\u001B[0m\n\u001B[1;32m    930\u001B[0m \u001B[38;5;28;01mtry\u001B[39;00m:\n\u001B[0;32m--> 931\u001B[0m     response \u001B[38;5;241m=\u001B[39m \u001B[38;5;28;43mself\u001B[39;49m\u001B[38;5;241;43m.\u001B[39;49m\u001B[43m_client\u001B[49m\u001B[38;5;241;43m.\u001B[39;49m\u001B[43msend\u001B[49m\u001B[43m(\u001B[49m\n\u001B[1;32m    932\u001B[0m \u001B[43m        \u001B[49m\u001B[43mrequest\u001B[49m\u001B[43m,\u001B[49m\n\u001B[1;32m    933\u001B[0m \u001B[43m        \u001B[49m\u001B[43mstream\u001B[49m\u001B[38;5;241;43m=\u001B[39;49m\u001B[43mstream\u001B[49m\u001B[43m \u001B[49m\u001B[38;5;129;43;01mor\u001B[39;49;00m\u001B[43m \u001B[49m\u001B[38;5;28;43mself\u001B[39;49m\u001B[38;5;241;43m.\u001B[39;49m\u001B[43m_should_stream_response_body\u001B[49m\u001B[43m(\u001B[49m\u001B[43mrequest\u001B[49m\u001B[38;5;241;43m=\u001B[39;49m\u001B[43mrequest\u001B[49m\u001B[43m)\u001B[49m\u001B[43m,\u001B[49m\n\u001B[1;32m    934\u001B[0m \u001B[43m        \u001B[49m\u001B[38;5;241;43m*\u001B[39;49m\u001B[38;5;241;43m*\u001B[39;49m\u001B[43mkwargs\u001B[49m\u001B[43m,\u001B[49m\n\u001B[1;32m    935\u001B[0m \u001B[43m    \u001B[49m\u001B[43m)\u001B[49m\n\u001B[1;32m    936\u001B[0m \u001B[38;5;28;01mexcept\u001B[39;00m httpx\u001B[38;5;241m.\u001B[39mTimeoutException \u001B[38;5;28;01mas\u001B[39;00m err:\n",
      "File \u001B[0;32m~/miniconda3/envs/py310/lib/python3.10/site-packages/httpx/_client.py:914\u001B[0m, in \u001B[0;36mClient.send\u001B[0;34m(self, request, stream, auth, follow_redirects)\u001B[0m\n\u001B[1;32m    912\u001B[0m auth \u001B[38;5;241m=\u001B[39m \u001B[38;5;28mself\u001B[39m\u001B[38;5;241m.\u001B[39m_build_request_auth(request, auth)\n\u001B[0;32m--> 914\u001B[0m response \u001B[38;5;241m=\u001B[39m \u001B[38;5;28;43mself\u001B[39;49m\u001B[38;5;241;43m.\u001B[39;49m\u001B[43m_send_handling_auth\u001B[49m\u001B[43m(\u001B[49m\n\u001B[1;32m    915\u001B[0m \u001B[43m    \u001B[49m\u001B[43mrequest\u001B[49m\u001B[43m,\u001B[49m\n\u001B[1;32m    916\u001B[0m \u001B[43m    \u001B[49m\u001B[43mauth\u001B[49m\u001B[38;5;241;43m=\u001B[39;49m\u001B[43mauth\u001B[49m\u001B[43m,\u001B[49m\n\u001B[1;32m    917\u001B[0m \u001B[43m    \u001B[49m\u001B[43mfollow_redirects\u001B[49m\u001B[38;5;241;43m=\u001B[39;49m\u001B[43mfollow_redirects\u001B[49m\u001B[43m,\u001B[49m\n\u001B[1;32m    918\u001B[0m \u001B[43m    \u001B[49m\u001B[43mhistory\u001B[49m\u001B[38;5;241;43m=\u001B[39;49m\u001B[43m[\u001B[49m\u001B[43m]\u001B[49m\u001B[43m,\u001B[49m\n\u001B[1;32m    919\u001B[0m \u001B[43m\u001B[49m\u001B[43m)\u001B[49m\n\u001B[1;32m    920\u001B[0m \u001B[38;5;28;01mtry\u001B[39;00m:\n",
      "File \u001B[0;32m~/miniconda3/envs/py310/lib/python3.10/site-packages/httpx/_client.py:942\u001B[0m, in \u001B[0;36mClient._send_handling_auth\u001B[0;34m(self, request, auth, follow_redirects, history)\u001B[0m\n\u001B[1;32m    941\u001B[0m \u001B[38;5;28;01mwhile\u001B[39;00m \u001B[38;5;28;01mTrue\u001B[39;00m:\n\u001B[0;32m--> 942\u001B[0m     response \u001B[38;5;241m=\u001B[39m \u001B[38;5;28;43mself\u001B[39;49m\u001B[38;5;241;43m.\u001B[39;49m\u001B[43m_send_handling_redirects\u001B[49m\u001B[43m(\u001B[49m\n\u001B[1;32m    943\u001B[0m \u001B[43m        \u001B[49m\u001B[43mrequest\u001B[49m\u001B[43m,\u001B[49m\n\u001B[1;32m    944\u001B[0m \u001B[43m        \u001B[49m\u001B[43mfollow_redirects\u001B[49m\u001B[38;5;241;43m=\u001B[39;49m\u001B[43mfollow_redirects\u001B[49m\u001B[43m,\u001B[49m\n\u001B[1;32m    945\u001B[0m \u001B[43m        \u001B[49m\u001B[43mhistory\u001B[49m\u001B[38;5;241;43m=\u001B[39;49m\u001B[43mhistory\u001B[49m\u001B[43m,\u001B[49m\n\u001B[1;32m    946\u001B[0m \u001B[43m    \u001B[49m\u001B[43m)\u001B[49m\n\u001B[1;32m    947\u001B[0m     \u001B[38;5;28;01mtry\u001B[39;00m:\n",
      "File \u001B[0;32m~/miniconda3/envs/py310/lib/python3.10/site-packages/httpx/_client.py:979\u001B[0m, in \u001B[0;36mClient._send_handling_redirects\u001B[0;34m(self, request, follow_redirects, history)\u001B[0m\n\u001B[1;32m    977\u001B[0m     hook(request)\n\u001B[0;32m--> 979\u001B[0m response \u001B[38;5;241m=\u001B[39m \u001B[38;5;28;43mself\u001B[39;49m\u001B[38;5;241;43m.\u001B[39;49m\u001B[43m_send_single_request\u001B[49m\u001B[43m(\u001B[49m\u001B[43mrequest\u001B[49m\u001B[43m)\u001B[49m\n\u001B[1;32m    980\u001B[0m \u001B[38;5;28;01mtry\u001B[39;00m:\n",
      "File \u001B[0;32m~/miniconda3/envs/py310/lib/python3.10/site-packages/httpx/_client.py:1015\u001B[0m, in \u001B[0;36mClient._send_single_request\u001B[0;34m(self, request)\u001B[0m\n\u001B[1;32m   1014\u001B[0m \u001B[38;5;28;01mwith\u001B[39;00m request_context(request\u001B[38;5;241m=\u001B[39mrequest):\n\u001B[0;32m-> 1015\u001B[0m     response \u001B[38;5;241m=\u001B[39m \u001B[43mtransport\u001B[49m\u001B[38;5;241;43m.\u001B[39;49m\u001B[43mhandle_request\u001B[49m\u001B[43m(\u001B[49m\u001B[43mrequest\u001B[49m\u001B[43m)\u001B[49m\n\u001B[1;32m   1017\u001B[0m \u001B[38;5;28;01massert\u001B[39;00m \u001B[38;5;28misinstance\u001B[39m(response\u001B[38;5;241m.\u001B[39mstream, SyncByteStream)\n",
      "File \u001B[0;32m~/miniconda3/envs/py310/lib/python3.10/site-packages/httpx/_transports/default.py:232\u001B[0m, in \u001B[0;36mHTTPTransport.handle_request\u001B[0;34m(self, request)\u001B[0m\n\u001B[1;32m    220\u001B[0m req \u001B[38;5;241m=\u001B[39m httpcore\u001B[38;5;241m.\u001B[39mRequest(\n\u001B[1;32m    221\u001B[0m     method\u001B[38;5;241m=\u001B[39mrequest\u001B[38;5;241m.\u001B[39mmethod,\n\u001B[1;32m    222\u001B[0m     url\u001B[38;5;241m=\u001B[39mhttpcore\u001B[38;5;241m.\u001B[39mURL(\n\u001B[0;32m   (...)\u001B[0m\n\u001B[1;32m    230\u001B[0m     extensions\u001B[38;5;241m=\u001B[39mrequest\u001B[38;5;241m.\u001B[39mextensions,\n\u001B[1;32m    231\u001B[0m )\n\u001B[0;32m--> 232\u001B[0m \u001B[38;5;28;01mwith\u001B[39;00m map_httpcore_exceptions():\n\u001B[1;32m    233\u001B[0m     resp \u001B[38;5;241m=\u001B[39m \u001B[38;5;28mself\u001B[39m\u001B[38;5;241m.\u001B[39m_pool\u001B[38;5;241m.\u001B[39mhandle_request(req)\n",
      "File \u001B[0;32m~/miniconda3/envs/py310/lib/python3.10/contextlib.py:153\u001B[0m, in \u001B[0;36m_GeneratorContextManager.__exit__\u001B[0;34m(self, typ, value, traceback)\u001B[0m\n\u001B[1;32m    152\u001B[0m \u001B[38;5;28;01mtry\u001B[39;00m:\n\u001B[0;32m--> 153\u001B[0m     \u001B[38;5;28;43mself\u001B[39;49m\u001B[38;5;241;43m.\u001B[39;49m\u001B[43mgen\u001B[49m\u001B[38;5;241;43m.\u001B[39;49m\u001B[43mthrow\u001B[49m\u001B[43m(\u001B[49m\u001B[43mtyp\u001B[49m\u001B[43m,\u001B[49m\u001B[43m \u001B[49m\u001B[43mvalue\u001B[49m\u001B[43m,\u001B[49m\u001B[43m \u001B[49m\u001B[43mtraceback\u001B[49m\u001B[43m)\u001B[49m\n\u001B[1;32m    154\u001B[0m \u001B[38;5;28;01mexcept\u001B[39;00m \u001B[38;5;167;01mStopIteration\u001B[39;00m \u001B[38;5;28;01mas\u001B[39;00m exc:\n\u001B[1;32m    155\u001B[0m     \u001B[38;5;66;03m# Suppress StopIteration *unless* it's the same exception that\u001B[39;00m\n\u001B[1;32m    156\u001B[0m     \u001B[38;5;66;03m# was passed to throw().  This prevents a StopIteration\u001B[39;00m\n\u001B[1;32m    157\u001B[0m     \u001B[38;5;66;03m# raised inside the \"with\" statement from being suppressed.\u001B[39;00m\n",
      "File \u001B[0;32m~/miniconda3/envs/py310/lib/python3.10/site-packages/httpx/_transports/default.py:86\u001B[0m, in \u001B[0;36mmap_httpcore_exceptions\u001B[0;34m()\u001B[0m\n\u001B[1;32m     85\u001B[0m message \u001B[38;5;241m=\u001B[39m \u001B[38;5;28mstr\u001B[39m(exc)\n\u001B[0;32m---> 86\u001B[0m \u001B[38;5;28;01mraise\u001B[39;00m mapped_exc(message) \u001B[38;5;28;01mfrom\u001B[39;00m \u001B[38;5;21;01mexc\u001B[39;00m\n",
      "\u001B[0;31mConnectTimeout\u001B[0m: _ssl.c:990: The handshake operation timed out",
      "\nThe above exception was the direct cause of the following exception:\n",
      "\u001B[0;31mAPITimeoutError\u001B[0m                           Traceback (most recent call last)",
      "Cell \u001B[0;32mIn[7], line 4\u001B[0m\n\u001B[1;32m      2\u001B[0m config \u001B[38;5;241m=\u001B[39m \u001B[38;5;28mdict\u001B[39m(max_bootstrapped_demos\u001B[38;5;241m=\u001B[39m\u001B[38;5;241m2\u001B[39m, max_labeled_demos\u001B[38;5;241m=\u001B[39m\u001B[38;5;241m0\u001B[39m, num_candidate_programs\u001B[38;5;241m=\u001B[39m\u001B[38;5;241m20\u001B[39m, num_threads\u001B[38;5;241m=\u001B[39m\u001B[38;5;241m16\u001B[39m)\n\u001B[1;32m      3\u001B[0m tp \u001B[38;5;241m=\u001B[39m BootstrapFewShotWithRandomSearch(metric\u001B[38;5;241m=\u001B[39mdspy\u001B[38;5;241m.\u001B[39mevaluate\u001B[38;5;241m.\u001B[39manswer_exact_match, \u001B[38;5;241m*\u001B[39m\u001B[38;5;241m*\u001B[39mconfig)\n\u001B[0;32m----> 4\u001B[0m optimized_react \u001B[38;5;241m=\u001B[39m \u001B[43mtp\u001B[49m\u001B[38;5;241;43m.\u001B[39;49m\u001B[43mcompile\u001B[49m\u001B[43m(\u001B[49m\u001B[43magent\u001B[49m\u001B[43m,\u001B[49m\u001B[43m \u001B[49m\u001B[43mtrainset\u001B[49m\u001B[38;5;241;43m=\u001B[39;49m\u001B[43mtrainset\u001B[49m\u001B[43m,\u001B[49m\u001B[43m \u001B[49m\u001B[43mvalset\u001B[49m\u001B[38;5;241;43m=\u001B[39;49m\u001B[43mvalset\u001B[49m\u001B[43m)\u001B[49m\n",
      "File \u001B[0;32m~/miniconda3/envs/py310/lib/python3.10/site-packages/dspy/teleprompt/random_search.py:96\u001B[0m, in \u001B[0;36mBootstrapFewShotWithRandomSearch.compile\u001B[0;34m(self, student, teacher, trainset, valset, restrict, labeled_sample)\u001B[0m\n\u001B[1;32m     91\u001B[0m     program2 \u001B[38;5;241m=\u001B[39m teleprompter\u001B[38;5;241m.\u001B[39mcompile(student, teacher\u001B[38;5;241m=\u001B[39mteacher, trainset\u001B[38;5;241m=\u001B[39mtrainset2)\n\u001B[1;32m     93\u001B[0m evaluate \u001B[38;5;241m=\u001B[39m Evaluate(devset\u001B[38;5;241m=\u001B[39m\u001B[38;5;28mself\u001B[39m\u001B[38;5;241m.\u001B[39mvalset, metric\u001B[38;5;241m=\u001B[39m\u001B[38;5;28mself\u001B[39m\u001B[38;5;241m.\u001B[39mmetric, num_threads\u001B[38;5;241m=\u001B[39m\u001B[38;5;28mself\u001B[39m\u001B[38;5;241m.\u001B[39mnum_threads,\n\u001B[1;32m     94\u001B[0m                     max_errors\u001B[38;5;241m=\u001B[39m\u001B[38;5;28mself\u001B[39m\u001B[38;5;241m.\u001B[39mmax_errors, display_table\u001B[38;5;241m=\u001B[39m\u001B[38;5;28;01mFalse\u001B[39;00m, display_progress\u001B[38;5;241m=\u001B[39m\u001B[38;5;28;01mTrue\u001B[39;00m)\n\u001B[0;32m---> 96\u001B[0m score, subscores \u001B[38;5;241m=\u001B[39m \u001B[43mevaluate\u001B[49m\u001B[43m(\u001B[49m\u001B[43mprogram2\u001B[49m\u001B[43m,\u001B[49m\u001B[43m \u001B[49m\u001B[43mreturn_all_scores\u001B[49m\u001B[38;5;241;43m=\u001B[39;49m\u001B[38;5;28;43;01mTrue\u001B[39;49;00m\u001B[43m)\u001B[49m\n\u001B[1;32m     98\u001B[0m all_subscores\u001B[38;5;241m.\u001B[39mappend(subscores)\n\u001B[1;32m    100\u001B[0m \u001B[38;5;66;03m############ Assertion-aware Optimization ############\u001B[39;00m\n",
      "File \u001B[0;32m~/miniconda3/envs/py310/lib/python3.10/site-packages/dspy/evaluate/evaluate.py:163\u001B[0m, in \u001B[0;36mEvaluate.__call__\u001B[0;34m(self, program, metric, devset, num_threads, display_progress, display_table, display, return_all_scores, return_outputs)\u001B[0m\n\u001B[1;32m    160\u001B[0m     reordered_devset, ncorrect, ntotal \u001B[38;5;241m=\u001B[39m \u001B[38;5;28mself\u001B[39m\u001B[38;5;241m.\u001B[39m_execute_single_thread(\n\u001B[1;32m    161\u001B[0m         wrapped_program, devset, display_progress)\n\u001B[1;32m    162\u001B[0m \u001B[38;5;28;01melse\u001B[39;00m:\n\u001B[0;32m--> 163\u001B[0m     reordered_devset, ncorrect, ntotal \u001B[38;5;241m=\u001B[39m \u001B[38;5;28;43mself\u001B[39;49m\u001B[38;5;241;43m.\u001B[39;49m\u001B[43m_execute_multi_thread\u001B[49m\u001B[43m(\u001B[49m\n\u001B[1;32m    164\u001B[0m \u001B[43m        \u001B[49m\u001B[43mwrapped_program\u001B[49m\u001B[43m,\u001B[49m\n\u001B[1;32m    165\u001B[0m \u001B[43m        \u001B[49m\u001B[43mdevset\u001B[49m\u001B[43m,\u001B[49m\n\u001B[1;32m    166\u001B[0m \u001B[43m        \u001B[49m\u001B[43mnum_threads\u001B[49m\u001B[43m,\u001B[49m\n\u001B[1;32m    167\u001B[0m \u001B[43m        \u001B[49m\u001B[43mdisplay_progress\u001B[49m\u001B[43m,\u001B[49m\n\u001B[1;32m    168\u001B[0m \u001B[43m    \u001B[49m\u001B[43m)\u001B[49m\n\u001B[1;32m    169\u001B[0m \u001B[38;5;28;01mif\u001B[39;00m return_outputs:  \u001B[38;5;66;03m# Handle the return_outputs logic\u001B[39;00m\n\u001B[1;32m    170\u001B[0m     results \u001B[38;5;241m=\u001B[39m [(example, prediction, score)\n\u001B[1;32m    171\u001B[0m                \u001B[38;5;28;01mfor\u001B[39;00m _, example, prediction, score \u001B[38;5;129;01min\u001B[39;00m reordered_devset]\n",
      "File \u001B[0;32m~/miniconda3/envs/py310/lib/python3.10/site-packages/dspy/evaluate/evaluate.py:82\u001B[0m, in \u001B[0;36mEvaluate._execute_multi_thread\u001B[0;34m(self, wrapped_program, devset, num_threads, display_progress)\u001B[0m\n\u001B[1;32m     78\u001B[0m pbar \u001B[38;5;241m=\u001B[39m tqdm\u001B[38;5;241m.\u001B[39mtqdm(total\u001B[38;5;241m=\u001B[39m\u001B[38;5;28mlen\u001B[39m(devset), dynamic_ncols\u001B[38;5;241m=\u001B[39m\u001B[38;5;28;01mTrue\u001B[39;00m,\n\u001B[1;32m     79\u001B[0m                  disable\u001B[38;5;241m=\u001B[39m\u001B[38;5;129;01mnot\u001B[39;00m display_progress)\n\u001B[1;32m     81\u001B[0m \u001B[38;5;28;01mfor\u001B[39;00m future \u001B[38;5;129;01min\u001B[39;00m as_completed(futures):\n\u001B[0;32m---> 82\u001B[0m     example_idx, example, prediction, score \u001B[38;5;241m=\u001B[39m \u001B[43mfuture\u001B[49m\u001B[38;5;241;43m.\u001B[39;49m\u001B[43mresult\u001B[49m\u001B[43m(\u001B[49m\u001B[43m)\u001B[49m\n\u001B[1;32m     83\u001B[0m     reordered_devset\u001B[38;5;241m.\u001B[39mappend(\n\u001B[1;32m     84\u001B[0m         (example_idx, example, prediction, score))\n\u001B[1;32m     85\u001B[0m     ncorrect \u001B[38;5;241m+\u001B[39m\u001B[38;5;241m=\u001B[39m score\n",
      "File \u001B[0;32m~/miniconda3/envs/py310/lib/python3.10/concurrent/futures/_base.py:451\u001B[0m, in \u001B[0;36mFuture.result\u001B[0;34m(self, timeout)\u001B[0m\n\u001B[1;32m    449\u001B[0m     \u001B[38;5;28;01mraise\u001B[39;00m CancelledError()\n\u001B[1;32m    450\u001B[0m \u001B[38;5;28;01melif\u001B[39;00m \u001B[38;5;28mself\u001B[39m\u001B[38;5;241m.\u001B[39m_state \u001B[38;5;241m==\u001B[39m FINISHED:\n\u001B[0;32m--> 451\u001B[0m     \u001B[38;5;28;01mreturn\u001B[39;00m \u001B[38;5;28;43mself\u001B[39;49m\u001B[38;5;241;43m.\u001B[39;49m\u001B[43m__get_result\u001B[49m\u001B[43m(\u001B[49m\u001B[43m)\u001B[49m\n\u001B[1;32m    453\u001B[0m \u001B[38;5;28mself\u001B[39m\u001B[38;5;241m.\u001B[39m_condition\u001B[38;5;241m.\u001B[39mwait(timeout)\n\u001B[1;32m    455\u001B[0m \u001B[38;5;28;01mif\u001B[39;00m \u001B[38;5;28mself\u001B[39m\u001B[38;5;241m.\u001B[39m_state \u001B[38;5;129;01min\u001B[39;00m [CANCELLED, CANCELLED_AND_NOTIFIED]:\n",
      "File \u001B[0;32m~/miniconda3/envs/py310/lib/python3.10/concurrent/futures/_base.py:403\u001B[0m, in \u001B[0;36mFuture.__get_result\u001B[0;34m(self)\u001B[0m\n\u001B[1;32m    401\u001B[0m \u001B[38;5;28;01mif\u001B[39;00m \u001B[38;5;28mself\u001B[39m\u001B[38;5;241m.\u001B[39m_exception:\n\u001B[1;32m    402\u001B[0m     \u001B[38;5;28;01mtry\u001B[39;00m:\n\u001B[0;32m--> 403\u001B[0m         \u001B[38;5;28;01mraise\u001B[39;00m \u001B[38;5;28mself\u001B[39m\u001B[38;5;241m.\u001B[39m_exception\n\u001B[1;32m    404\u001B[0m     \u001B[38;5;28;01mfinally\u001B[39;00m:\n\u001B[1;32m    405\u001B[0m         \u001B[38;5;66;03m# Break a reference cycle with the exception in self._exception\u001B[39;00m\n\u001B[1;32m    406\u001B[0m         \u001B[38;5;28mself\u001B[39m \u001B[38;5;241m=\u001B[39m \u001B[38;5;28;01mNone\u001B[39;00m\n",
      "File \u001B[0;32m~/miniconda3/envs/py310/lib/python3.10/concurrent/futures/thread.py:58\u001B[0m, in \u001B[0;36m_WorkItem.run\u001B[0;34m(self)\u001B[0m\n\u001B[1;32m     55\u001B[0m     \u001B[38;5;28;01mreturn\u001B[39;00m\n\u001B[1;32m     57\u001B[0m \u001B[38;5;28;01mtry\u001B[39;00m:\n\u001B[0;32m---> 58\u001B[0m     result \u001B[38;5;241m=\u001B[39m \u001B[38;5;28;43mself\u001B[39;49m\u001B[38;5;241;43m.\u001B[39;49m\u001B[43mfn\u001B[49m\u001B[43m(\u001B[49m\u001B[38;5;241;43m*\u001B[39;49m\u001B[38;5;28;43mself\u001B[39;49m\u001B[38;5;241;43m.\u001B[39;49m\u001B[43margs\u001B[49m\u001B[43m,\u001B[49m\u001B[43m \u001B[49m\u001B[38;5;241;43m*\u001B[39;49m\u001B[38;5;241;43m*\u001B[39;49m\u001B[38;5;28;43mself\u001B[39;49m\u001B[38;5;241;43m.\u001B[39;49m\u001B[43mkwargs\u001B[49m\u001B[43m)\u001B[49m\n\u001B[1;32m     59\u001B[0m \u001B[38;5;28;01mexcept\u001B[39;00m \u001B[38;5;167;01mBaseException\u001B[39;00m \u001B[38;5;28;01mas\u001B[39;00m exc:\n\u001B[1;32m     60\u001B[0m     \u001B[38;5;28mself\u001B[39m\u001B[38;5;241m.\u001B[39mfuture\u001B[38;5;241m.\u001B[39mset_exception(exc)\n",
      "File \u001B[0;32m~/miniconda3/envs/py310/lib/python3.10/site-packages/dspy/evaluate/evaluate.py:150\u001B[0m, in \u001B[0;36mEvaluate.__call__.<locals>.wrapped_program\u001B[0;34m(example_idx, example)\u001B[0m\n\u001B[1;32m    148\u001B[0m     current_error_count \u001B[38;5;241m=\u001B[39m \u001B[38;5;28mself\u001B[39m\u001B[38;5;241m.\u001B[39merror_count\n\u001B[1;32m    149\u001B[0m \u001B[38;5;28;01mif\u001B[39;00m current_error_count \u001B[38;5;241m>\u001B[39m\u001B[38;5;241m=\u001B[39m \u001B[38;5;28mself\u001B[39m\u001B[38;5;241m.\u001B[39mmax_errors:\n\u001B[0;32m--> 150\u001B[0m     \u001B[38;5;28;01mraise\u001B[39;00m e\n\u001B[1;32m    151\u001B[0m \u001B[38;5;28mprint\u001B[39m(\u001B[38;5;124mf\u001B[39m\u001B[38;5;124m\"\u001B[39m\u001B[38;5;124mError for example in dev set: \u001B[39m\u001B[38;5;130;01m\\t\u001B[39;00m\u001B[38;5;130;01m\\t\u001B[39;00m\u001B[38;5;124m \u001B[39m\u001B[38;5;132;01m{\u001B[39;00me\u001B[38;5;132;01m}\u001B[39;00m\u001B[38;5;124m\"\u001B[39m)\n\u001B[1;32m    152\u001B[0m \u001B[38;5;28;01mreturn\u001B[39;00m example_idx, example, \u001B[38;5;28mdict\u001B[39m(), \u001B[38;5;241m0.0\u001B[39m\n",
      "File \u001B[0;32m~/miniconda3/envs/py310/lib/python3.10/site-packages/dspy/evaluate/evaluate.py:132\u001B[0m, in \u001B[0;36mEvaluate.__call__.<locals>.wrapped_program\u001B[0;34m(example_idx, example)\u001B[0m\n\u001B[1;32m    127\u001B[0m     \u001B[38;5;66;03m# print(threading.get_ident(), dsp.settings.stack_by_thread[threading.get_ident()])\u001B[39;00m\n\u001B[1;32m    128\u001B[0m \n\u001B[1;32m    129\u001B[0m \u001B[38;5;66;03m# print(type(example), example)\u001B[39;00m\n\u001B[1;32m    131\u001B[0m \u001B[38;5;28;01mtry\u001B[39;00m:\n\u001B[0;32m--> 132\u001B[0m     prediction \u001B[38;5;241m=\u001B[39m \u001B[43mprogram\u001B[49m\u001B[43m(\u001B[49m\u001B[38;5;241;43m*\u001B[39;49m\u001B[38;5;241;43m*\u001B[39;49m\u001B[43mexample\u001B[49m\u001B[38;5;241;43m.\u001B[39;49m\u001B[43minputs\u001B[49m\u001B[43m(\u001B[49m\u001B[43m)\u001B[49m\u001B[43m)\u001B[49m\n\u001B[1;32m    133\u001B[0m     score \u001B[38;5;241m=\u001B[39m metric(\n\u001B[1;32m    134\u001B[0m         example,\n\u001B[1;32m    135\u001B[0m         prediction,\n\u001B[1;32m    136\u001B[0m     )  \u001B[38;5;66;03m# FIXME: TODO: What's the right order? Maybe force name-based kwargs!\u001B[39;00m\n\u001B[1;32m    138\u001B[0m     \u001B[38;5;66;03m# increment assert and suggest failures to program's attributes\u001B[39;00m\n",
      "File \u001B[0;32m~/miniconda3/envs/py310/lib/python3.10/site-packages/dspy/primitives/program.py:26\u001B[0m, in \u001B[0;36mModule.__call__\u001B[0;34m(self, *args, **kwargs)\u001B[0m\n\u001B[1;32m     25\u001B[0m \u001B[38;5;28;01mdef\u001B[39;00m \u001B[38;5;21m__call__\u001B[39m(\u001B[38;5;28mself\u001B[39m, \u001B[38;5;241m*\u001B[39margs, \u001B[38;5;241m*\u001B[39m\u001B[38;5;241m*\u001B[39mkwargs):\n\u001B[0;32m---> 26\u001B[0m     \u001B[38;5;28;01mreturn\u001B[39;00m \u001B[38;5;28;43mself\u001B[39;49m\u001B[38;5;241;43m.\u001B[39;49m\u001B[43mforward\u001B[49m\u001B[43m(\u001B[49m\u001B[38;5;241;43m*\u001B[39;49m\u001B[43margs\u001B[49m\u001B[43m,\u001B[49m\u001B[43m \u001B[49m\u001B[38;5;241;43m*\u001B[39;49m\u001B[38;5;241;43m*\u001B[39;49m\u001B[43mkwargs\u001B[49m\u001B[43m)\u001B[49m\n",
      "File \u001B[0;32m~/miniconda3/envs/py310/lib/python3.10/site-packages/dspy/predict/react.py:112\u001B[0m, in \u001B[0;36mReAct.forward\u001B[0;34m(self, **kwargs)\u001B[0m\n\u001B[1;32m    108\u001B[0m args \u001B[38;5;241m=\u001B[39m {key: kwargs[key] \u001B[38;5;28;01mfor\u001B[39;00m key \u001B[38;5;129;01min\u001B[39;00m \u001B[38;5;28mself\u001B[39m\u001B[38;5;241m.\u001B[39minput_fields\u001B[38;5;241m.\u001B[39mkeys() \u001B[38;5;28;01mif\u001B[39;00m key \u001B[38;5;129;01min\u001B[39;00m kwargs}\n\u001B[1;32m    110\u001B[0m \u001B[38;5;28;01mfor\u001B[39;00m hop \u001B[38;5;129;01min\u001B[39;00m \u001B[38;5;28mrange\u001B[39m(\u001B[38;5;28mself\u001B[39m\u001B[38;5;241m.\u001B[39mmax_iters):\n\u001B[1;32m    111\u001B[0m     \u001B[38;5;66;03m# with dspy.settings.context(show_guidelines=(i <= 2)):\u001B[39;00m\n\u001B[0;32m--> 112\u001B[0m     output \u001B[38;5;241m=\u001B[39m \u001B[38;5;28;43mself\u001B[39;49m\u001B[38;5;241;43m.\u001B[39;49m\u001B[43mreact\u001B[49m\u001B[43m[\u001B[49m\u001B[43mhop\u001B[49m\u001B[43m]\u001B[49m\u001B[43m(\u001B[49m\u001B[38;5;241;43m*\u001B[39;49m\u001B[38;5;241;43m*\u001B[39;49m\u001B[43margs\u001B[49m\u001B[43m)\u001B[49m\n\u001B[1;32m    114\u001B[0m     \u001B[38;5;28;01mif\u001B[39;00m action_val \u001B[38;5;241m:=\u001B[39m \u001B[38;5;28mself\u001B[39m\u001B[38;5;241m.\u001B[39mact(output, hop):\n\u001B[1;32m    115\u001B[0m         \u001B[38;5;28;01mbreak\u001B[39;00m\n",
      "File \u001B[0;32m~/miniconda3/envs/py310/lib/python3.10/site-packages/dspy/predict/predict.py:49\u001B[0m, in \u001B[0;36mPredict.__call__\u001B[0;34m(self, **kwargs)\u001B[0m\n\u001B[1;32m     48\u001B[0m \u001B[38;5;28;01mdef\u001B[39;00m \u001B[38;5;21m__call__\u001B[39m(\u001B[38;5;28mself\u001B[39m, \u001B[38;5;241m*\u001B[39m\u001B[38;5;241m*\u001B[39mkwargs):\n\u001B[0;32m---> 49\u001B[0m     \u001B[38;5;28;01mreturn\u001B[39;00m \u001B[38;5;28;43mself\u001B[39;49m\u001B[38;5;241;43m.\u001B[39;49m\u001B[43mforward\u001B[49m\u001B[43m(\u001B[49m\u001B[38;5;241;43m*\u001B[39;49m\u001B[38;5;241;43m*\u001B[39;49m\u001B[43mkwargs\u001B[49m\u001B[43m)\u001B[49m\n",
      "File \u001B[0;32m~/miniconda3/envs/py310/lib/python3.10/site-packages/dspy/predict/predict.py:91\u001B[0m, in \u001B[0;36mPredict.forward\u001B[0;34m(self, **kwargs)\u001B[0m\n\u001B[1;32m     88\u001B[0m template \u001B[38;5;241m=\u001B[39m signature_to_template(signature)\n\u001B[1;32m     90\u001B[0m \u001B[38;5;28;01mif\u001B[39;00m \u001B[38;5;28mself\u001B[39m\u001B[38;5;241m.\u001B[39mlm \u001B[38;5;129;01mis\u001B[39;00m \u001B[38;5;28;01mNone\u001B[39;00m:\n\u001B[0;32m---> 91\u001B[0m     x, C \u001B[38;5;241m=\u001B[39m \u001B[43mdsp\u001B[49m\u001B[38;5;241;43m.\u001B[39;49m\u001B[43mgenerate\u001B[49m\u001B[43m(\u001B[49m\u001B[43mtemplate\u001B[49m\u001B[43m,\u001B[49m\u001B[43m \u001B[49m\u001B[38;5;241;43m*\u001B[39;49m\u001B[38;5;241;43m*\u001B[39;49m\u001B[43mconfig\u001B[49m\u001B[43m)\u001B[49m\u001B[43m(\u001B[49m\u001B[43mx\u001B[49m\u001B[43m,\u001B[49m\u001B[43m \u001B[49m\u001B[43mstage\u001B[49m\u001B[38;5;241;43m=\u001B[39;49m\u001B[38;5;28;43mself\u001B[39;49m\u001B[38;5;241;43m.\u001B[39;49m\u001B[43mstage\u001B[49m\u001B[43m)\u001B[49m\n\u001B[1;32m     92\u001B[0m \u001B[38;5;28;01melse\u001B[39;00m:\n\u001B[1;32m     93\u001B[0m     \u001B[38;5;66;03m# Note: query_only=True means the instructions and examples are not included.\u001B[39;00m\n\u001B[1;32m     94\u001B[0m     \u001B[38;5;66;03m# I'm not really sure why we'd want to do that, but it's there.\u001B[39;00m\n\u001B[1;32m     95\u001B[0m     \u001B[38;5;28;01mwith\u001B[39;00m dsp\u001B[38;5;241m.\u001B[39msettings\u001B[38;5;241m.\u001B[39mcontext(lm\u001B[38;5;241m=\u001B[39m\u001B[38;5;28mself\u001B[39m\u001B[38;5;241m.\u001B[39mlm, query_only\u001B[38;5;241m=\u001B[39m\u001B[38;5;28;01mTrue\u001B[39;00m):\n",
      "File \u001B[0;32m~/miniconda3/envs/py310/lib/python3.10/site-packages/dsp/primitives/predict.py:77\u001B[0m, in \u001B[0;36m_generate.<locals>.do_generate\u001B[0;34m(example, stage, max_depth, original_example)\u001B[0m\n\u001B[1;32m     75\u001B[0m \u001B[38;5;66;03m# Generate and extract the fields.\u001B[39;00m\n\u001B[1;32m     76\u001B[0m prompt \u001B[38;5;241m=\u001B[39m template(example)\n\u001B[0;32m---> 77\u001B[0m completions: \u001B[38;5;28mlist\u001B[39m[\u001B[38;5;28mdict\u001B[39m[\u001B[38;5;28mstr\u001B[39m, Any]] \u001B[38;5;241m=\u001B[39m \u001B[43mgenerator\u001B[49m\u001B[43m(\u001B[49m\u001B[43mprompt\u001B[49m\u001B[43m,\u001B[49m\u001B[43m \u001B[49m\u001B[38;5;241;43m*\u001B[39;49m\u001B[38;5;241;43m*\u001B[39;49m\u001B[43mkwargs\u001B[49m\u001B[43m)\u001B[49m\n\u001B[1;32m     78\u001B[0m completions: \u001B[38;5;28mlist\u001B[39m[Example] \u001B[38;5;241m=\u001B[39m [template\u001B[38;5;241m.\u001B[39mextract(example, p) \u001B[38;5;28;01mfor\u001B[39;00m p \u001B[38;5;129;01min\u001B[39;00m completions]\n\u001B[1;32m     80\u001B[0m \u001B[38;5;66;03m# Find the completions that are most complete.\u001B[39;00m\n",
      "File \u001B[0;32m~/miniconda3/envs/py310/lib/python3.10/site-packages/dsp/modules/gpt3.py:184\u001B[0m, in \u001B[0;36mGPT3.__call__\u001B[0;34m(self, prompt, only_completed, return_sorted, **kwargs)\u001B[0m\n\u001B[1;32m    176\u001B[0m \u001B[38;5;28;01massert\u001B[39;00m return_sorted \u001B[38;5;129;01mis\u001B[39;00m \u001B[38;5;28;01mFalse\u001B[39;00m, \u001B[38;5;124m\"\u001B[39m\u001B[38;5;124mfor now\u001B[39m\u001B[38;5;124m\"\u001B[39m\n\u001B[1;32m    178\u001B[0m \u001B[38;5;66;03m# if kwargs.get(\"n\", 1) > 1:\u001B[39;00m\n\u001B[1;32m    179\u001B[0m \u001B[38;5;66;03m#     if self.model_type == \"chat\":\u001B[39;00m\n\u001B[1;32m    180\u001B[0m \u001B[38;5;66;03m#         kwargs = {**kwargs}\u001B[39;00m\n\u001B[1;32m    181\u001B[0m \u001B[38;5;66;03m#     else:\u001B[39;00m\n\u001B[1;32m    182\u001B[0m \u001B[38;5;66;03m#         kwargs = {**kwargs, \"logprobs\": 5}\u001B[39;00m\n\u001B[0;32m--> 184\u001B[0m response \u001B[38;5;241m=\u001B[39m \u001B[38;5;28;43mself\u001B[39;49m\u001B[38;5;241;43m.\u001B[39;49m\u001B[43mrequest\u001B[49m\u001B[43m(\u001B[49m\u001B[43mprompt\u001B[49m\u001B[43m,\u001B[49m\u001B[43m \u001B[49m\u001B[38;5;241;43m*\u001B[39;49m\u001B[38;5;241;43m*\u001B[39;49m\u001B[43mkwargs\u001B[49m\u001B[43m)\u001B[49m\n\u001B[1;32m    186\u001B[0m \u001B[38;5;28;01mif\u001B[39;00m dsp\u001B[38;5;241m.\u001B[39msettings\u001B[38;5;241m.\u001B[39mlog_openai_usage:\n\u001B[1;32m    187\u001B[0m     \u001B[38;5;28mself\u001B[39m\u001B[38;5;241m.\u001B[39mlog_usage(response)\n",
      "File \u001B[0;32m~/miniconda3/envs/py310/lib/python3.10/site-packages/backoff/_sync.py:105\u001B[0m, in \u001B[0;36mretry_exception.<locals>.retry\u001B[0;34m(*args, **kwargs)\u001B[0m\n\u001B[1;32m     96\u001B[0m details \u001B[38;5;241m=\u001B[39m {\n\u001B[1;32m     97\u001B[0m     \u001B[38;5;124m\"\u001B[39m\u001B[38;5;124mtarget\u001B[39m\u001B[38;5;124m\"\u001B[39m: target,\n\u001B[1;32m     98\u001B[0m     \u001B[38;5;124m\"\u001B[39m\u001B[38;5;124margs\u001B[39m\u001B[38;5;124m\"\u001B[39m: args,\n\u001B[0;32m   (...)\u001B[0m\n\u001B[1;32m    101\u001B[0m     \u001B[38;5;124m\"\u001B[39m\u001B[38;5;124melapsed\u001B[39m\u001B[38;5;124m\"\u001B[39m: elapsed,\n\u001B[1;32m    102\u001B[0m }\n\u001B[1;32m    104\u001B[0m \u001B[38;5;28;01mtry\u001B[39;00m:\n\u001B[0;32m--> 105\u001B[0m     ret \u001B[38;5;241m=\u001B[39m \u001B[43mtarget\u001B[49m\u001B[43m(\u001B[49m\u001B[38;5;241;43m*\u001B[39;49m\u001B[43margs\u001B[49m\u001B[43m,\u001B[49m\u001B[43m \u001B[49m\u001B[38;5;241;43m*\u001B[39;49m\u001B[38;5;241;43m*\u001B[39;49m\u001B[43mkwargs\u001B[49m\u001B[43m)\u001B[49m\n\u001B[1;32m    106\u001B[0m \u001B[38;5;28;01mexcept\u001B[39;00m exception \u001B[38;5;28;01mas\u001B[39;00m e:\n\u001B[1;32m    107\u001B[0m     max_tries_exceeded \u001B[38;5;241m=\u001B[39m (tries \u001B[38;5;241m==\u001B[39m max_tries_value)\n",
      "File \u001B[0;32m~/miniconda3/envs/py310/lib/python3.10/site-packages/dsp/modules/gpt3.py:150\u001B[0m, in \u001B[0;36mGPT3.request\u001B[0;34m(self, prompt, **kwargs)\u001B[0m\n\u001B[1;32m    147\u001B[0m \u001B[38;5;28;01mif\u001B[39;00m \u001B[38;5;124m\"\u001B[39m\u001B[38;5;124mmodel_type\u001B[39m\u001B[38;5;124m\"\u001B[39m \u001B[38;5;129;01min\u001B[39;00m kwargs:\n\u001B[1;32m    148\u001B[0m     \u001B[38;5;28;01mdel\u001B[39;00m kwargs[\u001B[38;5;124m\"\u001B[39m\u001B[38;5;124mmodel_type\u001B[39m\u001B[38;5;124m\"\u001B[39m]\n\u001B[0;32m--> 150\u001B[0m \u001B[38;5;28;01mreturn\u001B[39;00m \u001B[38;5;28;43mself\u001B[39;49m\u001B[38;5;241;43m.\u001B[39;49m\u001B[43mbasic_request\u001B[49m\u001B[43m(\u001B[49m\u001B[43mprompt\u001B[49m\u001B[43m,\u001B[49m\u001B[43m \u001B[49m\u001B[38;5;241;43m*\u001B[39;49m\u001B[38;5;241;43m*\u001B[39;49m\u001B[43mkwargs\u001B[49m\u001B[43m)\u001B[49m\n",
      "File \u001B[0;32m~/miniconda3/envs/py310/lib/python3.10/site-packages/dsp/modules/gpt3.py:123\u001B[0m, in \u001B[0;36mGPT3.basic_request\u001B[0;34m(self, prompt, **kwargs)\u001B[0m\n\u001B[1;32m    121\u001B[0m     kwargs[\u001B[38;5;124m\"\u001B[39m\u001B[38;5;124mmessages\u001B[39m\u001B[38;5;124m\"\u001B[39m] \u001B[38;5;241m=\u001B[39m [{\u001B[38;5;124m\"\u001B[39m\u001B[38;5;124mrole\u001B[39m\u001B[38;5;124m\"\u001B[39m: \u001B[38;5;124m\"\u001B[39m\u001B[38;5;124muser\u001B[39m\u001B[38;5;124m\"\u001B[39m, \u001B[38;5;124m\"\u001B[39m\u001B[38;5;124mcontent\u001B[39m\u001B[38;5;124m\"\u001B[39m: prompt}]\n\u001B[1;32m    122\u001B[0m     kwargs \u001B[38;5;241m=\u001B[39m {\u001B[38;5;124m\"\u001B[39m\u001B[38;5;124mstringify_request\u001B[39m\u001B[38;5;124m\"\u001B[39m: json\u001B[38;5;241m.\u001B[39mdumps(kwargs)}\n\u001B[0;32m--> 123\u001B[0m     response \u001B[38;5;241m=\u001B[39m \u001B[43mchat_request\u001B[49m\u001B[43m(\u001B[49m\u001B[38;5;241;43m*\u001B[39;49m\u001B[38;5;241;43m*\u001B[39;49m\u001B[43mkwargs\u001B[49m\u001B[43m)\u001B[49m\n\u001B[1;32m    125\u001B[0m \u001B[38;5;28;01melse\u001B[39;00m:\n\u001B[1;32m    126\u001B[0m     kwargs[\u001B[38;5;124m\"\u001B[39m\u001B[38;5;124mprompt\u001B[39m\u001B[38;5;124m\"\u001B[39m] \u001B[38;5;241m=\u001B[39m prompt\n",
      "File \u001B[0;32m~/miniconda3/envs/py310/lib/python3.10/site-packages/dsp/modules/gpt3.py:271\u001B[0m, in \u001B[0;36mchat_request\u001B[0;34m(**kwargs)\u001B[0m\n\u001B[1;32m    268\u001B[0m \u001B[38;5;28;01mif\u001B[39;00m OPENAI_LEGACY:\n\u001B[1;32m    269\u001B[0m     \u001B[38;5;28;01mreturn\u001B[39;00m _cached_gpt3_turbo_request_v2_wrapped(\u001B[38;5;241m*\u001B[39m\u001B[38;5;241m*\u001B[39mkwargs)\n\u001B[0;32m--> 271\u001B[0m \u001B[38;5;28;01mreturn\u001B[39;00m \u001B[43mv1_cached_gpt3_turbo_request_v2_wrapped\u001B[49m\u001B[43m(\u001B[49m\u001B[38;5;241;43m*\u001B[39;49m\u001B[38;5;241;43m*\u001B[39;49m\u001B[43mkwargs\u001B[49m\u001B[43m)\u001B[49m\u001B[38;5;241m.\u001B[39mmodel_dump()\n",
      "File \u001B[0;32m~/miniconda3/envs/py310/lib/python3.10/site-packages/dsp/modules/cache_utils.py:16\u001B[0m, in \u001B[0;36mnoop_decorator.<locals>.decorator.<locals>.wrapper\u001B[0;34m(*args, **kwargs)\u001B[0m\n\u001B[1;32m     14\u001B[0m \u001B[38;5;129m@wraps\u001B[39m(func)\n\u001B[1;32m     15\u001B[0m \u001B[38;5;28;01mdef\u001B[39;00m \u001B[38;5;21mwrapper\u001B[39m(\u001B[38;5;241m*\u001B[39margs, \u001B[38;5;241m*\u001B[39m\u001B[38;5;241m*\u001B[39mkwargs):\n\u001B[0;32m---> 16\u001B[0m     \u001B[38;5;28;01mreturn\u001B[39;00m \u001B[43mfunc\u001B[49m\u001B[43m(\u001B[49m\u001B[38;5;241;43m*\u001B[39;49m\u001B[43margs\u001B[49m\u001B[43m,\u001B[49m\u001B[43m \u001B[49m\u001B[38;5;241;43m*\u001B[39;49m\u001B[38;5;241;43m*\u001B[39;49m\u001B[43mkwargs\u001B[49m\u001B[43m)\u001B[49m\n",
      "File \u001B[0;32m~/miniconda3/envs/py310/lib/python3.10/site-packages/dsp/modules/gpt3.py:264\u001B[0m, in \u001B[0;36mv1_cached_gpt3_turbo_request_v2_wrapped\u001B[0;34m(**kwargs)\u001B[0m\n\u001B[1;32m    261\u001B[0m \u001B[38;5;129m@functools\u001B[39m\u001B[38;5;241m.\u001B[39mlru_cache(maxsize\u001B[38;5;241m=\u001B[39m\u001B[38;5;28;01mNone\u001B[39;00m \u001B[38;5;28;01mif\u001B[39;00m cache_turn_on \u001B[38;5;28;01melse\u001B[39;00m \u001B[38;5;241m0\u001B[39m)\n\u001B[1;32m    262\u001B[0m \u001B[38;5;129m@NotebookCacheMemory\u001B[39m\u001B[38;5;241m.\u001B[39mcache\n\u001B[1;32m    263\u001B[0m \u001B[38;5;28;01mdef\u001B[39;00m \u001B[38;5;21mv1_cached_gpt3_turbo_request_v2_wrapped\u001B[39m(\u001B[38;5;241m*\u001B[39m\u001B[38;5;241m*\u001B[39mkwargs):\n\u001B[0;32m--> 264\u001B[0m     \u001B[38;5;28;01mreturn\u001B[39;00m \u001B[43mv1_cached_gpt3_turbo_request_v2\u001B[49m\u001B[43m(\u001B[49m\u001B[38;5;241;43m*\u001B[39;49m\u001B[38;5;241;43m*\u001B[39;49m\u001B[43mkwargs\u001B[49m\u001B[43m)\u001B[49m\n",
      "File \u001B[0;32m~/miniconda3/envs/py310/lib/python3.10/site-packages/joblib/memory.py:655\u001B[0m, in \u001B[0;36mMemorizedFunc.__call__\u001B[0;34m(self, *args, **kwargs)\u001B[0m\n\u001B[1;32m    654\u001B[0m \u001B[38;5;28;01mdef\u001B[39;00m \u001B[38;5;21m__call__\u001B[39m(\u001B[38;5;28mself\u001B[39m, \u001B[38;5;241m*\u001B[39margs, \u001B[38;5;241m*\u001B[39m\u001B[38;5;241m*\u001B[39mkwargs):\n\u001B[0;32m--> 655\u001B[0m     \u001B[38;5;28;01mreturn\u001B[39;00m \u001B[38;5;28;43mself\u001B[39;49m\u001B[38;5;241;43m.\u001B[39;49m\u001B[43m_cached_call\u001B[49m\u001B[43m(\u001B[49m\u001B[43margs\u001B[49m\u001B[43m,\u001B[49m\u001B[43m \u001B[49m\u001B[43mkwargs\u001B[49m\u001B[43m)\u001B[49m[\u001B[38;5;241m0\u001B[39m]\n",
      "File \u001B[0;32m~/miniconda3/envs/py310/lib/python3.10/site-packages/joblib/memory.py:598\u001B[0m, in \u001B[0;36mMemorizedFunc._cached_call\u001B[0;34m(self, args, kwargs, shelving)\u001B[0m\n\u001B[1;32m    595\u001B[0m     must_call \u001B[38;5;241m=\u001B[39m \u001B[38;5;28;01mTrue\u001B[39;00m\n\u001B[1;32m    597\u001B[0m \u001B[38;5;28;01mif\u001B[39;00m must_call:\n\u001B[0;32m--> 598\u001B[0m     out, metadata \u001B[38;5;241m=\u001B[39m \u001B[38;5;28;43mself\u001B[39;49m\u001B[38;5;241;43m.\u001B[39;49m\u001B[43mcall\u001B[49m\u001B[43m(\u001B[49m\u001B[38;5;241;43m*\u001B[39;49m\u001B[43margs\u001B[49m\u001B[43m,\u001B[49m\u001B[43m \u001B[49m\u001B[38;5;241;43m*\u001B[39;49m\u001B[38;5;241;43m*\u001B[39;49m\u001B[43mkwargs\u001B[49m\u001B[43m)\u001B[49m\n\u001B[1;32m    599\u001B[0m     \u001B[38;5;28;01mif\u001B[39;00m \u001B[38;5;28mself\u001B[39m\u001B[38;5;241m.\u001B[39mmmap_mode \u001B[38;5;129;01mis\u001B[39;00m \u001B[38;5;129;01mnot\u001B[39;00m \u001B[38;5;28;01mNone\u001B[39;00m:\n\u001B[1;32m    600\u001B[0m         \u001B[38;5;66;03m# Memmap the output at the first call to be consistent with\u001B[39;00m\n\u001B[1;32m    601\u001B[0m         \u001B[38;5;66;03m# later calls\u001B[39;00m\n\u001B[1;32m    602\u001B[0m         \u001B[38;5;28;01mif\u001B[39;00m \u001B[38;5;28mself\u001B[39m\u001B[38;5;241m.\u001B[39m_verbose:\n",
      "File \u001B[0;32m~/miniconda3/envs/py310/lib/python3.10/site-packages/joblib/memory.py:856\u001B[0m, in \u001B[0;36mMemorizedFunc.call\u001B[0;34m(self, *args, **kwargs)\u001B[0m\n\u001B[1;32m    854\u001B[0m \u001B[38;5;28;01mif\u001B[39;00m \u001B[38;5;28mself\u001B[39m\u001B[38;5;241m.\u001B[39m_verbose \u001B[38;5;241m>\u001B[39m \u001B[38;5;241m0\u001B[39m:\n\u001B[1;32m    855\u001B[0m     \u001B[38;5;28mprint\u001B[39m(format_call(\u001B[38;5;28mself\u001B[39m\u001B[38;5;241m.\u001B[39mfunc, args, kwargs))\n\u001B[0;32m--> 856\u001B[0m output \u001B[38;5;241m=\u001B[39m \u001B[38;5;28;43mself\u001B[39;49m\u001B[38;5;241;43m.\u001B[39;49m\u001B[43mfunc\u001B[49m\u001B[43m(\u001B[49m\u001B[38;5;241;43m*\u001B[39;49m\u001B[43margs\u001B[49m\u001B[43m,\u001B[49m\u001B[43m \u001B[49m\u001B[38;5;241;43m*\u001B[39;49m\u001B[38;5;241;43m*\u001B[39;49m\u001B[43mkwargs\u001B[49m\u001B[43m)\u001B[49m\n\u001B[1;32m    857\u001B[0m \u001B[38;5;28mself\u001B[39m\u001B[38;5;241m.\u001B[39mstore_backend\u001B[38;5;241m.\u001B[39mdump_item(\n\u001B[1;32m    858\u001B[0m     [func_id, args_id], output, verbose\u001B[38;5;241m=\u001B[39m\u001B[38;5;28mself\u001B[39m\u001B[38;5;241m.\u001B[39m_verbose)\n\u001B[1;32m    860\u001B[0m duration \u001B[38;5;241m=\u001B[39m time\u001B[38;5;241m.\u001B[39mtime() \u001B[38;5;241m-\u001B[39m start_time\n",
      "File \u001B[0;32m~/miniconda3/envs/py310/lib/python3.10/site-packages/dsp/modules/gpt3.py:258\u001B[0m, in \u001B[0;36mv1_cached_gpt3_turbo_request_v2\u001B[0;34m(**kwargs)\u001B[0m\n\u001B[1;32m    256\u001B[0m \u001B[38;5;28;01mif\u001B[39;00m \u001B[38;5;124m\"\u001B[39m\u001B[38;5;124mstringify_request\u001B[39m\u001B[38;5;124m\"\u001B[39m \u001B[38;5;129;01min\u001B[39;00m kwargs:\n\u001B[1;32m    257\u001B[0m     kwargs \u001B[38;5;241m=\u001B[39m json\u001B[38;5;241m.\u001B[39mloads(kwargs[\u001B[38;5;124m\"\u001B[39m\u001B[38;5;124mstringify_request\u001B[39m\u001B[38;5;124m\"\u001B[39m])\n\u001B[0;32m--> 258\u001B[0m \u001B[38;5;28;01mreturn\u001B[39;00m \u001B[43mopenai\u001B[49m\u001B[38;5;241;43m.\u001B[39;49m\u001B[43mchat\u001B[49m\u001B[38;5;241;43m.\u001B[39;49m\u001B[43mcompletions\u001B[49m\u001B[38;5;241;43m.\u001B[39;49m\u001B[43mcreate\u001B[49m\u001B[43m(\u001B[49m\u001B[38;5;241;43m*\u001B[39;49m\u001B[38;5;241;43m*\u001B[39;49m\u001B[43mkwargs\u001B[49m\u001B[43m)\u001B[49m\n",
      "File \u001B[0;32m~/miniconda3/envs/py310/lib/python3.10/site-packages/openai/_utils/_utils.py:275\u001B[0m, in \u001B[0;36mrequired_args.<locals>.inner.<locals>.wrapper\u001B[0;34m(*args, **kwargs)\u001B[0m\n\u001B[1;32m    273\u001B[0m             msg \u001B[38;5;241m=\u001B[39m \u001B[38;5;124mf\u001B[39m\u001B[38;5;124m\"\u001B[39m\u001B[38;5;124mMissing required argument: \u001B[39m\u001B[38;5;132;01m{\u001B[39;00mquote(missing[\u001B[38;5;241m0\u001B[39m])\u001B[38;5;132;01m}\u001B[39;00m\u001B[38;5;124m\"\u001B[39m\n\u001B[1;32m    274\u001B[0m     \u001B[38;5;28;01mraise\u001B[39;00m \u001B[38;5;167;01mTypeError\u001B[39;00m(msg)\n\u001B[0;32m--> 275\u001B[0m \u001B[38;5;28;01mreturn\u001B[39;00m \u001B[43mfunc\u001B[49m\u001B[43m(\u001B[49m\u001B[38;5;241;43m*\u001B[39;49m\u001B[43margs\u001B[49m\u001B[43m,\u001B[49m\u001B[43m \u001B[49m\u001B[38;5;241;43m*\u001B[39;49m\u001B[38;5;241;43m*\u001B[39;49m\u001B[43mkwargs\u001B[49m\u001B[43m)\u001B[49m\n",
      "File \u001B[0;32m~/miniconda3/envs/py310/lib/python3.10/site-packages/openai/resources/chat/completions.py:667\u001B[0m, in \u001B[0;36mCompletions.create\u001B[0;34m(self, messages, model, frequency_penalty, function_call, functions, logit_bias, logprobs, max_tokens, n, presence_penalty, response_format, seed, stop, stream, temperature, tool_choice, tools, top_logprobs, top_p, user, extra_headers, extra_query, extra_body, timeout)\u001B[0m\n\u001B[1;32m    615\u001B[0m \u001B[38;5;129m@required_args\u001B[39m([\u001B[38;5;124m\"\u001B[39m\u001B[38;5;124mmessages\u001B[39m\u001B[38;5;124m\"\u001B[39m, \u001B[38;5;124m\"\u001B[39m\u001B[38;5;124mmodel\u001B[39m\u001B[38;5;124m\"\u001B[39m], [\u001B[38;5;124m\"\u001B[39m\u001B[38;5;124mmessages\u001B[39m\u001B[38;5;124m\"\u001B[39m, \u001B[38;5;124m\"\u001B[39m\u001B[38;5;124mmodel\u001B[39m\u001B[38;5;124m\"\u001B[39m, \u001B[38;5;124m\"\u001B[39m\u001B[38;5;124mstream\u001B[39m\u001B[38;5;124m\"\u001B[39m])\n\u001B[1;32m    616\u001B[0m \u001B[38;5;28;01mdef\u001B[39;00m \u001B[38;5;21mcreate\u001B[39m(\n\u001B[1;32m    617\u001B[0m     \u001B[38;5;28mself\u001B[39m,\n\u001B[0;32m   (...)\u001B[0m\n\u001B[1;32m    665\u001B[0m     timeout: \u001B[38;5;28mfloat\u001B[39m \u001B[38;5;241m|\u001B[39m httpx\u001B[38;5;241m.\u001B[39mTimeout \u001B[38;5;241m|\u001B[39m \u001B[38;5;28;01mNone\u001B[39;00m \u001B[38;5;241m|\u001B[39m NotGiven \u001B[38;5;241m=\u001B[39m NOT_GIVEN,\n\u001B[1;32m    666\u001B[0m ) \u001B[38;5;241m-\u001B[39m\u001B[38;5;241m>\u001B[39m ChatCompletion \u001B[38;5;241m|\u001B[39m Stream[ChatCompletionChunk]:\n\u001B[0;32m--> 667\u001B[0m     \u001B[38;5;28;01mreturn\u001B[39;00m \u001B[38;5;28;43mself\u001B[39;49m\u001B[38;5;241;43m.\u001B[39;49m\u001B[43m_post\u001B[49m\u001B[43m(\u001B[49m\n\u001B[1;32m    668\u001B[0m \u001B[43m        \u001B[49m\u001B[38;5;124;43m\"\u001B[39;49m\u001B[38;5;124;43m/chat/completions\u001B[39;49m\u001B[38;5;124;43m\"\u001B[39;49m\u001B[43m,\u001B[49m\n\u001B[1;32m    669\u001B[0m \u001B[43m        \u001B[49m\u001B[43mbody\u001B[49m\u001B[38;5;241;43m=\u001B[39;49m\u001B[43mmaybe_transform\u001B[49m\u001B[43m(\u001B[49m\n\u001B[1;32m    670\u001B[0m \u001B[43m            \u001B[49m\u001B[43m{\u001B[49m\n\u001B[1;32m    671\u001B[0m \u001B[43m                \u001B[49m\u001B[38;5;124;43m\"\u001B[39;49m\u001B[38;5;124;43mmessages\u001B[39;49m\u001B[38;5;124;43m\"\u001B[39;49m\u001B[43m:\u001B[49m\u001B[43m \u001B[49m\u001B[43mmessages\u001B[49m\u001B[43m,\u001B[49m\n\u001B[1;32m    672\u001B[0m \u001B[43m                \u001B[49m\u001B[38;5;124;43m\"\u001B[39;49m\u001B[38;5;124;43mmodel\u001B[39;49m\u001B[38;5;124;43m\"\u001B[39;49m\u001B[43m:\u001B[49m\u001B[43m \u001B[49m\u001B[43mmodel\u001B[49m\u001B[43m,\u001B[49m\n\u001B[1;32m    673\u001B[0m \u001B[43m                \u001B[49m\u001B[38;5;124;43m\"\u001B[39;49m\u001B[38;5;124;43mfrequency_penalty\u001B[39;49m\u001B[38;5;124;43m\"\u001B[39;49m\u001B[43m:\u001B[49m\u001B[43m \u001B[49m\u001B[43mfrequency_penalty\u001B[49m\u001B[43m,\u001B[49m\n\u001B[1;32m    674\u001B[0m \u001B[43m                \u001B[49m\u001B[38;5;124;43m\"\u001B[39;49m\u001B[38;5;124;43mfunction_call\u001B[39;49m\u001B[38;5;124;43m\"\u001B[39;49m\u001B[43m:\u001B[49m\u001B[43m \u001B[49m\u001B[43mfunction_call\u001B[49m\u001B[43m,\u001B[49m\n\u001B[1;32m    675\u001B[0m \u001B[43m                \u001B[49m\u001B[38;5;124;43m\"\u001B[39;49m\u001B[38;5;124;43mfunctions\u001B[39;49m\u001B[38;5;124;43m\"\u001B[39;49m\u001B[43m:\u001B[49m\u001B[43m \u001B[49m\u001B[43mfunctions\u001B[49m\u001B[43m,\u001B[49m\n\u001B[1;32m    676\u001B[0m \u001B[43m                \u001B[49m\u001B[38;5;124;43m\"\u001B[39;49m\u001B[38;5;124;43mlogit_bias\u001B[39;49m\u001B[38;5;124;43m\"\u001B[39;49m\u001B[43m:\u001B[49m\u001B[43m \u001B[49m\u001B[43mlogit_bias\u001B[49m\u001B[43m,\u001B[49m\n\u001B[1;32m    677\u001B[0m \u001B[43m                \u001B[49m\u001B[38;5;124;43m\"\u001B[39;49m\u001B[38;5;124;43mlogprobs\u001B[39;49m\u001B[38;5;124;43m\"\u001B[39;49m\u001B[43m:\u001B[49m\u001B[43m \u001B[49m\u001B[43mlogprobs\u001B[49m\u001B[43m,\u001B[49m\n\u001B[1;32m    678\u001B[0m \u001B[43m                \u001B[49m\u001B[38;5;124;43m\"\u001B[39;49m\u001B[38;5;124;43mmax_tokens\u001B[39;49m\u001B[38;5;124;43m\"\u001B[39;49m\u001B[43m:\u001B[49m\u001B[43m \u001B[49m\u001B[43mmax_tokens\u001B[49m\u001B[43m,\u001B[49m\n\u001B[1;32m    679\u001B[0m \u001B[43m                \u001B[49m\u001B[38;5;124;43m\"\u001B[39;49m\u001B[38;5;124;43mn\u001B[39;49m\u001B[38;5;124;43m\"\u001B[39;49m\u001B[43m:\u001B[49m\u001B[43m \u001B[49m\u001B[43mn\u001B[49m\u001B[43m,\u001B[49m\n\u001B[1;32m    680\u001B[0m \u001B[43m                \u001B[49m\u001B[38;5;124;43m\"\u001B[39;49m\u001B[38;5;124;43mpresence_penalty\u001B[39;49m\u001B[38;5;124;43m\"\u001B[39;49m\u001B[43m:\u001B[49m\u001B[43m \u001B[49m\u001B[43mpresence_penalty\u001B[49m\u001B[43m,\u001B[49m\n\u001B[1;32m    681\u001B[0m \u001B[43m                \u001B[49m\u001B[38;5;124;43m\"\u001B[39;49m\u001B[38;5;124;43mresponse_format\u001B[39;49m\u001B[38;5;124;43m\"\u001B[39;49m\u001B[43m:\u001B[49m\u001B[43m \u001B[49m\u001B[43mresponse_format\u001B[49m\u001B[43m,\u001B[49m\n\u001B[1;32m    682\u001B[0m \u001B[43m                \u001B[49m\u001B[38;5;124;43m\"\u001B[39;49m\u001B[38;5;124;43mseed\u001B[39;49m\u001B[38;5;124;43m\"\u001B[39;49m\u001B[43m:\u001B[49m\u001B[43m \u001B[49m\u001B[43mseed\u001B[49m\u001B[43m,\u001B[49m\n\u001B[1;32m    683\u001B[0m \u001B[43m                \u001B[49m\u001B[38;5;124;43m\"\u001B[39;49m\u001B[38;5;124;43mstop\u001B[39;49m\u001B[38;5;124;43m\"\u001B[39;49m\u001B[43m:\u001B[49m\u001B[43m \u001B[49m\u001B[43mstop\u001B[49m\u001B[43m,\u001B[49m\n\u001B[1;32m    684\u001B[0m \u001B[43m                \u001B[49m\u001B[38;5;124;43m\"\u001B[39;49m\u001B[38;5;124;43mstream\u001B[39;49m\u001B[38;5;124;43m\"\u001B[39;49m\u001B[43m:\u001B[49m\u001B[43m \u001B[49m\u001B[43mstream\u001B[49m\u001B[43m,\u001B[49m\n\u001B[1;32m    685\u001B[0m \u001B[43m                \u001B[49m\u001B[38;5;124;43m\"\u001B[39;49m\u001B[38;5;124;43mtemperature\u001B[39;49m\u001B[38;5;124;43m\"\u001B[39;49m\u001B[43m:\u001B[49m\u001B[43m \u001B[49m\u001B[43mtemperature\u001B[49m\u001B[43m,\u001B[49m\n\u001B[1;32m    686\u001B[0m \u001B[43m                \u001B[49m\u001B[38;5;124;43m\"\u001B[39;49m\u001B[38;5;124;43mtool_choice\u001B[39;49m\u001B[38;5;124;43m\"\u001B[39;49m\u001B[43m:\u001B[49m\u001B[43m \u001B[49m\u001B[43mtool_choice\u001B[49m\u001B[43m,\u001B[49m\n\u001B[1;32m    687\u001B[0m \u001B[43m                \u001B[49m\u001B[38;5;124;43m\"\u001B[39;49m\u001B[38;5;124;43mtools\u001B[39;49m\u001B[38;5;124;43m\"\u001B[39;49m\u001B[43m:\u001B[49m\u001B[43m \u001B[49m\u001B[43mtools\u001B[49m\u001B[43m,\u001B[49m\n\u001B[1;32m    688\u001B[0m \u001B[43m                \u001B[49m\u001B[38;5;124;43m\"\u001B[39;49m\u001B[38;5;124;43mtop_logprobs\u001B[39;49m\u001B[38;5;124;43m\"\u001B[39;49m\u001B[43m:\u001B[49m\u001B[43m \u001B[49m\u001B[43mtop_logprobs\u001B[49m\u001B[43m,\u001B[49m\n\u001B[1;32m    689\u001B[0m \u001B[43m                \u001B[49m\u001B[38;5;124;43m\"\u001B[39;49m\u001B[38;5;124;43mtop_p\u001B[39;49m\u001B[38;5;124;43m\"\u001B[39;49m\u001B[43m:\u001B[49m\u001B[43m \u001B[49m\u001B[43mtop_p\u001B[49m\u001B[43m,\u001B[49m\n\u001B[1;32m    690\u001B[0m \u001B[43m                \u001B[49m\u001B[38;5;124;43m\"\u001B[39;49m\u001B[38;5;124;43muser\u001B[39;49m\u001B[38;5;124;43m\"\u001B[39;49m\u001B[43m:\u001B[49m\u001B[43m \u001B[49m\u001B[43muser\u001B[49m\u001B[43m,\u001B[49m\n\u001B[1;32m    691\u001B[0m \u001B[43m            \u001B[49m\u001B[43m}\u001B[49m\u001B[43m,\u001B[49m\n\u001B[1;32m    692\u001B[0m \u001B[43m            \u001B[49m\u001B[43mcompletion_create_params\u001B[49m\u001B[38;5;241;43m.\u001B[39;49m\u001B[43mCompletionCreateParams\u001B[49m\u001B[43m,\u001B[49m\n\u001B[1;32m    693\u001B[0m \u001B[43m        \u001B[49m\u001B[43m)\u001B[49m\u001B[43m,\u001B[49m\n\u001B[1;32m    694\u001B[0m \u001B[43m        \u001B[49m\u001B[43moptions\u001B[49m\u001B[38;5;241;43m=\u001B[39;49m\u001B[43mmake_request_options\u001B[49m\u001B[43m(\u001B[49m\n\u001B[1;32m    695\u001B[0m \u001B[43m            \u001B[49m\u001B[43mextra_headers\u001B[49m\u001B[38;5;241;43m=\u001B[39;49m\u001B[43mextra_headers\u001B[49m\u001B[43m,\u001B[49m\u001B[43m \u001B[49m\u001B[43mextra_query\u001B[49m\u001B[38;5;241;43m=\u001B[39;49m\u001B[43mextra_query\u001B[49m\u001B[43m,\u001B[49m\u001B[43m \u001B[49m\u001B[43mextra_body\u001B[49m\u001B[38;5;241;43m=\u001B[39;49m\u001B[43mextra_body\u001B[49m\u001B[43m,\u001B[49m\u001B[43m \u001B[49m\u001B[43mtimeout\u001B[49m\u001B[38;5;241;43m=\u001B[39;49m\u001B[43mtimeout\u001B[49m\n\u001B[1;32m    696\u001B[0m \u001B[43m        \u001B[49m\u001B[43m)\u001B[49m\u001B[43m,\u001B[49m\n\u001B[1;32m    697\u001B[0m \u001B[43m        \u001B[49m\u001B[43mcast_to\u001B[49m\u001B[38;5;241;43m=\u001B[39;49m\u001B[43mChatCompletion\u001B[49m\u001B[43m,\u001B[49m\n\u001B[1;32m    698\u001B[0m \u001B[43m        \u001B[49m\u001B[43mstream\u001B[49m\u001B[38;5;241;43m=\u001B[39;49m\u001B[43mstream\u001B[49m\u001B[43m \u001B[49m\u001B[38;5;129;43;01mor\u001B[39;49;00m\u001B[43m \u001B[49m\u001B[38;5;28;43;01mFalse\u001B[39;49;00m\u001B[43m,\u001B[49m\n\u001B[1;32m    699\u001B[0m \u001B[43m        \u001B[49m\u001B[43mstream_cls\u001B[49m\u001B[38;5;241;43m=\u001B[39;49m\u001B[43mStream\u001B[49m\u001B[43m[\u001B[49m\u001B[43mChatCompletionChunk\u001B[49m\u001B[43m]\u001B[49m\u001B[43m,\u001B[49m\n\u001B[1;32m    700\u001B[0m \u001B[43m    \u001B[49m\u001B[43m)\u001B[49m\n",
      "File \u001B[0;32m~/miniconda3/envs/py310/lib/python3.10/site-packages/openai/_base_client.py:1213\u001B[0m, in \u001B[0;36mSyncAPIClient.post\u001B[0;34m(self, path, cast_to, body, options, files, stream, stream_cls)\u001B[0m\n\u001B[1;32m   1199\u001B[0m \u001B[38;5;28;01mdef\u001B[39;00m \u001B[38;5;21mpost\u001B[39m(\n\u001B[1;32m   1200\u001B[0m     \u001B[38;5;28mself\u001B[39m,\n\u001B[1;32m   1201\u001B[0m     path: \u001B[38;5;28mstr\u001B[39m,\n\u001B[0;32m   (...)\u001B[0m\n\u001B[1;32m   1208\u001B[0m     stream_cls: \u001B[38;5;28mtype\u001B[39m[_StreamT] \u001B[38;5;241m|\u001B[39m \u001B[38;5;28;01mNone\u001B[39;00m \u001B[38;5;241m=\u001B[39m \u001B[38;5;28;01mNone\u001B[39;00m,\n\u001B[1;32m   1209\u001B[0m ) \u001B[38;5;241m-\u001B[39m\u001B[38;5;241m>\u001B[39m ResponseT \u001B[38;5;241m|\u001B[39m _StreamT:\n\u001B[1;32m   1210\u001B[0m     opts \u001B[38;5;241m=\u001B[39m FinalRequestOptions\u001B[38;5;241m.\u001B[39mconstruct(\n\u001B[1;32m   1211\u001B[0m         method\u001B[38;5;241m=\u001B[39m\u001B[38;5;124m\"\u001B[39m\u001B[38;5;124mpost\u001B[39m\u001B[38;5;124m\"\u001B[39m, url\u001B[38;5;241m=\u001B[39mpath, json_data\u001B[38;5;241m=\u001B[39mbody, files\u001B[38;5;241m=\u001B[39mto_httpx_files(files), \u001B[38;5;241m*\u001B[39m\u001B[38;5;241m*\u001B[39moptions\n\u001B[1;32m   1212\u001B[0m     )\n\u001B[0;32m-> 1213\u001B[0m     \u001B[38;5;28;01mreturn\u001B[39;00m cast(ResponseT, \u001B[38;5;28;43mself\u001B[39;49m\u001B[38;5;241;43m.\u001B[39;49m\u001B[43mrequest\u001B[49m\u001B[43m(\u001B[49m\u001B[43mcast_to\u001B[49m\u001B[43m,\u001B[49m\u001B[43m \u001B[49m\u001B[43mopts\u001B[49m\u001B[43m,\u001B[49m\u001B[43m \u001B[49m\u001B[43mstream\u001B[49m\u001B[38;5;241;43m=\u001B[39;49m\u001B[43mstream\u001B[49m\u001B[43m,\u001B[49m\u001B[43m \u001B[49m\u001B[43mstream_cls\u001B[49m\u001B[38;5;241;43m=\u001B[39;49m\u001B[43mstream_cls\u001B[49m\u001B[43m)\u001B[49m)\n",
      "File \u001B[0;32m~/miniconda3/envs/py310/lib/python3.10/site-packages/openai/_base_client.py:902\u001B[0m, in \u001B[0;36mSyncAPIClient.request\u001B[0;34m(self, cast_to, options, remaining_retries, stream, stream_cls)\u001B[0m\n\u001B[1;32m    893\u001B[0m \u001B[38;5;28;01mdef\u001B[39;00m \u001B[38;5;21mrequest\u001B[39m(\n\u001B[1;32m    894\u001B[0m     \u001B[38;5;28mself\u001B[39m,\n\u001B[1;32m    895\u001B[0m     cast_to: Type[ResponseT],\n\u001B[0;32m   (...)\u001B[0m\n\u001B[1;32m    900\u001B[0m     stream_cls: \u001B[38;5;28mtype\u001B[39m[_StreamT] \u001B[38;5;241m|\u001B[39m \u001B[38;5;28;01mNone\u001B[39;00m \u001B[38;5;241m=\u001B[39m \u001B[38;5;28;01mNone\u001B[39;00m,\n\u001B[1;32m    901\u001B[0m ) \u001B[38;5;241m-\u001B[39m\u001B[38;5;241m>\u001B[39m ResponseT \u001B[38;5;241m|\u001B[39m _StreamT:\n\u001B[0;32m--> 902\u001B[0m     \u001B[38;5;28;01mreturn\u001B[39;00m \u001B[38;5;28;43mself\u001B[39;49m\u001B[38;5;241;43m.\u001B[39;49m\u001B[43m_request\u001B[49m\u001B[43m(\u001B[49m\n\u001B[1;32m    903\u001B[0m \u001B[43m        \u001B[49m\u001B[43mcast_to\u001B[49m\u001B[38;5;241;43m=\u001B[39;49m\u001B[43mcast_to\u001B[49m\u001B[43m,\u001B[49m\n\u001B[1;32m    904\u001B[0m \u001B[43m        \u001B[49m\u001B[43moptions\u001B[49m\u001B[38;5;241;43m=\u001B[39;49m\u001B[43moptions\u001B[49m\u001B[43m,\u001B[49m\n\u001B[1;32m    905\u001B[0m \u001B[43m        \u001B[49m\u001B[43mstream\u001B[49m\u001B[38;5;241;43m=\u001B[39;49m\u001B[43mstream\u001B[49m\u001B[43m,\u001B[49m\n\u001B[1;32m    906\u001B[0m \u001B[43m        \u001B[49m\u001B[43mstream_cls\u001B[49m\u001B[38;5;241;43m=\u001B[39;49m\u001B[43mstream_cls\u001B[49m\u001B[43m,\u001B[49m\n\u001B[1;32m    907\u001B[0m \u001B[43m        \u001B[49m\u001B[43mremaining_retries\u001B[49m\u001B[38;5;241;43m=\u001B[39;49m\u001B[43mremaining_retries\u001B[49m\u001B[43m,\u001B[49m\n\u001B[1;32m    908\u001B[0m \u001B[43m    \u001B[49m\u001B[43m)\u001B[49m\n",
      "File \u001B[0;32m~/miniconda3/envs/py310/lib/python3.10/site-packages/openai/_base_client.py:940\u001B[0m, in \u001B[0;36mSyncAPIClient._request\u001B[0;34m(self, cast_to, options, remaining_retries, stream, stream_cls)\u001B[0m\n\u001B[1;32m    937\u001B[0m log\u001B[38;5;241m.\u001B[39mdebug(\u001B[38;5;124m\"\u001B[39m\u001B[38;5;124mEncountered httpx.TimeoutException\u001B[39m\u001B[38;5;124m\"\u001B[39m, exc_info\u001B[38;5;241m=\u001B[39m\u001B[38;5;28;01mTrue\u001B[39;00m)\n\u001B[1;32m    939\u001B[0m \u001B[38;5;28;01mif\u001B[39;00m retries \u001B[38;5;241m>\u001B[39m \u001B[38;5;241m0\u001B[39m:\n\u001B[0;32m--> 940\u001B[0m     \u001B[38;5;28;01mreturn\u001B[39;00m \u001B[38;5;28;43mself\u001B[39;49m\u001B[38;5;241;43m.\u001B[39;49m\u001B[43m_retry_request\u001B[49m\u001B[43m(\u001B[49m\n\u001B[1;32m    941\u001B[0m \u001B[43m        \u001B[49m\u001B[43moptions\u001B[49m\u001B[43m,\u001B[49m\n\u001B[1;32m    942\u001B[0m \u001B[43m        \u001B[49m\u001B[43mcast_to\u001B[49m\u001B[43m,\u001B[49m\n\u001B[1;32m    943\u001B[0m \u001B[43m        \u001B[49m\u001B[43mretries\u001B[49m\u001B[43m,\u001B[49m\n\u001B[1;32m    944\u001B[0m \u001B[43m        \u001B[49m\u001B[43mstream\u001B[49m\u001B[38;5;241;43m=\u001B[39;49m\u001B[43mstream\u001B[49m\u001B[43m,\u001B[49m\n\u001B[1;32m    945\u001B[0m \u001B[43m        \u001B[49m\u001B[43mstream_cls\u001B[49m\u001B[38;5;241;43m=\u001B[39;49m\u001B[43mstream_cls\u001B[49m\u001B[43m,\u001B[49m\n\u001B[1;32m    946\u001B[0m \u001B[43m        \u001B[49m\u001B[43mresponse_headers\u001B[49m\u001B[38;5;241;43m=\u001B[39;49m\u001B[38;5;28;43;01mNone\u001B[39;49;00m\u001B[43m,\u001B[49m\n\u001B[1;32m    947\u001B[0m \u001B[43m    \u001B[49m\u001B[43m)\u001B[49m\n\u001B[1;32m    949\u001B[0m log\u001B[38;5;241m.\u001B[39mdebug(\u001B[38;5;124m\"\u001B[39m\u001B[38;5;124mRaising timeout error\u001B[39m\u001B[38;5;124m\"\u001B[39m)\n\u001B[1;32m    950\u001B[0m \u001B[38;5;28;01mraise\u001B[39;00m APITimeoutError(request\u001B[38;5;241m=\u001B[39mrequest) \u001B[38;5;28;01mfrom\u001B[39;00m \u001B[38;5;21;01merr\u001B[39;00m\n",
      "File \u001B[0;32m~/miniconda3/envs/py310/lib/python3.10/site-packages/openai/_base_client.py:1026\u001B[0m, in \u001B[0;36mSyncAPIClient._retry_request\u001B[0;34m(self, options, cast_to, remaining_retries, response_headers, stream, stream_cls)\u001B[0m\n\u001B[1;32m   1022\u001B[0m \u001B[38;5;66;03m# In a synchronous context we are blocking the entire thread. Up to the library user to run the client in a\u001B[39;00m\n\u001B[1;32m   1023\u001B[0m \u001B[38;5;66;03m# different thread if necessary.\u001B[39;00m\n\u001B[1;32m   1024\u001B[0m time\u001B[38;5;241m.\u001B[39msleep(timeout)\n\u001B[0;32m-> 1026\u001B[0m \u001B[38;5;28;01mreturn\u001B[39;00m \u001B[38;5;28;43mself\u001B[39;49m\u001B[38;5;241;43m.\u001B[39;49m\u001B[43m_request\u001B[49m\u001B[43m(\u001B[49m\n\u001B[1;32m   1027\u001B[0m \u001B[43m    \u001B[49m\u001B[43moptions\u001B[49m\u001B[38;5;241;43m=\u001B[39;49m\u001B[43moptions\u001B[49m\u001B[43m,\u001B[49m\n\u001B[1;32m   1028\u001B[0m \u001B[43m    \u001B[49m\u001B[43mcast_to\u001B[49m\u001B[38;5;241;43m=\u001B[39;49m\u001B[43mcast_to\u001B[49m\u001B[43m,\u001B[49m\n\u001B[1;32m   1029\u001B[0m \u001B[43m    \u001B[49m\u001B[43mremaining_retries\u001B[49m\u001B[38;5;241;43m=\u001B[39;49m\u001B[43mremaining\u001B[49m\u001B[43m,\u001B[49m\n\u001B[1;32m   1030\u001B[0m \u001B[43m    \u001B[49m\u001B[43mstream\u001B[49m\u001B[38;5;241;43m=\u001B[39;49m\u001B[43mstream\u001B[49m\u001B[43m,\u001B[49m\n\u001B[1;32m   1031\u001B[0m \u001B[43m    \u001B[49m\u001B[43mstream_cls\u001B[49m\u001B[38;5;241;43m=\u001B[39;49m\u001B[43mstream_cls\u001B[49m\u001B[43m,\u001B[49m\n\u001B[1;32m   1032\u001B[0m \u001B[43m\u001B[49m\u001B[43m)\u001B[49m\n",
      "File \u001B[0;32m~/miniconda3/envs/py310/lib/python3.10/site-packages/openai/_base_client.py:940\u001B[0m, in \u001B[0;36mSyncAPIClient._request\u001B[0;34m(self, cast_to, options, remaining_retries, stream, stream_cls)\u001B[0m\n\u001B[1;32m    937\u001B[0m log\u001B[38;5;241m.\u001B[39mdebug(\u001B[38;5;124m\"\u001B[39m\u001B[38;5;124mEncountered httpx.TimeoutException\u001B[39m\u001B[38;5;124m\"\u001B[39m, exc_info\u001B[38;5;241m=\u001B[39m\u001B[38;5;28;01mTrue\u001B[39;00m)\n\u001B[1;32m    939\u001B[0m \u001B[38;5;28;01mif\u001B[39;00m retries \u001B[38;5;241m>\u001B[39m \u001B[38;5;241m0\u001B[39m:\n\u001B[0;32m--> 940\u001B[0m     \u001B[38;5;28;01mreturn\u001B[39;00m \u001B[38;5;28;43mself\u001B[39;49m\u001B[38;5;241;43m.\u001B[39;49m\u001B[43m_retry_request\u001B[49m\u001B[43m(\u001B[49m\n\u001B[1;32m    941\u001B[0m \u001B[43m        \u001B[49m\u001B[43moptions\u001B[49m\u001B[43m,\u001B[49m\n\u001B[1;32m    942\u001B[0m \u001B[43m        \u001B[49m\u001B[43mcast_to\u001B[49m\u001B[43m,\u001B[49m\n\u001B[1;32m    943\u001B[0m \u001B[43m        \u001B[49m\u001B[43mretries\u001B[49m\u001B[43m,\u001B[49m\n\u001B[1;32m    944\u001B[0m \u001B[43m        \u001B[49m\u001B[43mstream\u001B[49m\u001B[38;5;241;43m=\u001B[39;49m\u001B[43mstream\u001B[49m\u001B[43m,\u001B[49m\n\u001B[1;32m    945\u001B[0m \u001B[43m        \u001B[49m\u001B[43mstream_cls\u001B[49m\u001B[38;5;241;43m=\u001B[39;49m\u001B[43mstream_cls\u001B[49m\u001B[43m,\u001B[49m\n\u001B[1;32m    946\u001B[0m \u001B[43m        \u001B[49m\u001B[43mresponse_headers\u001B[49m\u001B[38;5;241;43m=\u001B[39;49m\u001B[38;5;28;43;01mNone\u001B[39;49;00m\u001B[43m,\u001B[49m\n\u001B[1;32m    947\u001B[0m \u001B[43m    \u001B[49m\u001B[43m)\u001B[49m\n\u001B[1;32m    949\u001B[0m log\u001B[38;5;241m.\u001B[39mdebug(\u001B[38;5;124m\"\u001B[39m\u001B[38;5;124mRaising timeout error\u001B[39m\u001B[38;5;124m\"\u001B[39m)\n\u001B[1;32m    950\u001B[0m \u001B[38;5;28;01mraise\u001B[39;00m APITimeoutError(request\u001B[38;5;241m=\u001B[39mrequest) \u001B[38;5;28;01mfrom\u001B[39;00m \u001B[38;5;21;01merr\u001B[39;00m\n",
      "File \u001B[0;32m~/miniconda3/envs/py310/lib/python3.10/site-packages/openai/_base_client.py:1026\u001B[0m, in \u001B[0;36mSyncAPIClient._retry_request\u001B[0;34m(self, options, cast_to, remaining_retries, response_headers, stream, stream_cls)\u001B[0m\n\u001B[1;32m   1022\u001B[0m \u001B[38;5;66;03m# In a synchronous context we are blocking the entire thread. Up to the library user to run the client in a\u001B[39;00m\n\u001B[1;32m   1023\u001B[0m \u001B[38;5;66;03m# different thread if necessary.\u001B[39;00m\n\u001B[1;32m   1024\u001B[0m time\u001B[38;5;241m.\u001B[39msleep(timeout)\n\u001B[0;32m-> 1026\u001B[0m \u001B[38;5;28;01mreturn\u001B[39;00m \u001B[38;5;28;43mself\u001B[39;49m\u001B[38;5;241;43m.\u001B[39;49m\u001B[43m_request\u001B[49m\u001B[43m(\u001B[49m\n\u001B[1;32m   1027\u001B[0m \u001B[43m    \u001B[49m\u001B[43moptions\u001B[49m\u001B[38;5;241;43m=\u001B[39;49m\u001B[43moptions\u001B[49m\u001B[43m,\u001B[49m\n\u001B[1;32m   1028\u001B[0m \u001B[43m    \u001B[49m\u001B[43mcast_to\u001B[49m\u001B[38;5;241;43m=\u001B[39;49m\u001B[43mcast_to\u001B[49m\u001B[43m,\u001B[49m\n\u001B[1;32m   1029\u001B[0m \u001B[43m    \u001B[49m\u001B[43mremaining_retries\u001B[49m\u001B[38;5;241;43m=\u001B[39;49m\u001B[43mremaining\u001B[49m\u001B[43m,\u001B[49m\n\u001B[1;32m   1030\u001B[0m \u001B[43m    \u001B[49m\u001B[43mstream\u001B[49m\u001B[38;5;241;43m=\u001B[39;49m\u001B[43mstream\u001B[49m\u001B[43m,\u001B[49m\n\u001B[1;32m   1031\u001B[0m \u001B[43m    \u001B[49m\u001B[43mstream_cls\u001B[49m\u001B[38;5;241;43m=\u001B[39;49m\u001B[43mstream_cls\u001B[49m\u001B[43m,\u001B[49m\n\u001B[1;32m   1032\u001B[0m \u001B[43m\u001B[49m\u001B[43m)\u001B[49m\n",
      "File \u001B[0;32m~/miniconda3/envs/py310/lib/python3.10/site-packages/openai/_base_client.py:950\u001B[0m, in \u001B[0;36mSyncAPIClient._request\u001B[0;34m(self, cast_to, options, remaining_retries, stream, stream_cls)\u001B[0m\n\u001B[1;32m    940\u001B[0m         \u001B[38;5;28;01mreturn\u001B[39;00m \u001B[38;5;28mself\u001B[39m\u001B[38;5;241m.\u001B[39m_retry_request(\n\u001B[1;32m    941\u001B[0m             options,\n\u001B[1;32m    942\u001B[0m             cast_to,\n\u001B[0;32m   (...)\u001B[0m\n\u001B[1;32m    946\u001B[0m             response_headers\u001B[38;5;241m=\u001B[39m\u001B[38;5;28;01mNone\u001B[39;00m,\n\u001B[1;32m    947\u001B[0m         )\n\u001B[1;32m    949\u001B[0m     log\u001B[38;5;241m.\u001B[39mdebug(\u001B[38;5;124m\"\u001B[39m\u001B[38;5;124mRaising timeout error\u001B[39m\u001B[38;5;124m\"\u001B[39m)\n\u001B[0;32m--> 950\u001B[0m     \u001B[38;5;28;01mraise\u001B[39;00m APITimeoutError(request\u001B[38;5;241m=\u001B[39mrequest) \u001B[38;5;28;01mfrom\u001B[39;00m \u001B[38;5;21;01merr\u001B[39;00m\n\u001B[1;32m    951\u001B[0m \u001B[38;5;28;01mexcept\u001B[39;00m \u001B[38;5;167;01mException\u001B[39;00m \u001B[38;5;28;01mas\u001B[39;00m err:\n\u001B[1;32m    952\u001B[0m     log\u001B[38;5;241m.\u001B[39mdebug(\u001B[38;5;124m\"\u001B[39m\u001B[38;5;124mEncountered Exception\u001B[39m\u001B[38;5;124m\"\u001B[39m, exc_info\u001B[38;5;241m=\u001B[39m\u001B[38;5;28;01mTrue\u001B[39;00m)\n",
      "\u001B[0;31mAPITimeoutError\u001B[0m: Request timed out."
     ]
    }
   ],
   "execution_count": 7
  },
  {
   "cell_type": "code",
   "metadata": {},
   "source": [
    "evaluate(optimized_react)"
   ],
   "outputs": [],
   "execution_count": null
  },
  {
   "cell_type": "markdown",
   "metadata": {},
   "source": [
    "### 5) Zero-Shot Aggregator.\n",
    "\n",
    "Let's now extract the best five bootstrapped ReAct programs. We'll build a simple DSPy aggregator that runs all of them then produces a final answer.\n",
    "现在让我们提取最好的五个自举ReAct程序。我们将构建一个简单的DSPy聚合器，运行所有这些程序，然后产生一个最终答案。"
   ]
  },
  {
   "cell_type": "code",
   "execution_count": 7,
   "metadata": {},
   "outputs": [],
   "source": [
    "from dsp.utils import flatten, deduplicate\n",
    "\n",
    "# the best-performing five ReAct programs from the optimization process\n",
    "AGENTS = [x[-1] for x in optimized_react.candidate_programs[:5]]\n",
    "\n",
    "class Aggregator(dspy.Module):\n",
    "\tdef __init__(self, temperature=0.0):\n",
    "\t\t\"\"\"这个类名为 Aggregator，继承自 dspy.Module。\n",
    "在初始化方法中，定义了一个用于聚合的 ChainOfThought 对象 self.aggregate，以及一个温度参数 self.temperature。\"\"\"\n",
    "\t\tself.aggregate = dspy.ChainOfThought('context, question -> answer')\n",
    "\t\tself.temperature = temperature\n",
    "\n",
    "\tdef forward(self, question):\n",
    "\t\t# Run all five agents with high temperature, then extract and deduplicate their observed contexts\n",
    "\t\t# 运行所有五个代理，并设置高温，然后提取和去重它们观察到的上下文\n",
    "\t\twith dspy.context(lm=turbo.copy(temperature=self.temperature)):\n",
    "\t\t\tpreds = [agent(question=question) for agent in AGENTS]\n",
    "\t\t\tcontext = deduplicate(flatten([flatten(p.observations) for p in preds]))\n",
    "\n",
    "\t\t# Run the aggregation step to produce a final answer\n",
    "\t\t# 运行聚合步骤以生成最终答案\n",
    "\t\treturn self.aggregate(context=context, question=question)"
   ]
  },
  {
   "cell_type": "markdown",
   "metadata": {},
   "source": [
    "Let's quickly evaluate the aggregator prior to optimization."
   ]
  },
  {
   "cell_type": "code",
   "execution_count": 8,
   "metadata": {},
   "outputs": [
    {
     "name": "stderr",
     "output_type": "stream",
     "text": [
      "Average Metric: 78 / 300  (26.0): 100%|██████████| 300/300 [00:06<00:00, 45.38it/s]\n"
     ]
    },
    {
     "data": {
      "text/html": [
       "<style type=\"text/css\">\n",
       "#T_dec17 th {\n",
       "  text-align: left;\n",
       "}\n",
       "#T_dec17 td {\n",
       "  text-align: left;\n",
       "}\n",
       "#T_dec17_row0_col0, #T_dec17_row0_col1, #T_dec17_row0_col2, #T_dec17_row0_col3, #T_dec17_row0_col4, #T_dec17_row0_col5, #T_dec17_row1_col0, #T_dec17_row1_col1, #T_dec17_row1_col2, #T_dec17_row1_col3, #T_dec17_row1_col4, #T_dec17_row1_col5, #T_dec17_row2_col0, #T_dec17_row2_col1, #T_dec17_row2_col2, #T_dec17_row2_col3, #T_dec17_row2_col4, #T_dec17_row2_col5, #T_dec17_row3_col0, #T_dec17_row3_col1, #T_dec17_row3_col2, #T_dec17_row3_col3, #T_dec17_row3_col4, #T_dec17_row3_col5, #T_dec17_row4_col0, #T_dec17_row4_col1, #T_dec17_row4_col2, #T_dec17_row4_col3, #T_dec17_row4_col4, #T_dec17_row4_col5 {\n",
       "  text-align: left;\n",
       "  white-space: pre-wrap;\n",
       "  word-wrap: break-word;\n",
       "  max-width: 400px;\n",
       "}\n",
       "</style>\n",
       "<table id=\"T_dec17\">\n",
       "  <thead>\n",
       "    <tr>\n",
       "      <th class=\"blank level0\" >&nbsp;</th>\n",
       "      <th id=\"T_dec17_level0_col0\" class=\"col_heading level0 col0\" >question</th>\n",
       "      <th id=\"T_dec17_level0_col1\" class=\"col_heading level0 col1\" >example_answer</th>\n",
       "      <th id=\"T_dec17_level0_col2\" class=\"col_heading level0 col2\" >gold_titles</th>\n",
       "      <th id=\"T_dec17_level0_col3\" class=\"col_heading level0 col3\" >rationale</th>\n",
       "      <th id=\"T_dec17_level0_col4\" class=\"col_heading level0 col4\" >pred_answer</th>\n",
       "      <th id=\"T_dec17_level0_col5\" class=\"col_heading level0 col5\" >answer_exact_match</th>\n",
       "    </tr>\n",
       "  </thead>\n",
       "  <tbody>\n",
       "    <tr>\n",
       "      <th id=\"T_dec17_level0_row0\" class=\"row_heading level0 row0\" >0</th>\n",
       "      <td id=\"T_dec17_row0_col0\" class=\"data row0 col0\" >Are both Cangzhou and Qionghai in the Hebei province of China?</td>\n",
       "      <td id=\"T_dec17_row0_col1\" class=\"data row0 col1\" >no</td>\n",
       "      <td id=\"T_dec17_row0_col2\" class=\"data row0 col2\" >{'Cangzhou', 'Qionghai'}</td>\n",
       "      <td id=\"T_dec17_row0_col3\" class=\"data row0 col3\" >determine if both Cangzhou and Qionghai are in the Hebei province of China. We need to carefully analyze the information provided in the context to...</td>\n",
       "      <td id=\"T_dec17_row0_col4\" class=\"data row0 col4\" >No, only Cangzhou is in the Hebei province of China. Qionghai is located in Hainan province.</td>\n",
       "      <td id=\"T_dec17_row0_col5\" class=\"data row0 col5\" >False</td>\n",
       "    </tr>\n",
       "    <tr>\n",
       "      <th id=\"T_dec17_level0_row1\" class=\"row_heading level0 row1\" >1</th>\n",
       "      <td id=\"T_dec17_row1_col0\" class=\"data row1 col0\" >Who conducts the draft in which Marc-Andre Fleury was drafted to the Vegas Golden Knights for the 2017-18 season?</td>\n",
       "      <td id=\"T_dec17_row1_col1\" class=\"data row1 col1\" >National Hockey League</td>\n",
       "      <td id=\"T_dec17_row1_col2\" class=\"data row1 col2\" >{'2017 NHL Expansion Draft', '2017–18 Pittsburgh Penguins season'}</td>\n",
       "      <td id=\"T_dec17_row1_col3\" class=\"data row1 col3\" >produce the answer. We know that Marc-Andre Fleury was drafted to the Vegas Golden Knights for the 2017-18 season. Looking at the context provided, we...</td>\n",
       "      <td id=\"T_dec17_row1_col4\" class=\"data row1 col4\" >The 2017 NHL Expansion Draft conducted by the National Hockey League filled the roster of the Vegas Golden Knights, including selecting Marc-Andre Fleury for the...</td>\n",
       "      <td id=\"T_dec17_row1_col5\" class=\"data row1 col5\" >False</td>\n",
       "    </tr>\n",
       "    <tr>\n",
       "      <th id=\"T_dec17_level0_row2\" class=\"row_heading level0 row2\" >2</th>\n",
       "      <td id=\"T_dec17_row2_col0\" class=\"data row2 col0\" >The Wings entered a new era, following the retirement of which Canadian retired professional ice hockey player and current general manager of the Tampa Bay...</td>\n",
       "      <td id=\"T_dec17_row2_col1\" class=\"data row2 col1\" >Steve Yzerman</td>\n",
       "      <td id=\"T_dec17_row2_col2\" class=\"data row2 col2\" >{'2006–07 Detroit Red Wings season', 'Steve Yzerman'}</td>\n",
       "      <td id=\"T_dec17_row2_col3\" class=\"data row2 col3\" >identify the retired Canadian professional ice hockey player and current general manager of the Tampa Bay Lightning of the National Hockey League (NHL) whose retirement...</td>\n",
       "      <td id=\"T_dec17_row2_col4\" class=\"data row2 col4\" >Steve Yzerman</td>\n",
       "      <td id=\"T_dec17_row2_col5\" class=\"data row2 col5\" >✔️ [True]</td>\n",
       "    </tr>\n",
       "    <tr>\n",
       "      <th id=\"T_dec17_level0_row3\" class=\"row_heading level0 row3\" >3</th>\n",
       "      <td id=\"T_dec17_row3_col0\" class=\"data row3 col0\" >What river is near the Crichton Collegiate Church?</td>\n",
       "      <td id=\"T_dec17_row3_col1\" class=\"data row3 col1\" >the River Tyne</td>\n",
       "      <td id=\"T_dec17_row3_col2\" class=\"data row3 col2\" >{'Crichton Collegiate Church', 'Crichton Castle'}</td>\n",
       "      <td id=\"T_dec17_row3_col3\" class=\"data row3 col3\" >identify the river near the Crichton Collegiate Church. We know that the church is situated in Midlothian, Scotland, and the River Esk flows through Midlothian...</td>\n",
       "      <td id=\"T_dec17_row3_col4\" class=\"data row3 col4\" >The River Esk</td>\n",
       "      <td id=\"T_dec17_row3_col5\" class=\"data row3 col5\" >False</td>\n",
       "    </tr>\n",
       "    <tr>\n",
       "      <th id=\"T_dec17_level0_row4\" class=\"row_heading level0 row4\" >4</th>\n",
       "      <td id=\"T_dec17_row4_col0\" class=\"data row4 col0\" >In the 10th Century A.D. Ealhswith had a son called Æthelweard by which English king?</td>\n",
       "      <td id=\"T_dec17_row4_col1\" class=\"data row4 col1\" >King Alfred the Great</td>\n",
       "      <td id=\"T_dec17_row4_col2\" class=\"data row4 col2\" >{'Ealhswith', 'Æthelweard (son of Alfred)'}</td>\n",
       "      <td id=\"T_dec17_row4_col3\" class=\"data row4 col3\" >produce the answer. We know from the context that Ealhswith had a son named Æthelweard in the 10th century A.D. Now, looking at the information...</td>\n",
       "      <td id=\"T_dec17_row4_col4\" class=\"data row4 col4\" >King Alfred the Great</td>\n",
       "      <td id=\"T_dec17_row4_col5\" class=\"data row4 col5\" >✔️ [True]</td>\n",
       "    </tr>\n",
       "  </tbody>\n",
       "</table>\n"
      ],
      "text/plain": [
       "<pandas.io.formats.style.Styler at 0x7f218ff8e8c0>"
      ]
     },
     "metadata": {},
     "output_type": "display_data"
    },
    {
     "data": {
      "text/html": [
       "\n",
       "                <div style='\n",
       "                    text-align: center;\n",
       "                    font-size: 16px;\n",
       "                    font-weight: bold;\n",
       "                    color: #555;\n",
       "                    margin: 10px 0;'>\n",
       "                    ... 295 more rows not displayed ...\n",
       "                </div>\n",
       "                "
      ],
      "text/plain": [
       "<IPython.core.display.HTML object>"
      ]
     },
     "metadata": {},
     "output_type": "display_data"
    },
    {
     "data": {
      "text/plain": [
       "26.0"
      ]
     },
     "execution_count": 8,
     "metadata": {},
     "output_type": "execute_result"
    }
   ],
   "source": [
    "aggregator = Aggregator()\n",
    "evaluate(aggregator)"
   ]
  },
  {
   "cell_type": "markdown",
   "metadata": {},
   "source": [
    "### 6) Optimized Aggregator."
   ]
  },
  {
   "cell_type": "code",
   "execution_count": 9,
   "metadata": {},
   "outputs": [
    {
     "name": "stderr",
     "output_type": "stream",
     "text": [
      "Average Metric: 16 / 50  (32.0): 100%|██████████| 50/50 [00:00<00:00, 153.98it/s]\n",
      "Average Metric: 27 / 50  (54.0): 100%|██████████| 50/50 [00:00<00:00, 82.75it/s]\n",
      "  3%|▎         | 4/150 [00:00<00:03, 45.32it/s]\n",
      "Average Metric: 28 / 50  (56.0): 100%|██████████| 50/50 [00:00<00:00, 156.28it/s]\n",
      "  1%|▏         | 2/150 [00:00<00:03, 39.99it/s]\n",
      "Average Metric: 28 / 50  (56.0): 100%|██████████| 50/50 [00:00<00:00, 162.26it/s]\n",
      "  1%|          | 1/150 [00:00<00:02, 51.23it/s]\n",
      "Average Metric: 26 / 50  (52.0): 100%|██████████| 50/50 [00:00<00:00, 158.64it/s]\n",
      "  1%|          | 1/150 [00:00<00:00, 155.47it/s]\n",
      "Average Metric: 28 / 50  (56.0): 100%|██████████| 50/50 [00:00<00:00, 159.96it/s]\n",
      "  1%|          | 1/150 [00:00<00:04, 31.56it/s]\n",
      "Average Metric: 27 / 50  (54.0): 100%|██████████| 50/50 [00:00<00:00, 143.11it/s]\n",
      "  1%|          | 1/150 [00:00<00:03, 43.19it/s]\n",
      "Average Metric: 29 / 50  (58.0): 100%|██████████| 50/50 [00:00<00:00, 163.95it/s]\n",
      "  1%|▏         | 2/150 [00:00<00:04, 31.94it/s]\n",
      "Average Metric: 25 / 50  (50.0): 100%|██████████| 50/50 [00:00<00:00, 197.13it/s]\n",
      "  2%|▏         | 3/150 [00:00<00:04, 35.74it/s]\n",
      "Average Metric: 27 / 50  (54.0): 100%|██████████| 50/50 [00:00<00:00, 161.65it/s]\n",
      "  5%|▍         | 7/150 [00:00<00:03, 40.74it/s]\n",
      "Average Metric: 29 / 50  (58.0): 100%|██████████| 50/50 [00:00<00:00, 176.77it/s]\n",
      "  1%|          | 1/150 [00:00<00:02, 65.18it/s]\n",
      "Average Metric: 28 / 50  (56.0): 100%|██████████| 50/50 [00:00<00:00, 153.30it/s]\n",
      "  2%|▏         | 3/150 [00:00<00:02, 59.95it/s]\n",
      "Average Metric: 30 / 50  (60.0): 100%|██████████| 50/50 [00:00<00:00, 148.52it/s]\n"
     ]
    }
   ],
   "source": [
    "kwargs = dict(max_bootstrapped_demos=2, max_labeled_demos=6, num_candidate_programs=10, num_threads=8)\n",
    "tp = BootstrapFewShotWithRandomSearch(metric=dspy.evaluate.answer_exact_match, **kwargs)\n",
    "optimized_aggregator = tp.compile(aggregator, trainset=trainset, valset=valset)"
   ]
  },
  {
   "cell_type": "code",
   "execution_count": 10,
   "metadata": {},
   "outputs": [
    {
     "name": "stderr",
     "output_type": "stream",
     "text": [
      "Average Metric: 180 / 300  (60.0): 100%|██████████| 300/300 [00:07<00:00, 42.10it/s]\n"
     ]
    },
    {
     "data": {
      "text/html": [
       "<style type=\"text/css\">\n",
       "#T_50ac6 th {\n",
       "  text-align: left;\n",
       "}\n",
       "#T_50ac6 td {\n",
       "  text-align: left;\n",
       "}\n",
       "#T_50ac6_row0_col0, #T_50ac6_row0_col1, #T_50ac6_row0_col2, #T_50ac6_row0_col3, #T_50ac6_row0_col4, #T_50ac6_row0_col5, #T_50ac6_row1_col0, #T_50ac6_row1_col1, #T_50ac6_row1_col2, #T_50ac6_row1_col3, #T_50ac6_row1_col4, #T_50ac6_row1_col5, #T_50ac6_row2_col0, #T_50ac6_row2_col1, #T_50ac6_row2_col2, #T_50ac6_row2_col3, #T_50ac6_row2_col4, #T_50ac6_row2_col5, #T_50ac6_row3_col0, #T_50ac6_row3_col1, #T_50ac6_row3_col2, #T_50ac6_row3_col3, #T_50ac6_row3_col4, #T_50ac6_row3_col5, #T_50ac6_row4_col0, #T_50ac6_row4_col1, #T_50ac6_row4_col2, #T_50ac6_row4_col3, #T_50ac6_row4_col4, #T_50ac6_row4_col5 {\n",
       "  text-align: left;\n",
       "  white-space: pre-wrap;\n",
       "  word-wrap: break-word;\n",
       "  max-width: 400px;\n",
       "}\n",
       "</style>\n",
       "<table id=\"T_50ac6\">\n",
       "  <thead>\n",
       "    <tr>\n",
       "      <th class=\"blank level0\" >&nbsp;</th>\n",
       "      <th id=\"T_50ac6_level0_col0\" class=\"col_heading level0 col0\" >question</th>\n",
       "      <th id=\"T_50ac6_level0_col1\" class=\"col_heading level0 col1\" >example_answer</th>\n",
       "      <th id=\"T_50ac6_level0_col2\" class=\"col_heading level0 col2\" >gold_titles</th>\n",
       "      <th id=\"T_50ac6_level0_col3\" class=\"col_heading level0 col3\" >rationale</th>\n",
       "      <th id=\"T_50ac6_level0_col4\" class=\"col_heading level0 col4\" >pred_answer</th>\n",
       "      <th id=\"T_50ac6_level0_col5\" class=\"col_heading level0 col5\" >answer_exact_match</th>\n",
       "    </tr>\n",
       "  </thead>\n",
       "  <tbody>\n",
       "    <tr>\n",
       "      <th id=\"T_50ac6_level0_row0\" class=\"row_heading level0 row0\" >0</th>\n",
       "      <td id=\"T_50ac6_row0_col0\" class=\"data row0 col0\" >Are both Cangzhou and Qionghai in the Hebei province of China?</td>\n",
       "      <td id=\"T_50ac6_row0_col1\" class=\"data row0 col1\" >no</td>\n",
       "      <td id=\"T_50ac6_row0_col2\" class=\"data row0 col2\" >{'Cangzhou', 'Qionghai'}</td>\n",
       "      <td id=\"T_50ac6_row0_col3\" class=\"data row0 col3\" >produce the answer. From the context, we know that Cangzhou is a prefecture-level city in eastern Hebei province, while Qionghai is one of the seven...</td>\n",
       "      <td id=\"T_50ac6_row0_col4\" class=\"data row0 col4\" >no</td>\n",
       "      <td id=\"T_50ac6_row0_col5\" class=\"data row0 col5\" >✔️ [True]</td>\n",
       "    </tr>\n",
       "    <tr>\n",
       "      <th id=\"T_50ac6_level0_row1\" class=\"row_heading level0 row1\" >1</th>\n",
       "      <td id=\"T_50ac6_row1_col0\" class=\"data row1 col0\" >Who conducts the draft in which Marc-Andre Fleury was drafted to the Vegas Golden Knights for the 2017-18 season?</td>\n",
       "      <td id=\"T_50ac6_row1_col1\" class=\"data row1 col1\" >National Hockey League</td>\n",
       "      <td id=\"T_50ac6_row1_col2\" class=\"data row1 col2\" >{'2017 NHL Expansion Draft', '2017–18 Pittsburgh Penguins season'}</td>\n",
       "      <td id=\"T_50ac6_row1_col3\" class=\"data row1 col3\" >produce the answer. From the context, we know that Marc-Andre Fleury was drafted to the Vegas Golden Knights for the 2017-18 season. The draft that...</td>\n",
       "      <td id=\"T_50ac6_row1_col4\" class=\"data row1 col4\" >National Hockey League</td>\n",
       "      <td id=\"T_50ac6_row1_col5\" class=\"data row1 col5\" >✔️ [True]</td>\n",
       "    </tr>\n",
       "    <tr>\n",
       "      <th id=\"T_50ac6_level0_row2\" class=\"row_heading level0 row2\" >2</th>\n",
       "      <td id=\"T_50ac6_row2_col0\" class=\"data row2 col0\" >The Wings entered a new era, following the retirement of which Canadian retired professional ice hockey player and current general manager of the Tampa Bay...</td>\n",
       "      <td id=\"T_50ac6_row2_col1\" class=\"data row2 col1\" >Steve Yzerman</td>\n",
       "      <td id=\"T_50ac6_row2_col2\" class=\"data row2 col2\" >{'2006–07 Detroit Red Wings season', 'Steve Yzerman'}</td>\n",
       "      <td id=\"T_50ac6_row2_col3\" class=\"data row2 col3\" >produce the answer. We know from the context that Steve Yzerman is a Canadian retired professional ice hockey player and the current general manager of...</td>\n",
       "      <td id=\"T_50ac6_row2_col4\" class=\"data row2 col4\" >Steve Yzerman</td>\n",
       "      <td id=\"T_50ac6_row2_col5\" class=\"data row2 col5\" >✔️ [True]</td>\n",
       "    </tr>\n",
       "    <tr>\n",
       "      <th id=\"T_50ac6_level0_row3\" class=\"row_heading level0 row3\" >3</th>\n",
       "      <td id=\"T_50ac6_row3_col0\" class=\"data row3 col0\" >What river is near the Crichton Collegiate Church?</td>\n",
       "      <td id=\"T_50ac6_row3_col1\" class=\"data row3 col1\" >the River Tyne</td>\n",
       "      <td id=\"T_50ac6_row3_col2\" class=\"data row3 col2\" >{'Crichton Collegiate Church', 'Crichton Castle'}</td>\n",
       "      <td id=\"T_50ac6_row3_col3\" class=\"data row3 col3\" >produce the answer. We know that Crichton Collegiate Church is located in Midlothian, Scotland, near the hamlet of Crichton. Since it is close to Edinburgh,...</td>\n",
       "      <td id=\"T_50ac6_row3_col4\" class=\"data row3 col4\" >River Esk</td>\n",
       "      <td id=\"T_50ac6_row3_col5\" class=\"data row3 col5\" >False</td>\n",
       "    </tr>\n",
       "    <tr>\n",
       "      <th id=\"T_50ac6_level0_row4\" class=\"row_heading level0 row4\" >4</th>\n",
       "      <td id=\"T_50ac6_row4_col0\" class=\"data row4 col0\" >In the 10th Century A.D. Ealhswith had a son called Æthelweard by which English king?</td>\n",
       "      <td id=\"T_50ac6_row4_col1\" class=\"data row4 col1\" >King Alfred the Great</td>\n",
       "      <td id=\"T_50ac6_row4_col2\" class=\"data row4 col2\" >{'Ealhswith', 'Æthelweard (son of Alfred)'}</td>\n",
       "      <td id=\"T_50ac6_row4_col3\" class=\"data row4 col3\" >produce the answer. From the context, we know that Ealhswith was the wife of King Alfred the Great. Therefore, in the 10th Century A.D., Ealhswith...</td>\n",
       "      <td id=\"T_50ac6_row4_col4\" class=\"data row4 col4\" >King Alfred the Great</td>\n",
       "      <td id=\"T_50ac6_row4_col5\" class=\"data row4 col5\" >✔️ [True]</td>\n",
       "    </tr>\n",
       "  </tbody>\n",
       "</table>\n"
      ],
      "text/plain": [
       "<pandas.io.formats.style.Styler at 0x7f219daed8a0>"
      ]
     },
     "metadata": {},
     "output_type": "display_data"
    },
    {
     "data": {
      "text/html": [
       "\n",
       "                <div style='\n",
       "                    text-align: center;\n",
       "                    font-size: 16px;\n",
       "                    font-weight: bold;\n",
       "                    color: #555;\n",
       "                    margin: 10px 0;'>\n",
       "                    ... 295 more rows not displayed ...\n",
       "                </div>\n",
       "                "
      ],
      "text/plain": [
       "<IPython.core.display.HTML object>"
      ]
     },
     "metadata": {},
     "output_type": "display_data"
    },
    {
     "data": {
      "text/plain": [
       "60.0"
      ]
     },
     "execution_count": 10,
     "metadata": {},
     "output_type": "execute_result"
    }
   ],
   "source": [
    "optimized_aggregator2 = optimized_aggregator.deepcopy()\n",
    "optimized_aggregator2.temperature = 0.7\n",
    "\n",
    "evaluate(optimized_aggregator2)"
   ]
  },
  {
   "cell_type": "markdown",
   "metadata": {},
   "source": []
  }
 ],
 "metadata": {
  "kernelspec": {
   "display_name": "py310",
   "language": "python",
   "name": "python3"
  },
  "language_info": {
   "codemirror_mode": {
    "name": "ipython",
    "version": 3
   },
   "file_extension": ".py",
   "mimetype": "text/x-python",
   "name": "python",
   "nbconvert_exporter": "python",
   "pygments_lexer": "ipython3",
   "version": "3.10.13"
  }
 },
 "nbformat": 4,
 "nbformat_minor": 2
}
