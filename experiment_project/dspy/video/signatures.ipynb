{
 "cells": [
  {
   "cell_type": "code",
   "id": "initial_id",
   "metadata": {
    "collapsed": true,
    "ExecuteTime": {
     "end_time": "2024-05-27T12:30:05.568057Z",
     "start_time": "2024-05-27T12:30:04.142507Z"
    }
   },
   "source": "# pip3 install dspy-ai ",
   "execution_count": 1,
   "outputs": []
  },
  {
   "metadata": {
    "ExecuteTime": {
     "end_time": "2024-05-27T14:52:34.549123Z",
     "start_time": "2024-05-27T14:52:31.973665Z"
    }
   },
   "cell_type": "code",
   "source": [
    "from experiment_project.utils.initial.util import init_sys_env\n",
    "from experiment_project.utils.files.read import read_yaml\n",
    "import dspy\n",
    "init_sys_env(proxy_url='http://192.168.31.215:10890') \n",
    "secret_env_file = '/mnt/c/Users/chenzi/Desktop/project/experiment_project/env_secret_config.yaml'\n",
    "\n",
    "api_configs = read_yaml(secret_env_file)\n",
    "model_config = api_configs.get('openai')\n",
    "turbo = dspy.OpenAI(model=model_config.get('model'), max_tokens=2048,api_key=model_config.get('api_key'))\n",
    "dspy.settings.configure(lm=turbo)"
   ],
   "id": "ea9ab1166d9ceddd",
   "execution_count": 2,
   "outputs": []
  },
  {
   "metadata": {
    "ExecuteTime": {
     "end_time": "2024-05-27T14:52:34.558131Z",
     "start_time": "2024-05-27T14:52:34.551093Z"
    }
   },
   "cell_type": "code",
   "source": [
    "# 定义 Signature\n",
    "class BasicQA(dspy.Signature):\n",
    "    \"\"\"回答问题，答案要简短。\"\"\"\n",
    "    question = dspy.InputField()\n",
    "    answer = dspy.OutputField(desc=\"通常是 1 到 25 个词\", prefix=\"问题的答案:\")"
   ],
   "id": "20895307bc4784c1",
   "execution_count": 3,
   "outputs": []
  },
  {
   "metadata": {
    "ExecuteTime": {
     "end_time": "2024-05-27T14:01:24.161505Z",
     "start_time": "2024-05-27T14:01:24.073520Z"
    }
   },
   "cell_type": "code",
   "source": [
    "predictor = dspy.Predict(BasicQA)\n",
    "response = predictor(question=\"中国的首都是哪里？\")\n",
    "response"
   ],
   "id": "d22e271c290d04e9",
   "execution_count": 19,
   "outputs": []
  },
  {
   "metadata": {
    "ExecuteTime": {
     "end_time": "2024-05-27T14:01:44.597517Z",
     "start_time": "2024-05-27T14:01:44.587681Z"
    }
   },
   "cell_type": "code",
   "source": "turbo.history[-1]",
   "id": "689c1d14956c2cbd",
   "execution_count": 20,
   "outputs": []
  },
  {
   "metadata": {
    "ExecuteTime": {
     "end_time": "2024-05-27T12:30:26.267208Z",
     "start_time": "2024-05-27T12:30:26.262756Z"
    }
   },
   "cell_type": "code",
   "source": "turbo.inspect_history(n=3)",
   "id": "7e6f652ec9befe7f",
   "execution_count": 5,
   "outputs": []
  },
  {
   "metadata": {
    "ExecuteTime": {
     "end_time": "2024-05-27T15:01:36.265792Z",
     "start_time": "2024-05-27T15:01:36.259854Z"
    }
   },
   "cell_type": "code",
   "source": [
    "# 定义 Signature\n",
    "class Writer(dspy.Signature):\n",
    "    question = dspy.InputField()\n",
    "    answer = dspy.OutputField(desc=\"请写一篇短片小说,感情描写要内敛,含蓄.\", prefix=\"小说是: \")\n",
    "    tone = dspy.OutputField(desc=\"请使用朱自清（作者）的创作风格(写作风格和语法)\",)\n",
    "    count = dspy.OutputField(desc=\"字数限制在800-2000个字\",)"
   ],
   "id": "fd4ea5075a486957",
   "execution_count": 26,
   "outputs": []
  },
  {
   "metadata": {
    "ExecuteTime": {
     "end_time": "2024-05-27T15:01:49.426195Z",
     "start_time": "2024-05-27T15:01:36.600682Z"
    }
   },
   "cell_type": "code",
   "source": [
    "writer_predictor = dspy.Predict(Writer)\n",
    "writer_response = writer_predictor(question=\"小说主题: 描述了在家庭遭变故的情况下，父亲在火车站送别远行儿子的经过. \")\n",
    "writer_response.answer"
   ],
   "id": "94604577c383e2bf",
   "execution_count": 27,
   "outputs": []
  },
  {
   "metadata": {
    "ExecuteTime": {
     "end_time": "2024-05-27T14:57:24.016318Z",
     "start_time": "2024-05-27T14:57:24.011826Z"
    }
   },
   "cell_type": "code",
   "source": "turbo.inspect_history(n=3)",
   "id": "1b9720e792862309",
   "execution_count": 20,
   "outputs": []
  },
  {
   "metadata": {
    "ExecuteTime": {
     "end_time": "2024-05-27T14:57:25.255652Z",
     "start_time": "2024-05-27T14:57:25.249610Z"
    }
   },
   "cell_type": "code",
   "source": "turbo.history[-1]",
   "id": "29ebf4f90aa4cdcb",
   "execution_count": 21,
   "outputs": []
  },
  {
   "metadata": {},
   "cell_type": "code",
   "execution_count": null,
   "source": "",
   "id": "57e626a768ea8d4",
   "outputs": []
  }
 ],
 "metadata": {
  "kernelspec": {
   "display_name": "Python 3",
   "language": "python",
   "name": "python3"
  },
  "language_info": {
   "codemirror_mode": {
    "name": "ipython",
    "version": 2
   },
   "file_extension": ".py",
   "mimetype": "text/x-python",
   "name": "python",
   "nbconvert_exporter": "python",
   "pygments_lexer": "ipython2",
   "version": "2.7.6"
  }
 },
 "nbformat": 4,
 "nbformat_minor": 5
}
