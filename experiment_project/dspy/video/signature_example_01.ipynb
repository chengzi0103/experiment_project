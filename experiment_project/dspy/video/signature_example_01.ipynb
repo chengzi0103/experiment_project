{
 "cells": [
  {
   "cell_type": "code",
   "id": "initial_id",
   "metadata": {
    "collapsed": true,
    "ExecuteTime": {
     "end_time": "2024-05-28T02:46:48.421159Z",
     "start_time": "2024-05-28T02:46:48.418446Z"
    }
   },
   "source": "# pip3 install dspy-ai ",
   "outputs": [],
   "execution_count": 1
  },
  {
   "metadata": {
    "ExecuteTime": {
     "end_time": "2024-05-28T02:46:50.828559Z",
     "start_time": "2024-05-28T02:46:48.628783Z"
    }
   },
   "cell_type": "code",
   "source": [
    "from experiment_project.utils.initial.util import init_sys_env\n",
    "from experiment_project.utils.files.read import read_yaml\n",
    "import dspy\n",
    "init_sys_env() \n",
    "secret_env_file = '/mnt/d/project/dy/extra/autogen/env_secret_config.yaml'\n",
    "\n",
    "api_configs = read_yaml(secret_env_file)\n",
    "model_config = api_configs.get('openai')\n",
    "turbo = dspy.OpenAI(model=model_config.get('model'), max_tokens=2048,api_key=model_config.get('api_key'))\n",
    "dspy.settings.configure(lm=turbo)"
   ],
   "id": "ea9ab1166d9ceddd",
   "outputs": [],
   "execution_count": 2
  },
  {
   "metadata": {
    "ExecuteTime": {
     "end_time": "2024-05-28T02:46:50.835119Z",
     "start_time": "2024-05-28T02:46:50.830116Z"
    }
   },
   "cell_type": "code",
   "source": [
    "# 定义 Signature\n",
    "class BasicQA(dspy.Signature):\n",
    "    \"\"\"回答问题，答案要简短。\"\"\"\n",
    "    question = dspy.InputField()\n",
    "    answer = dspy.OutputField(desc=\"通常是 1 到 25 个词\", prefix=\"问题的答案:\")"
   ],
   "id": "20895307bc4784c1",
   "outputs": [],
   "execution_count": 3
  },
  {
   "metadata": {
    "ExecuteTime": {
     "end_time": "2024-05-28T02:46:52.083508Z",
     "start_time": "2024-05-28T02:46:50.836757Z"
    }
   },
   "cell_type": "code",
   "source": [
    "predictor = dspy.Predict(BasicQA)\n",
    "response = predictor(question=\"中国的首都是哪里？\")\n",
    "response"
   ],
   "id": "d22e271c290d04e9",
   "outputs": [
    {
     "data": {
      "text/plain": [
       "Prediction(\n",
       "    answer='问题的答案: 北京'\n",
       ")"
      ]
     },
     "execution_count": 4,
     "metadata": {},
     "output_type": "execute_result"
    }
   ],
   "execution_count": 4
  },
  {
   "metadata": {
    "ExecuteTime": {
     "end_time": "2024-05-28T02:46:52.091190Z",
     "start_time": "2024-05-28T02:46:52.086654Z"
    }
   },
   "cell_type": "code",
   "source": "turbo.history[-1]",
   "id": "689c1d14956c2cbd",
   "outputs": [
    {
     "data": {
      "text/plain": [
       "{'prompt': '回答问题，答案要简短。\\n\\n---\\n\\nFollow the following format.\\n\\nQuestion: ${question}\\n问题的答案: 通常是 1 到 25 个词\\n\\n---\\n\\nQuestion: 中国的首都是哪里？\\n问题的答案:',\n",
       " 'response': {'id': 'chatcmpl-9Th9PPwyBsJ6XagkQhlBae1lPKl6m',\n",
       "  'choices': [{'finish_reason': 'stop',\n",
       "    'index': 0,\n",
       "    'logprobs': None,\n",
       "    'message': {'content': '问题的答案: 北京',\n",
       "     'role': 'assistant',\n",
       "     'function_call': None,\n",
       "     'tool_calls': None}}],\n",
       "  'created': 1716864411,\n",
       "  'model': 'gpt-4o-2024-05-13',\n",
       "  'object': 'chat.completion',\n",
       "  'system_fingerprint': 'fp_43dfabdef1',\n",
       "  'usage': {'completion_tokens': 5, 'prompt_tokens': 54, 'total_tokens': 59}},\n",
       " 'kwargs': {'stringify_request': '{\"temperature\": 0.0, \"max_tokens\": 2048, \"top_p\": 1, \"frequency_penalty\": 0, \"presence_penalty\": 0, \"n\": 1, \"model\": \"gpt-4o\", \"messages\": [{\"role\": \"user\", \"content\": \"\\\\u56de\\\\u7b54\\\\u95ee\\\\u9898\\\\uff0c\\\\u7b54\\\\u6848\\\\u8981\\\\u7b80\\\\u77ed\\\\u3002\\\\n\\\\n---\\\\n\\\\nFollow the following format.\\\\n\\\\nQuestion: ${question}\\\\n\\\\u95ee\\\\u9898\\\\u7684\\\\u7b54\\\\u6848: \\\\u901a\\\\u5e38\\\\u662f 1 \\\\u5230 25 \\\\u4e2a\\\\u8bcd\\\\n\\\\n---\\\\n\\\\nQuestion: \\\\u4e2d\\\\u56fd\\\\u7684\\\\u9996\\\\u90fd\\\\u662f\\\\u54ea\\\\u91cc\\\\uff1f\\\\n\\\\u95ee\\\\u9898\\\\u7684\\\\u7b54\\\\u6848:\"}]}'},\n",
       " 'raw_kwargs': {}}"
      ]
     },
     "execution_count": 5,
     "metadata": {},
     "output_type": "execute_result"
    }
   ],
   "execution_count": 5
  },
  {
   "metadata": {
    "ExecuteTime": {
     "end_time": "2024-05-28T02:46:53.573953Z",
     "start_time": "2024-05-28T02:46:53.569040Z"
    }
   },
   "cell_type": "code",
   "source": "turbo.inspect_history(n=3)",
   "id": "7e6f652ec9befe7f",
   "outputs": [
    {
     "name": "stdout",
     "output_type": "stream",
     "text": [
      "\n",
      "\n",
      "\n",
      "回答问题，答案要简短。\n",
      "\n",
      "---\n",
      "\n",
      "Follow the following format.\n",
      "\n",
      "Question: ${question}\n",
      "问题的答案: 通常是 1 到 25 个词\n",
      "\n",
      "---\n",
      "\n",
      "Question: 中国的首都是哪里？\n",
      "问题的答案:\u001B[32m 问题的答案: 北京\u001B[0m\n",
      "\n",
      "\n",
      "\n"
     ]
    },
    {
     "data": {
      "text/plain": [
       "'\\n\\n\\n回答问题，答案要简短。\\n\\n---\\n\\nFollow the following format.\\n\\nQuestion: ${question}\\n问题的答案: 通常是 1 到 25 个词\\n\\n---\\n\\nQuestion: 中国的首都是哪里？\\n问题的答案:\\x1b[32m 问题的答案: 北京\\x1b[0m\\n\\n\\n'"
      ]
     },
     "execution_count": 6,
     "metadata": {},
     "output_type": "execute_result"
    }
   ],
   "execution_count": 6
  },
  {
   "metadata": {
    "ExecuteTime": {
     "end_time": "2024-05-28T02:46:55.387795Z",
     "start_time": "2024-05-28T02:46:55.382355Z"
    }
   },
   "cell_type": "code",
   "source": [
    "# 定义 Signature\n",
    "class Writer(dspy.Signature):\n",
    "    question = dspy.InputField()\n",
    "    answer = dspy.OutputField(desc=\"请写一篇短片小说,语言要忠实朴素又典雅文质，运用白描及侧面烘托等手法，把父亲对儿子的爱，表达得深刻细腻，真挚感动，从平凡的事件中，呈现出父亲对儿子的关怀和爱护\", prefix=\"小说是: \")\n",
    "    tone = dspy.OutputField(desc=\"请使用朱自清（作者）的创作风格(写作风格和语法)\",)\n",
    "    count = dspy.OutputField(desc=\"结果500-1500个字\",)"
   ],
   "id": "fd4ea5075a486957",
   "outputs": [],
   "execution_count": 7
  },
  {
   "metadata": {
    "ExecuteTime": {
     "end_time": "2024-05-28T02:46:55.993347Z",
     "start_time": "2024-05-28T02:46:55.987574Z"
    }
   },
   "cell_type": "code",
   "source": [
    "writer_predictor = dspy.Predict(Writer)\n",
    "writer_response = writer_predictor(question=\"小说主题: 作者离开南京去北京大学，父亲送他到浦口火车站，照料他上车，并替他买橘子的情形，而作者印象最深刻的是父亲替他买橘子时在月台爬上攀下时的背影 \")\n",
    "writer_response.answer"
   ],
   "id": "94604577c383e2bf",
   "outputs": [
    {
     "data": {
      "text/plain": [
       "'Answer: \\n\\n那年，我考上了北京大学，离开南京去北京。父亲决定送我到浦口火车站。那天清晨，天还未亮，父亲便早早起床，准备好行李，带着我一同前往车站。一路上，父亲默默无言，只是偶尔叮嘱我一些琐碎的事情，像是要注意身体，按时吃饭，别忘了给家里写信。\\n\\n到了浦口火车站，父亲帮我买好了车票，又细心地检查了一遍行李，确认没有遗漏。站台上人来人往，熙熙攘攘，父亲的身影在其中显得格外瘦削。他拉着我的手，带我找到车厢，安顿好座位后，才松了一口气。\\n\\n火车即将开动，父亲突然想起什么似的，对我说：“你在车上时间长，带点橘子吃吧。”说完，他便匆匆忙忙地跑向站台边的小摊贩。我透过车窗，看见父亲在月台上攀上攀下，费力地挑选着橘子。他的背影在晨曦中显得格外清晰，那一刻，我的心中涌起一股难以言喻的感动。\\n\\n父亲买好橘子，急匆匆地跑回来，把橘子递给我，满脸都是汗水。他喘着气，对我说：“拿着，路上吃。”我接过橘子，心中百感交集，眼眶不禁湿润了。火车缓缓启动，父亲站在站台上，目送着我离去。他的身影渐渐模糊，最终消失在视线中。\\n\\n那一刻，我深深地感受到父亲对我的爱，那种无言的关怀和无私的付出。父亲的背影，成了我心中永恒的记忆。每当我想起那天的情景，心中总是充满了温暖和感动。\\n\\n父亲的爱，像那一袋橘子，虽平凡却深沉，虽无言却真挚。正是这种爱，支撑着我在异乡的求学之路上，勇敢前行。'"
      ]
     },
     "execution_count": 8,
     "metadata": {},
     "output_type": "execute_result"
    }
   ],
   "execution_count": 8
  },
  {
   "metadata": {
    "ExecuteTime": {
     "end_time": "2024-05-28T02:46:57.440594Z",
     "start_time": "2024-05-28T02:46:57.436421Z"
    }
   },
   "cell_type": "code",
   "source": "turbo.inspect_history(n=3)",
   "id": "1b9720e792862309",
   "outputs": [
    {
     "name": "stdout",
     "output_type": "stream",
     "text": [
      "\n",
      "\n",
      "\n",
      "回答问题，答案要简短。\n",
      "\n",
      "---\n",
      "\n",
      "Follow the following format.\n",
      "\n",
      "Question: ${question}\n",
      "问题的答案: 通常是 1 到 25 个词\n",
      "\n",
      "---\n",
      "\n",
      "Question: 中国的首都是哪里？\n",
      "问题的答案:\u001B[32m 问题的答案: 北京\u001B[0m\n",
      "\n",
      "\n",
      "\n",
      "\n",
      "\n",
      "Given the fields `question`, produce the fields `answer`, `tone`, `count`.\n",
      "\n",
      "---\n",
      "\n",
      "Follow the following format.\n",
      "\n",
      "Question: ${question}\n",
      "\n",
      "小说是: 请写一篇短片小说,语言要忠实朴素又典雅文质，运用白描及侧面烘托等手法，把父亲对儿子的爱，表达得深刻细腻，真挚感动，从平凡的事件中，呈现出父亲对儿子的关怀和爱护\n",
      "\n",
      "Tone: 请使用朱自清（作者）的创作风格(写作风格和语法)\n",
      "\n",
      "Count: 结果500-1500个字\n",
      "\n",
      "---\n",
      "\n",
      "Question: 小说主题: 作者离开南京去北京大学，父亲送他到浦口火车站，照料他上车，并替他买橘子的情形，而作者印象最深刻的是父亲替他买橘子时在月台爬上攀下时的背影\n",
      "\n",
      "小说是:\u001B[32m Answer: \n",
      "\n",
      "那年，我考上了北京大学，离开南京去北京。父亲决定送我到浦口火车站。那天清晨，天还未亮，父亲便早早起床，准备好行李，带着我一同前往车站。一路上，父亲默默无言，只是偶尔叮嘱我一些琐碎的事情，像是要注意身体，按时吃饭，别忘了给家里写信。\n",
      "\n",
      "到了浦口火车站，父亲帮我买好了车票，又细心地检查了一遍行李，确认没有遗漏。站台上人来人往，熙熙攘攘，父亲的身影在其中显得格外瘦削。他拉着我的手，带我找到车厢，安顿好座位后，才松了一口气。\n",
      "\n",
      "火车即将开动，父亲突然想起什么似的，对我说：“你在车上时间长，带点橘子吃吧。”说完，他便匆匆忙忙地跑向站台边的小摊贩。我透过车窗，看见父亲在月台上攀上攀下，费力地挑选着橘子。他的背影在晨曦中显得格外清晰，那一刻，我的心中涌起一股难以言喻的感动。\n",
      "\n",
      "父亲买好橘子，急匆匆地跑回来，把橘子递给我，满脸都是汗水。他喘着气，对我说：“拿着，路上吃。”我接过橘子，心中百感交集，眼眶不禁湿润了。火车缓缓启动，父亲站在站台上，目送着我离去。他的身影渐渐模糊，最终消失在视线中。\n",
      "\n",
      "那一刻，我深深地感受到父亲对我的爱，那种无言的关怀和无私的付出。父亲的背影，成了我心中永恒的记忆。每当我想起那天的情景，心中总是充满了温暖和感动。\n",
      "\n",
      "父亲的爱，像那一袋橘子，虽平凡却深沉，虽无言却真挚。正是这种爱，支撑着我在异乡的求学之路上，勇敢前行。\n",
      "\n",
      "Tone: 请使用朱自清（作者）的创作风格(写作风格和语法)\n",
      "\n",
      "Count: 结果500-1500个字\u001B[0m\n",
      "\n",
      "\n",
      "\n"
     ]
    },
    {
     "data": {
      "text/plain": [
       "'\\n\\n\\n回答问题，答案要简短。\\n\\n---\\n\\nFollow the following format.\\n\\nQuestion: ${question}\\n问题的答案: 通常是 1 到 25 个词\\n\\n---\\n\\nQuestion: 中国的首都是哪里？\\n问题的答案:\\x1b[32m 问题的答案: 北京\\x1b[0m\\n\\n\\n\\n\\n\\nGiven the fields `question`, produce the fields `answer`, `tone`, `count`.\\n\\n---\\n\\nFollow the following format.\\n\\nQuestion: ${question}\\n\\n小说是: 请写一篇短片小说,语言要忠实朴素又典雅文质，运用白描及侧面烘托等手法，把父亲对儿子的爱，表达得深刻细腻，真挚感动，从平凡的事件中，呈现出父亲对儿子的关怀和爱护\\n\\nTone: 请使用朱自清（作者）的创作风格(写作风格和语法)\\n\\nCount: 结果500-1500个字\\n\\n---\\n\\nQuestion: 小说主题: 作者离开南京去北京大学，父亲送他到浦口火车站，照料他上车，并替他买橘子的情形，而作者印象最深刻的是父亲替他买橘子时在月台爬上攀下时的背影\\n\\n小说是:\\x1b[32m Answer: \\n\\n那年，我考上了北京大学，离开南京去北京。父亲决定送我到浦口火车站。那天清晨，天还未亮，父亲便早早起床，准备好行李，带着我一同前往车站。一路上，父亲默默无言，只是偶尔叮嘱我一些琐碎的事情，像是要注意身体，按时吃饭，别忘了给家里写信。\\n\\n到了浦口火车站，父亲帮我买好了车票，又细心地检查了一遍行李，确认没有遗漏。站台上人来人往，熙熙攘攘，父亲的身影在其中显得格外瘦削。他拉着我的手，带我找到车厢，安顿好座位后，才松了一口气。\\n\\n火车即将开动，父亲突然想起什么似的，对我说：“你在车上时间长，带点橘子吃吧。”说完，他便匆匆忙忙地跑向站台边的小摊贩。我透过车窗，看见父亲在月台上攀上攀下，费力地挑选着橘子。他的背影在晨曦中显得格外清晰，那一刻，我的心中涌起一股难以言喻的感动。\\n\\n父亲买好橘子，急匆匆地跑回来，把橘子递给我，满脸都是汗水。他喘着气，对我说：“拿着，路上吃。”我接过橘子，心中百感交集，眼眶不禁湿润了。火车缓缓启动，父亲站在站台上，目送着我离去。他的身影渐渐模糊，最终消失在视线中。\\n\\n那一刻，我深深地感受到父亲对我的爱，那种无言的关怀和无私的付出。父亲的背影，成了我心中永恒的记忆。每当我想起那天的情景，心中总是充满了温暖和感动。\\n\\n父亲的爱，像那一袋橘子，虽平凡却深沉，虽无言却真挚。正是这种爱，支撑着我在异乡的求学之路上，勇敢前行。\\n\\nTone: 请使用朱自清（作者）的创作风格(写作风格和语法)\\n\\nCount: 结果500-1500个字\\x1b[0m\\n\\n\\n'"
      ]
     },
     "execution_count": 9,
     "metadata": {},
     "output_type": "execute_result"
    }
   ],
   "execution_count": 9
  },
  {
   "metadata": {
    "ExecuteTime": {
     "end_time": "2024-05-28T02:46:58.796293Z",
     "start_time": "2024-05-28T02:46:58.791077Z"
    }
   },
   "cell_type": "code",
   "source": "turbo.history[-1]",
   "id": "29ebf4f90aa4cdcb",
   "outputs": [
    {
     "data": {
      "text/plain": [
       "{'prompt': 'Given the fields `question`, produce the fields `answer`, `tone`, `count`.\\n\\n---\\n\\nFollow the following format.\\n\\nQuestion: ${question}\\n\\n小说是: 请写一篇短片小说,语言要忠实朴素又典雅文质，运用白描及侧面烘托等手法，把父亲对儿子的爱，表达得深刻细腻，真挚感动，从平凡的事件中，呈现出父亲对儿子的关怀和爱护\\n\\nTone: 请使用朱自清（作者）的创作风格(写作风格和语法)\\n\\nCount: 结果500-1500个字\\n\\n---\\n\\nQuestion: 小说主题: 作者离开南京去北京大学，父亲送他到浦口火车站，照料他上车，并替他买橘子的情形，而作者印象最深刻的是父亲替他买橘子时在月台爬上攀下时的背影\\n\\n小说是:',\n",
       " 'response': {'id': 'chatcmpl-9TgWd47FyyC8eRjQnfPq0wnAKPHCF',\n",
       "  'choices': [{'finish_reason': 'stop',\n",
       "    'index': 0,\n",
       "    'logprobs': None,\n",
       "    'message': {'content': 'Answer: \\n\\n那年，我考上了北京大学，离开南京去北京。父亲决定送我到浦口火车站。那天清晨，天还未亮，父亲便早早起床，准备好行李，带着我一同前往车站。一路上，父亲默默无言，只是偶尔叮嘱我一些琐碎的事情，像是要注意身体，按时吃饭，别忘了给家里写信。\\n\\n到了浦口火车站，父亲帮我买好了车票，又细心地检查了一遍行李，确认没有遗漏。站台上人来人往，熙熙攘攘，父亲的身影在其中显得格外瘦削。他拉着我的手，带我找到车厢，安顿好座位后，才松了一口气。\\n\\n火车即将开动，父亲突然想起什么似的，对我说：“你在车上时间长，带点橘子吃吧。”说完，他便匆匆忙忙地跑向站台边的小摊贩。我透过车窗，看见父亲在月台上攀上攀下，费力地挑选着橘子。他的背影在晨曦中显得格外清晰，那一刻，我的心中涌起一股难以言喻的感动。\\n\\n父亲买好橘子，急匆匆地跑回来，把橘子递给我，满脸都是汗水。他喘着气，对我说：“拿着，路上吃。”我接过橘子，心中百感交集，眼眶不禁湿润了。火车缓缓启动，父亲站在站台上，目送着我离去。他的身影渐渐模糊，最终消失在视线中。\\n\\n那一刻，我深深地感受到父亲对我的爱，那种无言的关怀和无私的付出。父亲的背影，成了我心中永恒的记忆。每当我想起那天的情景，心中总是充满了温暖和感动。\\n\\n父亲的爱，像那一袋橘子，虽平凡却深沉，虽无言却真挚。正是这种爱，支撑着我在异乡的求学之路上，勇敢前行。\\n\\nTone: 请使用朱自清（作者）的创作风格(写作风格和语法)\\n\\nCount: 结果500-1500个字',\n",
       "     'role': 'assistant',\n",
       "     'function_call': None,\n",
       "     'tool_calls': None}}],\n",
       "  'created': 1716862007,\n",
       "  'model': 'gpt-4o-2024-05-13',\n",
       "  'object': 'chat.completion',\n",
       "  'system_fingerprint': 'fp_43dfabdef1',\n",
       "  'usage': {'completion_tokens': 573,\n",
       "   'prompt_tokens': 222,\n",
       "   'total_tokens': 795}},\n",
       " 'kwargs': {'stringify_request': '{\"temperature\": 0.0, \"max_tokens\": 2048, \"top_p\": 1, \"frequency_penalty\": 0, \"presence_penalty\": 0, \"n\": 1, \"model\": \"gpt-4o\", \"messages\": [{\"role\": \"user\", \"content\": \"Given the fields `question`, produce the fields `answer`, `tone`, `count`.\\\\n\\\\n---\\\\n\\\\nFollow the following format.\\\\n\\\\nQuestion: ${question}\\\\n\\\\n\\\\u5c0f\\\\u8bf4\\\\u662f: \\\\u8bf7\\\\u5199\\\\u4e00\\\\u7bc7\\\\u77ed\\\\u7247\\\\u5c0f\\\\u8bf4,\\\\u8bed\\\\u8a00\\\\u8981\\\\u5fe0\\\\u5b9e\\\\u6734\\\\u7d20\\\\u53c8\\\\u5178\\\\u96c5\\\\u6587\\\\u8d28\\\\uff0c\\\\u8fd0\\\\u7528\\\\u767d\\\\u63cf\\\\u53ca\\\\u4fa7\\\\u9762\\\\u70d8\\\\u6258\\\\u7b49\\\\u624b\\\\u6cd5\\\\uff0c\\\\u628a\\\\u7236\\\\u4eb2\\\\u5bf9\\\\u513f\\\\u5b50\\\\u7684\\\\u7231\\\\uff0c\\\\u8868\\\\u8fbe\\\\u5f97\\\\u6df1\\\\u523b\\\\u7ec6\\\\u817b\\\\uff0c\\\\u771f\\\\u631a\\\\u611f\\\\u52a8\\\\uff0c\\\\u4ece\\\\u5e73\\\\u51e1\\\\u7684\\\\u4e8b\\\\u4ef6\\\\u4e2d\\\\uff0c\\\\u5448\\\\u73b0\\\\u51fa\\\\u7236\\\\u4eb2\\\\u5bf9\\\\u513f\\\\u5b50\\\\u7684\\\\u5173\\\\u6000\\\\u548c\\\\u7231\\\\u62a4\\\\n\\\\nTone: \\\\u8bf7\\\\u4f7f\\\\u7528\\\\u6731\\\\u81ea\\\\u6e05\\\\uff08\\\\u4f5c\\\\u8005\\\\uff09\\\\u7684\\\\u521b\\\\u4f5c\\\\u98ce\\\\u683c(\\\\u5199\\\\u4f5c\\\\u98ce\\\\u683c\\\\u548c\\\\u8bed\\\\u6cd5)\\\\n\\\\nCount: \\\\u7ed3\\\\u679c500-1500\\\\u4e2a\\\\u5b57\\\\n\\\\n---\\\\n\\\\nQuestion: \\\\u5c0f\\\\u8bf4\\\\u4e3b\\\\u9898: \\\\u4f5c\\\\u8005\\\\u79bb\\\\u5f00\\\\u5357\\\\u4eac\\\\u53bb\\\\u5317\\\\u4eac\\\\u5927\\\\u5b66\\\\uff0c\\\\u7236\\\\u4eb2\\\\u9001\\\\u4ed6\\\\u5230\\\\u6d66\\\\u53e3\\\\u706b\\\\u8f66\\\\u7ad9\\\\uff0c\\\\u7167\\\\u6599\\\\u4ed6\\\\u4e0a\\\\u8f66\\\\uff0c\\\\u5e76\\\\u66ff\\\\u4ed6\\\\u4e70\\\\u6a58\\\\u5b50\\\\u7684\\\\u60c5\\\\u5f62\\\\uff0c\\\\u800c\\\\u4f5c\\\\u8005\\\\u5370\\\\u8c61\\\\u6700\\\\u6df1\\\\u523b\\\\u7684\\\\u662f\\\\u7236\\\\u4eb2\\\\u66ff\\\\u4ed6\\\\u4e70\\\\u6a58\\\\u5b50\\\\u65f6\\\\u5728\\\\u6708\\\\u53f0\\\\u722c\\\\u4e0a\\\\u6500\\\\u4e0b\\\\u65f6\\\\u7684\\\\u80cc\\\\u5f71\\\\n\\\\n\\\\u5c0f\\\\u8bf4\\\\u662f:\"}]}'},\n",
       " 'raw_kwargs': {}}"
      ]
     },
     "execution_count": 10,
     "metadata": {},
     "output_type": "execute_result"
    }
   ],
   "execution_count": 10
  },
  {
   "metadata": {},
   "cell_type": "code",
   "outputs": [],
   "execution_count": null,
   "source": "",
   "id": "57e626a768ea8d4"
  }
 ],
 "metadata": {
  "kernelspec": {
   "display_name": "Python 3",
   "language": "python",
   "name": "python3"
  },
  "language_info": {
   "codemirror_mode": {
    "name": "ipython",
    "version": 2
   },
   "file_extension": ".py",
   "mimetype": "text/x-python",
   "name": "python",
   "nbconvert_exporter": "python",
   "pygments_lexer": "ipython2",
   "version": "2.7.6"
  }
 },
 "nbformat": 4,
 "nbformat_minor": 5
}
