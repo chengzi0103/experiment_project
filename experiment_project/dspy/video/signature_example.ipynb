{
 "cells": [
  {
   "cell_type": "code",
   "id": "initial_id",
   "metadata": {
    "collapsed": true,
    "jupyter": {
     "is_executing": true
    }
   },
   "source": [
    "from experiment_project.utils.initial.util import init_sys_env\n",
    "from experiment_project.utils.files.read import read_yaml\n",
    "import dspy\n",
    "from dspy.teleprompt import BootstrapFewShot\n",
    "\n",
    "from dspy.datasets.gsm8k import GSM8K, gsm8k_metric\n",
    "init_sys_env()\n",
    "secret_env_file = '/mnt/d/project/dy/extra/autogen/env_secret_config.yaml'\n",
    "\n",
    "api_configs = read_yaml(secret_env_file)\n",
    "model_config = api_configs.get('openai')\n",
    "turbo = dspy.OpenAI(model=model_config.get('model'), max_tokens=2048,api_key=model_config.get('api_key'))\n",
    "dspy.settings.configure(lm=turbo)\n"
   ],
   "execution_count": null,
   "outputs": []
  },
  {
   "metadata": {
    "ExecuteTime": {
     "end_time": "2024-05-27T03:02:53.224318Z",
     "start_time": "2024-05-27T03:02:53.220009Z"
    }
   },
   "cell_type": "code",
   "source": [
    "class BasicQA(dspy.Signature):\n",
    "  \"\"\"回答问题，答案要简短。\"\"\"\n",
    "  question = dspy.InputField()\n",
    "  answer = dspy.OutputField(desc=\"通常是 1 到 5 个词\", prefix=\"问题的答案:\") \n",
    "  "
   ],
   "id": "ff84cd591b2df331",
   "execution_count": 2,
   "outputs": []
  },
  {
   "metadata": {
    "ExecuteTime": {
     "end_time": "2024-05-27T03:10:50.036932Z",
     "start_time": "2024-05-27T03:10:50.032887Z"
    }
   },
   "cell_type": "code",
   "source": [
    "predictor = dspy.Predict(BasicQA)\n",
    "result = predictor.forward(question=\"1+1=?\")\n",
    "result.answer"
   ],
   "id": "6ebeabd6f6c9a1ee",
   "execution_count": 8,
   "outputs": []
  },
  {
   "metadata": {
    "ExecuteTime": {
     "end_time": "2024-05-27T03:06:02.295794Z",
     "start_time": "2024-05-27T03:06:02.291528Z"
    }
   },
   "cell_type": "code",
   "source": "turbo.history[-1]",
   "id": "37f66fa42bcb7f30",
   "execution_count": 5,
   "outputs": []
  },
  {
   "metadata": {
    "ExecuteTime": {
     "end_time": "2024-05-27T03:06:35.649020Z",
     "start_time": "2024-05-27T03:06:35.644491Z"
    }
   },
   "cell_type": "code",
   "source": "turbo.inspect_history(n=1)",
   "id": "7c3eb4bf49cf45a",
   "execution_count": 7,
   "outputs": []
  },
  {
   "metadata": {
    "ExecuteTime": {
     "end_time": "2024-05-27T03:22:25.769092Z",
     "start_time": "2024-05-27T03:22:25.765008Z"
    }
   },
   "cell_type": "code",
   "source": [
    "\n",
    "\n",
    "class Writer(dspy.Signature):\n",
    "  question = dspy.InputField()\n",
    "  answer = dspy.OutputField(desc=\"通常是一段话,并且详细的说明为什么?\")\n",
    "  tone = dspy.OutputField(desc=\"使用鲁迅先生的语气和语法回答这段话\")\n",
    "  "
   ],
   "id": "13b011df9a1a0c6",
   "execution_count": 17,
   "outputs": []
  },
  {
   "metadata": {
    "ExecuteTime": {
     "end_time": "2024-05-27T03:22:29.213576Z",
     "start_time": "2024-05-27T03:22:26.225176Z"
    }
   },
   "cell_type": "code",
   "source": [
    "writer_predictor = dspy.Predict(Writer)\n",
    "writer_result = writer_predictor.forward(question=\"如何评价阿Q精神\")\n",
    "writer_result.answer"
   ],
   "id": "1341415d58dc26df",
   "execution_count": 18,
   "outputs": []
  },
  {
   "metadata": {
    "ExecuteTime": {
     "end_time": "2024-05-27T03:28:16.383149Z",
     "start_time": "2024-05-27T03:28:16.378945Z"
    }
   },
   "cell_type": "code",
   "source": "turbo.history[-1]",
   "id": "b38fa3e98bc2f949",
   "execution_count": 21,
   "outputs": []
  },
  {
   "metadata": {
    "ExecuteTime": {
     "end_time": "2024-05-27T03:23:27.561994Z",
     "start_time": "2024-05-27T03:23:27.557854Z"
    }
   },
   "cell_type": "code",
   "source": "turbo.inspect_history(n=1)\n",
   "id": "a8e4f8bf1da41882",
   "execution_count": 20,
   "outputs": []
  },
  {
   "metadata": {},
   "cell_type": "code",
   "execution_count": null,
   "source": "",
   "id": "5a5faaa297db431e",
   "outputs": []
  }
 ],
 "metadata": {
  "kernelspec": {
   "display_name": "Python 3",
   "language": "python",
   "name": "python3"
  },
  "language_info": {
   "codemirror_mode": {
    "name": "ipython",
    "version": 2
   },
   "file_extension": ".py",
   "mimetype": "text/x-python",
   "name": "python",
   "nbconvert_exporter": "python",
   "pygments_lexer": "ipython2",
   "version": "2.7.6"
  }
 },
 "nbformat": 4,
 "nbformat_minor": 5
}
