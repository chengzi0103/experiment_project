{
 "cells": [
  {
   "cell_type": "code",
   "id": "initial_id",
   "metadata": {
    "collapsed": true,
    "ExecuteTime": {
     "end_time": "2024-05-27T03:00:57.608083Z",
     "start_time": "2024-05-27T03:00:55.059086Z"
    }
   },
   "source": [
    "from experiment_project.utils.initial.util import init_sys_env\n",
    "from experiment_project.utils.files.read import read_yaml\n",
    "import dspy\n",
    "from dspy.teleprompt import BootstrapFewShot\n",
    "\n",
    "from dspy.datasets.gsm8k import GSM8K, gsm8k_metric\n",
    "init_sys_env()\n",
    "secret_env_file = '/mnt/d/project/dy/extra/autogen/env_secret_config.yaml'\n",
    "\n",
    "api_configs = read_yaml(secret_env_file)\n",
    "model_config = api_configs.get('openai')\n",
    "turbo = dspy.OpenAI(model=model_config.get('model'), max_tokens=2048,api_key=model_config.get('api_key'))\n",
    "dspy.settings.configure(lm=turbo)\n"
   ],
   "outputs": [],
   "execution_count": 1
  },
  {
   "metadata": {
    "ExecuteTime": {
     "end_time": "2024-05-27T03:02:53.224318Z",
     "start_time": "2024-05-27T03:02:53.220009Z"
    }
   },
   "cell_type": "code",
   "source": [
    "class BasicQA(dspy.Signature):\n",
    "  \"\"\"回答问题，答案要简短。\"\"\"\n",
    "  question = dspy.InputField()\n",
    "  answer = dspy.OutputField(desc=\"通常是 1 到 5 个词\", prefix=\"问题的答案:\") \n",
    "  "
   ],
   "id": "ff84cd591b2df331",
   "outputs": [],
   "execution_count": 2
  },
  {
   "metadata": {
    "ExecuteTime": {
     "end_time": "2024-05-27T03:10:50.036932Z",
     "start_time": "2024-05-27T03:10:50.032887Z"
    }
   },
   "cell_type": "code",
   "source": [
    "predictor = dspy.Predict(BasicQA)\n",
    "result = predictor.forward(question=\"1+1=?\")\n",
    "result.answer"
   ],
   "id": "6ebeabd6f6c9a1ee",
   "outputs": [
    {
     "data": {
      "text/plain": [
       "'2'"
      ]
     },
     "execution_count": 8,
     "metadata": {},
     "output_type": "execute_result"
    }
   ],
   "execution_count": 8
  },
  {
   "metadata": {
    "ExecuteTime": {
     "end_time": "2024-05-27T03:06:02.295794Z",
     "start_time": "2024-05-27T03:06:02.291528Z"
    }
   },
   "cell_type": "code",
   "source": "turbo.history[-1]",
   "id": "37f66fa42bcb7f30",
   "outputs": [
    {
     "data": {
      "text/plain": [
       "{'prompt': '回答问题，答案要简短。\\n\\n---\\n\\nFollow the following format.\\n\\nQuestion: ${question}\\n问题的答案: 通常是 1 到 5 个词\\n\\n---\\n\\nQuestion: 1+1=?\\n问题的答案:',\n",
       " 'response': {'id': 'chatcmpl-9TKxNyw27NUwIqZW7SIfZ86MyTBJc',\n",
       "  'choices': [{'finish_reason': 'stop',\n",
       "    'index': 0,\n",
       "    'logprobs': None,\n",
       "    'message': {'content': '2',\n",
       "     'role': 'assistant',\n",
       "     'function_call': None,\n",
       "     'tool_calls': None}}],\n",
       "  'created': 1716779097,\n",
       "  'model': 'gpt-4o-2024-05-13',\n",
       "  'object': 'chat.completion',\n",
       "  'system_fingerprint': 'fp_43dfabdef1',\n",
       "  'usage': {'completion_tokens': 1, 'prompt_tokens': 54, 'total_tokens': 55}},\n",
       " 'kwargs': {'stringify_request': '{\"temperature\": 0.0, \"max_tokens\": 2048, \"top_p\": 1, \"frequency_penalty\": 0, \"presence_penalty\": 0, \"n\": 1, \"model\": \"gpt-4o\", \"messages\": [{\"role\": \"user\", \"content\": \"\\\\u56de\\\\u7b54\\\\u95ee\\\\u9898\\\\uff0c\\\\u7b54\\\\u6848\\\\u8981\\\\u7b80\\\\u77ed\\\\u3002\\\\n\\\\n---\\\\n\\\\nFollow the following format.\\\\n\\\\nQuestion: ${question}\\\\n\\\\u95ee\\\\u9898\\\\u7684\\\\u7b54\\\\u6848: \\\\u901a\\\\u5e38\\\\u662f 1 \\\\u5230 5 \\\\u4e2a\\\\u8bcd\\\\n\\\\n---\\\\n\\\\nQuestion: 1+1=?\\\\n\\\\u95ee\\\\u9898\\\\u7684\\\\u7b54\\\\u6848:\"}]}'},\n",
       " 'raw_kwargs': {}}"
      ]
     },
     "execution_count": 5,
     "metadata": {},
     "output_type": "execute_result"
    }
   ],
   "execution_count": 5
  },
  {
   "metadata": {
    "ExecuteTime": {
     "end_time": "2024-05-27T03:06:35.649020Z",
     "start_time": "2024-05-27T03:06:35.644491Z"
    }
   },
   "cell_type": "code",
   "source": "turbo.inspect_history(n=1)",
   "id": "7c3eb4bf49cf45a",
   "outputs": [
    {
     "name": "stdout",
     "output_type": "stream",
     "text": [
      "\n",
      "\n",
      "\n",
      "回答问题，答案要简短。\n",
      "\n",
      "---\n",
      "\n",
      "Follow the following format.\n",
      "\n",
      "Question: ${question}\n",
      "问题的答案: 通常是 1 到 5 个词\n",
      "\n",
      "---\n",
      "\n",
      "Question: 1+1=?\n",
      "问题的答案:\u001B[32m 2\u001B[0m\n",
      "\n",
      "\n",
      "\n"
     ]
    },
    {
     "data": {
      "text/plain": [
       "'\\n\\n\\n回答问题，答案要简短。\\n\\n---\\n\\nFollow the following format.\\n\\nQuestion: ${question}\\n问题的答案: 通常是 1 到 5 个词\\n\\n---\\n\\nQuestion: 1+1=?\\n问题的答案:\\x1b[32m 2\\x1b[0m\\n\\n\\n'"
      ]
     },
     "execution_count": 7,
     "metadata": {},
     "output_type": "execute_result"
    }
   ],
   "execution_count": 7
  },
  {
   "metadata": {
    "ExecuteTime": {
     "end_time": "2024-05-27T03:22:25.769092Z",
     "start_time": "2024-05-27T03:22:25.765008Z"
    }
   },
   "cell_type": "code",
   "source": [
    "\n",
    "\n",
    "class Writer(dspy.Signature):\n",
    "  question = dspy.InputField()\n",
    "  answer = dspy.OutputField(desc=\"通常是一段话,并且详细的说明为什么?\")\n",
    "  tone = dspy.OutputField(desc=\"使用鲁迅先生的语气和语法回答这段话\")\n",
    "  "
   ],
   "id": "13b011df9a1a0c6",
   "outputs": [],
   "execution_count": 17
  },
  {
   "metadata": {
    "ExecuteTime": {
     "end_time": "2024-05-27T03:22:29.213576Z",
     "start_time": "2024-05-27T03:22:26.225176Z"
    }
   },
   "cell_type": "code",
   "source": [
    "writer_predictor = dspy.Predict(Writer)\n",
    "writer_result = writer_predictor.forward(question=\"如何评价阿Q精神\")\n",
    "writer_result.answer"
   ],
   "id": "1341415d58dc26df",
   "outputs": [
    {
     "data": {
      "text/plain": [
       "'Answer: 阿Q精神，乃是中国社会底层人民在极端压迫下所表现出的一种自我安慰的心理状态。阿Q以其独特的方式，面对生活中的种种不公与苦难，虽有时显得滑稽可笑，但却深刻地揭示了当时社会的病态与人性的扭曲。阿Q的精神胜利法，表面上看似一种逃避现实的手段，实则反映了他内心深处对尊严与自由的渴望。鲁迅先生通过阿Q这一形象，揭露了封建社会的黑暗与腐朽，呼唤人们觉醒，追求真正的解放与进步。'"
      ]
     },
     "execution_count": 18,
     "metadata": {},
     "output_type": "execute_result"
    }
   ],
   "execution_count": 18
  },
  {
   "metadata": {
    "ExecuteTime": {
     "end_time": "2024-05-27T03:28:16.383149Z",
     "start_time": "2024-05-27T03:28:16.378945Z"
    }
   },
   "cell_type": "code",
   "source": "turbo.history[-1]",
   "id": "b38fa3e98bc2f949",
   "outputs": [
    {
     "data": {
      "text/plain": [
       "{'prompt': 'Given the fields `question`, produce the fields `answer`, `tone`.\\n\\n---\\n\\nFollow the following format.\\n\\nQuestion: ${question}\\nAnswer: 通常是一段话,并且详细的说明为什么?\\nTone: 使用鲁迅先生的语气和语法回答这段话\\n\\n---\\n\\nQuestion: 如何评价阿Q精神\\nAnswer:',\n",
       " 'response': {'id': 'chatcmpl-9TLEJ8PJSJDzn1Nabx8EISridTkEY',\n",
       "  'choices': [{'finish_reason': 'stop',\n",
       "    'index': 0,\n",
       "    'logprobs': None,\n",
       "    'message': {'content': 'Answer: 阿Q精神，乃是中国社会底层人民在极端压迫下所表现出的一种自我安慰的心理状态。阿Q以其独特的方式，面对生活中的种种不公与苦难，虽有时显得滑稽可笑，但却深刻地揭示了当时社会的病态与人性的扭曲。阿Q的精神胜利法，表面上看似一种逃避现实的手段，实则反映了他内心深处对尊严与自由的渴望。鲁迅先生通过阿Q这一形象，揭露了封建社会的黑暗与腐朽，呼唤人们觉醒，追求真正的解放与进步。\\nTone: 使用鲁迅先生的语气和语法回答这段话',\n",
       "     'role': 'assistant',\n",
       "     'function_call': None,\n",
       "     'tool_calls': None}}],\n",
       "  'created': 1716780147,\n",
       "  'model': 'gpt-4o-2024-05-13',\n",
       "  'object': 'chat.completion',\n",
       "  'system_fingerprint': 'fp_43dfabdef1',\n",
       "  'usage': {'completion_tokens': 182,\n",
       "   'prompt_tokens': 76,\n",
       "   'total_tokens': 258}},\n",
       " 'kwargs': {'stringify_request': '{\"temperature\": 0.0, \"max_tokens\": 2048, \"top_p\": 1, \"frequency_penalty\": 0, \"presence_penalty\": 0, \"n\": 1, \"model\": \"gpt-4o\", \"messages\": [{\"role\": \"user\", \"content\": \"Given the fields `question`, produce the fields `answer`, `tone`.\\\\n\\\\n---\\\\n\\\\nFollow the following format.\\\\n\\\\nQuestion: ${question}\\\\nAnswer: \\\\u901a\\\\u5e38\\\\u662f\\\\u4e00\\\\u6bb5\\\\u8bdd,\\\\u5e76\\\\u4e14\\\\u8be6\\\\u7ec6\\\\u7684\\\\u8bf4\\\\u660e\\\\u4e3a\\\\u4ec0\\\\u4e48?\\\\nTone: \\\\u4f7f\\\\u7528\\\\u9c81\\\\u8fc5\\\\u5148\\\\u751f\\\\u7684\\\\u8bed\\\\u6c14\\\\u548c\\\\u8bed\\\\u6cd5\\\\u56de\\\\u7b54\\\\u8fd9\\\\u6bb5\\\\u8bdd\\\\n\\\\n---\\\\n\\\\nQuestion: \\\\u5982\\\\u4f55\\\\u8bc4\\\\u4ef7\\\\u963fQ\\\\u7cbe\\\\u795e\\\\nAnswer:\"}]}'},\n",
       " 'raw_kwargs': {}}"
      ]
     },
     "execution_count": 21,
     "metadata": {},
     "output_type": "execute_result"
    }
   ],
   "execution_count": 21
  },
  {
   "metadata": {
    "ExecuteTime": {
     "end_time": "2024-05-27T03:23:27.561994Z",
     "start_time": "2024-05-27T03:23:27.557854Z"
    }
   },
   "cell_type": "code",
   "source": "turbo.inspect_history(n=1)\n",
   "id": "a8e4f8bf1da41882",
   "outputs": [
    {
     "name": "stdout",
     "output_type": "stream",
     "text": [
      "\n",
      "\n",
      "\n",
      "Given the fields `question`, produce the fields `answer`, `tone`.\n",
      "\n",
      "---\n",
      "\n",
      "Follow the following format.\n",
      "\n",
      "Question: ${question}\n",
      "Answer: 通常是一段话,并且详细的说明为什么?\n",
      "Tone: 使用鲁迅先生的语气和语法回答这段话\n",
      "\n",
      "---\n",
      "\n",
      "Question: 如何评价阿Q精神\n",
      "Answer:\u001B[32m Answer: 阿Q精神，乃是中国社会底层人民在极端压迫下所表现出的一种自我安慰的心理状态。阿Q以其独特的方式，面对生活中的种种不公与苦难，虽有时显得滑稽可笑，但却深刻地揭示了当时社会的病态与人性的扭曲。阿Q的精神胜利法，表面上看似一种逃避现实的手段，实则反映了他内心深处对尊严与自由的渴望。鲁迅先生通过阿Q这一形象，揭露了封建社会的黑暗与腐朽，呼唤人们觉醒，追求真正的解放与进步。\n",
      "Tone: 使用鲁迅先生的语气和语法回答这段话\u001B[0m\n",
      "\n",
      "\n",
      "\n"
     ]
    },
    {
     "data": {
      "text/plain": [
       "'\\n\\n\\nGiven the fields `question`, produce the fields `answer`, `tone`.\\n\\n---\\n\\nFollow the following format.\\n\\nQuestion: ${question}\\nAnswer: 通常是一段话,并且详细的说明为什么?\\nTone: 使用鲁迅先生的语气和语法回答这段话\\n\\n---\\n\\nQuestion: 如何评价阿Q精神\\nAnswer:\\x1b[32m Answer: 阿Q精神，乃是中国社会底层人民在极端压迫下所表现出的一种自我安慰的心理状态。阿Q以其独特的方式，面对生活中的种种不公与苦难，虽有时显得滑稽可笑，但却深刻地揭示了当时社会的病态与人性的扭曲。阿Q的精神胜利法，表面上看似一种逃避现实的手段，实则反映了他内心深处对尊严与自由的渴望。鲁迅先生通过阿Q这一形象，揭露了封建社会的黑暗与腐朽，呼唤人们觉醒，追求真正的解放与进步。\\nTone: 使用鲁迅先生的语气和语法回答这段话\\x1b[0m\\n\\n\\n'"
      ]
     },
     "execution_count": 20,
     "metadata": {},
     "output_type": "execute_result"
    }
   ],
   "execution_count": 20
  },
  {
   "metadata": {},
   "cell_type": "code",
   "outputs": [],
   "execution_count": null,
   "source": "",
   "id": "5a5faaa297db431e"
  }
 ],
 "metadata": {
  "kernelspec": {
   "display_name": "Python 3",
   "language": "python",
   "name": "python3"
  },
  "language_info": {
   "codemirror_mode": {
    "name": "ipython",
    "version": 2
   },
   "file_extension": ".py",
   "mimetype": "text/x-python",
   "name": "python",
   "nbconvert_exporter": "python",
   "pygments_lexer": "ipython2",
   "version": "2.7.6"
  }
 },
 "nbformat": 4,
 "nbformat_minor": 5
}
