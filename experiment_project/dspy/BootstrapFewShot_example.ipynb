{
 "cells": [
  {
   "cell_type": "code",
   "id": "initial_id",
   "metadata": {
    "collapsed": true,
    "ExecuteTime": {
     "end_time": "2024-05-24T07:22:04.520617Z",
     "start_time": "2024-05-24T07:22:04.514059Z"
    }
   },
   "source": [
    "from experiment_project.utils.initial.util import init_sys_env\n",
    "from experiment_project.utils.files.read import read_yaml\n",
    "import dspy\n",
    "from dspy.teleprompt import BootstrapFewShot\n",
    "\n",
    "from dspy.datasets.gsm8k import GSM8K, gsm8k_metric\n",
    "init_sys_env()\n",
    "secret_env_file = '/mnt/d/project/dy/extra/autogen/env_secret_config.yaml'\n",
    "\n",
    "api_configs = read_yaml(secret_env_file)\n",
    "model_config = api_configs.get('openai')\n",
    "turbo = dspy.OpenAI(model=model_config.get('model'), max_tokens=1024,api_key=model_config.get('api_key'))\n",
    "dspy.settings.configure(lm=turbo)\n"
   ],
   "execution_count": 28,
   "outputs": []
  },
  {
   "metadata": {
    "ExecuteTime": {
     "end_time": "2024-05-24T07:23:17.468823Z",
     "start_time": "2024-05-24T07:23:17.465072Z"
    }
   },
   "cell_type": "code",
   "source": [
    "# 构建训练数据集\n",
    "trainset = [\n",
    "    {\"question\": \"中国的首都是哪里？\", \"answer\": \"北京\"},\n",
    "    {\"question\": \"《红楼梦》的作者是谁？\", \"answer\": \"曹雪芹\"},\n",
    "    {\"question\": \"太阳系中最大的行星是什么？\", \"answer\": \"木星\"},\n",
    "    {\"question\": \"水的沸点是多少摄氏度？\", \"answer\": \"100度\"},\n",
    "    {\"question\": \"蒙娜丽莎的画家是谁？\", \"answer\": \"达芬奇\"},\n",
    "    {\"question\": \"最小的质数是什么？\", \"answer\": \"2\"},\n",
    "    {\"question\": \"金的化学符号是什么？\", \"answer\": \"Au\"},\n",
    "    {\"question\": \"特斯拉的CEO是谁？\", \"answer\": \"埃隆·马斯克\"},\n",
    "]\n",
    "\n",
    "# 构建验证数据集\n",
    "devset = [\n",
    "    {\"question\": \"德国的首都是哪里？\", \"answer\": \"柏林\"},\n",
    "    {\"question\": \"《1984》的作者是谁？\", \"answer\": \"乔治·奥威尔\"},\n",
    "    {\"question\": \"地球上最大的海洋是什么？\", \"answer\": \"太平洋\"},\n",
    "    {\"question\": \"水的冰点是多少摄氏度？\", \"answer\": \"0度\"},\n",
    "    {\"question\": \"《星夜》的画家是谁？\", \"answer\": \"梵高\"},\n",
    "]\n",
    "trainset = [dspy.Example(i).with_inputs('question') for i in trainset]\n",
    "devset = [dspy.Example(i).with_inputs('question') for i in devset]"
   ],
   "id": "9f97da1d690ab69",
   "execution_count": 29,
   "outputs": []
  },
  {
   "metadata": {
    "ExecuteTime": {
     "end_time": "2024-05-24T03:11:14.055644Z",
     "start_time": "2024-05-24T03:11:14.051961Z"
    }
   },
   "cell_type": "code",
   "source": [
    "# # 构建训练数据集\n",
    "# trainset = [\n",
    "#     {\n",
    "#         \"question\": \"为什么清王朝会灭亡？\",\n",
    "#         \"answer\": \"多种原因，包括内部腐败、外部侵略和农民起义。\",\n",
    "#         \"chain_of_thought\": \"清王朝在19世纪面临严重的内部腐败问题，官员贪污腐败导致国家治理能力下降。同时，外部列强的侵略使得清政府签订了一系列不平等条约，国力进一步衰弱。最后，农民起义如太平天国运动进一步动摇了清政府的统治基础，最终导致清王朝的灭亡。\"\n",
    "#     },\n",
    "#     {\n",
    "#         \"question\": \"为什么二战中德国没有胜利？\",\n",
    "#         \"answer\": \"多种原因，包括战略错误、资源不足和盟军的强大反攻。\",\n",
    "#         \"chain_of_thought\": \"德国在二战中犯了多次战略错误，如进攻苏联导致两线作战，严重消耗了德国的军力和资源。同时，德国的资源不足以支撑长期战争，特别是在盟军的海上封锁下，物资供应极为困难。最后，盟军的强大反攻，如诺曼底登陆和苏联的东线反攻，彻底击溃了德国的抵抗力量，导致德国的失败。\"\n",
    "#     },\n",
    "#     {\n",
    "#         \"question\": \"美国为什么能够赢得独立战争？\",\n",
    "#         \"answer\": \"多种原因，包括法国的支持、英国的战略失误和美国的顽强抵抗。\",\n",
    "#         \"chain_of_thought\": \"美国在独立战争中得到了法国的军事和经济支持，大大增强了其战斗力。英国在战争中的战略失误，如未能有效控制南方战场，导致其处于被动局面。同时，美国人民的顽强抵抗和对自由的渴望，使得他们在面对强敌时依然坚持不懈，最终赢得了独立战争的胜利。\"\n",
    "#     }\n",
    "# ]\n",
    "# \n",
    "# # 构建验证数据集\n",
    "# devset = [\n",
    "#     {\n",
    "#         \"question\": \"为什么法国大革命会爆发？\",\n",
    "#         \"answer\": \"多种原因，包括经济危机、社会不平等和启蒙思想的传播。\",\n",
    "#         \"chain_of_thought\": \"法国大革命的爆发有多种原因。首先，法国在18世纪末期面临严重的经济危机，政府财政赤字巨大，国家债务高企。其次，社会不平等现象严重，第三等级（包括农民和市民）承担了沉重的税负，而贵族和教士享有特权。最后，启蒙思想的传播激发了人民对自由和平等的向往，促使他们起来反抗旧制度，最终引发了法国大革命。\"\n",
    "#     },\n",
    "#     {\n",
    "#         \"question\": \"为什么罗马帝国会衰亡？\",\n",
    "#         \"answer\": \"多种原因，包括内部腐败、外部入侵和经济衰退。\",\n",
    "#         \"chain_of_thought\": \"罗马帝国的衰亡有多种原因。内部腐败是一个重要因素，官员的贪污腐败削弱了国家的治理能力。外部入侵，如日耳曼部落的入侵，加速了罗马帝国的崩溃。经济衰退也是一个重要原因，随着领土的扩张，维护庞大帝国的成本不断增加，而经济发展却停滞不前，最终导致罗马帝国的衰亡。\"\n",
    "#     }\n",
    "# ]\n",
    "# \n",
    "# trainset = [dspy.Example(i).with_inputs('question') for i in trainset]\n",
    "# devset = [dspy.Example(i).with_inputs('question') for i in devset]\n"
   ],
   "id": "22f9888690477e08",
   "execution_count": 19,
   "outputs": []
  },
  {
   "metadata": {
    "ExecuteTime": {
     "end_time": "2024-05-24T07:23:21.429078Z",
     "start_time": "2024-05-24T07:23:21.425363Z"
    }
   },
   "cell_type": "code",
   "source": "trainset[0]",
   "id": "6ca27a43898690d3",
   "execution_count": 30,
   "outputs": []
  },
  {
   "metadata": {
    "ExecuteTime": {
     "end_time": "2024-05-24T07:30:43.564300Z",
     "start_time": "2024-05-24T07:30:43.561544Z"
    }
   },
   "cell_type": "code",
   "source": [
    "from dspy.evaluate import Evaluate\n",
    "\n",
    "def simple_metric(example, pred,*args,**kwargs):\n",
    "    return example['answer'].lower() == pred['answer'].lower()\n",
    "\n",
    "\n",
    "evaluate = Evaluate(devset=devset, metric=simple_metric, num_threads=8, display_progress=True, display_table=False)"
   ],
   "id": "2272c670e397d333",
   "execution_count": 31,
   "outputs": []
  },
  {
   "metadata": {
    "ExecuteTime": {
     "end_time": "2024-05-24T07:30:44.515128Z",
     "start_time": "2024-05-24T07:30:44.512182Z"
    }
   },
   "cell_type": "code",
   "source": [
    "# 环境设置完成后，让我们定义一个自定义程序，利用 ChainOfThought 模块执行逐步推理以生成答案：\n",
    "\n",
    "class CoT(dspy.Module):\n",
    "    def __init__(self):\n",
    "        super().__init__()\n",
    "        self.prog = dspy.ChainOfThought(\"question -> answer\")\n",
    "    \n",
    "    def forward(self, question):\n",
    "        return self.prog(question=question)\n"
   ],
   "id": "a9a32dce51c29b7c",
   "execution_count": 32,
   "outputs": []
  },
  {
   "metadata": {
    "ExecuteTime": {
     "end_time": "2024-05-24T07:34:12.912793Z",
     "start_time": "2024-05-24T07:34:12.901429Z"
    }
   },
   "cell_type": "code",
   "source": [
    "import dspy\n",
    "from dspy.evaluate import Evaluate\n",
    "from dspy.teleprompt import BootstrapFewShot\n",
    "\n",
    "# 使用 BootstrapFewShot 进行优化\n",
    "config = dict(max_bootstrapped_demos=4, max_labeled_demos=4)\n",
    "teleprompter = BootstrapFewShot(metric=simple_metric, **config)\n",
    "\n",
    "# 为每个训练样本设置输入值\n",
    "\n",
    "# 使用设置了输入值的训练集进行优化\n",
    "optimized_cot = teleprompter.compile(CoT(), trainset=trainset)\n",
    "optimized_cot.save('optimized_cot.json')\n",
    "\n"
   ],
   "id": "53ae472701c74fe6",
   "execution_count": 38,
   "outputs": []
  },
  {
   "metadata": {
    "ExecuteTime": {
     "end_time": "2024-05-24T07:34:29.657709Z",
     "start_time": "2024-05-24T07:34:29.646298Z"
    }
   },
   "cell_type": "code",
   "source": "evaluate(optimized_cot)",
   "id": "db35429629c1703a",
   "execution_count": 39,
   "outputs": []
  },
  {
   "metadata": {
    "ExecuteTime": {
     "end_time": "2024-05-24T07:34:58.797518Z",
     "start_time": "2024-05-24T07:34:58.794160Z"
    }
   },
   "cell_type": "code",
   "source": [
    "question = \"美国的金融中心是那个城市?\"\n",
    "result = optimized_cot(question=question)\n",
    "print(f\"问题: {question}\")\n",
    "print(f\"最终预测答案: {result.answer}\")\n",
    "\n"
   ],
   "id": "1f0b6a2da853c142",
   "execution_count": 40,
   "outputs": []
  },
  {
   "metadata": {
    "ExecuteTime": {
     "end_time": "2024-05-24T09:02:20.203002Z",
     "start_time": "2024-05-24T09:02:20.199678Z"
    }
   },
   "cell_type": "code",
   "source": "turbo.history[-1]",
   "id": "e95adbdaba128f6e",
   "execution_count": 43,
   "outputs": []
  },
  {
   "metadata": {
    "ExecuteTime": {
     "end_time": "2024-05-24T09:02:25.556349Z",
     "start_time": "2024-05-24T09:02:25.552278Z"
    }
   },
   "cell_type": "code",
   "source": "turbo.inspect_history(n=1)",
   "id": "e20d43e0a0a2ca10",
   "execution_count": 44,
   "outputs": []
  },
  {
   "metadata": {},
   "cell_type": "code",
   "source": "",
   "id": "e0d9b4e96cca2b69",
   "execution_count": null,
   "outputs": []
  }
 ],
 "metadata": {
  "kernelspec": {
   "display_name": "Python 3",
   "language": "python",
   "name": "python3"
  },
  "language_info": {
   "codemirror_mode": {
    "name": "ipython",
    "version": 2
   },
   "file_extension": ".py",
   "mimetype": "text/x-python",
   "name": "python",
   "nbconvert_exporter": "python",
   "pygments_lexer": "ipython2",
   "version": "2.7.6"
  }
 },
 "nbformat": 4,
 "nbformat_minor": 5
}
