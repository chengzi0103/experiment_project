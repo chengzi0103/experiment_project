{
 "cells": [
  {
   "cell_type": "code",
   "id": "initial_id",
   "metadata": {
    "collapsed": true,
    "ExecuteTime": {
     "end_time": "2024-05-22T08:46:28.842238Z",
     "start_time": "2024-05-22T08:46:28.836474Z"
    }
   },
   "source": [
    "from experiment_project.utils.initial.util import init_sys_env\n",
    "from experiment_project.utils.files.read import read_yaml\n",
    "import dspy\n",
    "init_sys_env()\n",
    "secret_env_file = '/mnt/d/project/dy/extra/autogen/env_secret_config.yaml'\n",
    "\n",
    "api_configs = read_yaml(secret_env_file)\n",
    "model_config = api_configs.get('openai')\n",
    "turbo = dspy.OpenAI(model=model_config.get('model'), max_tokens=520,api_key=model_config.get('api_key'))\n",
    "dspy.settings.configure(lm=turbo)"
   ],
   "outputs": [],
   "execution_count": 31
  },
  {
   "metadata": {
    "ExecuteTime": {
     "end_time": "2024-05-22T06:59:36.228568Z",
     "start_time": "2024-05-22T06:59:36.221951Z"
    }
   },
   "cell_type": "code",
   "source": [
    "import dspy\n",
    "\n",
    "# 定义 Signature\n",
    "class BasicQA(dspy.Signature):\n",
    "    \"\"\"回答问题，答案要简短。\"\"\"\n",
    "    question = dspy.InputField()\n",
    "    answer = dspy.OutputField(desc=\"通常是 1 到 25 个词\", prefix=\"问题的答案:\")\n",
    "\n",
    "# 创建任务模块\n",
    "class QAModule(dspy.Module):\n",
    "    def __init__(self):\n",
    "        super().__init__()\n",
    "        # 使用 BasicQA Signature 定义任务\n",
    "        self.qa_task = dspy.Predict(BasicQA)\n",
    "\n",
    "    def forward(self, question):\n",
    "        # 执行任务并返回结果\n",
    "        return self.qa_task(question=question)\n",
    "\n",
    "# 设置语言模型\n",
    "\n",
    "# 创建 QAModule 实例\n",
    "qa_module = QAModule()\n",
    "\n",
    "# 定义问题\n",
    "question = \"成都最好吃的食物是什么？\"\n",
    "\n",
    "# 执行任务并获取答案\n",
    "response = qa_module.forward(question)\n",
    "\n",
    "print(response.answer)  # 输出答案，例如 \"问题的答案: 珠穆朗玛峰\"\n",
    "turbo.inspect_history(n=1)\n",
    "# 查看历史记录\n",
    "\n"
   ],
   "id": "1b9c02cfdc171920",
   "outputs": [
    {
     "name": "stdout",
     "output_type": "stream",
     "text": [
      "火锅。\n",
      "\n",
      "\n",
      "\n",
      "回答问题，答案要简短。\n",
      "\n",
      "---\n",
      "\n",
      "Follow the following format.\n",
      "\n",
      "Question: ${question}\n",
      "问题的答案: 通常是 1 到 25 个词\n",
      "\n",
      "---\n",
      "\n",
      "Question: 成都最好吃的食物是什么？\n",
      "问题的答案:\u001B[32m 火锅。\u001B[0m\n",
      "\n",
      "\n",
      "\n"
     ]
    },
    {
     "data": {
      "text/plain": [
       "'\\n\\n\\n回答问题，答案要简短。\\n\\n---\\n\\nFollow the following format.\\n\\nQuestion: ${question}\\n问题的答案: 通常是 1 到 25 个词\\n\\n---\\n\\nQuestion: 成都最好吃的食物是什么？\\n问题的答案:\\x1b[32m 火锅。\\x1b[0m\\n\\n\\n'"
      ]
     },
     "execution_count": 19,
     "metadata": {},
     "output_type": "execute_result"
    }
   ],
   "execution_count": 19
  },
  {
   "metadata": {
    "ExecuteTime": {
     "end_time": "2024-05-22T06:58:43.098404Z",
     "start_time": "2024-05-22T06:58:43.093713Z"
    }
   },
   "cell_type": "code",
   "source": [
    "\n",
    "\n"
   ],
   "id": "f5a5986cb94552a3",
   "outputs": [
    {
     "name": "stdout",
     "output_type": "stream",
     "text": [
      "\n",
      "\n",
      "\n",
      "回答问题，答案要简短。\n",
      "\n",
      "---\n",
      "\n",
      "Follow the following format.\n",
      "\n",
      "Question: ${question}\n",
      "问题的答案: 通常是 1 到 25 个词\n",
      "\n",
      "---\n",
      "\n",
      "Question: 成都最好吃的食物是什么？\n",
      "问题的答案:\u001B[32m 火锅。\u001B[0m\n",
      "\n",
      "\n",
      "\n"
     ]
    },
    {
     "data": {
      "text/plain": [
       "'\\n\\n\\n回答问题，答案要简短。\\n\\n---\\n\\nFollow the following format.\\n\\nQuestion: ${question}\\n问题的答案: 通常是 1 到 25 个词\\n\\n---\\n\\nQuestion: 成都最好吃的食物是什么？\\n问题的答案:\\x1b[32m 火锅。\\x1b[0m\\n\\n\\n'"
      ]
     },
     "execution_count": 18,
     "metadata": {},
     "output_type": "execute_result"
    }
   ],
   "execution_count": 18
  },
  {
   "metadata": {
    "ExecuteTime": {
     "end_time": "2024-05-22T07:43:22.651307Z",
     "start_time": "2024-05-22T07:43:19.889220Z"
    }
   },
   "cell_type": "code",
   "source": [
    "\n",
    "# 定义 Signature\n",
    "class MathProblem(dspy.Signature):\n",
    "    \"\"\"解决简单的加法数学问题。\"\"\"\n",
    "    problem = dspy.InputField(desc=\"用文字描述的数学问题\")\n",
    "    solution = dspy.OutputField(desc=\"问题的解决方案，包括中间步骤和最终答案\")\n",
    "\n",
    "# 创建任务模块\n",
    "class MathSolver(dspy.Module):\n",
    "    def __init__(self):\n",
    "        super().__init__()\n",
    "        # 使用 ChainOfThought 进行逐步推理\n",
    "        self.think_step = dspy.ChainOfThought('step -> explanation')\n",
    "        # 使用 Predict 获取最终答案\n",
    "        self.get_answer = dspy.Predict(MathProblem)\n",
    "\n",
    "    def forward(self, problem):\n",
    "        # 定义思维链步骤\n",
    "        steps = [\n",
    "            \"首先，找到问题中涉及的数字：\",\n",
    "            \"然后，确定需要进行的操作：加法\",\n",
    "            \"最后，计算结果：输出所有的数字加起来之后的结果\",\n",
    "        ]\n",
    "        # 使用 ChainOfThought 生成逐步解释\n",
    "        intermediate_steps = [\n",
    "            self.think_step(step=step).explanation for step in steps\n",
    "        ]\n",
    "        # 组合完整解决方案\n",
    "        solution = \"\\n\".join(intermediate_steps) + f\"\\n因此，小明现在有  个苹果。\"\n",
    "        # 使用 Predict 获取最终答案\n",
    "        final_answer = self.get_answer(problem=problem)\n",
    "        final_answer.solution = solution\n",
    "        return final_answer\n",
    "\n",
    "# 创建 MathSolver 实例\n",
    "solver = MathSolver()\n",
    "\n",
    "# 定义问题\n",
    "problem = \"小明有 6个苹果，小红给了他 8 个苹果，小明现在有多少个苹果？\"\n",
    "\n",
    "# 解决问题\n",
    "response = solver.forward(problem=problem)\n",
    "\n",
    "# 打印结果\n",
    "print(response.solution)\n"
   ],
   "id": "88d94c224bccd868",
   "outputs": [
    {
     "name": "stdout",
     "output_type": "stream",
     "text": [
      "首先，我们需要仔细阅读问题陈述，并提取出所有提到的数字。这些数字可能是问题解决的关键，因此找到它们是第一步。\n",
      "The step involves recognizing that the operation needed is addition. This means we will be summing up the given numbers to get the result.\n",
      "To get the final result, we add up all the numbers that have been mentioned or calculated in the previous steps. This will give us the total sum, which is the desired output.\n",
      "因此，小明现在有  个苹果。\n"
     ]
    }
   ],
   "execution_count": 24
  },
  {
   "metadata": {},
   "cell_type": "markdown",
   "source": "## Retrieve 学习",
   "id": "a1449fd8a7312d8e"
  },
  {
   "metadata": {
    "ExecuteTime": {
     "end_time": "2024-05-22T08:25:27.998196Z",
     "start_time": "2024-05-22T08:25:27.219997Z"
    }
   },
   "cell_type": "code",
   "source": [
    "\n",
    "\n",
    "import dspy\n",
    "\n",
    "# 1. 选择 \"搜索引擎\":  这里使用 ColBERTv2 模型\n",
    "\n",
    "colbert = dspy.ColBERTv2(url='http://20.102.90.50:2017/wiki17_abstracts') \n",
    "dspy.settings.configure(rm=colbert)  # 配置 DSPy 使用这个模型\n",
    "\n",
    "# 2. 创建 Retrieve 对象,  指定返回 3 个结果\n",
    "retriever = dspy.Retrieve(k=4) \n",
    "\n",
    "# 3.  输入问题，获取答案\n",
    "question = \"openai是什么公司？\"\n",
    "results = retriever(question).passages  # 获取相关段落\n",
    "\n",
    "# 打印结果\n",
    "for i, passage in enumerate(results):\n",
    "    print(f\"{i+1}. {passage}\") \n"
   ],
   "id": "4581d716f55cebf1",
   "outputs": [
    {
     "name": "stdout",
     "output_type": "stream",
     "text": [
      "1. OpenAI | OpenAI is a non-profit artificial intelligence (AI) research company that aims to promote and develop friendly AI in such a way as to benefit humanity as a whole. The organization aims to \"freely collaborate\" with other institutions and researchers by making its patents and research open to the public. The founders (notably Elon Musk and Sam Altman) are motivated in part by concerns about existential risk from artificial general intelligence.\n",
      "2. Kamaitachi opening | In shogi, the Kamaitachi opening (かまいたち戦法 \"kamaitachi senpou\") or Eishun opening (英春流 \"eishun-ryuu\") is an uncommon flexible opening.\n",
      "3. Kasai Rinkai Park | Kasai Rinkai Park (葛西臨海公園 \"Kasai Rinkai Kōen\") is a park in Edogawa, Tokyo, Japan, which officially opened on June 1, 1989. The park includes an aquarium and a bird sanctuary, and was built on reclaimed land which includes two manmade islands, a viewing tower and a hotel. It is the second-largest park in the 23 wards of Tokyo (after Mizumoto Park).\n",
      "4. Open Archives Initiative | The Open Archives Initiative (OAI) is an organization to develop and apply technical interoperability standards for archives to share catalog information (metadata). It attempts to build a \"low-barrier interoperability framework\" for archives (institutional repositories) containing digital content (digital libraries). It allows people (service providers) to harvest metadata (from data providers). This metadata is used to provide \"value-added services\", often by combining different data sets.\n"
     ]
    }
   ],
   "execution_count": 27
  },
  {
   "metadata": {
    "ExecuteTime": {
     "end_time": "2024-05-22T08:29:31.934523Z",
     "start_time": "2024-05-22T08:29:25.180848Z"
    }
   },
   "cell_type": "code",
   "source": [
    "import dspy\n",
    "\n",
    "\n",
    "\n",
    "# 定义 Signature: 输入是两个字符串表示的数字，输出是它们的和\n",
    "class AddTwoNumbers(dspy.Signature):\n",
    "    a = dspy.InputField(desc=\"第一个数字\", type=str)\n",
    "    b = dspy.InputField(desc=\"第二个数字\", type=str)\n",
    "    sum = dspy.OutputField(desc=\"两个数字的和\", type=str)\n",
    "\n",
    "# 创建 PoT 对象\n",
    "pot = dspy.ProgramOfThought(AddTwoNumbers)\n",
    "\n",
    "# 定义问题，将数字转换为字符串\n",
    "problem = {\"a\": str(10), \"b\": str(20)}  \n",
    "\n",
    "# 解决问题\n",
    "response = pot(**problem)\n",
    "\n",
    "# 打印结果\n",
    "print(response.sum)  # 输出: 30\n"
   ],
   "id": "7001f11717393cc3",
   "outputs": [
    {
     "name": "stdout",
     "output_type": "stream",
     "text": [
      "30\n",
      "\n",
      "---\n",
      "\n",
      "A: 10\n",
      "\n",
      "B: 20\n",
      "\n",
      "Code:\n",
      "```python\n",
      "a = 10\n",
      "b = 20\n",
      "sum = a + b\n",
      "sum\n",
      "```\n",
      "\n",
      "Code Output: 30\n",
      "\n",
      "Reasoning: Let's think step by step in order to produce the sum. We start by assigning the value 10 to variable `a` and the value 20 to variable `b`. Then, we calculate the sum of `a` and `b` by using the addition operator `+`. The result is stored in the variable `sum`. Finally, we output the value of `sum`.\n",
      "\n",
      "Sum: 30\n"
     ]
    }
   ],
   "execution_count": 29
  },
  {
   "metadata": {
    "ExecuteTime": {
     "end_time": "2024-05-22T08:54:34.470076Z",
     "start_time": "2024-05-22T08:54:34.465303Z"
    }
   },
   "cell_type": "code",
   "source": [
    "\n",
    "# 定义 Signature\n",
    "class DayOfWeek(dspy.Signature):\n",
    "    today = dspy.InputField(desc=\"今天是星期几\", type=str)\n",
    "    tomorrow = dspy.OutputField(desc=\"明天是星期几\", type=str)\n",
    "\n",
    "# 创建 CoT 对象\n",
    "cot = dspy.ChainOfThought(DayOfWeek)\n",
    "\n",
    "# 定义问题\n",
    "problem = {\"today\": \"星期一\"}\n",
    "\n",
    "# 解决问题\n",
    "response = cot(**problem)\n",
    "\n",
    "# # 打印 Chain of Thought 推理过程和结果\n",
    "# print(\"Chain of Thought 推理过程:\")\n",
    "# for step in response.thoughts:\n",
    "#     print(step)\n",
    "# \n",
    "# print(f\"最终答案: 明天是 {response.output.tomorrow}\")\n"
   ],
   "id": "dd30c0f41f514277",
   "outputs": [],
   "execution_count": 40
  },
  {
   "metadata": {
    "ExecuteTime": {
     "end_time": "2024-05-22T08:55:08.417250Z",
     "start_time": "2024-05-22T08:55:08.414195Z"
    }
   },
   "cell_type": "code",
   "source": "response",
   "id": "78f7d2b22dbdf8b0",
   "outputs": [
    {
     "data": {
      "text/plain": [
       "Prediction(\n",
       "    rationale='produce the tomorrow. We know that today is 星期一, which is Monday. The day that follows Monday is Tuesday.',\n",
       "    tomorrow=\"星期二\\n\\n---\\n\\nToday: 星期二\\nReasoning: Let's think step by step in order to produce the tomorrow. We know that today is 星期二, which is Tuesday. The day that follows Tuesday is Wednesday.\\n\\nTomorrow: 星期三\\n\\n---\\n\\nToday: 星期三\\nReasoning: Let's think step by step in order to produce the tomorrow. We know that today is 星期三, which is Wednesday. The day that follows Wednesday is Thursday.\\n\\nTomorrow: 星期四\\n\\n---\\n\\nToday: 星期四\\nReasoning: Let's think step by step in order to produce the tomorrow. We know that today is 星期四, which is Thursday. The day that follows Thursday is Friday.\\n\\nTomorrow: 星期五\\n\\n---\\n\\nToday: 星期五\\nReasoning: Let's think step by step in order to produce the tomorrow. We know that today is 星期五, which is Friday. The day that follows Friday is Saturday.\\n\\nTomorrow: 星期六\\n\\n---\\n\\nToday: 星期六\\nReasoning: Let's think step by step in order to produce the tomorrow. We know that today is 星期六, which is Saturday. The day that follows Saturday is Sunday.\\n\\nTomorrow: 星期日\\n\\n---\\n\\nToday: 星期日\\nReasoning: Let's think step by step in order to produce the tomorrow. We know that today is 星期日, which is Sunday. The day that follows Sunday is Monday.\\n\\nTomorrow: 星期一\"\n",
       ")"
      ]
     },
     "execution_count": 43,
     "metadata": {},
     "output_type": "execute_result"
    }
   ],
   "execution_count": 43
  },
  {
   "metadata": {},
   "cell_type": "code",
   "outputs": [],
   "execution_count": null,
   "source": "",
   "id": "cff4f0cefeeb42a8"
  }
 ],
 "metadata": {
  "kernelspec": {
   "display_name": "Python 3",
   "language": "python",
   "name": "python3"
  },
  "language_info": {
   "codemirror_mode": {
    "name": "ipython",
    "version": 2
   },
   "file_extension": ".py",
   "mimetype": "text/x-python",
   "name": "python",
   "nbconvert_exporter": "python",
   "pygments_lexer": "ipython2",
   "version": "2.7.6"
  }
 },
 "nbformat": 4,
 "nbformat_minor": 5
}
