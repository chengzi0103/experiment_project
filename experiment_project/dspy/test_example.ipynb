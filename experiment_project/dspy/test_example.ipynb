{
 "cells": [
  {
   "cell_type": "code",
   "id": "initial_id",
   "metadata": {
    "collapsed": true,
    "ExecuteTime": {
     "end_time": "2024-05-29T07:58:37.849088Z",
     "start_time": "2024-05-29T07:58:37.811989Z"
    }
   },
   "source": [
    "from experiment_project.utils.initial.util import init_sys_env\n",
    "from experiment_project.utils.files.read import read_yaml\n",
    "import dspy\n",
    "init_sys_env()\n",
    "secret_env_file = '/mnt/d/project/dy/extra/autogen/env_secret_config.yaml'\n",
    "\n",
    "api_configs = read_yaml(secret_env_file)\n",
    "model_config = api_configs.get('openai')\n",
    "turbo = dspy.OpenAI(model=model_config.get('model'), max_tokens=1024,api_key=model_config.get('api_key'))\n",
    "dspy.settings.configure(lm=turbo)"
   ],
   "execution_count": 3,
   "outputs": []
  },
  {
   "metadata": {
    "ExecuteTime": {
     "end_time": "2024-05-24T00:55:11.122933Z",
     "start_time": "2024-05-24T00:55:09.896387Z"
    }
   },
   "cell_type": "code",
   "source": [
    "import dspy\n",
    "\n",
    "# 定义 Signature\n",
    "class BasicQA(dspy.Signature):\n",
    "    \"\"\"回答问题，答案要简短。\"\"\"\n",
    "    question = dspy.InputField()\n",
    "    answer = dspy.OutputField(desc=\"通常是 1 到 25 个词\", prefix=\"问题的答案:\")\n",
    "\n",
    "# 创建任务模块\n",
    "class QAModule(dspy.Module):\n",
    "    def __init__(self):\n",
    "        super().__init__()\n",
    "        # 使用 BasicQA Signature 定义任务\n",
    "        self.qa_task = dspy.Predict(BasicQA)\n",
    "\n",
    "    def forward(self, question):\n",
    "        # 执行任务并返回结果\n",
    "        return self.qa_task(question=question)\n",
    "\n",
    "\n",
    "# 创建 QAModule 实例\n",
    "qa_module = QAModule()\n",
    "# 定义问题\n",
    "question = \"成都最好吃的食物是什么？\"\n",
    "# 执行任务并获取答案\n",
    "response = qa_module.forward(question)\n",
    "print(response.answer)  # 输出答案，例如 \"问题的答案: 珠穆朗玛峰\"\n",
    "turbo.inspect_history(n=1)\n",
    "# 查看历史记录\n"
   ],
   "id": "1b9c02cfdc171920",
   "execution_count": 2,
   "outputs": []
  },
  {
   "metadata": {
    "ExecuteTime": {
     "end_time": "2024-05-24T00:57:00.608741Z",
     "start_time": "2024-05-24T00:57:00.604942Z"
    }
   },
   "cell_type": "code",
   "source": [
    "turbo.history[0]['prompt']\n",
    "\n"
   ],
   "id": "f5a5986cb94552a3",
   "execution_count": 5,
   "outputs": []
  },
  {
   "metadata": {
    "ExecuteTime": {
     "end_time": "2024-05-24T06:14:37.005008Z",
     "start_time": "2024-05-24T06:14:28.529741Z"
    }
   },
   "cell_type": "code",
   "source": [
    "\n",
    "# 创建任务模块\n",
    "class QAModule(dspy.Module):\n",
    "    def __init__(self):\n",
    "        super().__init__()\n",
    "        self.cot = dspy.ChainOfThought('question -> answer',n=5)\n",
    "        # 使用 Predict 获取最终答案\n",
    "    def forward(self, question):\n",
    "\n",
    "        return self.cot(question= question)\n",
    "\n",
    "# 创建 MathSolver 实例\n",
    "qa_module = QAModule()\n",
    "\n",
    "# 定义问题\n",
    "problem = \"\"\"\n",
    "德国二战为什么战败? 使用中文回答\n",
    "\"\"\"\n",
    "# 解决问题\n",
    "response = qa_module.forward(question=problem)\n",
    "response\n",
    "# 打印结果\n"
   ],
   "id": "88d94c224bccd868",
   "execution_count": 30,
   "outputs": []
  },
  {
   "metadata": {
    "ExecuteTime": {
     "end_time": "2024-05-24T06:14:39.762869Z",
     "start_time": "2024-05-24T06:14:39.758564Z"
    }
   },
   "cell_type": "code",
   "source": "turbo.history[-1]",
   "id": "cd3ab91074820d25",
   "execution_count": 31,
   "outputs": []
  },
  {
   "metadata": {},
   "cell_type": "markdown",
   "source": "## Retrieve 学习",
   "id": "a1449fd8a7312d8e"
  },
  {
   "metadata": {
    "ExecuteTime": {
     "end_time": "2024-05-22T08:25:27.998196Z",
     "start_time": "2024-05-22T08:25:27.219997Z"
    }
   },
   "cell_type": "code",
   "source": [
    "\n",
    "\n",
    "import dspy\n",
    "\n",
    "# 1. 选择 \"搜索引擎\":  这里使用 ColBERTv2 模型\n",
    "\n",
    "colbert = dspy.ColBERTv2(url='http://20.102.90.50:2017/wiki17_abstracts') \n",
    "dspy.settings.configure(rm=colbert)  # 配置 DSPy 使用这个模型\n",
    "\n",
    "# 2. 创建 Retrieve 对象,  指定返回 3 个结果\n",
    "retriever = dspy.Retrieve(k=4) \n",
    "\n",
    "# 3.  输入问题，获取答案\n",
    "question = \"openai是什么公司？\"\n",
    "results = retriever(question).passages  # 获取相关段落\n",
    "\n",
    "# 打印结果\n",
    "for i, passage in enumerate(results):\n",
    "    print(f\"{i+1}. {passage}\") \n"
   ],
   "id": "4581d716f55cebf1",
   "execution_count": 27,
   "outputs": []
  },
  {
   "metadata": {
    "ExecuteTime": {
     "end_time": "2024-05-24T07:10:18.548088Z",
     "start_time": "2024-05-24T07:10:18.528788Z"
    }
   },
   "cell_type": "code",
   "source": [
    "import dspy\n",
    "\n",
    "\n",
    "\n",
    "# 定义 Signature: 输入是两个字符串表示的数字，输出是它们的和\n",
    "class AddTwoNumbers(dspy.Signature):\n",
    "    a = dspy.InputField(desc=\"第一个数字\", type=str)\n",
    "    b = dspy.InputField(desc=\"第二个数字\", type=str)\n",
    "    sum = dspy.OutputField(desc=\"两个数字的和\", type=str)\n",
    "\n",
    "# 创建 PoT 对象\n",
    "pot = dspy.ProgramOfThought(AddTwoNumbers)\n",
    "\n",
    "# 定义问题，将数字转换为字符串\n",
    "problem = {\"a\": str(10), \"b\": str(20)}  \n",
    "\n",
    "# 解决问题\n",
    "response = pot(**problem)\n",
    "\n",
    "# 打印结果\n",
    "print(response.sum)  # 输出: 30\n"
   ],
   "id": "7001f11717393cc3",
   "execution_count": 37,
   "outputs": []
  },
  {
   "metadata": {
    "ExecuteTime": {
     "end_time": "2024-05-24T07:10:18.800353Z",
     "start_time": "2024-05-24T07:10:18.796925Z"
    }
   },
   "cell_type": "code",
   "source": "turbo.history[-1]",
   "id": "e7b20f77cc2bfdcc",
   "execution_count": 38,
   "outputs": []
  },
  {
   "metadata": {
    "ExecuteTime": {
     "end_time": "2024-05-22T08:54:34.470076Z",
     "start_time": "2024-05-22T08:54:34.465303Z"
    }
   },
   "cell_type": "code",
   "source": [
    "\n",
    "# 定义 Signature\n",
    "class DayOfWeek(dspy.Signature):\n",
    "    today = dspy.InputField(desc=\"今天是星期几\", type=str)\n",
    "    tomorrow = dspy.OutputField(desc=\"明天是星期几\", type=str)\n",
    "\n",
    "# 创建 CoT 对象\n",
    "cot = dspy.ChainOfThought(DayOfWeek)\n",
    "\n",
    "# 定义问题\n",
    "problem = {\"today\": \"星期一\"}\n",
    "\n",
    "# 解决问题\n",
    "response = cot(**problem)\n",
    "\n",
    "# # 打印 Chain of Thought 推理过程和结果\n",
    "# print(\"Chain of Thought 推理过程:\")\n",
    "# for step in response.thoughts:\n",
    "#     print(step)\n",
    "# \n",
    "# print(f\"最终答案: 明天是 {response.output.tomorrow}\")\n"
   ],
   "id": "dd30c0f41f514277",
   "execution_count": 40,
   "outputs": []
  },
  {
   "metadata": {
    "ExecuteTime": {
     "end_time": "2024-05-22T08:55:08.417250Z",
     "start_time": "2024-05-22T08:55:08.414195Z"
    }
   },
   "cell_type": "code",
   "source": "response",
   "id": "78f7d2b22dbdf8b0",
   "execution_count": 43,
   "outputs": []
  },
  {
   "metadata": {
    "ExecuteTime": {
     "end_time": "2024-05-29T08:02:46.017372Z",
     "start_time": "2024-05-29T08:02:34.400500Z"
    }
   },
   "cell_type": "code",
   "source": [
    "import dspy\n",
    "# 定义一个用于基本问答的简单签名\n",
    "class BasicQA(dspy.Signature):\n",
    "    question = dspy.InputField()\n",
    "    answer = dspy.OutputField(desc=\"经常在1到5个单词之间\")\n",
    "\n",
    "# Pass signature to ReAct module\n",
    "react_module = dspy.ReAct(BasicQA,)\n",
    "\n",
    "# Call the ReAct module on a particular input\n",
    "question = '天空的颜色是什么？使用中文回答!'\n",
    "result = react_module(question=question)\n",
    "\n",
    "print(f\"Question: {question}\")\n",
    "print(f\"最终预测答案（经过ReAct过程后）: {result.answer}\")"
   ],
   "id": "cff4f0cefeeb42a8",
   "execution_count": 7,
   "outputs": []
  },
  {
   "metadata": {
    "ExecuteTime": {
     "end_time": "2024-05-29T08:03:09.642097Z",
     "start_time": "2024-05-29T08:03:09.638235Z"
    }
   },
   "cell_type": "code",
   "source": "turbo.inspect_history(n=3)",
   "id": "ac3080369c750a3f",
   "execution_count": 9,
   "outputs": []
  },
  {
   "metadata": {
    "ExecuteTime": {
     "end_time": "2024-05-29T07:59:55.254531Z",
     "start_time": "2024-05-29T07:59:55.250724Z"
    }
   },
   "cell_type": "code",
   "source": [
    "\"\"\"\n",
    "你将获得 `问题` 并且你将用 `答案` 回答。为此，你将交错进行思考、行动和观察步骤。思考可以推理当前情况，行动可以是以下类型：（1）搜索[查询]，这需要一个搜索查询并从语料库中返回一个或多个潜在相关的段落（2）完成[答案]，这返回最终的 `答案` 并完成任务——遵循以下格式。问题: {问题} 思考 1: 根据上次观察采取的下一步行动 行动 1: 总是搜索[查询]，或者在完成时，完成[答案] —— 问题: 天空的颜色是什么？ 思考 1: 天空的颜色可以因一天中的时间和天气状况而异，但通常在晴朗的白天被认为是蓝色的。 行动 1: 完成 [在晴朗的白天，天空的颜色通常是蓝色的。]\n",
    "\"\"\""
   ],
   "id": "117ec4694a860c1f",
   "execution_count": 6,
   "outputs": []
  },
  {
   "metadata": {
    "ExecuteTime": {
     "end_time": "2024-05-29T08:11:28.821488Z",
     "start_time": "2024-05-29T08:11:20.462659Z"
    }
   },
   "cell_type": "code",
   "source": [
    "  # ChainOfThought example\n",
    "# 创建任务模块  \n",
    "class MathQuestion(dspy.Module):  \n",
    "    def __init__(self):  \n",
    "        super().__init__()  \n",
    "        # 使用 ChainOfThought 进行逐步推理  \n",
    "        self.think = dspy.ChainOfThought('question -> answer')  \n",
    "    def forward(self, question:str):    \n",
    "        # 组合完整解决方案  \n",
    "        return self.think(question= question)   \n",
    "  \n",
    "# 创建 MathSolver 实例  \n",
    "math_question = MathQuestion()  \n",
    "  \n",
    "# 定义问题  \n",
    "question = \"\"\"  \n",
    "现在笼子里有鸡（雉）和兔子在一起。从上面数一共有三十五个头，从下面数一共有九十四只脚，问一共有多少只鸡、多少只兔子？\n",
    "使用中文回答 \n",
    "\"\"\"  \n",
    "  \n",
    "# 解决问题  \n",
    "response = math_question.forward(question=question)  \n",
    "  \n",
    "response.answer"
   ],
   "id": "a5a479cfad831e4",
   "execution_count": 12,
   "outputs": []
  },
  {
   "metadata": {
    "ExecuteTime": {
     "end_time": "2024-05-29T08:11:31.321972Z",
     "start_time": "2024-05-29T08:11:31.318286Z"
    }
   },
   "cell_type": "code",
   "source": "turbo.inspect_history(n=10)",
   "id": "868bdd990ade8f5a",
   "execution_count": 13,
   "outputs": []
  },
  {
   "metadata": {},
   "cell_type": "code",
   "execution_count": null,
   "source": "",
   "id": "a01baa1b981d28d3",
   "outputs": []
  }
 ],
 "metadata": {
  "kernelspec": {
   "display_name": "Python 3",
   "language": "python",
   "name": "python3"
  },
  "language_info": {
   "codemirror_mode": {
    "name": "ipython",
    "version": 2
   },
   "file_extension": ".py",
   "mimetype": "text/x-python",
   "name": "python",
   "nbconvert_exporter": "python",
   "pygments_lexer": "ipython2",
   "version": "2.7.6"
  }
 },
 "nbformat": 4,
 "nbformat_minor": 5
}
