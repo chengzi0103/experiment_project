{
 "cells": [
  {
   "cell_type": "code",
   "id": "initial_id",
   "metadata": {
    "collapsed": true,
    "ExecuteTime": {
     "end_time": "2024-05-28T09:36:32.215947Z",
     "start_time": "2024-05-28T09:36:32.208234Z"
    }
   },
   "source": "# pip3 install dspy-ai ",
   "execution_count": 11,
   "outputs": []
  },
  {
   "metadata": {
    "ExecuteTime": {
     "end_time": "2024-05-28T10:52:10.239141Z",
     "start_time": "2024-05-28T10:52:07.293594Z"
    }
   },
   "cell_type": "code",
   "source": [
    "from experiment_project.utils.initial.util import init_sys_env\n",
    "from experiment_project.utils.files.read import read_yaml\n",
    "import dspy\n",
    "init_sys_env() \n",
    "secret_env_file = '/mnt/d/project/dy/extra/autogen/env_secret_config.yaml'\n",
    "\n",
    "api_configs = read_yaml(secret_env_file)\n",
    "model_config = api_configs.get('openai')\n",
    "turbo = dspy.OpenAI(model=model_config.get('model'), max_tokens=2048,api_key=model_config.get('api_key'))\n",
    "dspy.settings.configure(lm=turbo)"
   ],
   "id": "ea9ab1166d9ceddd",
   "execution_count": 2,
   "outputs": []
  },
  {
   "metadata": {
    "ExecuteTime": {
     "end_time": "2024-05-28T10:58:02.491340Z",
     "start_time": "2024-05-28T10:58:02.486748Z"
    }
   },
   "cell_type": "code",
   "source": [
    "# 定义 Signature\n",
    "class BasicQA(dspy.Signature):\n",
    "    \"\"\"回答问题，答案要简短。\"\"\"\n",
    "    question = dspy.InputField()\n",
    "    answer = dspy.OutputField(desc=\"通常是 1 到 25 个词\", prefix=\"问题的答案:\")"
   ],
   "id": "20895307bc4784c1",
   "execution_count": 6,
   "outputs": []
  },
  {
   "metadata": {
    "ExecuteTime": {
     "end_time": "2024-05-28T10:58:12.530610Z",
     "start_time": "2024-05-28T10:58:12.526358Z"
    }
   },
   "cell_type": "code",
   "source": [
    "predictor = dspy.Predict(BasicQA)\n",
    "response = predictor(question=\"中国的首都是哪里？\")\n",
    "response"
   ],
   "id": "d22e271c290d04e9",
   "execution_count": 7,
   "outputs": []
  },
  {
   "metadata": {
    "ExecuteTime": {
     "end_time": "2024-05-28T10:58:24.373781Z",
     "start_time": "2024-05-28T10:58:24.369112Z"
    }
   },
   "cell_type": "code",
   "source": "turbo.inspect_history(n=3)",
   "id": "7e6f652ec9befe7f",
   "execution_count": 8,
   "outputs": []
  },
  {
   "metadata": {
    "ExecuteTime": {
     "end_time": "2024-05-28T11:01:51.717815Z",
     "start_time": "2024-05-28T11:01:51.711422Z"
    }
   },
   "cell_type": "code",
   "source": [
    "# 定义 Signature\n",
    "class Writer(dspy.Signature):\n",
    "    question = dspy.InputField()\n",
    "    answer = dspy.OutputField(desc=\"请根据要求编写一个短片小说  \", prefix=\"小说是: \")\n",
    "    tone = dspy.OutputField(desc=\"请使用朱自清（作者）的创作风格(写作风格和语法)\",)\n",
    "    count = dspy.OutputField(desc=\"结果500-1500个字\",)\n",
    "    grammar = dspy.OutputField(desc=\"语法要求: 语言要忠实朴素又典雅文质，运用白描及侧面烘托等手法，把父亲对儿子的爱，表达得深刻细腻，真挚感动，从平凡的事件中，呈现出父亲对儿子的关怀和爱护\",)"
   ],
   "id": "fd4ea5075a486957",
   "execution_count": 9,
   "outputs": []
  },
  {
   "metadata": {
    "ExecuteTime": {
     "end_time": "2024-05-28T11:01:52.778283Z",
     "start_time": "2024-05-28T11:01:52.773066Z"
    }
   },
   "cell_type": "code",
   "source": [
    "writer_predictor = dspy.Predict(Writer)\n",
    "writer_response = writer_predictor(question=\"小说主题: 作者离开南京去北京大学，父亲送他到浦口火车站，照料他上车，并替他买橘子的情形\")\n",
    "writer_response.answer"
   ],
   "id": "94604577c383e2bf",
   "execution_count": 10,
   "outputs": []
  },
  {
   "metadata": {
    "ExecuteTime": {
     "end_time": "2024-05-28T11:02:10.151232Z",
     "start_time": "2024-05-28T11:02:10.146907Z"
    }
   },
   "cell_type": "code",
   "source": "turbo.inspect_history(n=3)",
   "id": "1b9720e792862309",
   "execution_count": 11,
   "outputs": []
  },
  {
   "metadata": {
    "ExecuteTime": {
     "end_time": "2024-05-28T09:48:07.771572Z",
     "start_time": "2024-05-28T09:48:07.764355Z"
    }
   },
   "cell_type": "code",
   "source": "turbo.history[-1]",
   "id": "29ebf4f90aa4cdcb",
   "execution_count": 8,
   "outputs": []
  },
  {
   "metadata": {},
   "cell_type": "code",
   "execution_count": null,
   "source": "",
   "id": "57e626a768ea8d4",
   "outputs": []
  }
 ],
 "metadata": {
  "kernelspec": {
   "display_name": "Python 3",
   "language": "python",
   "name": "python3"
  },
  "language_info": {
   "codemirror_mode": {
    "name": "ipython",
    "version": 2
   },
   "file_extension": ".py",
   "mimetype": "text/x-python",
   "name": "python",
   "nbconvert_exporter": "python",
   "pygments_lexer": "ipython2",
   "version": "2.7.6"
  }
 },
 "nbformat": 4,
 "nbformat_minor": 5
}
